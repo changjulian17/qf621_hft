{
 "cells": [
  {
   "cell_type": "code",
   "execution_count": 1,
   "id": "312e18d4",
   "metadata": {},
   "outputs": [],
   "source": [
    "from src.wrds_pull import fetch_taq_data\n",
    "from src.strategy import OBIVWAPStrategy\n",
    "from src.plot import plot_account_balance\n",
    "from src.performance import evaluate_strategy_performance\n",
    "import random\n",
    "import polars as pl\n",
    "import gc\n",
    "\n",
    "EX_FILTER = \"'Z'\"\n",
    "# EX_FILTER = exchanges = \"'Q', 'N', 'T', 'P', 'Z', 'B', 'C', 'X', 'Y', 'A', 'M', 'D', 'I', 'J', 'K', 'L', 'V', 'W', 'U', 'S', 'F', 'G', 'H', 'O', 'R'\"\n",
    "QU_COND_FILTER = \"'R'\"\n",
    "START_DATE = '2023-05-10'\n",
    "END_DATE = '2023-05-11'\n",
    "START_TIME = (9, 55)\n",
    "END_TIME = (15, 36)\n",
    "VWAP_WINDOW = 500\n",
    "OBI_THRESHOLD = 0\n",
    "SIZE_THRESHOLD = 0\n",
    "VWAP_THRESHOLD = 0"
   ]
  },
  {
   "cell_type": "code",
   "execution_count": 2,
   "id": "943b3381",
   "metadata": {},
   "outputs": [
    {
     "name": "stdout",
     "output_type": "stream",
     "text": [
      "Batch tickers: ['WRB', 'ZION']\n"
     ]
    }
   ],
   "source": [
    "# Choose a batch of tickers (example: first 2 from your filtered list)\n",
    "with open(\"data/positive_return_tickers_v1.txt\") as f:\n",
    "    all_filtered = [line.strip() for line in f if line.strip()]\n",
    "\n",
    "batch = random.sample(all_filtered, 2)\n",
    "# batch = all_filtered[0:5] \n",
    "print(\"Batch tickers:\", batch)"
   ]
  },
  {
   "cell_type": "code",
   "execution_count": 3,
   "id": "880cc042",
   "metadata": {},
   "outputs": [
    {
     "name": "stdout",
     "output_type": "stream",
     "text": [
      "Loading library list...\n",
      "Done\n"
     ]
    },
    {
     "data": {
      "text/html": [
       "<div><style>\n",
       ".dataframe > thead > tr,\n",
       ".dataframe > tbody > tr {\n",
       "  text-align: right;\n",
       "  white-space: pre-wrap;\n",
       "}\n",
       "</style>\n",
       "<small>shape: (133_687, 30)</small><table border=\"1\" class=\"dataframe\"><thead><tr><th>date</th><th>time_m</th><th>time_m_nano</th><th>ex</th><th>sym_root</th><th>sym_suffix</th><th>bid</th><th>bidsiz</th><th>ask</th><th>asksiz</th><th>qu_cond</th><th>qu_seqnum</th><th>natbbo_ind</th><th>qu_cancel</th><th>qu_source</th><th>rpi</th><th>ssr</th><th>luld_bbo_indicator</th><th>finra_bbo_ind</th><th>finra_adf_mpid</th><th>finra_adf_time</th><th>finra_adf_time_nano</th><th>finra_adf_mpq_ind</th><th>finra_adf_mquo_ind</th><th>sip_message_id</th><th>natl_bbo_luld</th><th>part_time</th><th>part_time_nano</th><th>secstat_ind</th><th>Timestamp</th></tr><tr><td>str</td><td>str</td><td>i64</td><td>str</td><td>str</td><td>str</td><td>f64</td><td>i64</td><td>f64</td><td>i64</td><td>str</td><td>i64</td><td>str</td><td>str</td><td>str</td><td>str</td><td>str</td><td>str</td><td>str</td><td>str</td><td>str</td><td>i64</td><td>str</td><td>str</td><td>str</td><td>str</td><td>str</td><td>i64</td><td>str</td><td>datetime[ns]</td></tr></thead><tbody><tr><td>&quot;2023-05-10&quot;</td><td>&quot;09:30:00.005927&quot;</td><td>36</td><td>&quot;Z&quot;</td><td>&quot;ZION&quot;</td><td>null</td><td>24.85</td><td>5</td><td>25.39</td><td>6</td><td>&quot;R&quot;</td><td>4082573</td><td>&quot;2&quot;</td><td>null</td><td>&quot;N&quot;</td><td>null</td><td>&quot;0&quot;</td><td>null</td><td>null</td><td>null</td><td>null</td><td>0</td><td>null</td><td>null</td><td>null</td><td>null</td><td>&quot;09:30:00.005739&quot;</td><td>0</td><td>null</td><td>2023-05-10 09:30:00.005927360</td></tr><tr><td>&quot;2023-05-10&quot;</td><td>&quot;09:30:00.006025&quot;</td><td>617</td><td>&quot;Z&quot;</td><td>&quot;ZION&quot;</td><td>null</td><td>24.85</td><td>5</td><td>25.39</td><td>7</td><td>&quot;R&quot;</td><td>4082580</td><td>&quot;2&quot;</td><td>null</td><td>&quot;N&quot;</td><td>null</td><td>&quot;0&quot;</td><td>null</td><td>null</td><td>null</td><td>null</td><td>0</td><td>null</td><td>null</td><td>null</td><td>null</td><td>&quot;09:30:00.005839&quot;</td><td>0</td><td>null</td><td>2023-05-10 09:30:00.006025617</td></tr><tr><td>&quot;2023-05-10&quot;</td><td>&quot;09:30:00.014506&quot;</td><td>224</td><td>&quot;Z&quot;</td><td>&quot;ZION&quot;</td><td>null</td><td>24.85</td><td>5</td><td>25.39</td><td>8</td><td>&quot;R&quot;</td><td>4083130</td><td>&quot;0&quot;</td><td>null</td><td>&quot;N&quot;</td><td>null</td><td>&quot;0&quot;</td><td>null</td><td>null</td><td>null</td><td>null</td><td>0</td><td>null</td><td>null</td><td>null</td><td>null</td><td>&quot;09:30:00.014324&quot;</td><td>0</td><td>null</td><td>2023-05-10 09:30:00.014506224</td></tr><tr><td>&quot;2023-05-10&quot;</td><td>&quot;09:30:00.025596&quot;</td><td>499</td><td>&quot;Z&quot;</td><td>&quot;ZION&quot;</td><td>null</td><td>24.85</td><td>5</td><td>25.39</td><td>7</td><td>&quot;R&quot;</td><td>4084178</td><td>&quot;0&quot;</td><td>null</td><td>&quot;N&quot;</td><td>null</td><td>&quot;0&quot;</td><td>null</td><td>null</td><td>null</td><td>null</td><td>0</td><td>null</td><td>null</td><td>null</td><td>null</td><td>&quot;09:30:00.025411&quot;</td><td>0</td><td>null</td><td>2023-05-10 09:30:00.025596499</td></tr><tr><td>&quot;2023-05-10&quot;</td><td>&quot;09:30:00.030080&quot;</td><td>469</td><td>&quot;Z&quot;</td><td>&quot;ZION&quot;</td><td>null</td><td>24.85</td><td>5</td><td>25.39</td><td>2</td><td>&quot;R&quot;</td><td>4084586</td><td>&quot;0&quot;</td><td>null</td><td>&quot;N&quot;</td><td>null</td><td>&quot;0&quot;</td><td>null</td><td>null</td><td>null</td><td>null</td><td>0</td><td>null</td><td>null</td><td>null</td><td>null</td><td>&quot;09:30:00.029894&quot;</td><td>0</td><td>null</td><td>2023-05-10 09:30:00.030080469</td></tr><tr><td>&hellip;</td><td>&hellip;</td><td>&hellip;</td><td>&hellip;</td><td>&hellip;</td><td>&hellip;</td><td>&hellip;</td><td>&hellip;</td><td>&hellip;</td><td>&hellip;</td><td>&hellip;</td><td>&hellip;</td><td>&hellip;</td><td>&hellip;</td><td>&hellip;</td><td>&hellip;</td><td>&hellip;</td><td>&hellip;</td><td>&hellip;</td><td>&hellip;</td><td>&hellip;</td><td>&hellip;</td><td>&hellip;</td><td>&hellip;</td><td>&hellip;</td><td>&hellip;</td><td>&hellip;</td><td>&hellip;</td><td>&hellip;</td><td>&hellip;</td></tr><tr><td>&quot;2023-05-11&quot;</td><td>&quot;15:59:59.903834&quot;</td><td>674</td><td>&quot;Z&quot;</td><td>&quot;ZION&quot;</td><td>null</td><td>22.64</td><td>1</td><td>22.75</td><td>8</td><td>&quot;R&quot;</td><td>88795359</td><td>&quot;0&quot;</td><td>null</td><td>&quot;N&quot;</td><td>null</td><td>&quot;0&quot;</td><td>null</td><td>null</td><td>null</td><td>null</td><td>0</td><td>null</td><td>null</td><td>null</td><td>&quot;A&quot;</td><td>&quot;15:59:59.903649&quot;</td><td>0</td><td>null</td><td>2023-05-11 15:59:59.903834674</td></tr><tr><td>&quot;2023-05-11&quot;</td><td>&quot;15:59:59.906925&quot;</td><td>919</td><td>&quot;Z&quot;</td><td>&quot;ZION&quot;</td><td>null</td><td>22.65</td><td>2</td><td>22.75</td><td>8</td><td>&quot;R&quot;</td><td>88795465</td><td>&quot;0&quot;</td><td>null</td><td>&quot;N&quot;</td><td>null</td><td>&quot;0&quot;</td><td>null</td><td>null</td><td>null</td><td>null</td><td>0</td><td>null</td><td>null</td><td>null</td><td>&quot;A&quot;</td><td>&quot;15:59:59.906733&quot;</td><td>0</td><td>null</td><td>2023-05-11 15:59:59.906925919</td></tr><tr><td>&quot;2023-05-11&quot;</td><td>&quot;15:59:59.906957&quot;</td><td>443</td><td>&quot;Z&quot;</td><td>&quot;ZION&quot;</td><td>null</td><td>22.65</td><td>2</td><td>22.74</td><td>2</td><td>&quot;R&quot;</td><td>88795466</td><td>&quot;0&quot;</td><td>null</td><td>&quot;N&quot;</td><td>null</td><td>&quot;0&quot;</td><td>null</td><td>null</td><td>null</td><td>null</td><td>0</td><td>null</td><td>null</td><td>null</td><td>&quot;A&quot;</td><td>&quot;15:59:59.906772&quot;</td><td>0</td><td>null</td><td>2023-05-11 15:59:59.906957443</td></tr><tr><td>&quot;2023-05-11&quot;</td><td>&quot;15:59:59.953816&quot;</td><td>933</td><td>&quot;Z&quot;</td><td>&quot;ZION&quot;</td><td>null</td><td>22.64</td><td>1</td><td>22.74</td><td>2</td><td>&quot;R&quot;</td><td>88796652</td><td>&quot;0&quot;</td><td>null</td><td>&quot;N&quot;</td><td>null</td><td>&quot;0&quot;</td><td>null</td><td>null</td><td>null</td><td>null</td><td>0</td><td>null</td><td>null</td><td>null</td><td>&quot;A&quot;</td><td>&quot;15:59:59.953634&quot;</td><td>0</td><td>null</td><td>2023-05-11 15:59:59.953816933</td></tr><tr><td>&quot;2023-05-11&quot;</td><td>&quot;15:59:59.953822&quot;</td><td>711</td><td>&quot;Z&quot;</td><td>&quot;ZION&quot;</td><td>null</td><td>22.64</td><td>1</td><td>22.75</td><td>8</td><td>&quot;R&quot;</td><td>88796653</td><td>&quot;0&quot;</td><td>null</td><td>&quot;N&quot;</td><td>null</td><td>&quot;0&quot;</td><td>null</td><td>null</td><td>null</td><td>null</td><td>0</td><td>null</td><td>null</td><td>null</td><td>&quot;A&quot;</td><td>&quot;15:59:59.953642&quot;</td><td>0</td><td>null</td><td>2023-05-11 15:59:59.953822711</td></tr></tbody></table></div>"
      ],
      "text/plain": [
       "shape: (133_687, 30)\n",
       "┌────────────┬────────────┬────────────┬─────┬───┬────────────┬────────────┬───────────┬───────────┐\n",
       "│ date       ┆ time_m     ┆ time_m_nan ┆ ex  ┆ … ┆ part_time  ┆ part_time_ ┆ secstat_i ┆ Timestamp │\n",
       "│ ---        ┆ ---        ┆ o          ┆ --- ┆   ┆ ---        ┆ nano       ┆ nd        ┆ ---       │\n",
       "│ str        ┆ str        ┆ ---        ┆ str ┆   ┆ str        ┆ ---        ┆ ---       ┆ datetime[ │\n",
       "│            ┆            ┆ i64        ┆     ┆   ┆            ┆ i64        ┆ str       ┆ ns]       │\n",
       "╞════════════╪════════════╪════════════╪═════╪═══╪════════════╪════════════╪═══════════╪═══════════╡\n",
       "│ 2023-05-10 ┆ 09:30:00.0 ┆ 36         ┆ Z   ┆ … ┆ 09:30:00.0 ┆ 0          ┆ null      ┆ 2023-05-1 │\n",
       "│            ┆ 05927      ┆            ┆     ┆   ┆ 05739      ┆            ┆           ┆ 0 09:30:0 │\n",
       "│            ┆            ┆            ┆     ┆   ┆            ┆            ┆           ┆ 0.0059273 │\n",
       "│            ┆            ┆            ┆     ┆   ┆            ┆            ┆           ┆ 60        │\n",
       "│ 2023-05-10 ┆ 09:30:00.0 ┆ 617        ┆ Z   ┆ … ┆ 09:30:00.0 ┆ 0          ┆ null      ┆ 2023-05-1 │\n",
       "│            ┆ 06025      ┆            ┆     ┆   ┆ 05839      ┆            ┆           ┆ 0 09:30:0 │\n",
       "│            ┆            ┆            ┆     ┆   ┆            ┆            ┆           ┆ 0.0060256 │\n",
       "│            ┆            ┆            ┆     ┆   ┆            ┆            ┆           ┆ 17        │\n",
       "│ 2023-05-10 ┆ 09:30:00.0 ┆ 224        ┆ Z   ┆ … ┆ 09:30:00.0 ┆ 0          ┆ null      ┆ 2023-05-1 │\n",
       "│            ┆ 14506      ┆            ┆     ┆   ┆ 14324      ┆            ┆           ┆ 0 09:30:0 │\n",
       "│            ┆            ┆            ┆     ┆   ┆            ┆            ┆           ┆ 0.0145062 │\n",
       "│            ┆            ┆            ┆     ┆   ┆            ┆            ┆           ┆ 24        │\n",
       "│ 2023-05-10 ┆ 09:30:00.0 ┆ 499        ┆ Z   ┆ … ┆ 09:30:00.0 ┆ 0          ┆ null      ┆ 2023-05-1 │\n",
       "│            ┆ 25596      ┆            ┆     ┆   ┆ 25411      ┆            ┆           ┆ 0 09:30:0 │\n",
       "│            ┆            ┆            ┆     ┆   ┆            ┆            ┆           ┆ 0.0255964 │\n",
       "│            ┆            ┆            ┆     ┆   ┆            ┆            ┆           ┆ 99        │\n",
       "│ 2023-05-10 ┆ 09:30:00.0 ┆ 469        ┆ Z   ┆ … ┆ 09:30:00.0 ┆ 0          ┆ null      ┆ 2023-05-1 │\n",
       "│            ┆ 30080      ┆            ┆     ┆   ┆ 29894      ┆            ┆           ┆ 0 09:30:0 │\n",
       "│            ┆            ┆            ┆     ┆   ┆            ┆            ┆           ┆ 0.0300804 │\n",
       "│            ┆            ┆            ┆     ┆   ┆            ┆            ┆           ┆ 69        │\n",
       "│ …          ┆ …          ┆ …          ┆ …   ┆ … ┆ …          ┆ …          ┆ …         ┆ …         │\n",
       "│ 2023-05-11 ┆ 15:59:59.9 ┆ 674        ┆ Z   ┆ … ┆ 15:59:59.9 ┆ 0          ┆ null      ┆ 2023-05-1 │\n",
       "│            ┆ 03834      ┆            ┆     ┆   ┆ 03649      ┆            ┆           ┆ 1 15:59:5 │\n",
       "│            ┆            ┆            ┆     ┆   ┆            ┆            ┆           ┆ 9.9038346 │\n",
       "│            ┆            ┆            ┆     ┆   ┆            ┆            ┆           ┆ 74        │\n",
       "│ 2023-05-11 ┆ 15:59:59.9 ┆ 919        ┆ Z   ┆ … ┆ 15:59:59.9 ┆ 0          ┆ null      ┆ 2023-05-1 │\n",
       "│            ┆ 06925      ┆            ┆     ┆   ┆ 06733      ┆            ┆           ┆ 1 15:59:5 │\n",
       "│            ┆            ┆            ┆     ┆   ┆            ┆            ┆           ┆ 9.9069259 │\n",
       "│            ┆            ┆            ┆     ┆   ┆            ┆            ┆           ┆ 19        │\n",
       "│ 2023-05-11 ┆ 15:59:59.9 ┆ 443        ┆ Z   ┆ … ┆ 15:59:59.9 ┆ 0          ┆ null      ┆ 2023-05-1 │\n",
       "│            ┆ 06957      ┆            ┆     ┆   ┆ 06772      ┆            ┆           ┆ 1 15:59:5 │\n",
       "│            ┆            ┆            ┆     ┆   ┆            ┆            ┆           ┆ 9.9069574 │\n",
       "│            ┆            ┆            ┆     ┆   ┆            ┆            ┆           ┆ 43        │\n",
       "│ 2023-05-11 ┆ 15:59:59.9 ┆ 933        ┆ Z   ┆ … ┆ 15:59:59.9 ┆ 0          ┆ null      ┆ 2023-05-1 │\n",
       "│            ┆ 53816      ┆            ┆     ┆   ┆ 53634      ┆            ┆           ┆ 1 15:59:5 │\n",
       "│            ┆            ┆            ┆     ┆   ┆            ┆            ┆           ┆ 9.9538169 │\n",
       "│            ┆            ┆            ┆     ┆   ┆            ┆            ┆           ┆ 33        │\n",
       "│ 2023-05-11 ┆ 15:59:59.9 ┆ 711        ┆ Z   ┆ … ┆ 15:59:59.9 ┆ 0          ┆ null      ┆ 2023-05-1 │\n",
       "│            ┆ 53822      ┆            ┆     ┆   ┆ 53642      ┆            ┆           ┆ 1 15:59:5 │\n",
       "│            ┆            ┆            ┆     ┆   ┆            ┆            ┆           ┆ 9.9538227 │\n",
       "│            ┆            ┆            ┆     ┆   ┆            ┆            ┆           ┆ 11        │\n",
       "└────────────┴────────────┴────────────┴─────┴───┴────────────┴────────────┴───────────┴───────────┘"
      ]
     },
     "execution_count": 3,
     "metadata": {},
     "output_type": "execute_result"
    }
   ],
   "source": [
    "# Fetch TAQ data for this batch\n",
    "df = fetch_taq_data(\n",
    "    tickers=batch,\n",
    "    exchanges=EX_FILTER,\n",
    "    quote_conds=QU_COND_FILTER,\n",
    "    start_date=START_DATE,\n",
    "    end_date=END_DATE,\n",
    "    wrds_username='changjulian17'\n",
    ")\n",
    "df"
   ]
  },
  {
   "cell_type": "code",
   "execution_count": 4,
   "id": "ad011375",
   "metadata": {},
   "outputs": [
    {
     "name": "stdout",
     "output_type": "stream",
     "text": [
      "Tickers in data: ['ZION', 'WRB']\n",
      "Processing ZION...\n",
      "\n",
      "PERFORMANCE ZION STATISTICS:\n",
      "Total returns: -99.95%\n",
      "Max drawdown: -99.95%\n",
      "Average bid-ask spread: 0.137435\n",
      "\n",
      "DAILY SHARPE RATIOS:\n",
      "shape: (2, 2)\n",
      "┌─────────────────────┬────────────────────┐\n",
      "│ Timestamp           ┆ Daily_Sharpe_Ratio │\n",
      "│ ---                 ┆ ---                │\n",
      "│ datetime[ns]        ┆ f64                │\n",
      "╞═════════════════════╪════════════════════╡\n",
      "│ 2023-05-10 00:00:00 ┆ -1.658043          │\n",
      "│ 2023-05-11 00:00:00 ┆ -0.135787          │\n",
      "└─────────────────────┴────────────────────┘\n",
      "Processing WRB...\n",
      "\n",
      "PERFORMANCE WRB STATISTICS:\n",
      "Total returns: 2613.77%\n",
      "Max drawdown: -9.26%\n",
      "Average bid-ask spread: 0.225560\n",
      "\n",
      "DAILY SHARPE RATIOS:\n",
      "shape: (2, 2)\n",
      "┌─────────────────────┬────────────────────┐\n",
      "│ Timestamp           ┆ Daily_Sharpe_Ratio │\n",
      "│ ---                 ┆ ---                │\n",
      "│ datetime[ns]        ┆ f64                │\n",
      "╞═════════════════════╪════════════════════╡\n",
      "│ 2023-05-10 00:00:00 ┆ 0.77313            │\n",
      "│ 2023-05-11 00:00:00 ┆ 0.830785           │\n",
      "└─────────────────────┴────────────────────┘\n",
      "  ticker  Total_Returns  Average_Sharpe  Average_Bid_Ask_Spread  \\\n",
      "0   ZION      -99.95276       -0.896915                0.137435   \n",
      "1    WRB     2613.76723        0.801958                0.225560   \n",
      "\n",
      "   Cumulative_Trades  \n",
      "0               9409  \n",
      "1               3959  \n"
     ]
    }
   ],
   "source": [
    "import pandas as pd\n",
    "\n",
    "batch_results = []\n",
    "\n",
    "stock_tickers = df[\"sym_root\"].unique().to_list()\n",
    "print(\"Tickers in data:\", stock_tickers)\n",
    "\n",
    "for ticker in stock_tickers:\n",
    "    print(f\"Processing {ticker}...\")\n",
    "    ticker_data = df.filter(pl.col(\"sym_root\") == ticker)\n",
    "    strategy = OBIVWAPStrategy(\n",
    "        vwap_window=VWAP_WINDOW, \n",
    "        obi_threshold=OBI_THRESHOLD, \n",
    "        size_threshold=SIZE_THRESHOLD,\n",
    "        vwap_threshold=VWAP_THRESHOLD,\n",
    "        start_time=START_TIME, \n",
    "        end_time=END_TIME\n",
    "    )\n",
    "    ticker_data = strategy.generate_signals(ticker_data)\n",
    "    backtest_data = strategy.backtest(ticker_data)\n",
    "    metrics = evaluate_strategy_performance(backtest_data)\n",
    "    batch_results.append({\n",
    "        \"ticker\": ticker,\n",
    "        \"Total_Returns\": metrics.get(\"Total_Returns\"),\n",
    "        \"Average_Sharpe\": metrics.get(\"Average_Sharpe\"),\n",
    "        \"Average_Bid_Ask_Spread\": metrics.get(\"Average_Bid_Ask_Spread\"),\n",
    "        \"Cumulative_Trades\": metrics.get(\"Cumulative_Trades\"),\n",
    "        # Add more metrics here if needed\n",
    "    })\n",
    "    del ticker_data, backtest_data\n",
    "    gc.collect()\n",
    "\n",
    "results_df = pd.DataFrame(batch_results)\n",
    "print(results_df)\n",
    "# Optionally save to CSV\n",
    "results_df.to_csv(\"data/one_batch_metrics.csv\", index=False)"
   ]
  },
  {
   "cell_type": "code",
   "execution_count": null,
   "id": "95681d48",
   "metadata": {},
   "outputs": [],
   "source": []
  },
  {
   "cell_type": "code",
   "execution_count": null,
   "id": "c58d3acf",
   "metadata": {},
   "outputs": [],
   "source": []
  }
 ],
 "metadata": {
  "kernelspec": {
   "display_name": "venv",
   "language": "python",
   "name": "python3"
  },
  "language_info": {
   "codemirror_mode": {
    "name": "ipython",
    "version": 3
   },
   "file_extension": ".py",
   "mimetype": "text/x-python",
   "name": "python",
   "nbconvert_exporter": "python",
   "pygments_lexer": "ipython3",
   "version": "3.11.7"
  }
 },
 "nbformat": 4,
 "nbformat_minor": 5
}
