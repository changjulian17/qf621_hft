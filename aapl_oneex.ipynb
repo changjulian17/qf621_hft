{
 "cells": [
  {
   "cell_type": "code",
   "execution_count": 1,
   "id": "b280dfb8",
   "metadata": {},
   "outputs": [],
   "source": [
    "import pandas as pd\n",
    "import numpy as np\n",
    "import polars as pl"
   ]
  },
  {
   "cell_type": "code",
   "execution_count": 2,
   "id": "1a6f669d",
   "metadata": {},
   "outputs": [
    {
     "data": {
      "text/plain": [
       "(20925163, 14)"
      ]
     },
     "execution_count": 2,
     "metadata": {},
     "output_type": "execute_result"
    }
   ],
   "source": [
    "df = pl.read_csv(\"data/3_stock_trading_hrs.csv\")\n",
    "# Ensure TIME_M is parsed as a datetime column with strict=False to handle invalid formats\n",
    "df = df.with_columns(\n",
    "    pl.col(\"TIME_M\").str.to_time(format=\"%H:%M:%S%.f\").alias(\"TIME_M\")\n",
    ")\n",
    "\n",
    "# Filter rows between 9:30:00 and 16:00:00\n",
    "df = df.filter(\n",
    "    pl.col(\"TIME_M\").is_between(pl.time(9, 30), pl.time(16, 0))\n",
    ")\n",
    "\n",
    "df.shape"
   ]
  },
  {
   "cell_type": "code",
   "execution_count": 3,
   "id": "94eea086",
   "metadata": {},
   "outputs": [
    {
     "data": {
      "text/html": [
       "<div><style>\n",
       ".dataframe > thead > tr,\n",
       ".dataframe > tbody > tr {\n",
       "  text-align: right;\n",
       "  white-space: pre-wrap;\n",
       "}\n",
       "</style>\n",
       "<small>shape: (3, 2)</small><table border=\"1\" class=\"dataframe\"><thead><tr><th>SYM_ROOT</th><th>count</th></tr><tr><td>str</td><td>u32</td></tr></thead><tbody><tr><td>&quot;AAPL&quot;</td><td>11667035</td></tr><tr><td>&quot;NVDA&quot;</td><td>3526742</td></tr><tr><td>&quot;TSLA&quot;</td><td>5731386</td></tr></tbody></table></div>"
      ],
      "text/plain": [
       "shape: (3, 2)\n",
       "┌──────────┬──────────┐\n",
       "│ SYM_ROOT ┆ count    │\n",
       "│ ---      ┆ ---      │\n",
       "│ str      ┆ u32      │\n",
       "╞══════════╪══════════╡\n",
       "│ AAPL     ┆ 11667035 │\n",
       "│ NVDA     ┆ 3526742  │\n",
       "│ TSLA     ┆ 5731386  │\n",
       "└──────────┴──────────┘"
      ]
     },
     "execution_count": 3,
     "metadata": {},
     "output_type": "execute_result"
    }
   ],
   "source": [
    "df['SYM_ROOT'].value_counts()"
   ]
  },
  {
   "cell_type": "code",
   "execution_count": 43,
   "id": "f94be5c9",
   "metadata": {},
   "outputs": [
    {
     "data": {
      "text/html": [
       "<div><style>\n",
       ".dataframe > thead > tr,\n",
       ".dataframe > tbody > tr {\n",
       "  text-align: right;\n",
       "  white-space: pre-wrap;\n",
       "}\n",
       "</style>\n",
       "<small>shape: (1, 2)</small><table border=\"1\" class=\"dataframe\"><thead><tr><th>QU_CANCEL</th><th>count</th></tr><tr><td>str</td><td>u32</td></tr></thead><tbody><tr><td>null</td><td>20925163</td></tr></tbody></table></div>"
      ],
      "text/plain": [
       "shape: (1, 2)\n",
       "┌───────────┬──────────┐\n",
       "│ QU_CANCEL ┆ count    │\n",
       "│ ---       ┆ ---      │\n",
       "│ str       ┆ u32      │\n",
       "╞═══════════╪══════════╡\n",
       "│ null      ┆ 20925163 │\n",
       "└───────────┴──────────┘"
      ]
     },
     "execution_count": 43,
     "metadata": {},
     "output_type": "execute_result"
    }
   ],
   "source": [
    "df['QU_CANCEL'].value_counts()"
   ]
  },
  {
   "cell_type": "markdown",
   "id": "119845d8",
   "metadata": {},
   "source": [
    "# TAQ Quote - Data Dictionary\n",
    "Exchange that issued the quote (EX)\n",
    "\n",
    "Bid price (BID)\n",
    "\n",
    "Bid size in units of trade (BIDSIZ)\n",
    "\n",
    "Ask price (ASK)\n",
    "\n",
    "Ask size in units of trade (ASKSIZ)\n",
    "\n",
    "Condition of quote issued (QU_COND)\n",
    "\n",
    "Bid exchange (BIDEX)\n",
    "\n",
    "Ask exchange (ASKEX)\n",
    "\n",
    "Quote Sequence Number (QU_SEQNUM)\n",
    "\n",
    "National BBO Indicator (NATBBO_IND)\n",
    "\n",
    "NASD BBO Indicator (NASDBBO_IND)\n",
    "\n",
    "Quote Cancel/Correction (QU_CANCEL)\n",
    "\n",
    "Source of Quote (QU_SOURCE)\n",
    "\n",
    "## Quote Condition\n",
    "‘R’ = Regular, two-sided open quote\n",
    "\n",
    "‘L’ = Closed Market Maker (NASD)\n",
    "\n",
    "‘Y’ = Regular - One Sided Quote (NASDAQ)\n",
    "\n",
    "# single exchange\n",
    "1. find the most liquid exchange ==> narrow apread\n",
    "    - filter all two-sided quotes and get the narrowest average for each exchange\n",
    "2. filter for liquid exchange"
   ]
  },
  {
   "cell_type": "code",
   "execution_count": 44,
   "id": "1f167671",
   "metadata": {},
   "outputs": [
    {
     "data": {
      "text/html": [
       "<div><style>\n",
       ".dataframe > thead > tr,\n",
       ".dataframe > tbody > tr {\n",
       "  text-align: right;\n",
       "  white-space: pre-wrap;\n",
       "}\n",
       "</style>\n",
       "<small>shape: (2, 2)</small><table border=\"1\" class=\"dataframe\"><thead><tr><th>QU_COND</th><th>count</th></tr><tr><td>str</td><td>u32</td></tr></thead><tbody><tr><td>&quot;Y&quot;</td><td>15</td></tr><tr><td>&quot;R&quot;</td><td>20925148</td></tr></tbody></table></div>"
      ],
      "text/plain": [
       "shape: (2, 2)\n",
       "┌─────────┬──────────┐\n",
       "│ QU_COND ┆ count    │\n",
       "│ ---     ┆ ---      │\n",
       "│ str     ┆ u32      │\n",
       "╞═════════╪══════════╡\n",
       "│ Y       ┆ 15       │\n",
       "│ R       ┆ 20925148 │\n",
       "└─────────┴──────────┘"
      ]
     },
     "execution_count": 44,
     "metadata": {},
     "output_type": "execute_result"
    }
   ],
   "source": [
    "df['QU_COND'].value_counts()"
   ]
  },
  {
   "cell_type": "code",
   "execution_count": 45,
   "id": "f246506a",
   "metadata": {},
   "outputs": [
    {
     "data": {
      "text/html": [
       "<div><style>\n",
       ".dataframe > thead > tr,\n",
       ".dataframe > tbody > tr {\n",
       "  text-align: right;\n",
       "  white-space: pre-wrap;\n",
       "}\n",
       "</style>\n",
       "<small>shape: (16, 3)</small><table border=\"1\" class=\"dataframe\"><thead><tr><th>EX</th><th>average_spread</th><th>count</th></tr><tr><td>str</td><td>f64</td><td>u32</td></tr></thead><tbody><tr><td>&quot;L&quot;</td><td>0.0</td><td>2</td></tr><tr><td>&quot;A&quot;</td><td>2.037869</td><td>7957</td></tr><tr><td>&quot;C&quot;</td><td>2.054645</td><td>12553</td></tr><tr><td>&quot;H&quot;</td><td>0.189494</td><td>531024</td></tr><tr><td>&quot;X&quot;</td><td>0.423976</td><td>623698</td></tr><tr><td>&hellip;</td><td>&hellip;</td><td>&hellip;</td></tr><tr><td>&quot;P&quot;</td><td>0.039858</td><td>1577094</td></tr><tr><td>&quot;Z&quot;</td><td>0.042918</td><td>2436341</td></tr><tr><td>&quot;K&quot;</td><td>0.035883</td><td>2549975</td></tr><tr><td>&quot;Q&quot;</td><td>0.025867</td><td>3171159</td></tr><tr><td>&quot;U&quot;</td><td>0.04774</td><td>3354437</td></tr></tbody></table></div>"
      ],
      "text/plain": [
       "shape: (16, 3)\n",
       "┌─────┬────────────────┬─────────┐\n",
       "│ EX  ┆ average_spread ┆ count   │\n",
       "│ --- ┆ ---            ┆ ---     │\n",
       "│ str ┆ f64            ┆ u32     │\n",
       "╞═════╪════════════════╪═════════╡\n",
       "│ L   ┆ 0.0            ┆ 2       │\n",
       "│ A   ┆ 2.037869       ┆ 7957    │\n",
       "│ C   ┆ 2.054645       ┆ 12553   │\n",
       "│ H   ┆ 0.189494       ┆ 531024  │\n",
       "│ X   ┆ 0.423976       ┆ 623698  │\n",
       "│ …   ┆ …              ┆ …       │\n",
       "│ P   ┆ 0.039858       ┆ 1577094 │\n",
       "│ Z   ┆ 0.042918       ┆ 2436341 │\n",
       "│ K   ┆ 0.035883       ┆ 2549975 │\n",
       "│ Q   ┆ 0.025867       ┆ 3171159 │\n",
       "│ U   ┆ 0.04774        ┆ 3354437 │\n",
       "└─────┴────────────────┴─────────┘"
      ]
     },
     "execution_count": 45,
     "metadata": {},
     "output_type": "execute_result"
    }
   ],
   "source": [
    "# Filter for rows where QU_COND is 'R'\n",
    "filtered_df = df.filter(pl.col(\"QU_COND\") == \"R\")\n",
    "\n",
    "# Create a new column 'spread' calculated as ASK - BID\n",
    "filtered_df = filtered_df.with_columns((pl.col(\"ASK\") - pl.col(\"BID\")).alias(\"spread\"))\n",
    "\n",
    "# Aggregate by EX column and calculate the average spread\n",
    "average_spread = (\n",
    "\tfiltered_df\n",
    "\t.group_by(\"EX\")\n",
    "\t.agg(pl.col(\"spread\").mean().alias(\"average_spread\"),\n",
    "        pl.col(\"spread\").count().alias(\"count\"))\n",
    "    .sort(\"count\")\n",
    ")\n",
    "\n",
    "average_spread"
   ]
  },
  {
   "cell_type": "markdown",
   "id": "db4ad852",
   "metadata": {},
   "source": [
    "*** EX Q (NASDAQ) has the tightest spread, also has the highest refresh. We assume we can connect directly with NASDAQ ***\n",
    "\n",
    "for 10 May aapl stock: \n",
    "- K (Direct X) performance is very bad\n",
    "- Z (BATS) performance is still reasonable"
   ]
  },
  {
   "cell_type": "code",
   "execution_count": 46,
   "id": "47c27eb9",
   "metadata": {},
   "outputs": [
    {
     "data": {
      "text/html": [
       "<div><style>\n",
       ".dataframe > thead > tr,\n",
       ".dataframe > tbody > tr {\n",
       "  text-align: right;\n",
       "  white-space: pre-wrap;\n",
       "}\n",
       "</style>\n",
       "<small>shape: (9, 2)</small><table border=\"1\" class=\"dataframe\"><thead><tr><th>statistic</th><th>value</th></tr><tr><td>str</td><td>f64</td></tr></thead><tbody><tr><td>&quot;count&quot;</td><td>3.171159e6</td></tr><tr><td>&quot;null_count&quot;</td><td>0.0</td></tr><tr><td>&quot;mean&quot;</td><td>0.025867</td></tr><tr><td>&quot;std&quot;</td><td>0.024503</td></tr><tr><td>&quot;min&quot;</td><td>0.01</td></tr><tr><td>&quot;25%&quot;</td><td>0.01</td></tr><tr><td>&quot;50%&quot;</td><td>0.02</td></tr><tr><td>&quot;75%&quot;</td><td>0.03</td></tr><tr><td>&quot;max&quot;</td><td>0.61</td></tr></tbody></table></div>"
      ],
      "text/plain": [
       "shape: (9, 2)\n",
       "┌────────────┬────────────┐\n",
       "│ statistic  ┆ value      │\n",
       "│ ---        ┆ ---        │\n",
       "│ str        ┆ f64        │\n",
       "╞════════════╪════════════╡\n",
       "│ count      ┆ 3.171159e6 │\n",
       "│ null_count ┆ 0.0        │\n",
       "│ mean       ┆ 0.025867   │\n",
       "│ std        ┆ 0.024503   │\n",
       "│ min        ┆ 0.01       │\n",
       "│ 25%        ┆ 0.01       │\n",
       "│ 50%        ┆ 0.02       │\n",
       "│ 75%        ┆ 0.03       │\n",
       "│ max        ┆ 0.61       │\n",
       "└────────────┴────────────┘"
      ]
     },
     "execution_count": 46,
     "metadata": {},
     "output_type": "execute_result"
    }
   ],
   "source": [
    "filtered_df.filter(pl.col(\"EX\").is_in([\"Q\"]))['spread'].describe()\n",
    "# filtered_df.filter(pl.col(\"EX\").is_in([\"K\"]))['spread'].describe()\n",
    "# filtered_df.filter(pl.col(\"EX\").is_in([\"Z\"]))['spread'].describe()"
   ]
  },
  {
   "cell_type": "code",
   "execution_count": 47,
   "id": "08395f0a",
   "metadata": {},
   "outputs": [
    {
     "data": {
      "text/html": [
       "<div><style>\n",
       ".dataframe > thead > tr,\n",
       ".dataframe > tbody > tr {\n",
       "  text-align: right;\n",
       "  white-space: pre-wrap;\n",
       "}\n",
       "</style>\n",
       "<small>shape: (5, 14)</small><table border=\"1\" class=\"dataframe\"><thead><tr><th>DATE</th><th>TIME_M</th><th>EX</th><th>BID</th><th>BIDSIZ</th><th>ASK</th><th>ASKSIZ</th><th>QU_COND</th><th>QU_SEQNUM</th><th>NATBBO_IND</th><th>QU_CANCEL</th><th>QU_SOURCE</th><th>SYM_ROOT</th><th>SYM_SUFFIX</th></tr><tr><td>str</td><td>time</td><td>str</td><td>f64</td><td>i64</td><td>f64</td><td>i64</td><td>str</td><td>i64</td><td>i64</td><td>str</td><td>str</td><td>str</td><td>str</td></tr></thead><tbody><tr><td>&quot;2023-05-11&quot;</td><td>09:30:00.000536359</td><td>&quot;Q&quot;</td><td>173.77</td><td>9</td><td>173.92</td><td>1</td><td>&quot;R&quot;</td><td>801372</td><td>2</td><td>null</td><td>&quot;N&quot;</td><td>&quot;AAPL&quot;</td><td>null</td></tr><tr><td>&quot;2023-05-11&quot;</td><td>09:30:00.000633151</td><td>&quot;Z&quot;</td><td>173.57</td><td>1</td><td>174.71</td><td>1</td><td>&quot;R&quot;</td><td>801385</td><td>0</td><td>null</td><td>&quot;N&quot;</td><td>&quot;AAPL&quot;</td><td>null</td></tr><tr><td>&quot;2023-05-11&quot;</td><td>09:30:00.001056573</td><td>&quot;Z&quot;</td><td>173.57</td><td>1</td><td>174.71</td><td>1</td><td>&quot;R&quot;</td><td>801418</td><td>0</td><td>null</td><td>&quot;N&quot;</td><td>&quot;AAPL&quot;</td><td>null</td></tr><tr><td>&quot;2023-05-11&quot;</td><td>09:30:00.002307163</td><td>&quot;K&quot;</td><td>173.37</td><td>1</td><td>174.0</td><td>31</td><td>&quot;R&quot;</td><td>801487</td><td>0</td><td>null</td><td>&quot;N&quot;</td><td>&quot;AAPL&quot;</td><td>null</td></tr><tr><td>&quot;2023-05-11&quot;</td><td>09:30:00.002449230</td><td>&quot;U&quot;</td><td>173.78</td><td>1</td><td>173.92</td><td>1</td><td>&quot;R&quot;</td><td>801505</td><td>2</td><td>null</td><td>&quot;N&quot;</td><td>&quot;AAPL&quot;</td><td>null</td></tr></tbody></table></div>"
      ],
      "text/plain": [
       "shape: (5, 14)\n",
       "┌────────────┬──────────────────┬─────┬────────┬───┬───────────┬───────────┬──────────┬────────────┐\n",
       "│ DATE       ┆ TIME_M           ┆ EX  ┆ BID    ┆ … ┆ QU_CANCEL ┆ QU_SOURCE ┆ SYM_ROOT ┆ SYM_SUFFIX │\n",
       "│ ---        ┆ ---              ┆ --- ┆ ---    ┆   ┆ ---       ┆ ---       ┆ ---      ┆ ---        │\n",
       "│ str        ┆ time             ┆ str ┆ f64    ┆   ┆ str       ┆ str       ┆ str      ┆ str        │\n",
       "╞════════════╪══════════════════╪═════╪════════╪═══╪═══════════╪═══════════╪══════════╪════════════╡\n",
       "│ 2023-05-11 ┆ 09:30:00.0005363 ┆ Q   ┆ 173.77 ┆ … ┆ null      ┆ N         ┆ AAPL     ┆ null       │\n",
       "│            ┆ 59               ┆     ┆        ┆   ┆           ┆           ┆          ┆            │\n",
       "│ 2023-05-11 ┆ 09:30:00.0006331 ┆ Z   ┆ 173.57 ┆ … ┆ null      ┆ N         ┆ AAPL     ┆ null       │\n",
       "│            ┆ 51               ┆     ┆        ┆   ┆           ┆           ┆          ┆            │\n",
       "│ 2023-05-11 ┆ 09:30:00.0010565 ┆ Z   ┆ 173.57 ┆ … ┆ null      ┆ N         ┆ AAPL     ┆ null       │\n",
       "│            ┆ 73               ┆     ┆        ┆   ┆           ┆           ┆          ┆            │\n",
       "│ 2023-05-11 ┆ 09:30:00.0023071 ┆ K   ┆ 173.37 ┆ … ┆ null      ┆ N         ┆ AAPL     ┆ null       │\n",
       "│            ┆ 63               ┆     ┆        ┆   ┆           ┆           ┆          ┆            │\n",
       "│ 2023-05-11 ┆ 09:30:00.0024492 ┆ U   ┆ 173.78 ┆ … ┆ null      ┆ N         ┆ AAPL     ┆ null       │\n",
       "│            ┆ 30               ┆     ┆        ┆   ┆           ┆           ┆          ┆            │\n",
       "└────────────┴──────────────────┴─────┴────────┴───┴───────────┴───────────┴──────────┴────────────┘"
      ]
     },
     "execution_count": 47,
     "metadata": {},
     "output_type": "execute_result"
    }
   ],
   "source": [
    "df.head()"
   ]
  },
  {
   "cell_type": "code",
   "execution_count": null,
   "id": "3cb25b0d",
   "metadata": {},
   "outputs": [
    {
     "data": {
      "text/html": [
       "<div><style>\n",
       ".dataframe > thead > tr,\n",
       ".dataframe > tbody > tr {\n",
       "  text-align: right;\n",
       "  white-space: pre-wrap;\n",
       "}\n",
       "</style>\n",
       "<small>shape: (20_925_163, 15)</small><table border=\"1\" class=\"dataframe\"><thead><tr><th>DATE</th><th>TIME_M</th><th>EX</th><th>BID</th><th>BIDSIZ</th><th>ASK</th><th>ASKSIZ</th><th>QU_COND</th><th>QU_SEQNUM</th><th>NATBBO_IND</th><th>QU_CANCEL</th><th>QU_SOURCE</th><th>SYM_ROOT</th><th>SYM_SUFFIX</th><th>literal</th></tr><tr><td>str</td><td>time</td><td>str</td><td>f64</td><td>i64</td><td>f64</td><td>i64</td><td>str</td><td>i64</td><td>i64</td><td>str</td><td>str</td><td>str</td><td>str</td><td>i32</td></tr></thead><tbody><tr><td>&quot;2023-05-11&quot;</td><td>09:30:00.000536359</td><td>&quot;Q&quot;</td><td>173.77</td><td>9</td><td>173.92</td><td>1</td><td>&quot;R&quot;</td><td>801372</td><td>2</td><td>null</td><td>&quot;N&quot;</td><td>&quot;AAPL&quot;</td><td>null</td><td>null</td></tr><tr><td>&quot;2023-05-11&quot;</td><td>09:30:00.000633151</td><td>&quot;Z&quot;</td><td>173.57</td><td>1</td><td>174.71</td><td>1</td><td>&quot;R&quot;</td><td>801385</td><td>0</td><td>null</td><td>&quot;N&quot;</td><td>&quot;AAPL&quot;</td><td>null</td><td>null</td></tr><tr><td>&quot;2023-05-11&quot;</td><td>09:30:00.001056573</td><td>&quot;Z&quot;</td><td>173.57</td><td>1</td><td>174.71</td><td>1</td><td>&quot;R&quot;</td><td>801418</td><td>0</td><td>null</td><td>&quot;N&quot;</td><td>&quot;AAPL&quot;</td><td>null</td><td>null</td></tr><tr><td>&quot;2023-05-11&quot;</td><td>09:30:00.002307163</td><td>&quot;K&quot;</td><td>173.37</td><td>1</td><td>174.0</td><td>31</td><td>&quot;R&quot;</td><td>801487</td><td>0</td><td>null</td><td>&quot;N&quot;</td><td>&quot;AAPL&quot;</td><td>null</td><td>null</td></tr><tr><td>&quot;2023-05-11&quot;</td><td>09:30:00.002449230</td><td>&quot;U&quot;</td><td>173.78</td><td>1</td><td>173.92</td><td>1</td><td>&quot;R&quot;</td><td>801505</td><td>2</td><td>null</td><td>&quot;N&quot;</td><td>&quot;AAPL&quot;</td><td>null</td><td>null</td></tr><tr><td>&hellip;</td><td>&hellip;</td><td>&hellip;</td><td>&hellip;</td><td>&hellip;</td><td>&hellip;</td><td>&hellip;</td><td>&hellip;</td><td>&hellip;</td><td>&hellip;</td><td>&hellip;</td><td>&hellip;</td><td>&hellip;</td><td>&hellip;</td><td>&hellip;</td></tr><tr><td>&quot;2023-05-11&quot;</td><td>15:59:59.992303426</td><td>&quot;V&quot;</td><td>172.04</td><td>4</td><td>207.18</td><td>1</td><td>&quot;R&quot;</td><td>88797645</td><td>0</td><td>null</td><td>&quot;N&quot;</td><td>&quot;TSLA&quot;</td><td>null</td><td>null</td></tr><tr><td>&quot;2023-05-11&quot;</td><td>15:59:59.992917650</td><td>&quot;Q&quot;</td><td>172.04</td><td>163</td><td>172.08</td><td>80</td><td>&quot;R&quot;</td><td>88797672</td><td>4</td><td>null</td><td>&quot;N&quot;</td><td>&quot;TSLA&quot;</td><td>null</td><td>null</td></tr><tr><td>&quot;2023-05-11&quot;</td><td>15:59:59.993692002</td><td>&quot;V&quot;</td><td>172.04</td><td>4</td><td>172.08</td><td>2</td><td>&quot;R&quot;</td><td>88797698</td><td>0</td><td>null</td><td>&quot;N&quot;</td><td>&quot;TSLA&quot;</td><td>null</td><td>null</td></tr><tr><td>&quot;2023-05-11&quot;</td><td>15:59:59.999868022</td><td>&quot;V&quot;</td><td>145.0</td><td>2</td><td>172.08</td><td>2</td><td>&quot;R&quot;</td><td>88797944</td><td>0</td><td>null</td><td>&quot;N&quot;</td><td>&quot;TSLA&quot;</td><td>null</td><td>null</td></tr><tr><td>&quot;2023-05-11&quot;</td><td>15:59:59.999896735</td><td>&quot;V&quot;</td><td>145.0</td><td>2</td><td>207.18</td><td>1</td><td>&quot;R&quot;</td><td>88797945</td><td>0</td><td>null</td><td>&quot;N&quot;</td><td>&quot;TSLA&quot;</td><td>null</td><td>null</td></tr></tbody></table></div>"
      ],
      "text/plain": [
       "shape: (20_925_163, 15)\n",
       "┌────────────┬────────────────────┬─────┬────────┬───┬───────────┬──────────┬────────────┬─────────┐\n",
       "│ DATE       ┆ TIME_M             ┆ EX  ┆ BID    ┆ … ┆ QU_SOURCE ┆ SYM_ROOT ┆ SYM_SUFFIX ┆ literal │\n",
       "│ ---        ┆ ---                ┆ --- ┆ ---    ┆   ┆ ---       ┆ ---      ┆ ---        ┆ ---     │\n",
       "│ str        ┆ time               ┆ str ┆ f64    ┆   ┆ str       ┆ str      ┆ str        ┆ i32     │\n",
       "╞════════════╪════════════════════╪═════╪════════╪═══╪═══════════╪══════════╪════════════╪═════════╡\n",
       "│ 2023-05-11 ┆ 09:30:00.000536359 ┆ Q   ┆ 173.77 ┆ … ┆ N         ┆ AAPL     ┆ null       ┆ null    │\n",
       "│ 2023-05-11 ┆ 09:30:00.000633151 ┆ Z   ┆ 173.57 ┆ … ┆ N         ┆ AAPL     ┆ null       ┆ null    │\n",
       "│ 2023-05-11 ┆ 09:30:00.001056573 ┆ Z   ┆ 173.57 ┆ … ┆ N         ┆ AAPL     ┆ null       ┆ null    │\n",
       "│ 2023-05-11 ┆ 09:30:00.002307163 ┆ K   ┆ 173.37 ┆ … ┆ N         ┆ AAPL     ┆ null       ┆ null    │\n",
       "│ 2023-05-11 ┆ 09:30:00.002449230 ┆ U   ┆ 173.78 ┆ … ┆ N         ┆ AAPL     ┆ null       ┆ null    │\n",
       "│ …          ┆ …                  ┆ …   ┆ …      ┆ … ┆ …         ┆ …        ┆ …          ┆ …       │\n",
       "│ 2023-05-11 ┆ 15:59:59.992303426 ┆ V   ┆ 172.04 ┆ … ┆ N         ┆ TSLA     ┆ null       ┆ null    │\n",
       "│ 2023-05-11 ┆ 15:59:59.992917650 ┆ Q   ┆ 172.04 ┆ … ┆ N         ┆ TSLA     ┆ null       ┆ null    │\n",
       "│ 2023-05-11 ┆ 15:59:59.993692002 ┆ V   ┆ 172.04 ┆ … ┆ N         ┆ TSLA     ┆ null       ┆ null    │\n",
       "│ 2023-05-11 ┆ 15:59:59.999868022 ┆ V   ┆ 145.0  ┆ … ┆ N         ┆ TSLA     ┆ null       ┆ null    │\n",
       "│ 2023-05-11 ┆ 15:59:59.999896735 ┆ V   ┆ 145.0  ┆ … ┆ N         ┆ TSLA     ┆ null       ┆ null    │\n",
       "└────────────┴────────────────────┴─────┴────────┴───┴───────────┴──────────┴────────────┴─────────┘"
      ]
     },
     "execution_count": 55,
     "metadata": {},
     "output_type": "execute_result"
    }
   ],
   "source": [
    "df.with_columns(\n",
    "    pl.when(\n",
    "                (pl.col(\"TIME_M\") < pl.time(*(10, 35, 865))) |\n",
    "                (pl.col(\"TIME_M\") < pl.time(*(12, 35, 865))) \n",
    "            )\n",
    "    .then(0)\n",
    "    )"
   ]
  },
  {
   "cell_type": "code",
   "execution_count": null,
   "id": "213a0da8",
   "metadata": {},
   "outputs": [
    {
     "data": {
      "text/html": [
       "<div><style>\n",
       ".dataframe > thead > tr,\n",
       ".dataframe > tbody > tr {\n",
       "  text-align: right;\n",
       "  white-space: pre-wrap;\n",
       "}\n",
       "</style>\n",
       "<small>shape: (20_925_163, 15)</small><table border=\"1\" class=\"dataframe\"><thead><tr><th>DATE</th><th>TIME_M</th><th>EX</th><th>BID</th><th>BIDSIZ</th><th>ASK</th><th>ASKSIZ</th><th>QU_COND</th><th>QU_SEQNUM</th><th>NATBBO_IND</th><th>QU_CANCEL</th><th>QU_SOURCE</th><th>SYM_ROOT</th><th>SYM_SUFFIX</th><th>FILTER_FLAG</th></tr><tr><td>str</td><td>time</td><td>str</td><td>f64</td><td>i64</td><td>f64</td><td>i64</td><td>str</td><td>i64</td><td>i64</td><td>str</td><td>str</td><td>str</td><td>str</td><td>i32</td></tr></thead><tbody><tr><td>&quot;2023-05-11&quot;</td><td>09:30:00.000536359</td><td>&quot;Q&quot;</td><td>173.77</td><td>9</td><td>173.92</td><td>1</td><td>&quot;R&quot;</td><td>801372</td><td>2</td><td>null</td><td>&quot;N&quot;</td><td>&quot;AAPL&quot;</td><td>null</td><td>0</td></tr><tr><td>&quot;2023-05-11&quot;</td><td>09:30:00.000633151</td><td>&quot;Z&quot;</td><td>173.57</td><td>1</td><td>174.71</td><td>1</td><td>&quot;R&quot;</td><td>801385</td><td>0</td><td>null</td><td>&quot;N&quot;</td><td>&quot;AAPL&quot;</td><td>null</td><td>0</td></tr><tr><td>&quot;2023-05-11&quot;</td><td>09:30:00.001056573</td><td>&quot;Z&quot;</td><td>173.57</td><td>1</td><td>174.71</td><td>1</td><td>&quot;R&quot;</td><td>801418</td><td>0</td><td>null</td><td>&quot;N&quot;</td><td>&quot;AAPL&quot;</td><td>null</td><td>0</td></tr><tr><td>&quot;2023-05-11&quot;</td><td>09:30:00.002307163</td><td>&quot;K&quot;</td><td>173.37</td><td>1</td><td>174.0</td><td>31</td><td>&quot;R&quot;</td><td>801487</td><td>0</td><td>null</td><td>&quot;N&quot;</td><td>&quot;AAPL&quot;</td><td>null</td><td>0</td></tr><tr><td>&quot;2023-05-11&quot;</td><td>09:30:00.002449230</td><td>&quot;U&quot;</td><td>173.78</td><td>1</td><td>173.92</td><td>1</td><td>&quot;R&quot;</td><td>801505</td><td>2</td><td>null</td><td>&quot;N&quot;</td><td>&quot;AAPL&quot;</td><td>null</td><td>0</td></tr><tr><td>&hellip;</td><td>&hellip;</td><td>&hellip;</td><td>&hellip;</td><td>&hellip;</td><td>&hellip;</td><td>&hellip;</td><td>&hellip;</td><td>&hellip;</td><td>&hellip;</td><td>&hellip;</td><td>&hellip;</td><td>&hellip;</td><td>&hellip;</td><td>&hellip;</td></tr><tr><td>&quot;2023-05-11&quot;</td><td>15:59:59.992303426</td><td>&quot;V&quot;</td><td>172.04</td><td>4</td><td>207.18</td><td>1</td><td>&quot;R&quot;</td><td>88797645</td><td>0</td><td>null</td><td>&quot;N&quot;</td><td>&quot;TSLA&quot;</td><td>null</td><td>null</td></tr><tr><td>&quot;2023-05-11&quot;</td><td>15:59:59.992917650</td><td>&quot;Q&quot;</td><td>172.04</td><td>163</td><td>172.08</td><td>80</td><td>&quot;R&quot;</td><td>88797672</td><td>4</td><td>null</td><td>&quot;N&quot;</td><td>&quot;TSLA&quot;</td><td>null</td><td>null</td></tr><tr><td>&quot;2023-05-11&quot;</td><td>15:59:59.993692002</td><td>&quot;V&quot;</td><td>172.04</td><td>4</td><td>172.08</td><td>2</td><td>&quot;R&quot;</td><td>88797698</td><td>0</td><td>null</td><td>&quot;N&quot;</td><td>&quot;TSLA&quot;</td><td>null</td><td>null</td></tr><tr><td>&quot;2023-05-11&quot;</td><td>15:59:59.999868022</td><td>&quot;V&quot;</td><td>145.0</td><td>2</td><td>172.08</td><td>2</td><td>&quot;R&quot;</td><td>88797944</td><td>0</td><td>null</td><td>&quot;N&quot;</td><td>&quot;TSLA&quot;</td><td>null</td><td>null</td></tr><tr><td>&quot;2023-05-11&quot;</td><td>15:59:59.999896735</td><td>&quot;V&quot;</td><td>145.0</td><td>2</td><td>207.18</td><td>1</td><td>&quot;R&quot;</td><td>88797945</td><td>0</td><td>null</td><td>&quot;N&quot;</td><td>&quot;TSLA&quot;</td><td>null</td><td>null</td></tr></tbody></table></div>"
      ],
      "text/plain": [
       "shape: (20_925_163, 15)\n",
       "┌────────────┬────────────────┬─────┬────────┬───┬───────────┬──────────┬────────────┬─────────────┐\n",
       "│ DATE       ┆ TIME_M         ┆ EX  ┆ BID    ┆ … ┆ QU_SOURCE ┆ SYM_ROOT ┆ SYM_SUFFIX ┆ FILTER_FLAG │\n",
       "│ ---        ┆ ---            ┆ --- ┆ ---    ┆   ┆ ---       ┆ ---      ┆ ---        ┆ ---         │\n",
       "│ str        ┆ time           ┆ str ┆ f64    ┆   ┆ str       ┆ str      ┆ str        ┆ i32         │\n",
       "╞════════════╪════════════════╪═════╪════════╪═══╪═══════════╪══════════╪════════════╪═════════════╡\n",
       "│ 2023-05-11 ┆ 09:30:00.00053 ┆ Q   ┆ 173.77 ┆ … ┆ N         ┆ AAPL     ┆ null       ┆ 0           │\n",
       "│            ┆ 6359           ┆     ┆        ┆   ┆           ┆          ┆            ┆             │\n",
       "│ 2023-05-11 ┆ 09:30:00.00063 ┆ Z   ┆ 173.57 ┆ … ┆ N         ┆ AAPL     ┆ null       ┆ 0           │\n",
       "│            ┆ 3151           ┆     ┆        ┆   ┆           ┆          ┆            ┆             │\n",
       "│ 2023-05-11 ┆ 09:30:00.00105 ┆ Z   ┆ 173.57 ┆ … ┆ N         ┆ AAPL     ┆ null       ┆ 0           │\n",
       "│            ┆ 6573           ┆     ┆        ┆   ┆           ┆          ┆            ┆             │\n",
       "│ 2023-05-11 ┆ 09:30:00.00230 ┆ K   ┆ 173.37 ┆ … ┆ N         ┆ AAPL     ┆ null       ┆ 0           │\n",
       "│            ┆ 7163           ┆     ┆        ┆   ┆           ┆          ┆            ┆             │\n",
       "│ 2023-05-11 ┆ 09:30:00.00244 ┆ U   ┆ 173.78 ┆ … ┆ N         ┆ AAPL     ┆ null       ┆ 0           │\n",
       "│            ┆ 9230           ┆     ┆        ┆   ┆           ┆          ┆            ┆             │\n",
       "│ …          ┆ …              ┆ …   ┆ …      ┆ … ┆ …         ┆ …        ┆ …          ┆ …           │\n",
       "│ 2023-05-11 ┆ 15:59:59.99230 ┆ V   ┆ 172.04 ┆ … ┆ N         ┆ TSLA     ┆ null       ┆ null        │\n",
       "│            ┆ 3426           ┆     ┆        ┆   ┆           ┆          ┆            ┆             │\n",
       "│ 2023-05-11 ┆ 15:59:59.99291 ┆ Q   ┆ 172.04 ┆ … ┆ N         ┆ TSLA     ┆ null       ┆ null        │\n",
       "│            ┆ 7650           ┆     ┆        ┆   ┆           ┆          ┆            ┆             │\n",
       "│ 2023-05-11 ┆ 15:59:59.99369 ┆ V   ┆ 172.04 ┆ … ┆ N         ┆ TSLA     ┆ null       ┆ null        │\n",
       "│            ┆ 2002           ┆     ┆        ┆   ┆           ┆          ┆            ┆             │\n",
       "│ 2023-05-11 ┆ 15:59:59.99986 ┆ V   ┆ 145.0  ┆ … ┆ N         ┆ TSLA     ┆ null       ┆ null        │\n",
       "│            ┆ 8022           ┆     ┆        ┆   ┆           ┆          ┆            ┆             │\n",
       "│ 2023-05-11 ┆ 15:59:59.99989 ┆ V   ┆ 145.0  ┆ … ┆ N         ┆ TSLA     ┆ null       ┆ null        │\n",
       "│            ┆ 6735           ┆     ┆        ┆   ┆           ┆          ┆            ┆             │\n",
       "└────────────┴────────────────┴─────┴────────┴───┴───────────┴──────────┴────────────┴─────────────┘"
      ]
     },
     "execution_count": 62,
     "metadata": {},
     "output_type": "execute_result"
    }
   ],
   "source": [
    "df.with_columns(\n",
    "    pl.when(\n",
    "        (pl.col(\"TIME_M\") < pl.time(10, 35)) |\n",
    "        (pl.col(\"TIME_M\") > pl.time(12, 35))\n",
    "    )\n",
    "    .then(pl.lit(0))\n",
    "    .alias(\"FILTER_FLAG\")\n",
    ")"
   ]
  },
  {
   "cell_type": "code",
   "execution_count": 58,
   "id": "9a98112c",
   "metadata": {},
   "outputs": [
    {
     "ename": "ColumnNotFoundError",
     "evalue": "Signal\n\nResolved plan until failure:\n\n\t---> FAILED HERE RESOLVING 'sink' <---\nDF [\"DATE\", \"TIME_M\", \"EX\", \"BID\", ...]; PROJECT */14 COLUMNS",
     "output_type": "error",
     "traceback": [
      "\u001b[0;31m---------------------------------------------------------------------------\u001b[0m",
      "\u001b[0;31mColumnNotFoundError\u001b[0m                       Traceback (most recent call last)",
      "Cell \u001b[0;32mIn[58], line 1\u001b[0m\n\u001b[0;32m----> 1\u001b[0m \u001b[43mdf\u001b[49m\u001b[38;5;241;43m.\u001b[39;49m\u001b[43mwith_columns\u001b[49m\u001b[43m(\u001b[49m\n\u001b[1;32m      2\u001b[0m \u001b[43m            \u001b[49m\u001b[43mpl\u001b[49m\u001b[38;5;241;43m.\u001b[39;49m\u001b[43mwhen\u001b[49m\u001b[43m(\u001b[49m\n\u001b[1;32m      3\u001b[0m \u001b[43m                \u001b[49m\u001b[43m(\u001b[49m\u001b[43mpl\u001b[49m\u001b[38;5;241;43m.\u001b[39;49m\u001b[43mcol\u001b[49m\u001b[43m(\u001b[49m\u001b[38;5;124;43m\"\u001b[39;49m\u001b[38;5;124;43mTIME_M\u001b[39;49m\u001b[38;5;124;43m\"\u001b[39;49m\u001b[43m)\u001b[49m\u001b[43m \u001b[49m\u001b[38;5;241;43m<\u001b[39;49m\u001b[43m \u001b[49m\u001b[43mpl\u001b[49m\u001b[38;5;241;43m.\u001b[39;49m\u001b[43mtime\u001b[49m\u001b[43m(\u001b[49m\u001b[38;5;241;43m*\u001b[39;49m\u001b[43m(\u001b[49m\u001b[38;5;241;43m10\u001b[39;49m\u001b[43m,\u001b[49m\u001b[43m \u001b[49m\u001b[38;5;241;43m35\u001b[39;49m\u001b[43m,\u001b[49m\u001b[43m \u001b[49m\u001b[38;5;241;43m865\u001b[39;49m\u001b[43m)\u001b[49m\u001b[43m)\u001b[49m\u001b[43m)\u001b[49m\u001b[43m \u001b[49m\u001b[38;5;241;43m|\u001b[39;49m\u001b[43m \u001b[49m\n\u001b[1;32m      4\u001b[0m \u001b[43m                \u001b[49m\u001b[43m(\u001b[49m\u001b[43mpl\u001b[49m\u001b[38;5;241;43m.\u001b[39;49m\u001b[43mcol\u001b[49m\u001b[43m(\u001b[49m\u001b[38;5;124;43m\"\u001b[39;49m\u001b[38;5;124;43mTIME_M\u001b[39;49m\u001b[38;5;124;43m\"\u001b[39;49m\u001b[43m)\u001b[49m\u001b[43m \u001b[49m\u001b[38;5;241;43m>\u001b[39;49m\u001b[43m \u001b[49m\u001b[43mpl\u001b[49m\u001b[38;5;241;43m.\u001b[39;49m\u001b[43mtime\u001b[49m\u001b[43m(\u001b[49m\u001b[38;5;241;43m*\u001b[39;49m\u001b[43m(\u001b[49m\u001b[38;5;241;43m10\u001b[39;49m\u001b[43m,\u001b[49m\u001b[43m \u001b[49m\u001b[38;5;241;43m36\u001b[39;49m\u001b[43m,\u001b[49m\u001b[43m \u001b[49m\u001b[38;5;241;43m865\u001b[39;49m\u001b[43m)\u001b[49m\u001b[43m)\u001b[49m\u001b[43m)\u001b[49m\n\u001b[1;32m      5\u001b[0m \u001b[43m            \u001b[49m\u001b[43m)\u001b[49m\n\u001b[1;32m      6\u001b[0m \u001b[43m            \u001b[49m\u001b[38;5;241;43m.\u001b[39;49m\u001b[43mthen\u001b[49m\u001b[43m(\u001b[49m\u001b[38;5;241;43m0\u001b[39;49m\u001b[43m)\u001b[49m\n\u001b[1;32m      7\u001b[0m \u001b[43m            \u001b[49m\u001b[38;5;241;43m.\u001b[39;49m\u001b[43motherwise\u001b[49m\u001b[43m(\u001b[49m\u001b[43mpl\u001b[49m\u001b[38;5;241;43m.\u001b[39;49m\u001b[43mcol\u001b[49m\u001b[43m(\u001b[49m\u001b[38;5;124;43m\"\u001b[39;49m\u001b[38;5;124;43mSignal\u001b[39;49m\u001b[38;5;124;43m\"\u001b[39;49m\u001b[43m)\u001b[49m\u001b[43m)\u001b[49m\n\u001b[1;32m      8\u001b[0m \u001b[43m            \u001b[49m\u001b[38;5;241;43m.\u001b[39;49m\u001b[43malias\u001b[49m\u001b[43m(\u001b[49m\u001b[38;5;124;43m\"\u001b[39;49m\u001b[38;5;124;43mSignal\u001b[39;49m\u001b[38;5;124;43m\"\u001b[39;49m\u001b[43m)\u001b[49m\n\u001b[1;32m      9\u001b[0m \u001b[43m        \u001b[49m\u001b[43m)\u001b[49m\n",
      "File \u001b[0;32m/Library/Frameworks/Python.framework/Versions/3.12/lib/python3.12/site-packages/polars/dataframe/frame.py:9830\u001b[0m, in \u001b[0;36mDataFrame.with_columns\u001b[0;34m(self, *exprs, **named_exprs)\u001b[0m\n\u001b[1;32m   9684\u001b[0m \u001b[38;5;28;01mdef\u001b[39;00m \u001b[38;5;21mwith_columns\u001b[39m(\n\u001b[1;32m   9685\u001b[0m     \u001b[38;5;28mself\u001b[39m,\n\u001b[1;32m   9686\u001b[0m     \u001b[38;5;241m*\u001b[39mexprs: IntoExpr \u001b[38;5;241m|\u001b[39m Iterable[IntoExpr],\n\u001b[1;32m   9687\u001b[0m     \u001b[38;5;241m*\u001b[39m\u001b[38;5;241m*\u001b[39mnamed_exprs: IntoExpr,\n\u001b[1;32m   9688\u001b[0m ) \u001b[38;5;241m-\u001b[39m\u001b[38;5;241m>\u001b[39m DataFrame:\n\u001b[1;32m   9689\u001b[0m \u001b[38;5;250m    \u001b[39m\u001b[38;5;124;03m\"\"\"\u001b[39;00m\n\u001b[1;32m   9690\u001b[0m \u001b[38;5;124;03m    Add columns to this DataFrame.\u001b[39;00m\n\u001b[1;32m   9691\u001b[0m \n\u001b[0;32m   (...)\u001b[0m\n\u001b[1;32m   9828\u001b[0m \u001b[38;5;124;03m    └─────┴──────┴─────────────┘\u001b[39;00m\n\u001b[1;32m   9829\u001b[0m \u001b[38;5;124;03m    \"\"\"\u001b[39;00m\n\u001b[0;32m-> 9830\u001b[0m     \u001b[38;5;28;01mreturn\u001b[39;00m \u001b[38;5;28;43mself\u001b[39;49m\u001b[38;5;241;43m.\u001b[39;49m\u001b[43mlazy\u001b[49m\u001b[43m(\u001b[49m\u001b[43m)\u001b[49m\u001b[38;5;241;43m.\u001b[39;49m\u001b[43mwith_columns\u001b[49m\u001b[43m(\u001b[49m\u001b[38;5;241;43m*\u001b[39;49m\u001b[43mexprs\u001b[49m\u001b[43m,\u001b[49m\u001b[43m \u001b[49m\u001b[38;5;241;43m*\u001b[39;49m\u001b[38;5;241;43m*\u001b[39;49m\u001b[43mnamed_exprs\u001b[49m\u001b[43m)\u001b[49m\u001b[38;5;241;43m.\u001b[39;49m\u001b[43mcollect\u001b[49m\u001b[43m(\u001b[49m\u001b[43m_eager\u001b[49m\u001b[38;5;241;43m=\u001b[39;49m\u001b[38;5;28;43;01mTrue\u001b[39;49;00m\u001b[43m)\u001b[49m\n",
      "File \u001b[0;32m/Library/Frameworks/Python.framework/Versions/3.12/lib/python3.12/site-packages/polars/_utils/deprecation.py:93\u001b[0m, in \u001b[0;36mdeprecate_streaming_parameter.<locals>.decorate.<locals>.wrapper\u001b[0;34m(*args, **kwargs)\u001b[0m\n\u001b[1;32m     89\u001b[0m         kwargs[\u001b[38;5;124m\"\u001b[39m\u001b[38;5;124mengine\u001b[39m\u001b[38;5;124m\"\u001b[39m] \u001b[38;5;241m=\u001b[39m \u001b[38;5;124m\"\u001b[39m\u001b[38;5;124min-memory\u001b[39m\u001b[38;5;124m\"\u001b[39m\n\u001b[1;32m     91\u001b[0m     \u001b[38;5;28;01mdel\u001b[39;00m kwargs[\u001b[38;5;124m\"\u001b[39m\u001b[38;5;124mstreaming\u001b[39m\u001b[38;5;124m\"\u001b[39m]\n\u001b[0;32m---> 93\u001b[0m \u001b[38;5;28;01mreturn\u001b[39;00m \u001b[43mfunction\u001b[49m\u001b[43m(\u001b[49m\u001b[38;5;241;43m*\u001b[39;49m\u001b[43margs\u001b[49m\u001b[43m,\u001b[49m\u001b[43m \u001b[49m\u001b[38;5;241;43m*\u001b[39;49m\u001b[38;5;241;43m*\u001b[39;49m\u001b[43mkwargs\u001b[49m\u001b[43m)\u001b[49m\n",
      "File \u001b[0;32m/Library/Frameworks/Python.framework/Versions/3.12/lib/python3.12/site-packages/polars/lazyframe/frame.py:2224\u001b[0m, in \u001b[0;36mLazyFrame.collect\u001b[0;34m(self, type_coercion, _type_check, predicate_pushdown, projection_pushdown, simplify_expression, slice_pushdown, comm_subplan_elim, comm_subexpr_elim, cluster_with_columns, collapse_joins, no_optimization, engine, background, _check_order, _eager, **_kwargs)\u001b[0m\n\u001b[1;32m   2222\u001b[0m \u001b[38;5;66;03m# Only for testing purposes\u001b[39;00m\n\u001b[1;32m   2223\u001b[0m callback \u001b[38;5;241m=\u001b[39m _kwargs\u001b[38;5;241m.\u001b[39mget(\u001b[38;5;124m\"\u001b[39m\u001b[38;5;124mpost_opt_callback\u001b[39m\u001b[38;5;124m\"\u001b[39m, callback)\n\u001b[0;32m-> 2224\u001b[0m \u001b[38;5;28;01mreturn\u001b[39;00m wrap_df(\u001b[43mldf\u001b[49m\u001b[38;5;241;43m.\u001b[39;49m\u001b[43mcollect\u001b[49m\u001b[43m(\u001b[49m\u001b[43mengine\u001b[49m\u001b[43m,\u001b[49m\u001b[43m \u001b[49m\u001b[43mcallback\u001b[49m\u001b[43m)\u001b[49m)\n",
      "\u001b[0;31mColumnNotFoundError\u001b[0m: Signal\n\nResolved plan until failure:\n\n\t---> FAILED HERE RESOLVING 'sink' <---\nDF [\"DATE\", \"TIME_M\", \"EX\", \"BID\", ...]; PROJECT */14 COLUMNS"
     ]
    }
   ],
   "source": [
    "df.with_columns(\n",
    "            pl.when(\n",
    "                (pl.col(\"TIME_M\") < pl.time(*(10, 35, 865))) | \n",
    "                (pl.col(\"TIME_M\") > pl.time(*(10, 36, 865)))\n",
    "            )\n",
    "            .then(0)\n",
    "            .otherwise(pl.col(\"Signal\"))\n",
    "            .alias(\"Signal\")\n",
    "        )"
   ]
  },
  {
   "cell_type": "code",
   "execution_count": null,
   "id": "da83ae50",
   "metadata": {},
   "outputs": [
    {
     "ename": "ArrowInvalid",
     "evalue": "Value 37800048115245 has non-zero nanoseconds",
     "output_type": "error",
     "traceback": [
      "\u001b[0;31m---------------------------------------------------------------------------\u001b[0m\n",
      "\u001b[0;31mArrowInvalid\u001b[0m                              Traceback (most recent call last)\n",
      "Cell \u001b[0;32mIn[26], line 1\u001b[0m\n",
      "\u001b[0;32m----> 1\u001b[0m \u001b[43mdf_tmp\u001b[49m\u001b[38;5;241;43m.\u001b[39;49m\u001b[43mhead\u001b[49m\u001b[43m(\u001b[49m\u001b[38;5;241;43m100\u001b[39;49m\u001b[43m)\u001b[49m\u001b[38;5;241;43m.\u001b[39;49m\u001b[43mto_pandas\u001b[49m\u001b[43m(\u001b[49m\u001b[43m)\u001b[49m\u001b[38;5;241m.\u001b[39mplot\u001b[38;5;241m.\u001b[39mline(x\u001b[38;5;241m=\u001b[39m\u001b[38;5;124m\"\u001b[39m\u001b[38;5;124mQU_SEQNUM\u001b[39m\u001b[38;5;124m\"\u001b[39m, y\u001b[38;5;241m=\u001b[39m\u001b[38;5;124m\"\u001b[39m\u001b[38;5;124mOBI\u001b[39m\u001b[38;5;124m\"\u001b[39m)\n",
      "\n",
      "File \u001b[0;32m/Library/Frameworks/Python.framework/Versions/3.12/lib/python3.12/site-packages/polars/dataframe/frame.py:2443\u001b[0m, in \u001b[0;36mDataFrame.to_pandas\u001b[0;34m(self, use_pyarrow_extension_array, **kwargs)\u001b[0m\n",
      "\u001b[1;32m   2438\u001b[0m \u001b[38;5;28;01mif\u001b[39;00m Object \u001b[38;5;129;01min\u001b[39;00m \u001b[38;5;28mself\u001b[39m\u001b[38;5;241m.\u001b[39mdtypes:\n",
      "\u001b[1;32m   2439\u001b[0m     \u001b[38;5;28;01mreturn\u001b[39;00m \u001b[38;5;28mself\u001b[39m\u001b[38;5;241m.\u001b[39m_to_pandas_with_object_columns(\n",
      "\u001b[1;32m   2440\u001b[0m         use_pyarrow_extension_array\u001b[38;5;241m=\u001b[39muse_pyarrow_extension_array, \u001b[38;5;241m*\u001b[39m\u001b[38;5;241m*\u001b[39mkwargs\n",
      "\u001b[1;32m   2441\u001b[0m     )\n",
      "\u001b[0;32m-> 2443\u001b[0m \u001b[38;5;28;01mreturn\u001b[39;00m \u001b[38;5;28;43mself\u001b[39;49m\u001b[38;5;241;43m.\u001b[39;49m\u001b[43m_to_pandas_without_object_columns\u001b[49m\u001b[43m(\u001b[49m\n",
      "\u001b[1;32m   2444\u001b[0m \u001b[43m    \u001b[49m\u001b[38;5;28;43mself\u001b[39;49m\u001b[43m,\u001b[49m\u001b[43m \u001b[49m\u001b[43muse_pyarrow_extension_array\u001b[49m\u001b[38;5;241;43m=\u001b[39;49m\u001b[43muse_pyarrow_extension_array\u001b[49m\u001b[43m,\u001b[49m\u001b[43m \u001b[49m\u001b[38;5;241;43m*\u001b[39;49m\u001b[38;5;241;43m*\u001b[39;49m\u001b[43mkwargs\u001b[49m\n",
      "\u001b[1;32m   2445\u001b[0m \u001b[43m\u001b[49m\u001b[43m)\u001b[49m\n",
      "\n",
      "File \u001b[0;32m/Library/Frameworks/Python.framework/Versions/3.12/lib/python3.12/site-packages/polars/dataframe/frame.py:2505\u001b[0m, in \u001b[0;36mDataFrame._to_pandas_without_object_columns\u001b[0;34m(self, df, use_pyarrow_extension_array, **kwargs)\u001b[0m\n",
      "\u001b[1;32m   2497\u001b[0m     \u001b[38;5;28;01mreturn\u001b[39;00m tbl\u001b[38;5;241m.\u001b[39mto_pandas(\n",
      "\u001b[1;32m   2498\u001b[0m         self_destruct\u001b[38;5;241m=\u001b[39m\u001b[38;5;28;01mTrue\u001b[39;00m,\n",
      "\u001b[1;32m   2499\u001b[0m         split_blocks\u001b[38;5;241m=\u001b[39m\u001b[38;5;28;01mTrue\u001b[39;00m,\n",
      "\u001b[1;32m   2500\u001b[0m         types_mapper\u001b[38;5;241m=\u001b[39m\u001b[38;5;28;01mlambda\u001b[39;00m pa_dtype: pd\u001b[38;5;241m.\u001b[39mArrowDtype(pa_dtype),\n",
      "\u001b[1;32m   2501\u001b[0m         \u001b[38;5;241m*\u001b[39m\u001b[38;5;241m*\u001b[39mkwargs,\n",
      "\u001b[1;32m   2502\u001b[0m     )\n",
      "\u001b[1;32m   2504\u001b[0m date_as_object \u001b[38;5;241m=\u001b[39m kwargs\u001b[38;5;241m.\u001b[39mpop(\u001b[38;5;124m\"\u001b[39m\u001b[38;5;124mdate_as_object\u001b[39m\u001b[38;5;124m\"\u001b[39m, \u001b[38;5;28;01mFalse\u001b[39;00m)\n",
      "\u001b[0;32m-> 2505\u001b[0m \u001b[38;5;28;01mreturn\u001b[39;00m \u001b[43mtbl\u001b[49m\u001b[38;5;241;43m.\u001b[39;49m\u001b[43mto_pandas\u001b[49m\u001b[43m(\u001b[49m\u001b[43mdate_as_object\u001b[49m\u001b[38;5;241;43m=\u001b[39;49m\u001b[43mdate_as_object\u001b[49m\u001b[43m,\u001b[49m\u001b[43m \u001b[49m\u001b[38;5;241;43m*\u001b[39;49m\u001b[38;5;241;43m*\u001b[39;49m\u001b[43mkwargs\u001b[49m\u001b[43m)\u001b[49m\n",
      "\n",
      "File \u001b[0;32m/Library/Frameworks/Python.framework/Versions/3.12/lib/python3.12/site-packages/pyarrow/array.pxi:987\u001b[0m, in \u001b[0;36mpyarrow.lib._PandasConvertible.to_pandas\u001b[0;34m()\u001b[0m\n",
      "\n",
      "File \u001b[0;32m/Library/Frameworks/Python.framework/Versions/3.12/lib/python3.12/site-packages/pyarrow/table.pxi:5174\u001b[0m, in \u001b[0;36mpyarrow.lib.Table._to_pandas\u001b[0;34m()\u001b[0m\n",
      "\n",
      "File \u001b[0;32m/Library/Frameworks/Python.framework/Versions/3.12/lib/python3.12/site-packages/pyarrow/pandas_compat.py:808\u001b[0m, in \u001b[0;36mtable_to_dataframe\u001b[0;34m(options, table, categories, ignore_metadata, types_mapper)\u001b[0m\n",
      "\u001b[1;32m    805\u001b[0m columns \u001b[38;5;241m=\u001b[39m _deserialize_column_index(table, all_columns, column_indexes)\n",
      "\u001b[1;32m    807\u001b[0m column_names \u001b[38;5;241m=\u001b[39m table\u001b[38;5;241m.\u001b[39mcolumn_names\n",
      "\u001b[0;32m--> 808\u001b[0m result \u001b[38;5;241m=\u001b[39m \u001b[43mpa\u001b[49m\u001b[38;5;241;43m.\u001b[39;49m\u001b[43mlib\u001b[49m\u001b[38;5;241;43m.\u001b[39;49m\u001b[43mtable_to_blocks\u001b[49m\u001b[43m(\u001b[49m\u001b[43moptions\u001b[49m\u001b[43m,\u001b[49m\u001b[43m \u001b[49m\u001b[43mtable\u001b[49m\u001b[43m,\u001b[49m\u001b[43m \u001b[49m\u001b[43mcategories\u001b[49m\u001b[43m,\u001b[49m\n",
      "\u001b[1;32m    809\u001b[0m \u001b[43m                                \u001b[49m\u001b[38;5;28;43mlist\u001b[39;49m\u001b[43m(\u001b[49m\u001b[43mext_columns_dtypes\u001b[49m\u001b[38;5;241;43m.\u001b[39;49m\u001b[43mkeys\u001b[49m\u001b[43m(\u001b[49m\u001b[43m)\u001b[49m\u001b[43m)\u001b[49m\u001b[43m)\u001b[49m\n",
      "\u001b[1;32m    810\u001b[0m \u001b[38;5;28;01mif\u001b[39;00m _pandas_api\u001b[38;5;241m.\u001b[39mis_ge_v3():\n",
      "\u001b[1;32m    811\u001b[0m     \u001b[38;5;28;01mfrom\u001b[39;00m \u001b[38;5;21;01mpandas\u001b[39;00m\u001b[38;5;21;01m.\u001b[39;00m\u001b[38;5;21;01mapi\u001b[39;00m\u001b[38;5;21;01m.\u001b[39;00m\u001b[38;5;21;01minternals\u001b[39;00m \u001b[38;5;28;01mimport\u001b[39;00m create_dataframe_from_blocks\n",
      "\n",
      "File \u001b[0;32m/Library/Frameworks/Python.framework/Versions/3.12/lib/python3.12/site-packages/pyarrow/table.pxi:4103\u001b[0m, in \u001b[0;36mpyarrow.lib.table_to_blocks\u001b[0;34m()\u001b[0m\n",
      "\n",
      "File \u001b[0;32m/Library/Frameworks/Python.framework/Versions/3.12/lib/python3.12/site-packages/pyarrow/error.pxi:92\u001b[0m, in \u001b[0;36mpyarrow.lib.check_status\u001b[0;34m()\u001b[0m\n",
      "\n",
      "\u001b[0;31mArrowInvalid\u001b[0m: Value 37800048115245 has non-zero nanoseconds"
     ]
    }
   ],
   "source": [
    "df_tmp.head(100).to_pandas().plot.line(x=\"QU_SEQNUM\", y=\"OBI\")"
   ]
  },
  {
   "cell_type": "code",
   "execution_count": 8,
   "id": "b9836bbc",
   "metadata": {},
   "outputs": [],
   "source": [
    "del filtered_df\n",
    "del average_spread"
   ]
  },
  {
   "cell_type": "markdown",
   "id": "dd9878de",
   "metadata": {},
   "source": [
    "# Data prep\n",
    "1. filter trading hours\n",
    "2. Nasdaq quotes\n",
    "3. take twosided quotes only"
   ]
  },
  {
   "cell_type": "code",
   "execution_count": 9,
   "id": "73c615ce",
   "metadata": {},
   "outputs": [
    {
     "data": {
      "text/plain": [
       "(346766, 14)"
      ]
     },
     "execution_count": 9,
     "metadata": {},
     "output_type": "execute_result"
    }
   ],
   "source": [
    "# filter trading hours\n",
    "# df = df.with_columns(\n",
    "#     pl.col(\"TIME_M\").str.to_time(format=\"%H:%M:%S%.f\").alias(\"TIME_M\")\n",
    "# )\n",
    "df = df.filter(pl.col(\"SYM_ROOT\") == \"AAPL\")\n",
    "df = df.filter(\n",
    "    pl.col(\"TIME_M\").is_between(pl.time(10, 30), pl.time(12, 0))\n",
    ")\n",
    "# Filter for Nasdaq exchange\n",
    "df = df.filter(pl.col(\"EX\") == \"Z\")\n",
    "# Filter for rows where QU_COND is 'R'\n",
    "df = df.filter(pl.col(\"QU_COND\") == \"R\")\n",
    "df.shape"
   ]
  },
  {
   "cell_type": "code",
   "execution_count": 40,
   "id": "3c75c9e0",
   "metadata": {},
   "outputs": [
    {
     "data": {
      "text/html": [
       "<div><style>\n",
       ".dataframe > thead > tr,\n",
       ".dataframe > tbody > tr {\n",
       "  text-align: right;\n",
       "  white-space: pre-wrap;\n",
       "}\n",
       "</style>\n",
       "<small>shape: (5, 14)</small><table border=\"1\" class=\"dataframe\"><thead><tr><th>DATE</th><th>TIME_M</th><th>EX</th><th>BID</th><th>BIDSIZ</th><th>ASK</th><th>ASKSIZ</th><th>QU_COND</th><th>QU_SEQNUM</th><th>NATBBO_IND</th><th>QU_CANCEL</th><th>QU_SOURCE</th><th>SYM_ROOT</th><th>SYM_SUFFIX</th></tr><tr><td>str</td><td>time</td><td>str</td><td>f64</td><td>i64</td><td>f64</td><td>i64</td><td>str</td><td>i64</td><td>i64</td><td>str</td><td>str</td><td>str</td><td>str</td></tr></thead><tbody><tr><td>&quot;2023-05-11&quot;</td><td>10:30:00.002054882</td><td>&quot;Z&quot;</td><td>172.67</td><td>5</td><td>172.68</td><td>2</td><td>&quot;R&quot;</td><td>18779360</td><td>0</td><td>null</td><td>&quot;N&quot;</td><td>&quot;AAPL&quot;</td><td>null</td></tr><tr><td>&quot;2023-05-11&quot;</td><td>10:30:00.002273381</td><td>&quot;Z&quot;</td><td>172.67</td><td>5</td><td>172.68</td><td>2</td><td>&quot;R&quot;</td><td>18779388</td><td>0</td><td>null</td><td>&quot;N&quot;</td><td>&quot;AAPL&quot;</td><td>null</td></tr><tr><td>&quot;2023-05-11&quot;</td><td>10:30:00.002358341</td><td>&quot;Z&quot;</td><td>172.67</td><td>3</td><td>172.68</td><td>2</td><td>&quot;R&quot;</td><td>18779394</td><td>2</td><td>null</td><td>&quot;N&quot;</td><td>&quot;AAPL&quot;</td><td>null</td></tr><tr><td>&quot;2023-05-11&quot;</td><td>10:30:00.002371580</td><td>&quot;Z&quot;</td><td>172.67</td><td>2</td><td>172.68</td><td>2</td><td>&quot;R&quot;</td><td>18779395</td><td>0</td><td>null</td><td>&quot;N&quot;</td><td>&quot;AAPL&quot;</td><td>null</td></tr><tr><td>&quot;2023-05-11&quot;</td><td>10:30:00.002397118</td><td>&quot;Z&quot;</td><td>172.67</td><td>1</td><td>172.68</td><td>2</td><td>&quot;R&quot;</td><td>18779398</td><td>0</td><td>null</td><td>&quot;N&quot;</td><td>&quot;AAPL&quot;</td><td>null</td></tr></tbody></table></div>"
      ],
      "text/plain": [
       "shape: (5, 14)\n",
       "┌────────────┬──────────────────┬─────┬────────┬───┬───────────┬───────────┬──────────┬────────────┐\n",
       "│ DATE       ┆ TIME_M           ┆ EX  ┆ BID    ┆ … ┆ QU_CANCEL ┆ QU_SOURCE ┆ SYM_ROOT ┆ SYM_SUFFIX │\n",
       "│ ---        ┆ ---              ┆ --- ┆ ---    ┆   ┆ ---       ┆ ---       ┆ ---      ┆ ---        │\n",
       "│ str        ┆ time             ┆ str ┆ f64    ┆   ┆ str       ┆ str       ┆ str      ┆ str        │\n",
       "╞════════════╪══════════════════╪═════╪════════╪═══╪═══════════╪═══════════╪══════════╪════════════╡\n",
       "│ 2023-05-11 ┆ 10:30:00.0020548 ┆ Z   ┆ 172.67 ┆ … ┆ null      ┆ N         ┆ AAPL     ┆ null       │\n",
       "│            ┆ 82               ┆     ┆        ┆   ┆           ┆           ┆          ┆            │\n",
       "│ 2023-05-11 ┆ 10:30:00.0022733 ┆ Z   ┆ 172.67 ┆ … ┆ null      ┆ N         ┆ AAPL     ┆ null       │\n",
       "│            ┆ 81               ┆     ┆        ┆   ┆           ┆           ┆          ┆            │\n",
       "│ 2023-05-11 ┆ 10:30:00.0023583 ┆ Z   ┆ 172.67 ┆ … ┆ null      ┆ N         ┆ AAPL     ┆ null       │\n",
       "│            ┆ 41               ┆     ┆        ┆   ┆           ┆           ┆          ┆            │\n",
       "│ 2023-05-11 ┆ 10:30:00.0023715 ┆ Z   ┆ 172.67 ┆ … ┆ null      ┆ N         ┆ AAPL     ┆ null       │\n",
       "│            ┆ 80               ┆     ┆        ┆   ┆           ┆           ┆          ┆            │\n",
       "│ 2023-05-11 ┆ 10:30:00.0023971 ┆ Z   ┆ 172.67 ┆ … ┆ null      ┆ N         ┆ AAPL     ┆ null       │\n",
       "│            ┆ 18               ┆     ┆        ┆   ┆           ┆           ┆          ┆            │\n",
       "└────────────┴──────────────────┴─────┴────────┴───┴───────────┴───────────┴──────────┴────────────┘"
      ]
     },
     "execution_count": 40,
     "metadata": {},
     "output_type": "execute_result"
    }
   ],
   "source": [
    "df.head()"
   ]
  },
  {
   "cell_type": "code",
   "execution_count": 10,
   "id": "a5dc7701",
   "metadata": {},
   "outputs": [
    {
     "data": {
      "text/html": [
       "<div><style>\n",
       ".dataframe > thead > tr,\n",
       ".dataframe > tbody > tr {\n",
       "  text-align: right;\n",
       "  white-space: pre-wrap;\n",
       "}\n",
       "</style>\n",
       "<small>shape: (9, 15)</small><table border=\"1\" class=\"dataframe\"><thead><tr><th>statistic</th><th>DATE</th><th>TIME_M</th><th>EX</th><th>BID</th><th>BIDSIZ</th><th>ASK</th><th>ASKSIZ</th><th>QU_COND</th><th>QU_SEQNUM</th><th>NATBBO_IND</th><th>QU_CANCEL</th><th>QU_SOURCE</th><th>SYM_ROOT</th><th>SYM_SUFFIX</th></tr><tr><td>str</td><td>str</td><td>str</td><td>str</td><td>f64</td><td>f64</td><td>f64</td><td>f64</td><td>str</td><td>f64</td><td>f64</td><td>str</td><td>str</td><td>str</td><td>str</td></tr></thead><tbody><tr><td>&quot;count&quot;</td><td>&quot;346766&quot;</td><td>&quot;346766&quot;</td><td>&quot;346766&quot;</td><td>346766.0</td><td>346766.0</td><td>346766.0</td><td>346766.0</td><td>&quot;346766&quot;</td><td>346766.0</td><td>346766.0</td><td>&quot;0&quot;</td><td>&quot;346766&quot;</td><td>&quot;346766&quot;</td><td>&quot;0&quot;</td></tr><tr><td>&quot;null_count&quot;</td><td>&quot;0&quot;</td><td>&quot;0&quot;</td><td>&quot;0&quot;</td><td>0.0</td><td>0.0</td><td>0.0</td><td>0.0</td><td>&quot;0&quot;</td><td>0.0</td><td>0.0</td><td>&quot;346766&quot;</td><td>&quot;0&quot;</td><td>&quot;0&quot;</td><td>&quot;346766&quot;</td></tr><tr><td>&quot;mean&quot;</td><td>null</td><td>&quot;11:10:23.756954&quot;</td><td>null</td><td>173.18669</td><td>4.189508</td><td>173.200275</td><td>4.225492</td><td>null</td><td>2.7777e7</td><td>0.176661</td><td>null</td><td>null</td><td>null</td><td>null</td></tr><tr><td>&quot;std&quot;</td><td>null</td><td>null</td><td>null</td><td>0.379069</td><td>3.312605</td><td>0.379182</td><td>2.971931</td><td>null</td><td>5.3706e6</td><td>0.576804</td><td>null</td><td>null</td><td>null</td><td>null</td></tr><tr><td>&quot;min&quot;</td><td>&quot;2023-05-11&quot;</td><td>&quot;10:30:00.002054&quot;</td><td>&quot;Z&quot;</td><td>172.3</td><td>1.0</td><td>172.31</td><td>1.0</td><td>&quot;R&quot;</td><td>1.877936e7</td><td>0.0</td><td>null</td><td>&quot;N&quot;</td><td>&quot;AAPL&quot;</td><td>null</td></tr><tr><td>&quot;25%&quot;</td><td>null</td><td>&quot;10:47:12.383551&quot;</td><td>null</td><td>172.97</td><td>2.0</td><td>172.99</td><td>2.0</td><td>null</td><td>2.315817e7</td><td>0.0</td><td>null</td><td>null</td><td>null</td><td>null</td></tr><tr><td>&quot;50%&quot;</td><td>null</td><td>&quot;11:07:04.075073&quot;</td><td>null</td><td>173.3</td><td>4.0</td><td>173.32</td><td>4.0</td><td>null</td><td>2.7565596e7</td><td>0.0</td><td>null</td><td>null</td><td>null</td><td>null</td></tr><tr><td>&quot;75%&quot;</td><td>null</td><td>&quot;11:33:49.644025&quot;</td><td>null</td><td>173.48</td><td>5.0</td><td>173.49</td><td>6.0</td><td>null</td><td>3.2540505e7</td><td>0.0</td><td>null</td><td>null</td><td>null</td><td>null</td></tr><tr><td>&quot;max&quot;</td><td>&quot;2023-05-11&quot;</td><td>&quot;11:59:59.882232&quot;</td><td>&quot;Z&quot;</td><td>173.87</td><td>64.0</td><td>173.89</td><td>53.0</td><td>&quot;R&quot;</td><td>3.7019465e7</td><td>4.0</td><td>null</td><td>&quot;N&quot;</td><td>&quot;AAPL&quot;</td><td>null</td></tr></tbody></table></div>"
      ],
      "text/plain": [
       "shape: (9, 15)\n",
       "┌────────────┬────────────┬────────────┬────────┬───┬───────────┬───────────┬──────────┬───────────┐\n",
       "│ statistic  ┆ DATE       ┆ TIME_M     ┆ EX     ┆ … ┆ QU_CANCEL ┆ QU_SOURCE ┆ SYM_ROOT ┆ SYM_SUFFI │\n",
       "│ ---        ┆ ---        ┆ ---        ┆ ---    ┆   ┆ ---       ┆ ---       ┆ ---      ┆ X         │\n",
       "│ str        ┆ str        ┆ str        ┆ str    ┆   ┆ str       ┆ str       ┆ str      ┆ ---       │\n",
       "│            ┆            ┆            ┆        ┆   ┆           ┆           ┆          ┆ str       │\n",
       "╞════════════╪════════════╪════════════╪════════╪═══╪═══════════╪═══════════╪══════════╪═══════════╡\n",
       "│ count      ┆ 346766     ┆ 346766     ┆ 346766 ┆ … ┆ 0         ┆ 346766    ┆ 346766   ┆ 0         │\n",
       "│ null_count ┆ 0          ┆ 0          ┆ 0      ┆ … ┆ 346766    ┆ 0         ┆ 0        ┆ 346766    │\n",
       "│ mean       ┆ null       ┆ 11:10:23.7 ┆ null   ┆ … ┆ null      ┆ null      ┆ null     ┆ null      │\n",
       "│            ┆            ┆ 56954      ┆        ┆   ┆           ┆           ┆          ┆           │\n",
       "│ std        ┆ null       ┆ null       ┆ null   ┆ … ┆ null      ┆ null      ┆ null     ┆ null      │\n",
       "│ min        ┆ 2023-05-11 ┆ 10:30:00.0 ┆ Z      ┆ … ┆ null      ┆ N         ┆ AAPL     ┆ null      │\n",
       "│            ┆            ┆ 02054      ┆        ┆   ┆           ┆           ┆          ┆           │\n",
       "│ 25%        ┆ null       ┆ 10:47:12.3 ┆ null   ┆ … ┆ null      ┆ null      ┆ null     ┆ null      │\n",
       "│            ┆            ┆ 83551      ┆        ┆   ┆           ┆           ┆          ┆           │\n",
       "│ 50%        ┆ null       ┆ 11:07:04.0 ┆ null   ┆ … ┆ null      ┆ null      ┆ null     ┆ null      │\n",
       "│            ┆            ┆ 75073      ┆        ┆   ┆           ┆           ┆          ┆           │\n",
       "│ 75%        ┆ null       ┆ 11:33:49.6 ┆ null   ┆ … ┆ null      ┆ null      ┆ null     ┆ null      │\n",
       "│            ┆            ┆ 44025      ┆        ┆   ┆           ┆           ┆          ┆           │\n",
       "│ max        ┆ 2023-05-11 ┆ 11:59:59.8 ┆ Z      ┆ … ┆ null      ┆ N         ┆ AAPL     ┆ null      │\n",
       "│            ┆            ┆ 82232      ┆        ┆   ┆           ┆           ┆          ┆           │\n",
       "└────────────┴────────────┴────────────┴────────┴───┴───────────┴───────────┴──────────┴───────────┘"
      ]
     },
     "execution_count": 10,
     "metadata": {},
     "output_type": "execute_result"
    }
   ],
   "source": [
    "df.describe()"
   ]
  },
  {
   "cell_type": "code",
   "execution_count": 11,
   "id": "5b0677a1",
   "metadata": {},
   "outputs": [
    {
     "data": {
      "text/html": [
       "<div><style>\n",
       ".dataframe > thead > tr,\n",
       ".dataframe > tbody > tr {\n",
       "  text-align: right;\n",
       "  white-space: pre-wrap;\n",
       "}\n",
       "</style>\n",
       "<small>shape: (3, 2)</small><table border=\"1\" class=\"dataframe\"><thead><tr><th>NATBBO_IND</th><th>count</th></tr><tr><td>i64</td><td>u32</td></tr></thead><tbody><tr><td>0</td><td>316595</td></tr><tr><td>4</td><td>459</td></tr><tr><td>2</td><td>29712</td></tr></tbody></table></div>"
      ],
      "text/plain": [
       "shape: (3, 2)\n",
       "┌────────────┬────────┐\n",
       "│ NATBBO_IND ┆ count  │\n",
       "│ ---        ┆ ---    │\n",
       "│ i64        ┆ u32    │\n",
       "╞════════════╪════════╡\n",
       "│ 0          ┆ 316595 │\n",
       "│ 4          ┆ 459    │\n",
       "│ 2          ┆ 29712  │\n",
       "└────────────┴────────┘"
      ]
     },
     "execution_count": 11,
     "metadata": {},
     "output_type": "execute_result"
    }
   ],
   "source": [
    "df['NATBBO_IND'].value_counts()"
   ]
  },
  {
   "cell_type": "markdown",
   "id": "22554a73",
   "metadata": {},
   "source": [
    "### National Best Bid-Offer (NBBO) - Legend \n",
    "‘0’ = No National BBO change - Current quote does not affect the BBO. No National appendage is required.\n",
    "\n",
    "‘1’ = No National BBO Can be Calculated- The National BBO cannot be calculated therefore vendors should show National BBO fields as blank. No Appendage is required.\n",
    "\n",
    "‘2’ = Short Form National BBO Appendage Attached – A new National BBO was generated as a result of the UTP participant’s quote update and the new information is contained in the short form appendage (NBBO FILE)\n",
    "\n",
    "‘3’ = Long Format of National BBO Appendage - A new National BBO is generated and the new BBO information is contained in the Long National BBO appendage (NBBO FILE)\n",
    "\n",
    "‘4’ = Quote Contains all NASD BBO Information - Current quote is itself the new NASD BBO. No NASD appendage is required.\n",
    "\n",
    "---\n",
    "In the case above, I will track all bid offer and size regardless of NATBBO indicator"
   ]
  },
  {
   "cell_type": "code",
   "execution_count": 12,
   "id": "eaba6850",
   "metadata": {},
   "outputs": [
    {
     "data": {
      "text/html": [
       "<div><style>\n",
       ".dataframe > thead > tr,\n",
       ".dataframe > tbody > tr {\n",
       "  text-align: right;\n",
       "  white-space: pre-wrap;\n",
       "}\n",
       "</style>\n",
       "<small>shape: (1, 2)</small><table border=\"1\" class=\"dataframe\"><thead><tr><th>QU_COND</th><th>count</th></tr><tr><td>str</td><td>u32</td></tr></thead><tbody><tr><td>&quot;R&quot;</td><td>346766</td></tr></tbody></table></div>"
      ],
      "text/plain": [
       "shape: (1, 2)\n",
       "┌─────────┬────────┐\n",
       "│ QU_COND ┆ count  │\n",
       "│ ---     ┆ ---    │\n",
       "│ str     ┆ u32    │\n",
       "╞═════════╪════════╡\n",
       "│ R       ┆ 346766 │\n",
       "└─────────┴────────┘"
      ]
     },
     "execution_count": 12,
     "metadata": {},
     "output_type": "execute_result"
    }
   ],
   "source": [
    "df['QU_COND'].value_counts()"
   ]
  },
  {
   "cell_type": "code",
   "execution_count": 13,
   "id": "d0038124",
   "metadata": {},
   "outputs": [
    {
     "data": {
      "text/plain": [
       "<bound method DataFrame.glimpse of shape: (346_766, 14)\n",
       "┌────────────┬──────────────────┬─────┬────────┬───┬───────────┬───────────┬──────────┬────────────┐\n",
       "│ DATE       ┆ TIME_M           ┆ EX  ┆ BID    ┆ … ┆ QU_CANCEL ┆ QU_SOURCE ┆ SYM_ROOT ┆ SYM_SUFFIX │\n",
       "│ ---        ┆ ---              ┆ --- ┆ ---    ┆   ┆ ---       ┆ ---       ┆ ---      ┆ ---        │\n",
       "│ str        ┆ time             ┆ str ┆ f64    ┆   ┆ str       ┆ str       ┆ str      ┆ str        │\n",
       "╞════════════╪══════════════════╪═════╪════════╪═══╪═══════════╪═══════════╪══════════╪════════════╡\n",
       "│ 2023-05-11 ┆ 10:30:00.0020548 ┆ Z   ┆ 172.67 ┆ … ┆ null      ┆ N         ┆ AAPL     ┆ null       │\n",
       "│            ┆ 82               ┆     ┆        ┆   ┆           ┆           ┆          ┆            │\n",
       "│ 2023-05-11 ┆ 10:30:00.0022733 ┆ Z   ┆ 172.67 ┆ … ┆ null      ┆ N         ┆ AAPL     ┆ null       │\n",
       "│            ┆ 81               ┆     ┆        ┆   ┆           ┆           ┆          ┆            │\n",
       "│ 2023-05-11 ┆ 10:30:00.0023583 ┆ Z   ┆ 172.67 ┆ … ┆ null      ┆ N         ┆ AAPL     ┆ null       │\n",
       "│            ┆ 41               ┆     ┆        ┆   ┆           ┆           ┆          ┆            │\n",
       "│ 2023-05-11 ┆ 10:30:00.0023715 ┆ Z   ┆ 172.67 ┆ … ┆ null      ┆ N         ┆ AAPL     ┆ null       │\n",
       "│            ┆ 80               ┆     ┆        ┆   ┆           ┆           ┆          ┆            │\n",
       "│ 2023-05-11 ┆ 10:30:00.0023971 ┆ Z   ┆ 172.67 ┆ … ┆ null      ┆ N         ┆ AAPL     ┆ null       │\n",
       "│            ┆ 18               ┆     ┆        ┆   ┆           ┆           ┆          ┆            │\n",
       "│ …          ┆ …                ┆ …   ┆ …      ┆ … ┆ …         ┆ …         ┆ …        ┆ …          │\n",
       "│ 2023-05-11 ┆ 11:59:59.6570336 ┆ Z   ┆ 173.58 ┆ … ┆ null      ┆ N         ┆ AAPL     ┆ null       │\n",
       "│            ┆ 06               ┆     ┆        ┆   ┆           ┆           ┆          ┆            │\n",
       "│ 2023-05-11 ┆ 11:59:59.6685706 ┆ Z   ┆ 173.58 ┆ … ┆ null      ┆ N         ┆ AAPL     ┆ null       │\n",
       "│            ┆ 73               ┆     ┆        ┆   ┆           ┆           ┆          ┆            │\n",
       "│ 2023-05-11 ┆ 11:59:59.6708472 ┆ Z   ┆ 173.58 ┆ … ┆ null      ┆ N         ┆ AAPL     ┆ null       │\n",
       "│            ┆ 90               ┆     ┆        ┆   ┆           ┆           ┆          ┆            │\n",
       "│ 2023-05-11 ┆ 11:59:59.6818756 ┆ Z   ┆ 173.58 ┆ … ┆ null      ┆ N         ┆ AAPL     ┆ null       │\n",
       "│            ┆ 00               ┆     ┆        ┆   ┆           ┆           ┆          ┆            │\n",
       "│ 2023-05-11 ┆ 11:59:59.8822328 ┆ Z   ┆ 173.58 ┆ … ┆ null      ┆ N         ┆ AAPL     ┆ null       │\n",
       "│            ┆ 10               ┆     ┆        ┆   ┆           ┆           ┆          ┆            │\n",
       "└────────────┴──────────────────┴─────┴────────┴───┴───────────┴───────────┴──────────┴────────────┘>"
      ]
     },
     "execution_count": 13,
     "metadata": {},
     "output_type": "execute_result"
    }
   ],
   "source": [
    "df.glimpse"
   ]
  },
  {
   "cell_type": "code",
   "execution_count": 14,
   "id": "c2233b79",
   "metadata": {},
   "outputs": [
    {
     "data": {
      "text/plain": [
       "['DATE',\n",
       " 'TIME_M',\n",
       " 'EX',\n",
       " 'BID',\n",
       " 'BIDSIZ',\n",
       " 'ASK',\n",
       " 'ASKSIZ',\n",
       " 'QU_COND',\n",
       " 'QU_SEQNUM',\n",
       " 'NATBBO_IND',\n",
       " 'QU_CANCEL',\n",
       " 'QU_SOURCE',\n",
       " 'SYM_ROOT',\n",
       " 'SYM_SUFFIX']"
      ]
     },
     "execution_count": 14,
     "metadata": {},
     "output_type": "execute_result"
    }
   ],
   "source": [
    "df.columns"
   ]
  },
  {
   "cell_type": "markdown",
   "id": "e7c0c5b9",
   "metadata": {},
   "source": [
    "# Try OBI strategy"
   ]
  },
  {
   "cell_type": "code",
   "execution_count": 15,
   "id": "183f1cd3",
   "metadata": {},
   "outputs": [],
   "source": [
    "class OBIVWAPStrategy:\n",
    "    def __init__(self, vwap_window: int, obi_threshold: float, initial_cash: float = 100_000):\n",
    "        self.vwap_window = vwap_window\n",
    "        self.obi_threshold = obi_threshold\n",
    "        self.cash = initial_cash\n",
    "        self.position = 0\n",
    "        self.account_balance = []\n",
    "\n",
    "    def calculate_vwap(self, df: pl.DataFrame) -> pl.DataFrame:\n",
    "        # Calculate MID_PRICE\n",
    "        df = df.with_columns(\n",
    "            ((pl.col(\"BID\") + pl.col(\"ASK\")) / 2).alias(\"MID_PRICE\")\n",
    "        )\n",
    "        # Calculate Volume\n",
    "        df = df.with_columns(\n",
    "            (pl.col(\"BIDSIZ\") + pl.col(\"ASKSIZ\")).alias(\"Volume\")\n",
    "        )\n",
    "        # Calculate VWAP using rolling window\n",
    "        df = df.with_columns(\n",
    "            (\n",
    "                (pl.col(\"MID_PRICE\") * pl.col(\"Volume\"))\n",
    "                .rolling_sum(window_size=self.vwap_window)\n",
    "                / pl.col(\"Volume\").rolling_sum(window_size=self.vwap_window)\n",
    "            ).alias(\"VWAP\")\n",
    "        )\n",
    "        return df\n",
    "\n",
    "    def calculate_obi(self, df: pl.DataFrame) -> pl.DataFrame:\n",
    "        # Calculate Order Book Imbalance (OBI)\n",
    "        df = df.with_columns(\n",
    "            (\n",
    "                (pl.col(\"BIDSIZ\") - pl.col(\"ASKSIZ\"))\n",
    "                / (pl.col(\"BIDSIZ\") + pl.col(\"ASKSIZ\"))\n",
    "            ).alias(\"OBI\")\n",
    "        )\n",
    "        return df\n",
    "\n",
    "    def generate_signals(self, df: pl.DataFrame) -> pl.DataFrame:\n",
    "        # Calculate VWAP and OBI\n",
    "        df = self.calculate_vwap(df)\n",
    "        df = self.calculate_obi(df)\n",
    "\n",
    "        # Generate signals based on OBI threshold\n",
    "        df = df.with_columns(\n",
    "            pl.when(pl.col(\"OBI\") > self.obi_threshold)\n",
    "            .then(1)  # Buy signal\n",
    "            .when(pl.col(\"OBI\") < -self.obi_threshold)\n",
    "            .then(-1)  # Sell signal\n",
    "            .otherwise(0)  # No signal\n",
    "            .alias(\"Signal\")\n",
    "        )\n",
    "        return df\n",
    "\n",
    "    def backtest(self, df: pl.DataFrame) -> pl.DataFrame:\n",
    "        # Initialize account balance tracking\n",
    "        account_balance = []\n",
    "\n",
    "        # Iterate over rows to simulate trading\n",
    "        for row in df.iter_rows(named=True):\n",
    "            if row[\"Signal\"] == 1 and self.cash >= row[\"ASK\"] * 100 and self.position <= 1:\n",
    "                # Buy 100 shares\n",
    "                self.position = 100\n",
    "                self.cash -= row[\"ASK\"] * 100\n",
    "            elif row[\"Signal\"] == -1 and self.position > -1:\n",
    "                # Sell 100 shares\n",
    "                self.position = -100\n",
    "                self.cash += row[\"BID\"] * 100\n",
    "            elif row[\"Signal\"] == 0 and self.position != 0:\n",
    "                # Close position\n",
    "                if self.position > 0:\n",
    "                    self.cash += row[\"BID\"] * self.position\n",
    "                else:\n",
    "                    self.cash -= row[\"ASK\"] * abs(self.position)\n",
    "                self.position = 0\n",
    "\n",
    "            # Record account balance\n",
    "            account_balance.append(self.cash + self.position * (row[\"ASK\"] if self.position > 0 else row[\"BID\"]))\n",
    "\n",
    "        # Add account balance to the DataFrame\n",
    "        df = df.with_columns(pl.Series(\"Account_Balance\", account_balance))\n",
    "        return df"
   ]
  },
  {
   "cell_type": "code",
   "execution_count": 16,
   "id": "38149786",
   "metadata": {},
   "outputs": [
    {
     "name": "stdout",
     "output_type": "stream",
     "text": [
      "shape: (5, 20)\n",
      "┌────────────┬────────────────────┬─────┬────────┬───┬──────┬───────────┬────────┬─────────────────┐\n",
      "│ DATE       ┆ TIME_M             ┆ EX  ┆ BID    ┆ … ┆ VWAP ┆ OBI       ┆ Signal ┆ Account_Balance │\n",
      "│ ---        ┆ ---                ┆ --- ┆ ---    ┆   ┆ ---  ┆ ---       ┆ ---    ┆ ---             │\n",
      "│ str        ┆ time               ┆ str ┆ f64    ┆   ┆ f64  ┆ f64       ┆ i32    ┆ f64             │\n",
      "╞════════════╪════════════════════╪═════╪════════╪═══╪══════╪═══════════╪════════╪═════════════════╡\n",
      "│ 2023-05-11 ┆ 10:30:00.002054882 ┆ Z   ┆ 172.67 ┆ … ┆ null ┆ 0.428571  ┆ 1      ┆ 100000.0        │\n",
      "│ 2023-05-11 ┆ 10:30:00.002273381 ┆ Z   ┆ 172.67 ┆ … ┆ null ┆ 0.428571  ┆ 1      ┆ 100000.0        │\n",
      "│ 2023-05-11 ┆ 10:30:00.002358341 ┆ Z   ┆ 172.67 ┆ … ┆ null ┆ 0.2       ┆ 0      ┆ 99999.0         │\n",
      "│ 2023-05-11 ┆ 10:30:00.002371580 ┆ Z   ┆ 172.67 ┆ … ┆ null ┆ 0.0       ┆ 0      ┆ 99999.0         │\n",
      "│ 2023-05-11 ┆ 10:30:00.002397118 ┆ Z   ┆ 172.67 ┆ … ┆ null ┆ -0.333333 ┆ -1     ┆ 99999.0         │\n",
      "└────────────┴────────────────────┴─────┴────────┴───┴──────┴───────────┴────────┴─────────────────┘\n"
     ]
    }
   ],
   "source": [
    "strategy = OBIVWAPStrategy(vwap_window=50, obi_threshold=0.2)\n",
    "signal_data = strategy.generate_signals(df)\n",
    "backtest_data = strategy.backtest(signal_data)\n",
    "\n",
    "print(backtest_data.head())\n"
   ]
  },
  {
   "cell_type": "code",
   "execution_count": 17,
   "id": "91acf913",
   "metadata": {},
   "outputs": [
    {
     "data": {
      "text/html": [
       "<div><style>\n",
       ".dataframe > thead > tr,\n",
       ".dataframe > tbody > tr {\n",
       "  text-align: right;\n",
       "  white-space: pre-wrap;\n",
       "}\n",
       "</style>\n",
       "<small>shape: (9, 2)</small><table border=\"1\" class=\"dataframe\"><thead><tr><th>statistic</th><th>value</th></tr><tr><td>str</td><td>f64</td></tr></thead><tbody><tr><td>&quot;count&quot;</td><td>346766.0</td></tr><tr><td>&quot;null_count&quot;</td><td>0.0</td></tr><tr><td>&quot;mean&quot;</td><td>597322.933682</td></tr><tr><td>&quot;std&quot;</td><td>380869.031193</td></tr><tr><td>&quot;min&quot;</td><td>4275.0</td></tr><tr><td>&quot;25%&quot;</td><td>214422.0</td></tr><tr><td>&quot;50%&quot;</td><td>609627.0</td></tr><tr><td>&quot;75%&quot;</td><td>937708.0</td></tr><tr><td>&quot;max&quot;</td><td>1.384521e6</td></tr></tbody></table></div>"
      ],
      "text/plain": [
       "shape: (9, 2)\n",
       "┌────────────┬───────────────┐\n",
       "│ statistic  ┆ value         │\n",
       "│ ---        ┆ ---           │\n",
       "│ str        ┆ f64           │\n",
       "╞════════════╪═══════════════╡\n",
       "│ count      ┆ 346766.0      │\n",
       "│ null_count ┆ 0.0           │\n",
       "│ mean       ┆ 597322.933682 │\n",
       "│ std        ┆ 380869.031193 │\n",
       "│ min        ┆ 4275.0        │\n",
       "│ 25%        ┆ 214422.0      │\n",
       "│ 50%        ┆ 609627.0      │\n",
       "│ 75%        ┆ 937708.0      │\n",
       "│ max        ┆ 1.384521e6    │\n",
       "└────────────┴───────────────┘"
      ]
     },
     "execution_count": 17,
     "metadata": {},
     "output_type": "execute_result"
    }
   ],
   "source": [
    "backtest_data[\"Account_Balance\"].describe()"
   ]
  },
  {
   "cell_type": "code",
   "execution_count": 18,
   "id": "0abb9451",
   "metadata": {},
   "outputs": [
    {
     "data": {
      "text/plain": [
       "['DATE',\n",
       " 'TIME_M',\n",
       " 'EX',\n",
       " 'BID',\n",
       " 'BIDSIZ',\n",
       " 'ASK',\n",
       " 'ASKSIZ',\n",
       " 'QU_COND',\n",
       " 'QU_SEQNUM',\n",
       " 'NATBBO_IND',\n",
       " 'QU_CANCEL',\n",
       " 'QU_SOURCE',\n",
       " 'SYM_ROOT',\n",
       " 'SYM_SUFFIX',\n",
       " 'MID_PRICE',\n",
       " 'Volume',\n",
       " 'VWAP',\n",
       " 'OBI',\n",
       " 'Signal',\n",
       " 'Account_Balance']"
      ]
     },
     "execution_count": 18,
     "metadata": {},
     "output_type": "execute_result"
    }
   ],
   "source": [
    "backtest_data.columns"
   ]
  },
  {
   "cell_type": "code",
   "execution_count": 19,
   "id": "4560dc03",
   "metadata": {},
   "outputs": [],
   "source": [
    "# df_tmp = backtest_data.filter(pl.col(\"VWAP\").is_not_null())"
   ]
  },
  {
   "cell_type": "code",
   "execution_count": 20,
   "id": "b0d1cebc",
   "metadata": {},
   "outputs": [
    {
     "data": {
      "text/html": [
       "<div><style>\n",
       ".dataframe > thead > tr,\n",
       ".dataframe > tbody > tr {\n",
       "  text-align: right;\n",
       "  white-space: pre-wrap;\n",
       "}\n",
       "</style>\n",
       "<small>shape: (9, 2)</small><table border=\"1\" class=\"dataframe\"><thead><tr><th>statistic</th><th>value</th></tr><tr><td>str</td><td>f64</td></tr></thead><tbody><tr><td>&quot;count&quot;</td><td>346766.0</td></tr><tr><td>&quot;null_count&quot;</td><td>0.0</td></tr><tr><td>&quot;mean&quot;</td><td>-0.0069</td></tr><tr><td>&quot;std&quot;</td><td>0.407902</td></tr><tr><td>&quot;min&quot;</td><td>-0.962963</td></tr><tr><td>&quot;25%&quot;</td><td>-0.333333</td></tr><tr><td>&quot;50%&quot;</td><td>0.0</td></tr><tr><td>&quot;75%&quot;</td><td>0.333333</td></tr><tr><td>&quot;max&quot;</td><td>0.967213</td></tr></tbody></table></div>"
      ],
      "text/plain": [
       "shape: (9, 2)\n",
       "┌────────────┬───────────┐\n",
       "│ statistic  ┆ value     │\n",
       "│ ---        ┆ ---       │\n",
       "│ str        ┆ f64       │\n",
       "╞════════════╪═══════════╡\n",
       "│ count      ┆ 346766.0  │\n",
       "│ null_count ┆ 0.0       │\n",
       "│ mean       ┆ -0.0069   │\n",
       "│ std        ┆ 0.407902  │\n",
       "│ min        ┆ -0.962963 │\n",
       "│ 25%        ┆ -0.333333 │\n",
       "│ 50%        ┆ 0.0       │\n",
       "│ 75%        ┆ 0.333333  │\n",
       "│ max        ┆ 0.967213  │\n",
       "└────────────┴───────────┘"
      ]
     },
     "execution_count": 20,
     "metadata": {},
     "output_type": "execute_result"
    }
   ],
   "source": [
    "backtest_data['OBI'].describe()"
   ]
  },
  {
   "cell_type": "code",
   "execution_count": 21,
   "id": "a04f4619",
   "metadata": {},
   "outputs": [
    {
     "data": {
      "text/html": [
       "<div><style>\n",
       ".dataframe > thead > tr,\n",
       ".dataframe > tbody > tr {\n",
       "  text-align: right;\n",
       "  white-space: pre-wrap;\n",
       "}\n",
       "</style>\n",
       "<small>shape: (346_717, 20)</small><table border=\"1\" class=\"dataframe\"><thead><tr><th>DATE</th><th>TIME_M</th><th>EX</th><th>BID</th><th>BIDSIZ</th><th>ASK</th><th>ASKSIZ</th><th>QU_COND</th><th>QU_SEQNUM</th><th>NATBBO_IND</th><th>QU_CANCEL</th><th>QU_SOURCE</th><th>SYM_ROOT</th><th>SYM_SUFFIX</th><th>MID_PRICE</th><th>Volume</th><th>VWAP</th><th>OBI</th><th>Signal</th><th>Account_Balance</th></tr><tr><td>str</td><td>time</td><td>str</td><td>f64</td><td>i64</td><td>f64</td><td>i64</td><td>str</td><td>i64</td><td>i64</td><td>str</td><td>str</td><td>str</td><td>str</td><td>f64</td><td>i64</td><td>f64</td><td>f64</td><td>i32</td><td>f64</td></tr></thead><tbody><tr><td>&quot;2023-05-11&quot;</td><td>10:30:00.048115245</td><td>&quot;Z&quot;</td><td>172.66</td><td>1</td><td>172.67</td><td>5</td><td>&quot;R&quot;</td><td>18780753</td><td>0</td><td>null</td><td>&quot;N&quot;</td><td>&quot;AAPL&quot;</td><td>null</td><td>172.665</td><td>6</td><td>172.673403</td><td>-0.666667</td><td>-1</td><td>82720.0</td></tr><tr><td>&quot;2023-05-11&quot;</td><td>10:30:00.048210867</td><td>&quot;Z&quot;</td><td>172.66</td><td>1</td><td>172.67</td><td>6</td><td>&quot;R&quot;</td><td>18780758</td><td>0</td><td>null</td><td>&quot;N&quot;</td><td>&quot;AAPL&quot;</td><td>null</td><td>172.665</td><td>7</td><td>172.673194</td><td>-0.714286</td><td>-1</td><td>82720.0</td></tr><tr><td>&quot;2023-05-11&quot;</td><td>10:30:00.048252344</td><td>&quot;Z&quot;</td><td>172.65</td><td>4</td><td>172.67</td><td>6</td><td>&quot;R&quot;</td><td>18780760</td><td>0</td><td>null</td><td>&quot;N&quot;</td><td>&quot;AAPL&quot;</td><td>null</td><td>172.66</td><td>10</td><td>172.672766</td><td>-0.2</td><td>0</td><td>82719.0</td></tr><tr><td>&quot;2023-05-11&quot;</td><td>10:30:00.050295683</td><td>&quot;Z&quot;</td><td>172.65</td><td>5</td><td>172.67</td><td>6</td><td>&quot;R&quot;</td><td>18780809</td><td>0</td><td>null</td><td>&quot;N&quot;</td><td>&quot;AAPL&quot;</td><td>null</td><td>172.66</td><td>11</td><td>172.672326</td><td>-0.090909</td><td>0</td><td>82719.0</td></tr><tr><td>&quot;2023-05-11&quot;</td><td>10:30:00.050368773</td><td>&quot;Z&quot;</td><td>172.66</td><td>1</td><td>172.67</td><td>6</td><td>&quot;R&quot;</td><td>18780813</td><td>0</td><td>null</td><td>&quot;N&quot;</td><td>&quot;AAPL&quot;</td><td>null</td><td>172.665</td><td>7</td><td>172.672147</td><td>-0.714286</td><td>-1</td><td>82719.0</td></tr><tr><td>&hellip;</td><td>&hellip;</td><td>&hellip;</td><td>&hellip;</td><td>&hellip;</td><td>&hellip;</td><td>&hellip;</td><td>&hellip;</td><td>&hellip;</td><td>&hellip;</td><td>&hellip;</td><td>&hellip;</td><td>&hellip;</td><td>&hellip;</td><td>&hellip;</td><td>&hellip;</td><td>&hellip;</td><td>&hellip;</td><td>&hellip;</td><td>&hellip;</td></tr><tr><td>&quot;2023-05-11&quot;</td><td>11:59:59.657033606</td><td>&quot;Z&quot;</td><td>173.58</td><td>6</td><td>173.59</td><td>1</td><td>&quot;R&quot;</td><td>37018932</td><td>0</td><td>null</td><td>&quot;N&quot;</td><td>&quot;AAPL&quot;</td><td>null</td><td>173.585</td><td>7</td><td>173.585</td><td>0.714286</td><td>1</td><td>227425.0</td></tr><tr><td>&quot;2023-05-11&quot;</td><td>11:59:59.668570673</td><td>&quot;Z&quot;</td><td>173.58</td><td>7</td><td>173.59</td><td>1</td><td>&quot;R&quot;</td><td>37019118</td><td>0</td><td>null</td><td>&quot;N&quot;</td><td>&quot;AAPL&quot;</td><td>null</td><td>173.585</td><td>8</td><td>173.585</td><td>0.75</td><td>1</td><td>227425.0</td></tr><tr><td>&quot;2023-05-11&quot;</td><td>11:59:59.670847290</td><td>&quot;Z&quot;</td><td>173.58</td><td>8</td><td>173.59</td><td>1</td><td>&quot;R&quot;</td><td>37019136</td><td>0</td><td>null</td><td>&quot;N&quot;</td><td>&quot;AAPL&quot;</td><td>null</td><td>173.585</td><td>9</td><td>173.585</td><td>0.777778</td><td>1</td><td>227425.0</td></tr><tr><td>&quot;2023-05-11&quot;</td><td>11:59:59.681875600</td><td>&quot;Z&quot;</td><td>173.58</td><td>7</td><td>173.59</td><td>1</td><td>&quot;R&quot;</td><td>37019176</td><td>0</td><td>null</td><td>&quot;N&quot;</td><td>&quot;AAPL&quot;</td><td>null</td><td>173.585</td><td>8</td><td>173.585</td><td>0.75</td><td>1</td><td>227425.0</td></tr><tr><td>&quot;2023-05-11&quot;</td><td>11:59:59.882232810</td><td>&quot;Z&quot;</td><td>173.58</td><td>6</td><td>173.59</td><td>1</td><td>&quot;R&quot;</td><td>37019465</td><td>0</td><td>null</td><td>&quot;N&quot;</td><td>&quot;AAPL&quot;</td><td>null</td><td>173.585</td><td>7</td><td>173.585</td><td>0.714286</td><td>1</td><td>227425.0</td></tr></tbody></table></div>"
      ],
      "text/plain": [
       "shape: (346_717, 20)\n",
       "┌────────────┬────────────────┬─────┬────────┬───┬────────────┬───────────┬────────┬───────────────┐\n",
       "│ DATE       ┆ TIME_M         ┆ EX  ┆ BID    ┆ … ┆ VWAP       ┆ OBI       ┆ Signal ┆ Account_Balan │\n",
       "│ ---        ┆ ---            ┆ --- ┆ ---    ┆   ┆ ---        ┆ ---       ┆ ---    ┆ ce            │\n",
       "│ str        ┆ time           ┆ str ┆ f64    ┆   ┆ f64        ┆ f64       ┆ i32    ┆ ---           │\n",
       "│            ┆                ┆     ┆        ┆   ┆            ┆           ┆        ┆ f64           │\n",
       "╞════════════╪════════════════╪═════╪════════╪═══╪════════════╪═══════════╪════════╪═══════════════╡\n",
       "│ 2023-05-11 ┆ 10:30:00.04811 ┆ Z   ┆ 172.66 ┆ … ┆ 172.673403 ┆ -0.666667 ┆ -1     ┆ 82720.0       │\n",
       "│            ┆ 5245           ┆     ┆        ┆   ┆            ┆           ┆        ┆               │\n",
       "│ 2023-05-11 ┆ 10:30:00.04821 ┆ Z   ┆ 172.66 ┆ … ┆ 172.673194 ┆ -0.714286 ┆ -1     ┆ 82720.0       │\n",
       "│            ┆ 0867           ┆     ┆        ┆   ┆            ┆           ┆        ┆               │\n",
       "│ 2023-05-11 ┆ 10:30:00.04825 ┆ Z   ┆ 172.65 ┆ … ┆ 172.672766 ┆ -0.2      ┆ 0      ┆ 82719.0       │\n",
       "│            ┆ 2344           ┆     ┆        ┆   ┆            ┆           ┆        ┆               │\n",
       "│ 2023-05-11 ┆ 10:30:00.05029 ┆ Z   ┆ 172.65 ┆ … ┆ 172.672326 ┆ -0.090909 ┆ 0      ┆ 82719.0       │\n",
       "│            ┆ 5683           ┆     ┆        ┆   ┆            ┆           ┆        ┆               │\n",
       "│ 2023-05-11 ┆ 10:30:00.05036 ┆ Z   ┆ 172.66 ┆ … ┆ 172.672147 ┆ -0.714286 ┆ -1     ┆ 82719.0       │\n",
       "│            ┆ 8773           ┆     ┆        ┆   ┆            ┆           ┆        ┆               │\n",
       "│ …          ┆ …              ┆ …   ┆ …      ┆ … ┆ …          ┆ …         ┆ …      ┆ …             │\n",
       "│ 2023-05-11 ┆ 11:59:59.65703 ┆ Z   ┆ 173.58 ┆ … ┆ 173.585    ┆ 0.714286  ┆ 1      ┆ 227425.0      │\n",
       "│            ┆ 3606           ┆     ┆        ┆   ┆            ┆           ┆        ┆               │\n",
       "│ 2023-05-11 ┆ 11:59:59.66857 ┆ Z   ┆ 173.58 ┆ … ┆ 173.585    ┆ 0.75      ┆ 1      ┆ 227425.0      │\n",
       "│            ┆ 0673           ┆     ┆        ┆   ┆            ┆           ┆        ┆               │\n",
       "│ 2023-05-11 ┆ 11:59:59.67084 ┆ Z   ┆ 173.58 ┆ … ┆ 173.585    ┆ 0.777778  ┆ 1      ┆ 227425.0      │\n",
       "│            ┆ 7290           ┆     ┆        ┆   ┆            ┆           ┆        ┆               │\n",
       "│ 2023-05-11 ┆ 11:59:59.68187 ┆ Z   ┆ 173.58 ┆ … ┆ 173.585    ┆ 0.75      ┆ 1      ┆ 227425.0      │\n",
       "│            ┆ 5600           ┆     ┆        ┆   ┆            ┆           ┆        ┆               │\n",
       "│ 2023-05-11 ┆ 11:59:59.88223 ┆ Z   ┆ 173.58 ┆ … ┆ 173.585    ┆ 0.714286  ┆ 1      ┆ 227425.0      │\n",
       "│            ┆ 2810           ┆     ┆        ┆   ┆            ┆           ┆        ┆               │\n",
       "└────────────┴────────────────┴─────┴────────┴───┴────────────┴───────────┴────────┴───────────────┘"
      ]
     },
     "execution_count": 21,
     "metadata": {},
     "output_type": "execute_result"
    }
   ],
   "source": [
    "df_tmp = backtest_data.filter(pl.col(\"VWAP\").is_not_null())\n",
    "df_tmp"
   ]
  },
  {
   "cell_type": "code",
   "execution_count": 39,
   "id": "e4026564",
   "metadata": {},
   "outputs": [
    {
     "data": {
      "text/html": [
       "\n",
       "<style>\n",
       "  #altair-viz-8a4effb6ca5d4e1e9593db02f31e4873.vega-embed {\n",
       "    width: 100%;\n",
       "    display: flex;\n",
       "  }\n",
       "\n",
       "  #altair-viz-8a4effb6ca5d4e1e9593db02f31e4873.vega-embed details,\n",
       "  #altair-viz-8a4effb6ca5d4e1e9593db02f31e4873.vega-embed details summary {\n",
       "    position: relative;\n",
       "  }\n",
       "</style>\n",
       "<div id=\"altair-viz-8a4effb6ca5d4e1e9593db02f31e4873\"></div>\n",
       "<script type=\"text/javascript\">\n",
       "  var VEGA_DEBUG = (typeof VEGA_DEBUG == \"undefined\") ? {} : VEGA_DEBUG;\n",
       "  (function(spec, embedOpt){\n",
       "    let outputDiv = document.currentScript.previousElementSibling;\n",
       "    if (outputDiv.id !== \"altair-viz-8a4effb6ca5d4e1e9593db02f31e4873\") {\n",
       "      outputDiv = document.getElementById(\"altair-viz-8a4effb6ca5d4e1e9593db02f31e4873\");\n",
       "    }\n",
       "\n",
       "    const paths = {\n",
       "      \"vega\": \"https://cdn.jsdelivr.net/npm/vega@5?noext\",\n",
       "      \"vega-lib\": \"https://cdn.jsdelivr.net/npm/vega-lib?noext\",\n",
       "      \"vega-lite\": \"https://cdn.jsdelivr.net/npm/vega-lite@5.20.1?noext\",\n",
       "      \"vega-embed\": \"https://cdn.jsdelivr.net/npm/vega-embed@6?noext\",\n",
       "    };\n",
       "\n",
       "    function maybeLoadScript(lib, version) {\n",
       "      var key = `${lib.replace(\"-\", \"\")}_version`;\n",
       "      return (VEGA_DEBUG[key] == version) ?\n",
       "        Promise.resolve(paths[lib]) :\n",
       "        new Promise(function(resolve, reject) {\n",
       "          var s = document.createElement('script');\n",
       "          document.getElementsByTagName(\"head\")[0].appendChild(s);\n",
       "          s.async = true;\n",
       "          s.onload = () => {\n",
       "            VEGA_DEBUG[key] = version;\n",
       "            return resolve(paths[lib]);\n",
       "          };\n",
       "          s.onerror = () => reject(`Error loading script: ${paths[lib]}`);\n",
       "          s.src = paths[lib];\n",
       "        });\n",
       "    }\n",
       "\n",
       "    function showError(err) {\n",
       "      outputDiv.innerHTML = `<div class=\"error\" style=\"color:red;\">${err}</div>`;\n",
       "      throw err;\n",
       "    }\n",
       "\n",
       "    function displayChart(vegaEmbed) {\n",
       "      vegaEmbed(outputDiv, spec, embedOpt)\n",
       "        .catch(err => showError(`Javascript Error: ${err.message}<br>This usually means there's a typo in your chart specification. See the javascript console for the full traceback.`));\n",
       "    }\n",
       "\n",
       "    if(typeof define === \"function\" && define.amd) {\n",
       "      requirejs.config({paths});\n",
       "      let deps = [\"vega-embed\"];\n",
       "      require(deps, displayChart, err => showError(`Error loading script: ${err.message}`));\n",
       "    } else {\n",
       "      maybeLoadScript(\"vega\", \"5\")\n",
       "        .then(() => maybeLoadScript(\"vega-lite\", \"5.20.1\"))\n",
       "        .then(() => maybeLoadScript(\"vega-embed\", \"6\"))\n",
       "        .catch(showError)\n",
       "        .then(() => displayChart(vegaEmbed));\n",
       "    }\n",
       "  })({\"config\": {\"view\": {\"continuousWidth\": 300, \"continuousHeight\": 300}}, \"data\": {\"name\": \"data-61e4bfe05cbb6dce69511f90cb1fa31b\"}, \"mark\": {\"type\": \"line\", \"tooltip\": true}, \"encoding\": {\"x\": {\"field\": \"QU_SEQNUM\", \"type\": \"quantitative\"}, \"y\": {\"field\": \"OBI\", \"type\": \"quantitative\"}}, \"params\": [{\"name\": \"param_15\", \"select\": {\"type\": \"interval\", \"encodings\": [\"x\", \"y\"]}, \"bind\": \"scales\"}], \"$schema\": \"https://vega.github.io/schema/vega-lite/v5.20.1.json\", \"datasets\": {\"data-61e4bfe05cbb6dce69511f90cb1fa31b\": [{\"QU_SEQNUM\": 18780753, \"OBI\": -0.6666666666666666}, {\"QU_SEQNUM\": 18780758, \"OBI\": -0.7142857142857143}, {\"QU_SEQNUM\": 18780760, \"OBI\": -0.2}, {\"QU_SEQNUM\": 18780809, \"OBI\": -0.09090909090909091}, {\"QU_SEQNUM\": 18780813, \"OBI\": -0.7142857142857143}, {\"QU_SEQNUM\": 18780845, \"OBI\": -0.6666666666666666}, {\"QU_SEQNUM\": 18780866, \"OBI\": -0.6}, {\"QU_SEQNUM\": 18780868, \"OBI\": -0.5}, {\"QU_SEQNUM\": 18780880, \"OBI\": -0.2}, {\"QU_SEQNUM\": 18780881, \"OBI\": 0.0}, {\"QU_SEQNUM\": 18780882, \"OBI\": 0.3333333333333333}, {\"QU_SEQNUM\": 18780901, \"OBI\": -0.5}, {\"QU_SEQNUM\": 18780927, \"OBI\": -0.3333333333333333}, {\"QU_SEQNUM\": 18780937, \"OBI\": -0.09090909090909091}, {\"QU_SEQNUM\": 18781289, \"OBI\": 0.6666666666666666}, {\"QU_SEQNUM\": 18781291, \"OBI\": 0.42857142857142855}, {\"QU_SEQNUM\": 18781294, \"OBI\": 0.2}, {\"QU_SEQNUM\": 18781295, \"OBI\": 0.0}, {\"QU_SEQNUM\": 18781308, \"OBI\": 0.3333333333333333}, {\"QU_SEQNUM\": 18781309, \"OBI\": 0.5}, {\"QU_SEQNUM\": 18781422, \"OBI\": 0.3333333333333333}, {\"QU_SEQNUM\": 18781427, \"OBI\": -0.5}, {\"QU_SEQNUM\": 18781430, \"OBI\": -0.5}, {\"QU_SEQNUM\": 18781435, \"OBI\": -0.3333333333333333}, {\"QU_SEQNUM\": 18781522, \"OBI\": -0.3333333333333333}, {\"QU_SEQNUM\": 18781528, \"OBI\": 0.5}, {\"QU_SEQNUM\": 18781576, \"OBI\": -0.3333333333333333}, {\"QU_SEQNUM\": 18781592, \"OBI\": -0.3333333333333333}, {\"QU_SEQNUM\": 18781610, \"OBI\": -0.3333333333333333}, {\"QU_SEQNUM\": 18781622, \"OBI\": 0.2}, {\"QU_SEQNUM\": 18781630, \"OBI\": 0.0}, {\"QU_SEQNUM\": 18781636, \"OBI\": -0.3333333333333333}, {\"QU_SEQNUM\": 18781639, \"OBI\": 0.0}, {\"QU_SEQNUM\": 18781643, \"OBI\": -0.3333333333333333}, {\"QU_SEQNUM\": 18781645, \"OBI\": 0.0}, {\"QU_SEQNUM\": 18781649, \"OBI\": 0.3333333333333333}, {\"QU_SEQNUM\": 18781653, \"OBI\": -0.5}, {\"QU_SEQNUM\": 18781661, \"OBI\": 0.3333333333333333}, {\"QU_SEQNUM\": 18781668, \"OBI\": 0.0}, {\"QU_SEQNUM\": 18781679, \"OBI\": -0.3333333333333333}, {\"QU_SEQNUM\": 18781705, \"OBI\": -0.3333333333333333}, {\"QU_SEQNUM\": 18781742, \"OBI\": -0.3333333333333333}, {\"QU_SEQNUM\": 18781763, \"OBI\": 0.0}, {\"QU_SEQNUM\": 18781764, \"OBI\": 0.3333333333333333}, {\"QU_SEQNUM\": 18781766, \"OBI\": -0.5}, {\"QU_SEQNUM\": 18781769, \"OBI\": 0.3333333333333333}, {\"QU_SEQNUM\": 18781773, \"OBI\": 0.0}, {\"QU_SEQNUM\": 18781911, \"OBI\": -0.3333333333333333}, {\"QU_SEQNUM\": 18781919, \"OBI\": 0.0}, {\"QU_SEQNUM\": 18781920, \"OBI\": 0.3333333333333333}, {\"QU_SEQNUM\": 18781955, \"OBI\": 0.0}, {\"QU_SEQNUM\": 18781964, \"OBI\": 0.0}, {\"QU_SEQNUM\": 18782005, \"OBI\": -0.3333333333333333}, {\"QU_SEQNUM\": 18782009, \"OBI\": -0.5}, {\"QU_SEQNUM\": 18782031, \"OBI\": -0.3333333333333333}, {\"QU_SEQNUM\": 18782035, \"OBI\": -0.3333333333333333}, {\"QU_SEQNUM\": 18782044, \"OBI\": 0.0}, {\"QU_SEQNUM\": 18782047, \"OBI\": 0.3333333333333333}, {\"QU_SEQNUM\": 18782063, \"OBI\": 0.0}, {\"QU_SEQNUM\": 18782064, \"OBI\": 0.0}, {\"QU_SEQNUM\": 18782072, \"OBI\": 0.0}, {\"QU_SEQNUM\": 18782080, \"OBI\": 0.3333333333333333}, {\"QU_SEQNUM\": 18782116, \"OBI\": -0.5}, {\"QU_SEQNUM\": 18782142, \"OBI\": -0.3333333333333333}, {\"QU_SEQNUM\": 18782167, \"OBI\": -0.3333333333333333}, {\"QU_SEQNUM\": 18782249, \"OBI\": -0.3333333333333333}, {\"QU_SEQNUM\": 18782255, \"OBI\": 0.5}, {\"QU_SEQNUM\": 18782259, \"OBI\": 0.5}, {\"QU_SEQNUM\": 18782273, \"OBI\": 0.3333333333333333}, {\"QU_SEQNUM\": 18782276, \"OBI\": 0.5}, {\"QU_SEQNUM\": 18782293, \"OBI\": -0.3333333333333333}, {\"QU_SEQNUM\": 18782296, \"OBI\": -0.3333333333333333}, {\"QU_SEQNUM\": 18782341, \"OBI\": -0.3333333333333333}, {\"QU_SEQNUM\": 18782388, \"OBI\": 0.3333333333333333}, {\"QU_SEQNUM\": 18782411, \"OBI\": 0.3333333333333333}, {\"QU_SEQNUM\": 18782416, \"OBI\": 0.5}, {\"QU_SEQNUM\": 18782419, \"OBI\": -0.3333333333333333}, {\"QU_SEQNUM\": 18782432, \"OBI\": -0.5}, {\"QU_SEQNUM\": 18782439, \"OBI\": -0.7142857142857143}, {\"QU_SEQNUM\": 18782445, \"OBI\": 0.0}, {\"QU_SEQNUM\": 18782449, \"OBI\": -0.3333333333333333}, {\"QU_SEQNUM\": 18782450, \"OBI\": -0.3333333333333333}, {\"QU_SEQNUM\": 18782452, \"OBI\": 0.0}, {\"QU_SEQNUM\": 18782453, \"OBI\": -0.3333333333333333}, {\"QU_SEQNUM\": 18782458, \"OBI\": -0.3333333333333333}, {\"QU_SEQNUM\": 18782460, \"OBI\": 0.0}, {\"QU_SEQNUM\": 18782464, \"OBI\": -0.7142857142857143}, {\"QU_SEQNUM\": 18782465, \"OBI\": -0.7142857142857143}, {\"QU_SEQNUM\": 18782509, \"OBI\": -0.5}, {\"QU_SEQNUM\": 18782574, \"OBI\": 0.3333333333333333}, {\"QU_SEQNUM\": 18782576, \"OBI\": 0.0}, {\"QU_SEQNUM\": 18782595, \"OBI\": -0.7142857142857143}, {\"QU_SEQNUM\": 18782598, \"OBI\": -0.5}, {\"QU_SEQNUM\": 18782628, \"OBI\": 0.3333333333333333}, {\"QU_SEQNUM\": 18782636, \"OBI\": 0.0}, {\"QU_SEQNUM\": 18782640, \"OBI\": -0.2}, {\"QU_SEQNUM\": 18782652, \"OBI\": -0.5}, {\"QU_SEQNUM\": 18782685, \"OBI\": -0.3333333333333333}, {\"QU_SEQNUM\": 18782690, \"OBI\": 0.0}, {\"QU_SEQNUM\": 18782692, \"OBI\": 0.3333333333333333}, {\"QU_SEQNUM\": 18782695, \"OBI\": -0.5}, {\"QU_SEQNUM\": 18782799, \"OBI\": -0.5}, {\"QU_SEQNUM\": 18782807, \"OBI\": -0.5}, {\"QU_SEQNUM\": 18782812, \"OBI\": -0.5}, {\"QU_SEQNUM\": 18782816, \"OBI\": -0.5}, {\"QU_SEQNUM\": 18782827, \"OBI\": -0.5}, {\"QU_SEQNUM\": 18782829, \"OBI\": -0.5}, {\"QU_SEQNUM\": 18782855, \"OBI\": -0.5}, {\"QU_SEQNUM\": 18782862, \"OBI\": -0.5}, {\"QU_SEQNUM\": 18782984, \"OBI\": -0.7142857142857143}, {\"QU_SEQNUM\": 18783016, \"OBI\": 0.0}, {\"QU_SEQNUM\": 18783017, \"OBI\": 0.0}, {\"QU_SEQNUM\": 18783021, \"OBI\": -0.3333333333333333}, {\"QU_SEQNUM\": 18783025, \"OBI\": 0.0}, {\"QU_SEQNUM\": 18783030, \"OBI\": -0.3333333333333333}, {\"QU_SEQNUM\": 18783075, \"OBI\": 0.0}, {\"QU_SEQNUM\": 18783079, \"OBI\": -0.7142857142857143}, {\"QU_SEQNUM\": 18783082, \"OBI\": -0.7142857142857143}, {\"QU_SEQNUM\": 18783089, \"OBI\": -0.5}, {\"QU_SEQNUM\": 18783114, \"OBI\": -0.5}, {\"QU_SEQNUM\": 18783149, \"OBI\": -0.7142857142857143}, {\"QU_SEQNUM\": 18783173, \"OBI\": -0.5}, {\"QU_SEQNUM\": 18783246, \"OBI\": -0.5}, {\"QU_SEQNUM\": 18783248, \"OBI\": -0.5}, {\"QU_SEQNUM\": 18783352, \"OBI\": -0.5}, {\"QU_SEQNUM\": 18783365, \"OBI\": -0.5}, {\"QU_SEQNUM\": 18783368, \"OBI\": -0.7142857142857143}, {\"QU_SEQNUM\": 18783373, \"OBI\": -0.2}, {\"QU_SEQNUM\": 18783375, \"OBI\": -0.2}, {\"QU_SEQNUM\": 18783377, \"OBI\": -0.2}, {\"QU_SEQNUM\": 18783399, \"OBI\": -0.7142857142857143}, {\"QU_SEQNUM\": 18783407, \"OBI\": -0.5}, {\"QU_SEQNUM\": 18783481, \"OBI\": -0.7142857142857143}, {\"QU_SEQNUM\": 18783483, \"OBI\": -0.5}, {\"QU_SEQNUM\": 18783548, \"OBI\": -0.5}, {\"QU_SEQNUM\": 18783551, \"OBI\": -0.5}, {\"QU_SEQNUM\": 18783566, \"OBI\": -0.5}, {\"QU_SEQNUM\": 18783757, \"OBI\": -0.5}, {\"QU_SEQNUM\": 18784445, \"OBI\": -0.5}, {\"QU_SEQNUM\": 18784455, \"OBI\": -0.5}, {\"QU_SEQNUM\": 18784469, \"OBI\": -0.5}, {\"QU_SEQNUM\": 18784472, \"OBI\": -0.5}, {\"QU_SEQNUM\": 18784548, \"OBI\": -0.7142857142857143}, {\"QU_SEQNUM\": 18784551, \"OBI\": -0.3333333333333333}, {\"QU_SEQNUM\": 18784554, \"OBI\": -0.25}, {\"QU_SEQNUM\": 18784556, \"OBI\": -0.6666666666666666}, {\"QU_SEQNUM\": 18784561, \"OBI\": -0.6}, {\"QU_SEQNUM\": 18784615, \"OBI\": 0.0}, {\"QU_SEQNUM\": 18784618, \"OBI\": -0.6}, {\"QU_SEQNUM\": 18784629, \"OBI\": -0.6}, {\"QU_SEQNUM\": 18784662, \"OBI\": -0.3333333333333333}, {\"QU_SEQNUM\": 18784668, \"OBI\": -0.3333333333333333}, {\"QU_SEQNUM\": 18784681, \"OBI\": -0.14285714285714285}, {\"QU_SEQNUM\": 18784807, \"OBI\": -0.3333333333333333}, {\"QU_SEQNUM\": 18784837, \"OBI\": -0.6}, {\"QU_SEQNUM\": 18784843, \"OBI\": 0.0}, {\"QU_SEQNUM\": 18784848, \"OBI\": -0.3333333333333333}, {\"QU_SEQNUM\": 18784850, \"OBI\": -0.3333333333333333}, {\"QU_SEQNUM\": 18784853, \"OBI\": -0.5}, {\"QU_SEQNUM\": 18784857, \"OBI\": -0.6}, {\"QU_SEQNUM\": 18784858, \"OBI\": -0.5}, {\"QU_SEQNUM\": 18784898, \"OBI\": 0.0}, {\"QU_SEQNUM\": 18784918, \"OBI\": -0.6}, {\"QU_SEQNUM\": 18784921, \"OBI\": -0.6}, {\"QU_SEQNUM\": 18784924, \"OBI\": -0.3333333333333333}, {\"QU_SEQNUM\": 18784931, \"OBI\": -0.14285714285714285}, {\"QU_SEQNUM\": 18785012, \"OBI\": -0.3333333333333333}, {\"QU_SEQNUM\": 18785013, \"OBI\": -0.6}, {\"QU_SEQNUM\": 18785057, \"OBI\": -0.3333333333333333}, {\"QU_SEQNUM\": 18785196, \"OBI\": -0.14285714285714285}, {\"QU_SEQNUM\": 18785199, \"OBI\": -0.14285714285714285}, {\"QU_SEQNUM\": 18785218, \"OBI\": -0.14285714285714285}, {\"QU_SEQNUM\": 18785235, \"OBI\": -0.14285714285714285}, {\"QU_SEQNUM\": 18785452, \"OBI\": 0.1111111111111111}, {\"QU_SEQNUM\": 18785466, \"OBI\": 0.2}, {\"QU_SEQNUM\": 18785470, \"OBI\": 0.2}, {\"QU_SEQNUM\": 18785479, \"OBI\": 0.2}, {\"QU_SEQNUM\": 18785488, \"OBI\": 0.2727272727272727}, {\"QU_SEQNUM\": 18785495, \"OBI\": 0.07692307692307693}, {\"QU_SEQNUM\": 18785503, \"OBI\": -0.5}, {\"QU_SEQNUM\": 18785506, \"OBI\": -0.7142857142857143}, {\"QU_SEQNUM\": 18785509, \"OBI\": -0.7142857142857143}, {\"QU_SEQNUM\": 18785515, \"OBI\": -0.6666666666666666}, {\"QU_SEQNUM\": 18785529, \"OBI\": -0.6666666666666666}, {\"QU_SEQNUM\": 18785567, \"OBI\": -0.42857142857142855}, {\"QU_SEQNUM\": 18785570, \"OBI\": -0.5}, {\"QU_SEQNUM\": 18785587, \"OBI\": -0.7142857142857143}, {\"QU_SEQNUM\": 18785590, \"OBI\": -0.75}, {\"QU_SEQNUM\": 18785641, \"OBI\": -0.5555555555555556}, {\"QU_SEQNUM\": 18785670, \"OBI\": -0.5555555555555556}, {\"QU_SEQNUM\": 18785678, \"OBI\": -0.5555555555555556}, {\"QU_SEQNUM\": 18785683, \"OBI\": -0.5555555555555556}, {\"QU_SEQNUM\": 18785704, \"OBI\": -0.5555555555555556}, {\"QU_SEQNUM\": 18785718, \"OBI\": -0.5555555555555556}, {\"QU_SEQNUM\": 18785730, \"OBI\": -0.5}, {\"QU_SEQNUM\": 18785734, \"OBI\": -0.2}, {\"QU_SEQNUM\": 18785742, \"OBI\": 0.0}, {\"QU_SEQNUM\": 18785747, \"OBI\": 0.3333333333333333}, {\"QU_SEQNUM\": 18785776, \"OBI\": 0.0}, {\"QU_SEQNUM\": 18785946, \"OBI\": -0.3333333333333333}, {\"QU_SEQNUM\": 18785947, \"OBI\": -0.5}, {\"QU_SEQNUM\": 18785949, \"OBI\": -0.6}, {\"QU_SEQNUM\": 18785977, \"OBI\": -0.6}, {\"QU_SEQNUM\": 18786294, \"OBI\": -0.3333333333333333}, {\"QU_SEQNUM\": 18786297, \"OBI\": -0.3333333333333333}, {\"QU_SEQNUM\": 18786300, \"OBI\": -0.2}, {\"QU_SEQNUM\": 18786329, \"OBI\": -0.3333333333333333}, {\"QU_SEQNUM\": 18786338, \"OBI\": -0.6}, {\"QU_SEQNUM\": 18786428, \"OBI\": -0.6}, {\"QU_SEQNUM\": 18786823, \"OBI\": -0.5}, {\"QU_SEQNUM\": 18786827, \"OBI\": -0.2}, {\"QU_SEQNUM\": 18786838, \"OBI\": 0.0}, {\"QU_SEQNUM\": 18786841, \"OBI\": 0.25}, {\"QU_SEQNUM\": 18786842, \"OBI\": 0.25}, {\"QU_SEQNUM\": 18786854, \"OBI\": 0.42857142857142855}, {\"QU_SEQNUM\": 18786870, \"OBI\": 0.6666666666666666}, {\"QU_SEQNUM\": 18786944, \"OBI\": 0.0}, {\"QU_SEQNUM\": 18786945, \"OBI\": 0.09090909090909091}, {\"QU_SEQNUM\": 18786967, \"OBI\": 0.7142857142857143}, {\"QU_SEQNUM\": 18786983, \"OBI\": 0.5}, {\"QU_SEQNUM\": 18786984, \"OBI\": 0.42857142857142855}, {\"QU_SEQNUM\": 18786985, \"OBI\": 0.3333333333333333}, {\"QU_SEQNUM\": 18786988, \"OBI\": 0.6}, {\"QU_SEQNUM\": 18786994, \"OBI\": 0.6666666666666666}, {\"QU_SEQNUM\": 18786995, \"OBI\": 0.0}, {\"QU_SEQNUM\": 18786997, \"OBI\": 0.09090909090909091}, {\"QU_SEQNUM\": 18787019, \"OBI\": 0.0}, {\"QU_SEQNUM\": 18787020, \"OBI\": 0.6666666666666666}, {\"QU_SEQNUM\": 18787279, \"OBI\": 0.6}, {\"QU_SEQNUM\": 18787288, \"OBI\": 0.6666666666666666}, {\"QU_SEQNUM\": 18787291, \"OBI\": 0.1111111111111111}, {\"QU_SEQNUM\": 18787292, \"OBI\": 0.2}, {\"QU_SEQNUM\": 18787337, \"OBI\": 0.2}, {\"QU_SEQNUM\": 18787344, \"OBI\": 0.7142857142857143}, {\"QU_SEQNUM\": 18787355, \"OBI\": 0.6666666666666666}, {\"QU_SEQNUM\": 18787365, \"OBI\": 0.6}, {\"QU_SEQNUM\": 18787371, \"OBI\": 0.3333333333333333}, {\"QU_SEQNUM\": 18787396, \"OBI\": -0.2}, {\"QU_SEQNUM\": 18787412, \"OBI\": -0.3333333333333333}, {\"QU_SEQNUM\": 18787467, \"OBI\": -0.2}, {\"QU_SEQNUM\": 18787471, \"OBI\": 0.0}, {\"QU_SEQNUM\": 18787646, \"OBI\": 0.3333333333333333}, {\"QU_SEQNUM\": 18787650, \"OBI\": -0.3333333333333333}, {\"QU_SEQNUM\": 18787654, \"OBI\": -0.14285714285714285}, {\"QU_SEQNUM\": 18787667, \"OBI\": -0.3333333333333333}, {\"QU_SEQNUM\": 18787668, \"OBI\": 0.3333333333333333}, {\"QU_SEQNUM\": 18787673, \"OBI\": 0.0}, {\"QU_SEQNUM\": 18787674, \"OBI\": 0.0}, {\"QU_SEQNUM\": 18787676, \"OBI\": 0.3333333333333333}, {\"QU_SEQNUM\": 18787679, \"OBI\": -0.3333333333333333}, {\"QU_SEQNUM\": 18787683, \"OBI\": -0.14285714285714285}, {\"QU_SEQNUM\": 18787714, \"OBI\": -0.14285714285714285}, {\"QU_SEQNUM\": 18787730, \"OBI\": -0.3333333333333333}, {\"QU_SEQNUM\": 18787731, \"OBI\": 0.3333333333333333}, {\"QU_SEQNUM\": 18787736, \"OBI\": 0.0}, {\"QU_SEQNUM\": 18787803, \"OBI\": 0.0}, {\"QU_SEQNUM\": 18787806, \"OBI\": 0.3333333333333333}, {\"QU_SEQNUM\": 18787813, \"OBI\": -0.3333333333333333}, {\"QU_SEQNUM\": 18787814, \"OBI\": -0.14285714285714285}, {\"QU_SEQNUM\": 18787819, \"OBI\": 0.0}, {\"QU_SEQNUM\": 18788493, \"OBI\": 0.6}, {\"QU_SEQNUM\": 18788548, \"OBI\": 0.5}, {\"QU_SEQNUM\": 18788552, \"OBI\": -0.14285714285714285}, {\"QU_SEQNUM\": 18788645, \"OBI\": 0.0}, {\"QU_SEQNUM\": 18788869, \"OBI\": 0.0}, {\"QU_SEQNUM\": 18788876, \"OBI\": -0.14285714285714285}, {\"QU_SEQNUM\": 18788881, \"OBI\": 0.5}, {\"QU_SEQNUM\": 18788885, \"OBI\": 0.2}, {\"QU_SEQNUM\": 18788898, \"OBI\": 0.0}, {\"QU_SEQNUM\": 18788899, \"OBI\": -0.2}, {\"QU_SEQNUM\": 18788911, \"OBI\": -0.3333333333333333}, {\"QU_SEQNUM\": 18788915, \"OBI\": -0.6}, {\"QU_SEQNUM\": 18789018, \"OBI\": -0.3333333333333333}, {\"QU_SEQNUM\": 18789128, \"OBI\": -0.3333333333333333}, {\"QU_SEQNUM\": 18789134, \"OBI\": -0.6}, {\"QU_SEQNUM\": 18789163, \"OBI\": -0.6}, {\"QU_SEQNUM\": 18789176, \"OBI\": -0.6}, {\"QU_SEQNUM\": 18789178, \"OBI\": -0.6}, {\"QU_SEQNUM\": 18789197, \"OBI\": -0.6}, {\"QU_SEQNUM\": 18789211, \"OBI\": -0.6}, {\"QU_SEQNUM\": 18789216, \"OBI\": -0.6}, {\"QU_SEQNUM\": 18789261, \"OBI\": -0.6}, {\"QU_SEQNUM\": 18789406, \"OBI\": -0.3333333333333333}, {\"QU_SEQNUM\": 18789442, \"OBI\": -0.2}, {\"QU_SEQNUM\": 18789452, \"OBI\": -0.3333333333333333}, {\"QU_SEQNUM\": 18789455, \"OBI\": -0.6}, {\"QU_SEQNUM\": 18789553, \"OBI\": -0.6}, {\"QU_SEQNUM\": 18789992, \"OBI\": -0.6}, {\"QU_SEQNUM\": 18790085, \"OBI\": -0.6}, {\"QU_SEQNUM\": 18790111, \"OBI\": -0.6}, {\"QU_SEQNUM\": 18790188, \"OBI\": -0.3333333333333333}, {\"QU_SEQNUM\": 18790230, \"OBI\": -0.3333333333333333}, {\"QU_SEQNUM\": 18790235, \"OBI\": -0.2}, {\"QU_SEQNUM\": 18790257, \"OBI\": 0.0}, {\"QU_SEQNUM\": 18790259, \"OBI\": 0.3333333333333333}, {\"QU_SEQNUM\": 18790260, \"OBI\": -0.42857142857142855}, {\"QU_SEQNUM\": 18790270, \"OBI\": -0.3333333333333333}, {\"QU_SEQNUM\": 18790305, \"OBI\": 0.3333333333333333}, {\"QU_SEQNUM\": 18790308, \"OBI\": -0.3333333333333333}, {\"QU_SEQNUM\": 18790314, \"OBI\": -0.3333333333333333}, {\"QU_SEQNUM\": 18790337, \"OBI\": -0.3333333333333333}, {\"QU_SEQNUM\": 18790345, \"OBI\": -0.3333333333333333}, {\"QU_SEQNUM\": 18790348, \"OBI\": -0.3333333333333333}, {\"QU_SEQNUM\": 18790355, \"OBI\": -0.3333333333333333}, {\"QU_SEQNUM\": 18790380, \"OBI\": -0.3333333333333333}, {\"QU_SEQNUM\": 18790390, \"OBI\": -0.2}, {\"QU_SEQNUM\": 18790403, \"OBI\": 0.0}, {\"QU_SEQNUM\": 18790466, \"OBI\": -0.2}, {\"QU_SEQNUM\": 18790492, \"OBI\": -0.5}, {\"QU_SEQNUM\": 18790516, \"OBI\": -0.6}, {\"QU_SEQNUM\": 18790628, \"OBI\": -0.6}, {\"QU_SEQNUM\": 18790670, \"OBI\": -0.5}, {\"QU_SEQNUM\": 18790674, \"OBI\": -0.2}, {\"QU_SEQNUM\": 18790677, \"OBI\": 0.0}, {\"QU_SEQNUM\": 18790680, \"OBI\": 0.0}, {\"QU_SEQNUM\": 18790681, \"OBI\": 0.3333333333333333}, {\"QU_SEQNUM\": 18790691, \"OBI\": 0.5}, {\"QU_SEQNUM\": 18790692, \"OBI\": 0.3333333333333333}, {\"QU_SEQNUM\": 18790702, \"OBI\": 0.0}, {\"QU_SEQNUM\": 18790738, \"OBI\": -0.2}, {\"QU_SEQNUM\": 18790788, \"OBI\": 0.0}, {\"QU_SEQNUM\": 18790791, \"OBI\": 0.3333333333333333}, {\"QU_SEQNUM\": 18790928, \"OBI\": 0.5}, {\"QU_SEQNUM\": 18790931, \"OBI\": 0.6}, {\"QU_SEQNUM\": 18791194, \"OBI\": 0.5}, {\"QU_SEQNUM\": 18791426, \"OBI\": 0.2}, {\"QU_SEQNUM\": 18791428, \"OBI\": 0.0}, {\"QU_SEQNUM\": 18791431, \"OBI\": 0.0}, {\"QU_SEQNUM\": 18791436, \"OBI\": -0.2}, {\"QU_SEQNUM\": 18791445, \"OBI\": -0.2}, {\"QU_SEQNUM\": 18791449, \"OBI\": 0.0}, {\"QU_SEQNUM\": 18791452, \"OBI\": 0.3333333333333333}, {\"QU_SEQNUM\": 18791457, \"OBI\": 0.5}, {\"QU_SEQNUM\": 18791463, \"OBI\": 0.5}, {\"QU_SEQNUM\": 18791469, \"OBI\": 0.5}, {\"QU_SEQNUM\": 18791475, \"OBI\": 0.6}, {\"QU_SEQNUM\": 18791610, \"OBI\": 0.5}, {\"QU_SEQNUM\": 18791634, \"OBI\": 0.6}, {\"QU_SEQNUM\": 18791849, \"OBI\": 0.5}, {\"QU_SEQNUM\": 18792032, \"OBI\": 0.5}, {\"QU_SEQNUM\": 18792043, \"OBI\": 0.2}, {\"QU_SEQNUM\": 18792053, \"OBI\": 0.0}, {\"QU_SEQNUM\": 18792054, \"OBI\": -0.2}, {\"QU_SEQNUM\": 18792059, \"OBI\": -0.2}, {\"QU_SEQNUM\": 18792086, \"OBI\": 0.0}, {\"QU_SEQNUM\": 18792090, \"OBI\": 0.3333333333333333}, {\"QU_SEQNUM\": 18792091, \"OBI\": 0.5}, {\"QU_SEQNUM\": 18792162, \"OBI\": 0.5}, {\"QU_SEQNUM\": 18792170, \"OBI\": 0.5}, {\"QU_SEQNUM\": 18792225, \"OBI\": 0.6}, {\"QU_SEQNUM\": 18792283, \"OBI\": 0.0}, {\"QU_SEQNUM\": 18792286, \"OBI\": 0.2}, {\"QU_SEQNUM\": 18792292, \"OBI\": 0.2727272727272727}, {\"QU_SEQNUM\": 18792302, \"OBI\": -0.6}, {\"QU_SEQNUM\": 18792311, \"OBI\": -0.3333333333333333}, {\"QU_SEQNUM\": 18792317, \"OBI\": -0.14285714285714285}, {\"QU_SEQNUM\": 18792324, \"OBI\": 0.0}, {\"QU_SEQNUM\": 18792326, \"OBI\": 0.2}, {\"QU_SEQNUM\": 18792335, \"OBI\": 0.75}, {\"QU_SEQNUM\": 18792353, \"OBI\": 0.75}, {\"QU_SEQNUM\": 18792365, \"OBI\": 0.7777777777777778}, {\"QU_SEQNUM\": 18792399, \"OBI\": 0.75}, {\"QU_SEQNUM\": 18792405, \"OBI\": 0.5}, {\"QU_SEQNUM\": 18792408, \"OBI\": 0.42857142857142855}, {\"QU_SEQNUM\": 18792410, \"OBI\": 0.3333333333333333}, {\"QU_SEQNUM\": 18792411, \"OBI\": 0.6}, {\"QU_SEQNUM\": 18792417, \"OBI\": 0.3333333333333333}, {\"QU_SEQNUM\": 18792428, \"OBI\": 0.0}, {\"QU_SEQNUM\": 18792431, \"OBI\": -0.3333333333333333}, {\"QU_SEQNUM\": 18792434, \"OBI\": -0.5}, {\"QU_SEQNUM\": 18792436, \"OBI\": -0.6}, {\"QU_SEQNUM\": 18792468, \"OBI\": -0.5}, {\"QU_SEQNUM\": 18792473, \"OBI\": -0.5}, {\"QU_SEQNUM\": 18792475, \"OBI\": -0.5}, {\"QU_SEQNUM\": 18792477, \"OBI\": -0.6}, {\"QU_SEQNUM\": 18792527, \"OBI\": -0.6}, {\"QU_SEQNUM\": 18792528, \"OBI\": -0.6}, {\"QU_SEQNUM\": 18792544, \"OBI\": -0.3333333333333333}, {\"QU_SEQNUM\": 18792603, \"OBI\": -0.6}, {\"QU_SEQNUM\": 18792605, \"OBI\": -0.6}, {\"QU_SEQNUM\": 18792618, \"OBI\": -0.6}, {\"QU_SEQNUM\": 18792625, \"OBI\": -0.6}, {\"QU_SEQNUM\": 18792641, \"OBI\": 0.2}, {\"QU_SEQNUM\": 18792652, \"OBI\": -0.16666666666666666}, {\"QU_SEQNUM\": 18792653, \"OBI\": -0.2727272727272727}, {\"QU_SEQNUM\": 18792655, \"OBI\": -0.42857142857142855}, {\"QU_SEQNUM\": 18792657, \"OBI\": -0.42857142857142855}, {\"QU_SEQNUM\": 18792667, \"OBI\": -0.42857142857142855}, {\"QU_SEQNUM\": 18792670, \"OBI\": -0.38461538461538464}, {\"QU_SEQNUM\": 18793219, \"OBI\": -0.38461538461538464}, {\"QU_SEQNUM\": 18793220, \"OBI\": -0.3333333333333333}, {\"QU_SEQNUM\": 18793223, \"OBI\": -0.3333333333333333}, {\"QU_SEQNUM\": 18793240, \"OBI\": -0.3333333333333333}, {\"QU_SEQNUM\": 18793247, \"OBI\": 0.3333333333333333}, {\"QU_SEQNUM\": 18793257, \"OBI\": 0.0}, {\"QU_SEQNUM\": 18793262, \"OBI\": -0.25}, {\"QU_SEQNUM\": 18793266, \"OBI\": -0.3333333333333333}, {\"QU_SEQNUM\": 18793274, \"OBI\": -0.7142857142857143}, {\"QU_SEQNUM\": 18793395, \"OBI\": -0.6666666666666666}, {\"QU_SEQNUM\": 18793396, \"OBI\": -0.6}, {\"QU_SEQNUM\": 18793400, \"OBI\": -0.6666666666666666}, {\"QU_SEQNUM\": 18793475, \"OBI\": -0.42857142857142855}, {\"QU_SEQNUM\": 18793478, \"OBI\": -0.3333333333333333}, {\"QU_SEQNUM\": 18793481, \"OBI\": -0.3333333333333333}, {\"QU_SEQNUM\": 18793487, \"OBI\": -0.2}, {\"QU_SEQNUM\": 18793488, \"OBI\": 0.0}, {\"QU_SEQNUM\": 18793491, \"OBI\": 0.3333333333333333}, {\"QU_SEQNUM\": 18793494, \"OBI\": -0.6}, {\"QU_SEQNUM\": 18793495, \"OBI\": -0.45454545454545453}, {\"QU_SEQNUM\": 18793532, \"OBI\": 0.5}, {\"QU_SEQNUM\": 18793533, \"OBI\": 0.3333333333333333}, {\"QU_SEQNUM\": 18793538, \"OBI\": 0.0}, {\"QU_SEQNUM\": 18793540, \"OBI\": -0.2}, {\"QU_SEQNUM\": 18793541, \"OBI\": -0.3333333333333333}, {\"QU_SEQNUM\": 18793545, \"OBI\": -0.3333333333333333}, {\"QU_SEQNUM\": 18793552, \"OBI\": -0.3333333333333333}, {\"QU_SEQNUM\": 18793557, \"OBI\": -0.2}, {\"QU_SEQNUM\": 18793559, \"OBI\": 0.0}, {\"QU_SEQNUM\": 18793561, \"OBI\": 0.2}, {\"QU_SEQNUM\": 18793605, \"OBI\": 0.0}, {\"QU_SEQNUM\": 18793621, \"OBI\": 0.2}, {\"QU_SEQNUM\": 18793626, \"OBI\": 0.5}, {\"QU_SEQNUM\": 18793628, \"OBI\": -0.45454545454545453}, {\"QU_SEQNUM\": 18793629, \"OBI\": -0.45454545454545453}, {\"QU_SEQNUM\": 18793646, \"OBI\": 0.5}, {\"QU_SEQNUM\": 18793648, \"OBI\": -0.45454545454545453}, {\"QU_SEQNUM\": 18793649, \"OBI\": 0.5}, {\"QU_SEQNUM\": 18793650, \"OBI\": 0.2}, {\"QU_SEQNUM\": 18793691, \"OBI\": 0.2}, {\"QU_SEQNUM\": 18793693, \"OBI\": 0.0}, {\"QU_SEQNUM\": 18793695, \"OBI\": -0.3333333333333333}, {\"QU_SEQNUM\": 18793743, \"OBI\": 0.0}, {\"QU_SEQNUM\": 18793746, \"OBI\": 0.2}, {\"QU_SEQNUM\": 18793747, \"OBI\": 0.5}, {\"QU_SEQNUM\": 18793749, \"OBI\": 0.5}, {\"QU_SEQNUM\": 18793765, \"OBI\": -0.4}, {\"QU_SEQNUM\": 18793768, \"OBI\": -0.2727272727272727}, {\"QU_SEQNUM\": 18793917, \"OBI\": -0.4}, {\"QU_SEQNUM\": 18793948, \"OBI\": -0.4}, {\"QU_SEQNUM\": 18793956, \"OBI\": -0.4}, {\"QU_SEQNUM\": 18794065, \"OBI\": -0.2727272727272727}, {\"QU_SEQNUM\": 18794284, \"OBI\": -0.4}, {\"QU_SEQNUM\": 18794292, \"OBI\": -0.4}, {\"QU_SEQNUM\": 18794300, \"OBI\": 0.5}, {\"QU_SEQNUM\": 18794311, \"OBI\": 0.2}, {\"QU_SEQNUM\": 18794312, \"OBI\": 0.0}, {\"QU_SEQNUM\": 18794392, \"OBI\": -0.2}, {\"QU_SEQNUM\": 18794396, \"OBI\": -0.5}, {\"QU_SEQNUM\": 18794398, \"OBI\": -0.6}, {\"QU_SEQNUM\": 18794674, \"OBI\": -0.6}, {\"QU_SEQNUM\": 18794872, \"OBI\": -0.25}, {\"QU_SEQNUM\": 18794894, \"OBI\": 0.0}, {\"QU_SEQNUM\": 18794907, \"OBI\": -0.3333333333333333}, {\"QU_SEQNUM\": 18794926, \"OBI\": -0.42857142857142855}, {\"QU_SEQNUM\": 18794956, \"OBI\": -0.42857142857142855}, {\"QU_SEQNUM\": 18794969, \"OBI\": -0.4}, {\"QU_SEQNUM\": 18795055, \"OBI\": -0.4}, {\"QU_SEQNUM\": 18795057, \"OBI\": -0.5714285714285714}, {\"QU_SEQNUM\": 18795059, \"OBI\": -0.5384615384615384}, {\"QU_SEQNUM\": 18795068, \"OBI\": -0.5}, {\"QU_SEQNUM\": 18795076, \"OBI\": -0.5384615384615384}, {\"QU_SEQNUM\": 18795086, \"OBI\": -0.6666666666666666}, {\"QU_SEQNUM\": 18795107, \"OBI\": -0.6666666666666666}, {\"QU_SEQNUM\": 18795245, \"OBI\": -0.8181818181818182}, {\"QU_SEQNUM\": 18795294, \"OBI\": 0.0}, {\"QU_SEQNUM\": 18795302, \"OBI\": 0.0}, {\"QU_SEQNUM\": 18795303, \"OBI\": -0.3333333333333333}, {\"QU_SEQNUM\": 18795337, \"OBI\": -0.5}, {\"QU_SEQNUM\": 18795346, \"OBI\": 0.14285714285714285}, {\"QU_SEQNUM\": 18795392, \"OBI\": 0.0}, {\"QU_SEQNUM\": 18795437, \"OBI\": -0.14285714285714285}, {\"QU_SEQNUM\": 18795553, \"OBI\": 0.0}, {\"QU_SEQNUM\": 18795555, \"OBI\": 0.2}, {\"QU_SEQNUM\": 18795567, \"OBI\": 0.0}, {\"QU_SEQNUM\": 18795592, \"OBI\": 0.2}, {\"QU_SEQNUM\": 18795612, \"OBI\": 0.3333333333333333}, {\"QU_SEQNUM\": 18795634, \"OBI\": 0.2}, {\"QU_SEQNUM\": 18795636, \"OBI\": -0.3333333333333333}, {\"QU_SEQNUM\": 18795640, \"OBI\": 0.0}, {\"QU_SEQNUM\": 18795799, \"OBI\": 0.0}, {\"QU_SEQNUM\": 18795861, \"OBI\": -0.3333333333333333}, {\"QU_SEQNUM\": 18795862, \"OBI\": 0.2}, {\"QU_SEQNUM\": 18795914, \"OBI\": 0.0}, {\"QU_SEQNUM\": 18795923, \"OBI\": 0.2}, {\"QU_SEQNUM\": 18795963, \"OBI\": 0.0}, {\"QU_SEQNUM\": 18795981, \"OBI\": 0.14285714285714285}, {\"QU_SEQNUM\": 18796012, \"OBI\": 0.0}, {\"QU_SEQNUM\": 18796053, \"OBI\": 0.2}, {\"QU_SEQNUM\": 18796059, \"OBI\": 0.3333333333333333}, {\"QU_SEQNUM\": 18796077, \"OBI\": -0.3333333333333333}, {\"QU_SEQNUM\": 18796078, \"OBI\": 0.0}, {\"QU_SEQNUM\": 18796084, \"OBI\": 0.3333333333333333}, {\"QU_SEQNUM\": 18796134, \"OBI\": -0.6923076923076923}, {\"QU_SEQNUM\": 18796136, \"OBI\": -0.6923076923076923}, {\"QU_SEQNUM\": 18796184, \"OBI\": -0.8333333333333334}, {\"QU_SEQNUM\": 18796234, \"OBI\": -0.8333333333333334}, {\"QU_SEQNUM\": 18796236, \"OBI\": 0.0}, {\"QU_SEQNUM\": 18796240, \"OBI\": 0.0}, {\"QU_SEQNUM\": 18796245, \"OBI\": -0.5}, {\"QU_SEQNUM\": 18796247, \"OBI\": -0.5}, {\"QU_SEQNUM\": 18796263, \"OBI\": -0.3333333333333333}, {\"QU_SEQNUM\": 18796264, \"OBI\": 0.0}, {\"QU_SEQNUM\": 18796290, \"OBI\": 0.0}, {\"QU_SEQNUM\": 18796302, \"OBI\": -0.5}, {\"QU_SEQNUM\": 18796305, \"OBI\": 0.0}, {\"QU_SEQNUM\": 18796341, \"OBI\": 0.14285714285714285}, {\"QU_SEQNUM\": 18796358, \"OBI\": 0.0}, {\"QU_SEQNUM\": 18796373, \"OBI\": 0.2}, {\"QU_SEQNUM\": 18796549, \"OBI\": 0.3333333333333333}, {\"QU_SEQNUM\": 18796551, \"OBI\": -0.3333333333333333}, {\"QU_SEQNUM\": 18796557, \"OBI\": 0.0}, {\"QU_SEQNUM\": 18796591, \"OBI\": -0.3333333333333333}, {\"QU_SEQNUM\": 18796628, \"OBI\": -0.3333333333333333}, {\"QU_SEQNUM\": 18796663, \"OBI\": 0.2}, {\"QU_SEQNUM\": 18796667, \"OBI\": 0.0}, {\"QU_SEQNUM\": 18796677, \"OBI\": 0.2}, {\"QU_SEQNUM\": 18796694, \"OBI\": 0.0}, {\"QU_SEQNUM\": 18796723, \"OBI\": 0.14285714285714285}, {\"QU_SEQNUM\": 18796726, \"OBI\": 0.0}, {\"QU_SEQNUM\": 18796765, \"OBI\": 0.2}, {\"QU_SEQNUM\": 18796767, \"OBI\": 0.3333333333333333}, {\"QU_SEQNUM\": 18796769, \"OBI\": -0.3333333333333333}, {\"QU_SEQNUM\": 18796770, \"OBI\": -0.3333333333333333}, {\"QU_SEQNUM\": 18796784, \"OBI\": -0.3333333333333333}, {\"QU_SEQNUM\": 18796788, \"OBI\": 0.0}, {\"QU_SEQNUM\": 18796841, \"OBI\": 0.3333333333333333}, {\"QU_SEQNUM\": 18796845, \"OBI\": -0.6923076923076923}, {\"QU_SEQNUM\": 18796848, \"OBI\": -0.6923076923076923}, {\"QU_SEQNUM\": 18796905, \"OBI\": -0.6923076923076923}, {\"QU_SEQNUM\": 18796912, \"OBI\": -0.6666666666666666}, {\"QU_SEQNUM\": 18796917, \"OBI\": -0.5384615384615384}, {\"QU_SEQNUM\": 18797011, \"OBI\": -0.8181818181818182}, {\"QU_SEQNUM\": 18797018, \"OBI\": -0.8181818181818182}, {\"QU_SEQNUM\": 18797020, \"OBI\": -0.6666666666666666}, {\"QU_SEQNUM\": 18797025, \"OBI\": -0.5384615384615384}, {\"QU_SEQNUM\": 18797032, \"OBI\": -0.5}, {\"QU_SEQNUM\": 18797049, \"OBI\": -0.45454545454545453}, {\"QU_SEQNUM\": 18797055, \"OBI\": -0.4}, {\"QU_SEQNUM\": 18797072, \"OBI\": -0.3333333333333333}, {\"QU_SEQNUM\": 18797082, \"OBI\": -0.25}, {\"QU_SEQNUM\": 18797090, \"OBI\": -0.1111111111111111}, {\"QU_SEQNUM\": 18797259, \"OBI\": 0.0}, {\"QU_SEQNUM\": 18797261, \"OBI\": 0.42857142857142855}, {\"QU_SEQNUM\": 18797271, \"OBI\": -0.16666666666666666}, {\"QU_SEQNUM\": 18797348, \"OBI\": -0.75}, {\"QU_SEQNUM\": 18797356, \"OBI\": -0.5555555555555556}, {\"QU_SEQNUM\": 18797368, \"OBI\": -0.75}, {\"QU_SEQNUM\": 18797370, \"OBI\": 0.0}, {\"QU_SEQNUM\": 18797383, \"OBI\": 0.0}, {\"QU_SEQNUM\": 18797384, \"OBI\": -0.75}, {\"QU_SEQNUM\": 18797410, \"OBI\": 0.0}, {\"QU_SEQNUM\": 18797800, \"OBI\": -0.07692307692307693}, {\"QU_SEQNUM\": 18797808, \"OBI\": 0.7142857142857143}, {\"QU_SEQNUM\": 18797814, \"OBI\": 0.7142857142857143}, {\"QU_SEQNUM\": 18797817, \"OBI\": 0.6}, {\"QU_SEQNUM\": 18797827, \"OBI\": 0.3333333333333333}, {\"QU_SEQNUM\": 18797837, \"OBI\": 0.2}, {\"QU_SEQNUM\": 18797841, \"OBI\": 0.0}, {\"QU_SEQNUM\": 18797847, \"OBI\": -0.2}, {\"QU_SEQNUM\": 18797849, \"OBI\": -0.5}, {\"QU_SEQNUM\": 18797870, \"OBI\": -0.2}, {\"QU_SEQNUM\": 18797876, \"OBI\": 0.3333333333333333}, {\"QU_SEQNUM\": 18797879, \"OBI\": -0.6}, {\"QU_SEQNUM\": 18797882, \"OBI\": -0.6}, {\"QU_SEQNUM\": 18797883, \"OBI\": -0.6}, {\"QU_SEQNUM\": 18797917, \"OBI\": 0.3333333333333333}, {\"QU_SEQNUM\": 18797919, \"OBI\": -0.6}, {\"QU_SEQNUM\": 18797921, \"OBI\": -0.2}, {\"QU_SEQNUM\": 18797923, \"OBI\": -0.2}, {\"QU_SEQNUM\": 18797931, \"OBI\": -0.5}, {\"QU_SEQNUM\": 18797939, \"OBI\": 0.3333333333333333}, {\"QU_SEQNUM\": 18797946, \"OBI\": 0.25}, {\"QU_SEQNUM\": 18797948, \"OBI\": -0.5}, {\"QU_SEQNUM\": 18797970, \"OBI\": -0.3333333333333333}, {\"QU_SEQNUM\": 18799373, \"OBI\": -0.3333333333333333}, {\"QU_SEQNUM\": 18799377, \"OBI\": 0.0}, {\"QU_SEQNUM\": 18799381, \"OBI\": 0.0}, {\"QU_SEQNUM\": 18799386, \"OBI\": 0.3333333333333333}, {\"QU_SEQNUM\": 18799387, \"OBI\": 0.5}, {\"QU_SEQNUM\": 18799390, \"OBI\": -0.4}, {\"QU_SEQNUM\": 18799552, \"OBI\": -0.4}, {\"QU_SEQNUM\": 18799583, \"OBI\": -0.4}, {\"QU_SEQNUM\": 18799588, \"OBI\": 0.5}, {\"QU_SEQNUM\": 18799590, \"OBI\": 0.3333333333333333}, {\"QU_SEQNUM\": 18799596, \"OBI\": 0.0}, {\"QU_SEQNUM\": 18799598, \"OBI\": 0.0}, {\"QU_SEQNUM\": 18799599, \"OBI\": -0.3333333333333333}, {\"QU_SEQNUM\": 18799600, \"OBI\": -0.5}, {\"QU_SEQNUM\": 18799609, \"OBI\": -0.6}, {\"QU_SEQNUM\": 18799615, \"OBI\": 0.2}, {\"QU_SEQNUM\": 18799641, \"OBI\": 0.2}, {\"QU_SEQNUM\": 18799645, \"OBI\": 0.3333333333333333}, {\"QU_SEQNUM\": 18800116, \"OBI\": -0.5}, {\"QU_SEQNUM\": 18800117, \"OBI\": -0.6}, {\"QU_SEQNUM\": 18800124, \"OBI\": -0.5}, {\"QU_SEQNUM\": 18800221, \"OBI\": -0.5}, {\"QU_SEQNUM\": 18800228, \"OBI\": -0.6}, {\"QU_SEQNUM\": 18800229, \"OBI\": 0.1111111111111111}, {\"QU_SEQNUM\": 18800348, \"OBI\": 0.2}, {\"QU_SEQNUM\": 18800351, \"OBI\": 0.1111111111111111}, {\"QU_SEQNUM\": 18800356, \"OBI\": 0.2}, {\"QU_SEQNUM\": 18800368, \"OBI\": 0.1111111111111111}, {\"QU_SEQNUM\": 18801143, \"OBI\": 0.0}, {\"QU_SEQNUM\": 18801181, \"OBI\": -0.14285714285714285}, {\"QU_SEQNUM\": 18801184, \"OBI\": -0.14285714285714285}, {\"QU_SEQNUM\": 18801187, \"OBI\": -0.14285714285714285}, {\"QU_SEQNUM\": 18801194, \"OBI\": -0.14285714285714285}, {\"QU_SEQNUM\": 18801198, \"OBI\": -0.4}, {\"QU_SEQNUM\": 18801206, \"OBI\": -0.4}, {\"QU_SEQNUM\": 18801344, \"OBI\": -0.4}, {\"QU_SEQNUM\": 18801365, \"OBI\": -0.5555555555555556}, {\"QU_SEQNUM\": 18801369, \"OBI\": -0.5555555555555556}, {\"QU_SEQNUM\": 18801376, \"OBI\": 0.3333333333333333}, {\"QU_SEQNUM\": 18801382, \"OBI\": 0.0}, {\"QU_SEQNUM\": 18801398, \"OBI\": 0.0}, {\"QU_SEQNUM\": 18801399, \"OBI\": -0.6}, {\"QU_SEQNUM\": 18801408, \"OBI\": -0.6363636363636364}, {\"QU_SEQNUM\": 18801453, \"OBI\": -0.6363636363636364}, {\"QU_SEQNUM\": 18801483, \"OBI\": -0.5}, {\"QU_SEQNUM\": 18801494, \"OBI\": -0.45454545454545453}, {\"QU_SEQNUM\": 18801497, \"OBI\": -0.4}, {\"QU_SEQNUM\": 18801500, \"OBI\": -0.75}, {\"QU_SEQNUM\": 18801501, \"OBI\": -0.6}, {\"QU_SEQNUM\": 18801504, \"OBI\": -0.6666666666666666}, {\"QU_SEQNUM\": 18801505, \"OBI\": -0.6}, {\"QU_SEQNUM\": 18801506, \"OBI\": -0.14285714285714285}, {\"QU_SEQNUM\": 18801510, \"OBI\": -0.3333333333333333}, {\"QU_SEQNUM\": 18801546, \"OBI\": -0.14285714285714285}, {\"QU_SEQNUM\": 18801552, \"OBI\": 0.0}, {\"QU_SEQNUM\": 18801559, \"OBI\": -0.3333333333333333}, {\"QU_SEQNUM\": 18801574, \"OBI\": 0.0}, {\"QU_SEQNUM\": 18801584, \"OBI\": -0.3333333333333333}, {\"QU_SEQNUM\": 18801587, \"OBI\": 0.0}, {\"QU_SEQNUM\": 18801597, \"OBI\": 0.3333333333333333}, {\"QU_SEQNUM\": 18801603, \"OBI\": -0.6}, {\"QU_SEQNUM\": 18801609, \"OBI\": -0.45454545454545453}, {\"QU_SEQNUM\": 18801620, \"OBI\": -0.23076923076923078}, {\"QU_SEQNUM\": 18801680, \"OBI\": -0.23076923076923078}, {\"QU_SEQNUM\": 18801688, \"OBI\": -0.45454545454545453}, {\"QU_SEQNUM\": 18801728, \"OBI\": -0.3333333333333333}, {\"QU_SEQNUM\": 18801737, \"OBI\": -0.2727272727272727}, {\"QU_SEQNUM\": 18801740, \"OBI\": -0.16666666666666666}, {\"QU_SEQNUM\": 18801743, \"OBI\": -0.16666666666666666}, {\"QU_SEQNUM\": 18802181, \"OBI\": -0.16666666666666666}, {\"QU_SEQNUM\": 18802182, \"OBI\": -0.16666666666666666}, {\"QU_SEQNUM\": 18802185, \"OBI\": -0.75}, {\"QU_SEQNUM\": 18802189, \"OBI\": -0.7142857142857143}, {\"QU_SEQNUM\": 18802208, \"OBI\": -0.75}, {\"QU_SEQNUM\": 18802237, \"OBI\": -0.7142857142857143}, {\"QU_SEQNUM\": 18802245, \"OBI\": -0.6666666666666666}, {\"QU_SEQNUM\": 18802249, \"OBI\": -0.6}, {\"QU_SEQNUM\": 18802273, \"OBI\": -0.3333333333333333}, {\"QU_SEQNUM\": 18802277, \"OBI\": -0.3333333333333333}, {\"QU_SEQNUM\": 18802301, \"OBI\": -0.3333333333333333}, {\"QU_SEQNUM\": 18802303, \"OBI\": -0.42857142857142855}, {\"QU_SEQNUM\": 18802310, \"OBI\": -0.6666666666666666}, {\"QU_SEQNUM\": 18802321, \"OBI\": -0.7142857142857143}, {\"QU_SEQNUM\": 18802327, \"OBI\": -0.75}, {\"QU_SEQNUM\": 18802439, \"OBI\": -0.7142857142857143}, {\"QU_SEQNUM\": 18802442, \"OBI\": -0.6666666666666666}, {\"QU_SEQNUM\": 18802451, \"OBI\": -0.3333333333333333}, {\"QU_SEQNUM\": 18802487, \"OBI\": 0.0}, {\"QU_SEQNUM\": 18802654, \"OBI\": -0.3333333333333333}, {\"QU_SEQNUM\": 18802655, \"OBI\": -0.5}, {\"QU_SEQNUM\": 18802758, \"OBI\": 0.25}, {\"QU_SEQNUM\": 18802815, \"OBI\": 0.25}, {\"QU_SEQNUM\": 18802816, \"OBI\": -0.5}, {\"QU_SEQNUM\": 18802818, \"OBI\": -0.5}, {\"QU_SEQNUM\": 18802819, \"OBI\": -0.2}, {\"QU_SEQNUM\": 18802820, \"OBI\": 0.0}, {\"QU_SEQNUM\": 18802823, \"OBI\": 0.2}, {\"QU_SEQNUM\": 18802834, \"OBI\": 0.2}, {\"QU_SEQNUM\": 18802837, \"OBI\": 0.0}, {\"QU_SEQNUM\": 18802838, \"OBI\": -0.2}, {\"QU_SEQNUM\": 18802841, \"OBI\": -0.5}, {\"QU_SEQNUM\": 18802847, \"OBI\": 0.25}, {\"QU_SEQNUM\": 18802862, \"OBI\": 0.25}, {\"QU_SEQNUM\": 18802863, \"OBI\": -0.5}, {\"QU_SEQNUM\": 18802936, \"OBI\": -0.3333333333333333}, {\"QU_SEQNUM\": 18802956, \"OBI\": 0.0}, {\"QU_SEQNUM\": 18802985, \"OBI\": -0.75}, {\"QU_SEQNUM\": 18802989, \"OBI\": -0.5555555555555556}, {\"QU_SEQNUM\": 18802991, \"OBI\": -0.4}, {\"QU_SEQNUM\": 18803000, \"OBI\": -0.4}, {\"QU_SEQNUM\": 18803007, \"OBI\": -0.5555555555555556}, {\"QU_SEQNUM\": 18803010, \"OBI\": -0.75}, {\"QU_SEQNUM\": 18803035, \"OBI\": 0.0}, {\"QU_SEQNUM\": 18803037, \"OBI\": 0.0}, {\"QU_SEQNUM\": 18803039, \"OBI\": -0.3333333333333333}, {\"QU_SEQNUM\": 18803041, \"OBI\": -0.5}, {\"QU_SEQNUM\": 18803051, \"OBI\": -0.6}, {\"QU_SEQNUM\": 18803078, \"OBI\": -0.5}, {\"QU_SEQNUM\": 18803079, \"OBI\": -0.3333333333333333}, {\"QU_SEQNUM\": 18803086, \"OBI\": -0.5}, {\"QU_SEQNUM\": 18803092, \"OBI\": -0.6}, {\"QU_SEQNUM\": 18803196, \"OBI\": -0.5}, {\"QU_SEQNUM\": 18803197, \"OBI\": -0.3333333333333333}, {\"QU_SEQNUM\": 18803200, \"OBI\": -0.5}, {\"QU_SEQNUM\": 18803203, \"OBI\": -0.6}, {\"QU_SEQNUM\": 18803310, \"OBI\": 0.1111111111111111}, {\"QU_SEQNUM\": 18803311, \"OBI\": 0.1111111111111111}, {\"QU_SEQNUM\": 18803352, \"OBI\": -0.6}, {\"QU_SEQNUM\": 18803356, \"OBI\": -0.5}, {\"QU_SEQNUM\": 18803358, \"OBI\": -0.3333333333333333}, {\"QU_SEQNUM\": 18803362, \"OBI\": 0.0}, {\"QU_SEQNUM\": 18803380, \"OBI\": -0.3333333333333333}, {\"QU_SEQNUM\": 18803381, \"OBI\": -0.5}, {\"QU_SEQNUM\": 18803581, \"OBI\": -0.3333333333333333}, {\"QU_SEQNUM\": 18803619, \"OBI\": -0.5}, {\"QU_SEQNUM\": 18803622, \"OBI\": -0.6}, {\"QU_SEQNUM\": 18803629, \"OBI\": -0.6}, {\"QU_SEQNUM\": 18803631, \"OBI\": 0.1111111111111111}, {\"QU_SEQNUM\": 18803684, \"OBI\": 0.1111111111111111}, {\"QU_SEQNUM\": 18803687, \"OBI\": 0.1111111111111111}, {\"QU_SEQNUM\": 18803694, \"OBI\": 0.1111111111111111}, {\"QU_SEQNUM\": 18803706, \"OBI\": 0.1111111111111111}, {\"QU_SEQNUM\": 18803709, \"OBI\": 0.1111111111111111}, {\"QU_SEQNUM\": 18803723, \"OBI\": 0.1111111111111111}, {\"QU_SEQNUM\": 18803724, \"OBI\": 0.1111111111111111}, {\"QU_SEQNUM\": 18803735, \"OBI\": 0.1111111111111111}, {\"QU_SEQNUM\": 18803738, \"OBI\": 0.1111111111111111}, {\"QU_SEQNUM\": 18803739, \"OBI\": 0.1111111111111111}, {\"QU_SEQNUM\": 18803740, \"OBI\": 0.1111111111111111}, {\"QU_SEQNUM\": 18803760, \"OBI\": -0.6}, {\"QU_SEQNUM\": 18803764, \"OBI\": -0.5}, {\"QU_SEQNUM\": 18803783, \"OBI\": -0.3333333333333333}, {\"QU_SEQNUM\": 18803800, \"OBI\": -0.5}, {\"QU_SEQNUM\": 18803802, \"OBI\": -0.6}, {\"QU_SEQNUM\": 18803804, \"OBI\": 0.1111111111111111}, {\"QU_SEQNUM\": 18803806, \"OBI\": 0.1111111111111111}, {\"QU_SEQNUM\": 18803812, \"OBI\": 0.1111111111111111}, {\"QU_SEQNUM\": 18803823, \"OBI\": 0.1111111111111111}, {\"QU_SEQNUM\": 18803825, \"OBI\": 0.1111111111111111}, {\"QU_SEQNUM\": 18804125, \"OBI\": 0.1111111111111111}, {\"QU_SEQNUM\": 18804242, \"OBI\": 0.1111111111111111}, {\"QU_SEQNUM\": 18804243, \"OBI\": 0.1111111111111111}, {\"QU_SEQNUM\": 18804245, \"OBI\": 0.1111111111111111}, {\"QU_SEQNUM\": 18804248, \"OBI\": -0.6}, {\"QU_SEQNUM\": 18804298, \"OBI\": -0.6}, {\"QU_SEQNUM\": 18804305, \"OBI\": 0.1111111111111111}, {\"QU_SEQNUM\": 18804484, \"OBI\": 0.0}, {\"QU_SEQNUM\": 18804867, \"OBI\": 0.0}, {\"QU_SEQNUM\": 18804896, \"OBI\": 0.0}, {\"QU_SEQNUM\": 18804923, \"OBI\": 0.0}, {\"QU_SEQNUM\": 18804924, \"OBI\": 0.0}, {\"QU_SEQNUM\": 18804948, \"OBI\": 0.0}, {\"QU_SEQNUM\": 18804950, \"OBI\": -0.14285714285714285}, {\"QU_SEQNUM\": 18804951, \"OBI\": -0.3333333333333333}, {\"QU_SEQNUM\": 18805005, \"OBI\": -0.3333333333333333}, {\"QU_SEQNUM\": 18805042, \"OBI\": -0.3333333333333333}, {\"QU_SEQNUM\": 18805051, \"OBI\": -0.3333333333333333}, {\"QU_SEQNUM\": 18805084, \"OBI\": -0.42857142857142855}, {\"QU_SEQNUM\": 18805091, \"OBI\": -0.6363636363636364}, {\"QU_SEQNUM\": 18805098, \"OBI\": -0.2}, {\"QU_SEQNUM\": 18805113, \"OBI\": -0.5}, {\"QU_SEQNUM\": 18805116, \"OBI\": -0.6}, {\"QU_SEQNUM\": 18805121, \"OBI\": -0.6666666666666666}, {\"QU_SEQNUM\": 18805129, \"OBI\": -0.7142857142857143}, {\"QU_SEQNUM\": 18805131, \"OBI\": -0.8}, {\"QU_SEQNUM\": 18805298, \"OBI\": -0.8}, {\"QU_SEQNUM\": 18805430, \"OBI\": -0.2}, {\"QU_SEQNUM\": 18805452, \"OBI\": -0.14285714285714285}, {\"QU_SEQNUM\": 18805842, \"OBI\": -0.23076923076923078}, {\"QU_SEQNUM\": 18805923, \"OBI\": -0.23076923076923078}, {\"QU_SEQNUM\": 18805924, \"OBI\": -0.23076923076923078}, {\"QU_SEQNUM\": 18805938, \"OBI\": -0.23076923076923078}, {\"QU_SEQNUM\": 18805944, \"OBI\": -0.23076923076923078}, {\"QU_SEQNUM\": 18806192, \"OBI\": -0.23076923076923078}, {\"QU_SEQNUM\": 18806200, \"OBI\": -0.45454545454545453}, {\"QU_SEQNUM\": 18806207, \"OBI\": 0.2}, {\"QU_SEQNUM\": 18806214, \"OBI\": 0.0}, {\"QU_SEQNUM\": 18806220, \"OBI\": -0.14285714285714285}, {\"QU_SEQNUM\": 18806225, \"OBI\": -0.45454545454545453}, {\"QU_SEQNUM\": 18806229, \"OBI\": -0.45454545454545453}, {\"QU_SEQNUM\": 18806278, \"OBI\": -0.45454545454545453}, {\"QU_SEQNUM\": 18806408, \"OBI\": -0.45454545454545453}, {\"QU_SEQNUM\": 18806423, \"OBI\": -0.45454545454545453}, {\"QU_SEQNUM\": 18806452, \"OBI\": 0.5}, {\"QU_SEQNUM\": 18806466, \"OBI\": 0.5}, {\"QU_SEQNUM\": 18806472, \"OBI\": -0.14285714285714285}, {\"QU_SEQNUM\": 18806479, \"OBI\": -0.14285714285714285}, {\"QU_SEQNUM\": 18806484, \"OBI\": -0.14285714285714285}, {\"QU_SEQNUM\": 18806527, \"OBI\": -0.25}, {\"QU_SEQNUM\": 18806538, \"OBI\": -0.25}, {\"QU_SEQNUM\": 18806545, \"OBI\": -0.3333333333333333}, {\"QU_SEQNUM\": 18806546, \"OBI\": -0.3333333333333333}, {\"QU_SEQNUM\": 18806622, \"OBI\": -0.7142857142857143}, {\"QU_SEQNUM\": 18807067, \"OBI\": -0.5}, {\"QU_SEQNUM\": 18807073, \"OBI\": -0.5555555555555556}, {\"QU_SEQNUM\": 18807145, \"OBI\": -0.5555555555555556}, {\"QU_SEQNUM\": 18807147, \"OBI\": -0.3333333333333333}, {\"QU_SEQNUM\": 18807152, \"OBI\": -0.14285714285714285}, {\"QU_SEQNUM\": 18807156, \"OBI\": -0.6}, {\"QU_SEQNUM\": 18807159, \"OBI\": -0.6}, {\"QU_SEQNUM\": 18807162, \"OBI\": -0.6}, {\"QU_SEQNUM\": 18807164, \"OBI\": -0.3333333333333333}, {\"QU_SEQNUM\": 18807175, \"OBI\": -0.5555555555555556}, {\"QU_SEQNUM\": 18807177, \"OBI\": -0.4}, {\"QU_SEQNUM\": 18807181, \"OBI\": -0.5555555555555556}, {\"QU_SEQNUM\": 18807195, \"OBI\": -0.4}, {\"QU_SEQNUM\": 18807197, \"OBI\": -0.5555555555555556}, {\"QU_SEQNUM\": 18807206, \"OBI\": -0.5}, {\"QU_SEQNUM\": 18807208, \"OBI\": -0.3333333333333333}, {\"QU_SEQNUM\": 18807209, \"OBI\": -0.5}, {\"QU_SEQNUM\": 18807215, \"OBI\": -0.3333333333333333}, {\"QU_SEQNUM\": 18807225, \"OBI\": 0.0}, {\"QU_SEQNUM\": 18807232, \"OBI\": 0.2}, {\"QU_SEQNUM\": 18807255, \"OBI\": 0.0}, {\"QU_SEQNUM\": 18807259, \"OBI\": -0.2}, {\"QU_SEQNUM\": 18807349, \"OBI\": 0.0}, {\"QU_SEQNUM\": 18807353, \"OBI\": -0.2}, {\"QU_SEQNUM\": 18807402, \"OBI\": 0.0}, {\"QU_SEQNUM\": 18807405, \"OBI\": -0.2}, {\"QU_SEQNUM\": 18807453, \"OBI\": 0.0}, {\"QU_SEQNUM\": 18807480, \"OBI\": -0.2}, {\"QU_SEQNUM\": 18807801, \"OBI\": 0.0}, {\"QU_SEQNUM\": 18807820, \"OBI\": -0.2}, {\"QU_SEQNUM\": 18808153, \"OBI\": -0.5}, {\"QU_SEQNUM\": 18808257, \"OBI\": -0.5}, {\"QU_SEQNUM\": 18808275, \"OBI\": 0.0}, {\"QU_SEQNUM\": 18808276, \"OBI\": -0.2}, {\"QU_SEQNUM\": 18808282, \"OBI\": -0.3333333333333333}, {\"QU_SEQNUM\": 18808506, \"OBI\": -0.3333333333333333}, {\"QU_SEQNUM\": 18808601, \"OBI\": -0.3333333333333333}, {\"QU_SEQNUM\": 18808715, \"OBI\": -0.6}, {\"QU_SEQNUM\": 18809292, \"OBI\": -0.6}, {\"QU_SEQNUM\": 18809313, \"OBI\": -0.6}, {\"QU_SEQNUM\": 18809361, \"OBI\": -0.6}, {\"QU_SEQNUM\": 18809487, \"OBI\": -0.6}, {\"QU_SEQNUM\": 18809607, \"OBI\": -0.6}, {\"QU_SEQNUM\": 18809725, \"OBI\": -0.6}, {\"QU_SEQNUM\": 18809766, \"OBI\": -0.6}, {\"QU_SEQNUM\": 18809770, \"OBI\": -0.6666666666666666}, {\"QU_SEQNUM\": 18809777, \"OBI\": -0.7142857142857143}, {\"QU_SEQNUM\": 18809781, \"OBI\": -0.75}, {\"QU_SEQNUM\": 18809784, \"OBI\": -0.7777777777777778}, {\"QU_SEQNUM\": 18809791, \"OBI\": -0.8333333333333334}, {\"QU_SEQNUM\": 18809796, \"OBI\": -0.6666666666666666}, {\"QU_SEQNUM\": 18809813, \"OBI\": -0.6666666666666666}, {\"QU_SEQNUM\": 18809832, \"OBI\": -0.6666666666666666}, {\"QU_SEQNUM\": 18809836, \"OBI\": -0.7142857142857143}, {\"QU_SEQNUM\": 18809875, \"OBI\": -0.6666666666666666}, {\"QU_SEQNUM\": 18809901, \"OBI\": -0.6666666666666666}, {\"QU_SEQNUM\": 18809902, \"OBI\": -0.6666666666666666}, {\"QU_SEQNUM\": 18809919, \"OBI\": -0.6666666666666666}, {\"QU_SEQNUM\": 18809923, \"OBI\": 0.09090909090909091}, {\"QU_SEQNUM\": 18809965, \"OBI\": 0.2}, {\"QU_SEQNUM\": 18810033, \"OBI\": 0.3333333333333333}, {\"QU_SEQNUM\": 18810128, \"OBI\": 0.25}, {\"QU_SEQNUM\": 18810233, \"OBI\": -0.09090909090909091}, {\"QU_SEQNUM\": 18810256, \"OBI\": -0.09090909090909091}, {\"QU_SEQNUM\": 18810266, \"OBI\": -0.16666666666666666}, {\"QU_SEQNUM\": 18810271, \"OBI\": -0.23076923076923078}, {\"QU_SEQNUM\": 18810275, \"OBI\": -0.2857142857142857}, {\"QU_SEQNUM\": 18810298, \"OBI\": 0.1111111111111111}, {\"QU_SEQNUM\": 18810343, \"OBI\": 0.1111111111111111}, {\"QU_SEQNUM\": 18810349, \"OBI\": 0.2}, {\"QU_SEQNUM\": 18810421, \"OBI\": 0.09090909090909091}, {\"QU_SEQNUM\": 18810429, \"OBI\": 0.2}, {\"QU_SEQNUM\": 18810569, \"OBI\": 0.3333333333333333}, {\"QU_SEQNUM\": 18810572, \"OBI\": 0.5}, {\"QU_SEQNUM\": 18810618, \"OBI\": 0.6}, {\"QU_SEQNUM\": 18810624, \"OBI\": 0.7777777777777778}, {\"QU_SEQNUM\": 18810643, \"OBI\": 0.6}, {\"QU_SEQNUM\": 18810708, \"OBI\": 0.7777777777777778}, {\"QU_SEQNUM\": 18810720, \"OBI\": 0.06666666666666667}, {\"QU_SEQNUM\": 18810731, \"OBI\": 0.125}, {\"QU_SEQNUM\": 18810735, \"OBI\": 0.125}, {\"QU_SEQNUM\": 18810742, \"OBI\": 0.06666666666666667}, {\"QU_SEQNUM\": 18810749, \"OBI\": 0.06666666666666667}, {\"QU_SEQNUM\": 18810868, \"OBI\": 0.06666666666666667}, {\"QU_SEQNUM\": 18811098, \"OBI\": 0.06666666666666667}, {\"QU_SEQNUM\": 18811120, \"OBI\": 0.3333333333333333}, {\"QU_SEQNUM\": 18811128, \"OBI\": 0.2727272727272727}, {\"QU_SEQNUM\": 18811130, \"OBI\": 0.4}, {\"QU_SEQNUM\": 18811134, \"OBI\": 0.45454545454545453}, {\"QU_SEQNUM\": 18811198, \"OBI\": 0.6}, {\"QU_SEQNUM\": 18811209, \"OBI\": -0.3333333333333333}, {\"QU_SEQNUM\": 18811211, \"OBI\": 0.0}, {\"QU_SEQNUM\": 18811212, \"OBI\": 0.2}, {\"QU_SEQNUM\": 18811215, \"OBI\": 0.3333333333333333}, {\"QU_SEQNUM\": 18811238, \"OBI\": 0.2}, {\"QU_SEQNUM\": 18811239, \"OBI\": 0.0}, {\"QU_SEQNUM\": 18811240, \"OBI\": -0.3333333333333333}, {\"QU_SEQNUM\": 18811242, \"OBI\": 0.6}, {\"QU_SEQNUM\": 18811244, \"OBI\": 0.45454545454545453}, {\"QU_SEQNUM\": 18811456, \"OBI\": 0.6}, {\"QU_SEQNUM\": 18811463, \"OBI\": -0.3333333333333333}, {\"QU_SEQNUM\": 18811464, \"OBI\": 0.0}, {\"QU_SEQNUM\": 18811473, \"OBI\": 0.3333333333333333}, {\"QU_SEQNUM\": 18811583, \"OBI\": 0.5}, {\"QU_SEQNUM\": 18812041, \"OBI\": 0.2}, {\"QU_SEQNUM\": 18812042, \"OBI\": 0.0}, {\"QU_SEQNUM\": 18812094, \"OBI\": -0.2}, {\"QU_SEQNUM\": 18812194, \"OBI\": 0.0}, {\"QU_SEQNUM\": 18812201, \"OBI\": 0.3333333333333333}, {\"QU_SEQNUM\": 18812499, \"OBI\": -0.6}, {\"QU_SEQNUM\": 18812501, \"OBI\": 0.3333333333333333}, {\"QU_SEQNUM\": 18812503, \"OBI\": 0.0}, {\"QU_SEQNUM\": 18812505, \"OBI\": 0.0}, {\"QU_SEQNUM\": 18812589, \"OBI\": 0.2}, {\"QU_SEQNUM\": 18812593, \"OBI\": 0.5}, {\"QU_SEQNUM\": 18812595, \"OBI\": -0.45454545454545453}, {\"QU_SEQNUM\": 18812598, \"OBI\": -0.45454545454545453}, {\"QU_SEQNUM\": 18812602, \"OBI\": -0.45454545454545453}, {\"QU_SEQNUM\": 18812612, \"OBI\": -0.45454545454545453}, {\"QU_SEQNUM\": 18812620, \"OBI\": -0.45454545454545453}, {\"QU_SEQNUM\": 18812653, \"OBI\": 0.5}, {\"QU_SEQNUM\": 18812662, \"OBI\": -0.45454545454545453}, {\"QU_SEQNUM\": 18812666, \"OBI\": 0.5}, {\"QU_SEQNUM\": 18812683, \"OBI\": -0.4}, {\"QU_SEQNUM\": 18812811, \"OBI\": -0.2727272727272727}, {\"QU_SEQNUM\": 18812836, \"OBI\": -0.2727272727272727}, {\"QU_SEQNUM\": 18812884, \"OBI\": -0.75}, {\"QU_SEQNUM\": 18812886, \"OBI\": -0.5555555555555556}, {\"QU_SEQNUM\": 18812893, \"OBI\": -0.75}, {\"QU_SEQNUM\": 18812897, \"OBI\": -0.2727272727272727}, {\"QU_SEQNUM\": 18812961, \"OBI\": -0.4}, {\"QU_SEQNUM\": 18813075, \"OBI\": -0.14285714285714285}, {\"QU_SEQNUM\": 18813377, \"OBI\": 0.5}, {\"QU_SEQNUM\": 18813379, \"OBI\": 0.2}, {\"QU_SEQNUM\": 18813394, \"OBI\": 0.2}, {\"QU_SEQNUM\": 18813450, \"OBI\": 0.5}, {\"QU_SEQNUM\": 18813457, \"OBI\": -0.14285714285714285}, {\"QU_SEQNUM\": 18813459, \"OBI\": -0.14285714285714285}, {\"QU_SEQNUM\": 18813574, \"OBI\": -0.6}, {\"QU_SEQNUM\": 18813575, \"OBI\": -0.3333333333333333}, {\"QU_SEQNUM\": 18813651, \"OBI\": -0.2}, {\"QU_SEQNUM\": 18813654, \"OBI\": 0.0}, {\"QU_SEQNUM\": 18813668, \"OBI\": -0.2}, {\"QU_SEQNUM\": 18813671, \"OBI\": -0.3333333333333333}, {\"QU_SEQNUM\": 18813764, \"OBI\": -0.6}, {\"QU_SEQNUM\": 18813912, \"OBI\": -0.5}, {\"QU_SEQNUM\": 18813924, \"OBI\": -0.6}, {\"QU_SEQNUM\": 18813958, \"OBI\": -0.14285714285714285}, {\"QU_SEQNUM\": 18814207, \"OBI\": -0.14285714285714285}, {\"QU_SEQNUM\": 18814209, \"OBI\": -0.14285714285714285}, {\"QU_SEQNUM\": 18814211, \"OBI\": -0.6}, {\"QU_SEQNUM\": 18814225, \"OBI\": -0.5}, {\"QU_SEQNUM\": 18814232, \"OBI\": -0.3333333333333333}, {\"QU_SEQNUM\": 18814236, \"OBI\": -0.5}, {\"QU_SEQNUM\": 18814335, \"OBI\": -0.6}, {\"QU_SEQNUM\": 18814339, \"OBI\": -0.14285714285714285}, {\"QU_SEQNUM\": 18814428, \"OBI\": -0.14285714285714285}, {\"QU_SEQNUM\": 18815506, \"OBI\": -0.6}, {\"QU_SEQNUM\": 18815509, \"OBI\": -0.6}, {\"QU_SEQNUM\": 18815540, \"OBI\": -0.6}, {\"QU_SEQNUM\": 18815543, \"OBI\": -0.6}, {\"QU_SEQNUM\": 18815551, \"OBI\": -0.5}, {\"QU_SEQNUM\": 18815609, \"OBI\": -0.2}, {\"QU_SEQNUM\": 18815640, \"OBI\": 0.0}, {\"QU_SEQNUM\": 18815644, \"OBI\": 0.3333333333333333}, {\"QU_SEQNUM\": 18815688, \"OBI\": -0.5}, {\"QU_SEQNUM\": 18815696, \"OBI\": -0.5}, {\"QU_SEQNUM\": 18815698, \"OBI\": 0.3333333333333333}, {\"QU_SEQNUM\": 18815701, \"OBI\": 0.0}, {\"QU_SEQNUM\": 18815729, \"OBI\": -0.2}, {\"QU_SEQNUM\": 18815736, \"OBI\": -0.2}, {\"QU_SEQNUM\": 18815737, \"OBI\": -0.2}, {\"QU_SEQNUM\": 18815748, \"OBI\": -0.2}, {\"QU_SEQNUM\": 18815752, \"OBI\": -0.2}, {\"QU_SEQNUM\": 18815780, \"OBI\": -0.2}, {\"QU_SEQNUM\": 18815783, \"OBI\": 0.0}, {\"QU_SEQNUM\": 18815793, \"OBI\": 0.0}, {\"QU_SEQNUM\": 18815833, \"OBI\": -0.2}, {\"QU_SEQNUM\": 18815988, \"OBI\": -0.2}, {\"QU_SEQNUM\": 18815991, \"OBI\": 0.0}, {\"QU_SEQNUM\": 18816026, \"OBI\": 0.0}, {\"QU_SEQNUM\": 18816077, \"OBI\": 0.0}, {\"QU_SEQNUM\": 18816108, \"OBI\": -0.2}, {\"QU_SEQNUM\": 18816112, \"OBI\": -0.2}, {\"QU_SEQNUM\": 18816131, \"OBI\": -0.5}, {\"QU_SEQNUM\": 18816297, \"OBI\": -0.2}, {\"QU_SEQNUM\": 18816303, \"OBI\": 0.0}, {\"QU_SEQNUM\": 18816306, \"OBI\": 0.0}, {\"QU_SEQNUM\": 18816367, \"OBI\": 0.0}, {\"QU_SEQNUM\": 18816369, \"OBI\": -0.2}, {\"QU_SEQNUM\": 18816376, \"OBI\": -0.5}, {\"QU_SEQNUM\": 18816388, \"OBI\": -0.5}, {\"QU_SEQNUM\": 18816397, \"OBI\": -0.2}, {\"QU_SEQNUM\": 18816402, \"OBI\": 0.0}, {\"QU_SEQNUM\": 18816511, \"OBI\": 0.3333333333333333}, {\"QU_SEQNUM\": 18816538, \"OBI\": 0.3333333333333333}, {\"QU_SEQNUM\": 18816642, \"OBI\": -0.2}, {\"QU_SEQNUM\": 18816687, \"OBI\": -0.5}, {\"QU_SEQNUM\": 18816693, \"OBI\": 0.0}, {\"QU_SEQNUM\": 18816720, \"OBI\": -0.14285714285714285}, {\"QU_SEQNUM\": 18816748, \"OBI\": -0.6}, {\"QU_SEQNUM\": 18816753, \"OBI\": -0.5}, {\"QU_SEQNUM\": 18816754, \"OBI\": -0.3333333333333333}, {\"QU_SEQNUM\": 18816760, \"OBI\": 0.0}, {\"QU_SEQNUM\": 18816765, \"OBI\": -0.2}, {\"QU_SEQNUM\": 18816772, \"OBI\": -0.5}, {\"QU_SEQNUM\": 18816789, \"OBI\": -0.2}, {\"QU_SEQNUM\": 18816790, \"OBI\": -0.2}, {\"QU_SEQNUM\": 18816795, \"OBI\": -0.2}, {\"QU_SEQNUM\": 18816797, \"OBI\": 0.0}, {\"QU_SEQNUM\": 18816811, \"OBI\": -0.3333333333333333}, {\"QU_SEQNUM\": 18816819, \"OBI\": -0.5}, {\"QU_SEQNUM\": 18816831, \"OBI\": -0.6}]}}, {\"mode\": \"vega-lite\"});\n",
       "</script>"
      ],
      "text/plain": [
       "alt.Chart(...)"
      ]
     },
     "execution_count": 39,
     "metadata": {},
     "output_type": "execute_result"
    }
   ],
   "source": [
    "df_tmp[['QU_SEQNUM', 'OBI']].head(1000).plot.line(x=\"QU_SEQNUM\", y=\"OBI\")"
   ]
  },
  {
   "cell_type": "code",
   "execution_count": 37,
   "id": "f90fd380",
   "metadata": {},
   "outputs": [
    {
     "data": {
      "text/html": [
       "\n",
       "<style>\n",
       "  #altair-viz-d2b2ec24a3464d9d9c63a7aa7470ec58.vega-embed {\n",
       "    width: 100%;\n",
       "    display: flex;\n",
       "  }\n",
       "\n",
       "  #altair-viz-d2b2ec24a3464d9d9c63a7aa7470ec58.vega-embed details,\n",
       "  #altair-viz-d2b2ec24a3464d9d9c63a7aa7470ec58.vega-embed details summary {\n",
       "    position: relative;\n",
       "  }\n",
       "</style>\n",
       "<div id=\"altair-viz-d2b2ec24a3464d9d9c63a7aa7470ec58\"></div>\n",
       "<script type=\"text/javascript\">\n",
       "  var VEGA_DEBUG = (typeof VEGA_DEBUG == \"undefined\") ? {} : VEGA_DEBUG;\n",
       "  (function(spec, embedOpt){\n",
       "    let outputDiv = document.currentScript.previousElementSibling;\n",
       "    if (outputDiv.id !== \"altair-viz-d2b2ec24a3464d9d9c63a7aa7470ec58\") {\n",
       "      outputDiv = document.getElementById(\"altair-viz-d2b2ec24a3464d9d9c63a7aa7470ec58\");\n",
       "    }\n",
       "\n",
       "    const paths = {\n",
       "      \"vega\": \"https://cdn.jsdelivr.net/npm/vega@5?noext\",\n",
       "      \"vega-lib\": \"https://cdn.jsdelivr.net/npm/vega-lib?noext\",\n",
       "      \"vega-lite\": \"https://cdn.jsdelivr.net/npm/vega-lite@5.20.1?noext\",\n",
       "      \"vega-embed\": \"https://cdn.jsdelivr.net/npm/vega-embed@6?noext\",\n",
       "    };\n",
       "\n",
       "    function maybeLoadScript(lib, version) {\n",
       "      var key = `${lib.replace(\"-\", \"\")}_version`;\n",
       "      return (VEGA_DEBUG[key] == version) ?\n",
       "        Promise.resolve(paths[lib]) :\n",
       "        new Promise(function(resolve, reject) {\n",
       "          var s = document.createElement('script');\n",
       "          document.getElementsByTagName(\"head\")[0].appendChild(s);\n",
       "          s.async = true;\n",
       "          s.onload = () => {\n",
       "            VEGA_DEBUG[key] = version;\n",
       "            return resolve(paths[lib]);\n",
       "          };\n",
       "          s.onerror = () => reject(`Error loading script: ${paths[lib]}`);\n",
       "          s.src = paths[lib];\n",
       "        });\n",
       "    }\n",
       "\n",
       "    function showError(err) {\n",
       "      outputDiv.innerHTML = `<div class=\"error\" style=\"color:red;\">${err}</div>`;\n",
       "      throw err;\n",
       "    }\n",
       "\n",
       "    function displayChart(vegaEmbed) {\n",
       "      vegaEmbed(outputDiv, spec, embedOpt)\n",
       "        .catch(err => showError(`Javascript Error: ${err.message}<br>This usually means there's a typo in your chart specification. See the javascript console for the full traceback.`));\n",
       "    }\n",
       "\n",
       "    if(typeof define === \"function\" && define.amd) {\n",
       "      requirejs.config({paths});\n",
       "      let deps = [\"vega-embed\"];\n",
       "      require(deps, displayChart, err => showError(`Error loading script: ${err.message}`));\n",
       "    } else {\n",
       "      maybeLoadScript(\"vega\", \"5\")\n",
       "        .then(() => maybeLoadScript(\"vega-lite\", \"5.20.1\"))\n",
       "        .then(() => maybeLoadScript(\"vega-embed\", \"6\"))\n",
       "        .catch(showError)\n",
       "        .then(() => displayChart(vegaEmbed));\n",
       "    }\n",
       "  })({\"config\": {\"view\": {\"continuousWidth\": 300, \"continuousHeight\": 300}}, \"data\": {\"name\": \"data-aeb71f26cf5281c8dbc8c96e4b58e3b6\"}, \"mark\": {\"type\": \"line\", \"tooltip\": true}, \"encoding\": {\"x\": {\"field\": \"QU_SEQNUM\", \"type\": \"quantitative\"}, \"y\": {\"field\": \"MID_PRICE\", \"type\": \"quantitative\"}}, \"params\": [{\"name\": \"param_13\", \"select\": {\"type\": \"interval\", \"encodings\": [\"x\", \"y\"]}, \"bind\": \"scales\"}], \"$schema\": \"https://vega.github.io/schema/vega-lite/v5.20.1.json\", \"datasets\": {\"data-aeb71f26cf5281c8dbc8c96e4b58e3b6\": [{\"QU_SEQNUM\": 18780753, \"MID_PRICE\": 172.665}, {\"QU_SEQNUM\": 18780758, \"MID_PRICE\": 172.665}, {\"QU_SEQNUM\": 18780760, \"MID_PRICE\": 172.66}, {\"QU_SEQNUM\": 18780809, \"MID_PRICE\": 172.66}, {\"QU_SEQNUM\": 18780813, \"MID_PRICE\": 172.665}, {\"QU_SEQNUM\": 18780845, \"MID_PRICE\": 172.665}, {\"QU_SEQNUM\": 18780866, \"MID_PRICE\": 172.665}, {\"QU_SEQNUM\": 18780868, \"MID_PRICE\": 172.665}, {\"QU_SEQNUM\": 18780880, \"MID_PRICE\": 172.665}, {\"QU_SEQNUM\": 18780881, \"MID_PRICE\": 172.665}, {\"QU_SEQNUM\": 18780882, \"MID_PRICE\": 172.665}, {\"QU_SEQNUM\": 18780901, \"MID_PRICE\": 172.67000000000002}, {\"QU_SEQNUM\": 18780927, \"MID_PRICE\": 172.67000000000002}, {\"QU_SEQNUM\": 18780937, \"MID_PRICE\": 172.67000000000002}, {\"QU_SEQNUM\": 18781289, \"MID_PRICE\": 172.665}, {\"QU_SEQNUM\": 18781291, \"MID_PRICE\": 172.665}, {\"QU_SEQNUM\": 18781294, \"MID_PRICE\": 172.665}, {\"QU_SEQNUM\": 18781295, \"MID_PRICE\": 172.665}, {\"QU_SEQNUM\": 18781308, \"MID_PRICE\": 172.665}, {\"QU_SEQNUM\": 18781309, \"MID_PRICE\": 172.665}, {\"QU_SEQNUM\": 18781422, \"MID_PRICE\": 172.665}, {\"QU_SEQNUM\": 18781427, \"MID_PRICE\": 172.67000000000002}, {\"QU_SEQNUM\": 18781430, \"MID_PRICE\": 172.67000000000002}, {\"QU_SEQNUM\": 18781435, \"MID_PRICE\": 172.67000000000002}, {\"QU_SEQNUM\": 18781522, \"MID_PRICE\": 172.67000000000002}, {\"QU_SEQNUM\": 18781528, \"MID_PRICE\": 172.665}, {\"QU_SEQNUM\": 18781576, \"MID_PRICE\": 172.67000000000002}, {\"QU_SEQNUM\": 18781592, \"MID_PRICE\": 172.67000000000002}, {\"QU_SEQNUM\": 18781610, \"MID_PRICE\": 172.67000000000002}, {\"QU_SEQNUM\": 18781622, \"MID_PRICE\": 172.665}, {\"QU_SEQNUM\": 18781630, \"MID_PRICE\": 172.665}, {\"QU_SEQNUM\": 18781636, \"MID_PRICE\": 172.665}, {\"QU_SEQNUM\": 18781639, \"MID_PRICE\": 172.665}, {\"QU_SEQNUM\": 18781643, \"MID_PRICE\": 172.665}, {\"QU_SEQNUM\": 18781645, \"MID_PRICE\": 172.665}, {\"QU_SEQNUM\": 18781649, \"MID_PRICE\": 172.665}, {\"QU_SEQNUM\": 18781653, \"MID_PRICE\": 172.67000000000002}, {\"QU_SEQNUM\": 18781661, \"MID_PRICE\": 172.665}, {\"QU_SEQNUM\": 18781668, \"MID_PRICE\": 172.665}, {\"QU_SEQNUM\": 18781679, \"MID_PRICE\": 172.665}, {\"QU_SEQNUM\": 18781705, \"MID_PRICE\": 172.665}, {\"QU_SEQNUM\": 18781742, \"MID_PRICE\": 172.665}, {\"QU_SEQNUM\": 18781763, \"MID_PRICE\": 172.665}, {\"QU_SEQNUM\": 18781764, \"MID_PRICE\": 172.665}, {\"QU_SEQNUM\": 18781766, \"MID_PRICE\": 172.67000000000002}, {\"QU_SEQNUM\": 18781769, \"MID_PRICE\": 172.665}, {\"QU_SEQNUM\": 18781773, \"MID_PRICE\": 172.665}, {\"QU_SEQNUM\": 18781911, \"MID_PRICE\": 172.665}, {\"QU_SEQNUM\": 18781919, \"MID_PRICE\": 172.665}, {\"QU_SEQNUM\": 18781920, \"MID_PRICE\": 172.665}, {\"QU_SEQNUM\": 18781955, \"MID_PRICE\": 172.665}, {\"QU_SEQNUM\": 18781964, \"MID_PRICE\": 172.665}, {\"QU_SEQNUM\": 18782005, \"MID_PRICE\": 172.665}, {\"QU_SEQNUM\": 18782009, \"MID_PRICE\": 172.665}, {\"QU_SEQNUM\": 18782031, \"MID_PRICE\": 172.665}, {\"QU_SEQNUM\": 18782035, \"MID_PRICE\": 172.665}, {\"QU_SEQNUM\": 18782044, \"MID_PRICE\": 172.665}, {\"QU_SEQNUM\": 18782047, \"MID_PRICE\": 172.665}, {\"QU_SEQNUM\": 18782063, \"MID_PRICE\": 172.665}, {\"QU_SEQNUM\": 18782064, \"MID_PRICE\": 172.665}, {\"QU_SEQNUM\": 18782072, \"MID_PRICE\": 172.665}, {\"QU_SEQNUM\": 18782080, \"MID_PRICE\": 172.665}, {\"QU_SEQNUM\": 18782116, \"MID_PRICE\": 172.67000000000002}, {\"QU_SEQNUM\": 18782142, \"MID_PRICE\": 172.67000000000002}, {\"QU_SEQNUM\": 18782167, \"MID_PRICE\": 172.67000000000002}, {\"QU_SEQNUM\": 18782249, \"MID_PRICE\": 172.67000000000002}, {\"QU_SEQNUM\": 18782255, \"MID_PRICE\": 172.665}, {\"QU_SEQNUM\": 18782259, \"MID_PRICE\": 172.665}, {\"QU_SEQNUM\": 18782273, \"MID_PRICE\": 172.665}, {\"QU_SEQNUM\": 18782276, \"MID_PRICE\": 172.665}, {\"QU_SEQNUM\": 18782293, \"MID_PRICE\": 172.67000000000002}, {\"QU_SEQNUM\": 18782296, \"MID_PRICE\": 172.67000000000002}, {\"QU_SEQNUM\": 18782341, \"MID_PRICE\": 172.67000000000002}, {\"QU_SEQNUM\": 18782388, \"MID_PRICE\": 172.665}, {\"QU_SEQNUM\": 18782411, \"MID_PRICE\": 172.665}, {\"QU_SEQNUM\": 18782416, \"MID_PRICE\": 172.665}, {\"QU_SEQNUM\": 18782419, \"MID_PRICE\": 172.67000000000002}, {\"QU_SEQNUM\": 18782432, \"MID_PRICE\": 172.67000000000002}, {\"QU_SEQNUM\": 18782439, \"MID_PRICE\": 172.67000000000002}, {\"QU_SEQNUM\": 18782445, \"MID_PRICE\": 172.665}, {\"QU_SEQNUM\": 18782449, \"MID_PRICE\": 172.665}, {\"QU_SEQNUM\": 18782450, \"MID_PRICE\": 172.665}, {\"QU_SEQNUM\": 18782452, \"MID_PRICE\": 172.665}, {\"QU_SEQNUM\": 18782453, \"MID_PRICE\": 172.665}, {\"QU_SEQNUM\": 18782458, \"MID_PRICE\": 172.665}, {\"QU_SEQNUM\": 18782460, \"MID_PRICE\": 172.665}, {\"QU_SEQNUM\": 18782464, \"MID_PRICE\": 172.67000000000002}, {\"QU_SEQNUM\": 18782465, \"MID_PRICE\": 172.67000000000002}, {\"QU_SEQNUM\": 18782509, \"MID_PRICE\": 172.67000000000002}, {\"QU_SEQNUM\": 18782574, \"MID_PRICE\": 172.665}, {\"QU_SEQNUM\": 18782576, \"MID_PRICE\": 172.665}, {\"QU_SEQNUM\": 18782595, \"MID_PRICE\": 172.67000000000002}, {\"QU_SEQNUM\": 18782598, \"MID_PRICE\": 172.67000000000002}, {\"QU_SEQNUM\": 18782628, \"MID_PRICE\": 172.665}, {\"QU_SEQNUM\": 18782636, \"MID_PRICE\": 172.665}, {\"QU_SEQNUM\": 18782640, \"MID_PRICE\": 172.665}, {\"QU_SEQNUM\": 18782652, \"MID_PRICE\": 172.665}, {\"QU_SEQNUM\": 18782685, \"MID_PRICE\": 172.665}, {\"QU_SEQNUM\": 18782690, \"MID_PRICE\": 172.665}, {\"QU_SEQNUM\": 18782692, \"MID_PRICE\": 172.665}, {\"QU_SEQNUM\": 18782695, \"MID_PRICE\": 172.67000000000002}, {\"QU_SEQNUM\": 18782799, \"MID_PRICE\": 172.67000000000002}, {\"QU_SEQNUM\": 18782807, \"MID_PRICE\": 172.67000000000002}, {\"QU_SEQNUM\": 18782812, \"MID_PRICE\": 172.67000000000002}, {\"QU_SEQNUM\": 18782816, \"MID_PRICE\": 172.67000000000002}, {\"QU_SEQNUM\": 18782827, \"MID_PRICE\": 172.67000000000002}, {\"QU_SEQNUM\": 18782829, \"MID_PRICE\": 172.67000000000002}, {\"QU_SEQNUM\": 18782855, \"MID_PRICE\": 172.67000000000002}, {\"QU_SEQNUM\": 18782862, \"MID_PRICE\": 172.67000000000002}, {\"QU_SEQNUM\": 18782984, \"MID_PRICE\": 172.67000000000002}, {\"QU_SEQNUM\": 18783016, \"MID_PRICE\": 172.665}, {\"QU_SEQNUM\": 18783017, \"MID_PRICE\": 172.665}, {\"QU_SEQNUM\": 18783021, \"MID_PRICE\": 172.665}, {\"QU_SEQNUM\": 18783025, \"MID_PRICE\": 172.665}, {\"QU_SEQNUM\": 18783030, \"MID_PRICE\": 172.665}, {\"QU_SEQNUM\": 18783075, \"MID_PRICE\": 172.665}, {\"QU_SEQNUM\": 18783079, \"MID_PRICE\": 172.67000000000002}, {\"QU_SEQNUM\": 18783082, \"MID_PRICE\": 172.67000000000002}, {\"QU_SEQNUM\": 18783089, \"MID_PRICE\": 172.67000000000002}, {\"QU_SEQNUM\": 18783114, \"MID_PRICE\": 172.67000000000002}, {\"QU_SEQNUM\": 18783149, \"MID_PRICE\": 172.675}, {\"QU_SEQNUM\": 18783173, \"MID_PRICE\": 172.67000000000002}, {\"QU_SEQNUM\": 18783246, \"MID_PRICE\": 172.67000000000002}, {\"QU_SEQNUM\": 18783248, \"MID_PRICE\": 172.67000000000002}, {\"QU_SEQNUM\": 18783352, \"MID_PRICE\": 172.67000000000002}, {\"QU_SEQNUM\": 18783365, \"MID_PRICE\": 172.67000000000002}, {\"QU_SEQNUM\": 18783368, \"MID_PRICE\": 172.67000000000002}, {\"QU_SEQNUM\": 18783373, \"MID_PRICE\": 172.66500000000002}, {\"QU_SEQNUM\": 18783375, \"MID_PRICE\": 172.66500000000002}, {\"QU_SEQNUM\": 18783377, \"MID_PRICE\": 172.66500000000002}, {\"QU_SEQNUM\": 18783399, \"MID_PRICE\": 172.67000000000002}, {\"QU_SEQNUM\": 18783407, \"MID_PRICE\": 172.67000000000002}, {\"QU_SEQNUM\": 18783481, \"MID_PRICE\": 172.675}, {\"QU_SEQNUM\": 18783483, \"MID_PRICE\": 172.67000000000002}, {\"QU_SEQNUM\": 18783548, \"MID_PRICE\": 172.67000000000002}, {\"QU_SEQNUM\": 18783551, \"MID_PRICE\": 172.67000000000002}, {\"QU_SEQNUM\": 18783566, \"MID_PRICE\": 172.67000000000002}, {\"QU_SEQNUM\": 18783757, \"MID_PRICE\": 172.67000000000002}, {\"QU_SEQNUM\": 18784445, \"MID_PRICE\": 172.67000000000002}, {\"QU_SEQNUM\": 18784455, \"MID_PRICE\": 172.67000000000002}, {\"QU_SEQNUM\": 18784469, \"MID_PRICE\": 172.67000000000002}, {\"QU_SEQNUM\": 18784472, \"MID_PRICE\": 172.67000000000002}, {\"QU_SEQNUM\": 18784548, \"MID_PRICE\": 172.675}, {\"QU_SEQNUM\": 18784551, \"MID_PRICE\": 172.67000000000002}, {\"QU_SEQNUM\": 18784554, \"MID_PRICE\": 172.67000000000002}, {\"QU_SEQNUM\": 18784556, \"MID_PRICE\": 172.675}, {\"QU_SEQNUM\": 18784561, \"MID_PRICE\": 172.675}, {\"QU_SEQNUM\": 18784615, \"MID_PRICE\": 172.675}, {\"QU_SEQNUM\": 18784618, \"MID_PRICE\": 172.68}, {\"QU_SEQNUM\": 18784629, \"MID_PRICE\": 172.68}, {\"QU_SEQNUM\": 18784662, \"MID_PRICE\": 172.68}, {\"QU_SEQNUM\": 18784668, \"MID_PRICE\": 172.68}, {\"QU_SEQNUM\": 18784681, \"MID_PRICE\": 172.68}, {\"QU_SEQNUM\": 18784807, \"MID_PRICE\": 172.68}, {\"QU_SEQNUM\": 18784837, \"MID_PRICE\": 172.68}, {\"QU_SEQNUM\": 18784843, \"MID_PRICE\": 172.675}, {\"QU_SEQNUM\": 18784848, \"MID_PRICE\": 172.675}, {\"QU_SEQNUM\": 18784850, \"MID_PRICE\": 172.675}, {\"QU_SEQNUM\": 18784853, \"MID_PRICE\": 172.675}, {\"QU_SEQNUM\": 18784857, \"MID_PRICE\": 172.675}, {\"QU_SEQNUM\": 18784858, \"MID_PRICE\": 172.675}, {\"QU_SEQNUM\": 18784898, \"MID_PRICE\": 172.675}, {\"QU_SEQNUM\": 18784918, \"MID_PRICE\": 172.68}, {\"QU_SEQNUM\": 18784921, \"MID_PRICE\": 172.68}, {\"QU_SEQNUM\": 18784924, \"MID_PRICE\": 172.68}, {\"QU_SEQNUM\": 18784931, \"MID_PRICE\": 172.68}, {\"QU_SEQNUM\": 18785012, \"MID_PRICE\": 172.68}, {\"QU_SEQNUM\": 18785013, \"MID_PRICE\": 172.68}, {\"QU_SEQNUM\": 18785057, \"MID_PRICE\": 172.68}, {\"QU_SEQNUM\": 18785196, \"MID_PRICE\": 172.68}, {\"QU_SEQNUM\": 18785199, \"MID_PRICE\": 172.68}, {\"QU_SEQNUM\": 18785218, \"MID_PRICE\": 172.68}, {\"QU_SEQNUM\": 18785235, \"MID_PRICE\": 172.68}, {\"QU_SEQNUM\": 18785452, \"MID_PRICE\": 172.68}, {\"QU_SEQNUM\": 18785466, \"MID_PRICE\": 172.68}, {\"QU_SEQNUM\": 18785470, \"MID_PRICE\": 172.68}, {\"QU_SEQNUM\": 18785479, \"MID_PRICE\": 172.68}, {\"QU_SEQNUM\": 18785488, \"MID_PRICE\": 172.68}, {\"QU_SEQNUM\": 18785495, \"MID_PRICE\": 172.68}, {\"QU_SEQNUM\": 18785503, \"MID_PRICE\": 172.685}, {\"QU_SEQNUM\": 18785506, \"MID_PRICE\": 172.685}, {\"QU_SEQNUM\": 18785509, \"MID_PRICE\": 172.685}, {\"QU_SEQNUM\": 18785515, \"MID_PRICE\": 172.685}, {\"QU_SEQNUM\": 18785529, \"MID_PRICE\": 172.685}, {\"QU_SEQNUM\": 18785567, \"MID_PRICE\": 172.685}, {\"QU_SEQNUM\": 18785570, \"MID_PRICE\": 172.685}, {\"QU_SEQNUM\": 18785587, \"MID_PRICE\": 172.685}, {\"QU_SEQNUM\": 18785590, \"MID_PRICE\": 172.685}, {\"QU_SEQNUM\": 18785641, \"MID_PRICE\": 172.685}, {\"QU_SEQNUM\": 18785670, \"MID_PRICE\": 172.685}, {\"QU_SEQNUM\": 18785678, \"MID_PRICE\": 172.685}, {\"QU_SEQNUM\": 18785683, \"MID_PRICE\": 172.685}, {\"QU_SEQNUM\": 18785704, \"MID_PRICE\": 172.685}, {\"QU_SEQNUM\": 18785718, \"MID_PRICE\": 172.685}, {\"QU_SEQNUM\": 18785730, \"MID_PRICE\": 172.685}, {\"QU_SEQNUM\": 18785734, \"MID_PRICE\": 172.685}, {\"QU_SEQNUM\": 18785742, \"MID_PRICE\": 172.685}, {\"QU_SEQNUM\": 18785747, \"MID_PRICE\": 172.685}, {\"QU_SEQNUM\": 18785776, \"MID_PRICE\": 172.685}, {\"QU_SEQNUM\": 18785946, \"MID_PRICE\": 172.685}, {\"QU_SEQNUM\": 18785947, \"MID_PRICE\": 172.685}, {\"QU_SEQNUM\": 18785949, \"MID_PRICE\": 172.685}, {\"QU_SEQNUM\": 18785977, \"MID_PRICE\": 172.685}, {\"QU_SEQNUM\": 18786294, \"MID_PRICE\": 172.685}, {\"QU_SEQNUM\": 18786297, \"MID_PRICE\": 172.685}, {\"QU_SEQNUM\": 18786300, \"MID_PRICE\": 172.685}, {\"QU_SEQNUM\": 18786329, \"MID_PRICE\": 172.685}, {\"QU_SEQNUM\": 18786338, \"MID_PRICE\": 172.685}, {\"QU_SEQNUM\": 18786428, \"MID_PRICE\": 172.685}, {\"QU_SEQNUM\": 18786823, \"MID_PRICE\": 172.685}, {\"QU_SEQNUM\": 18786827, \"MID_PRICE\": 172.685}, {\"QU_SEQNUM\": 18786838, \"MID_PRICE\": 172.685}, {\"QU_SEQNUM\": 18786841, \"MID_PRICE\": 172.685}, {\"QU_SEQNUM\": 18786842, \"MID_PRICE\": 172.685}, {\"QU_SEQNUM\": 18786854, \"MID_PRICE\": 172.685}, {\"QU_SEQNUM\": 18786870, \"MID_PRICE\": 172.685}, {\"QU_SEQNUM\": 18786944, \"MID_PRICE\": 172.69}, {\"QU_SEQNUM\": 18786945, \"MID_PRICE\": 172.69}, {\"QU_SEQNUM\": 18786967, \"MID_PRICE\": 172.685}, {\"QU_SEQNUM\": 18786983, \"MID_PRICE\": 172.685}, {\"QU_SEQNUM\": 18786984, \"MID_PRICE\": 172.685}, {\"QU_SEQNUM\": 18786985, \"MID_PRICE\": 172.685}, {\"QU_SEQNUM\": 18786988, \"MID_PRICE\": 172.685}, {\"QU_SEQNUM\": 18786994, \"MID_PRICE\": 172.685}, {\"QU_SEQNUM\": 18786995, \"MID_PRICE\": 172.69}, {\"QU_SEQNUM\": 18786997, \"MID_PRICE\": 172.69}, {\"QU_SEQNUM\": 18787019, \"MID_PRICE\": 172.69}, {\"QU_SEQNUM\": 18787020, \"MID_PRICE\": 172.685}, {\"QU_SEQNUM\": 18787279, \"MID_PRICE\": 172.685}, {\"QU_SEQNUM\": 18787288, \"MID_PRICE\": 172.685}, {\"QU_SEQNUM\": 18787291, \"MID_PRICE\": 172.69}, {\"QU_SEQNUM\": 18787292, \"MID_PRICE\": 172.69}, {\"QU_SEQNUM\": 18787337, \"MID_PRICE\": 172.69}, {\"QU_SEQNUM\": 18787344, \"MID_PRICE\": 172.685}, {\"QU_SEQNUM\": 18787355, \"MID_PRICE\": 172.685}, {\"QU_SEQNUM\": 18787365, \"MID_PRICE\": 172.685}, {\"QU_SEQNUM\": 18787371, \"MID_PRICE\": 172.685}, {\"QU_SEQNUM\": 18787396, \"MID_PRICE\": 172.685}, {\"QU_SEQNUM\": 18787412, \"MID_PRICE\": 172.685}, {\"QU_SEQNUM\": 18787467, \"MID_PRICE\": 172.685}, {\"QU_SEQNUM\": 18787471, \"MID_PRICE\": 172.685}, {\"QU_SEQNUM\": 18787646, \"MID_PRICE\": 172.685}, {\"QU_SEQNUM\": 18787650, \"MID_PRICE\": 172.69}, {\"QU_SEQNUM\": 18787654, \"MID_PRICE\": 172.69}, {\"QU_SEQNUM\": 18787667, \"MID_PRICE\": 172.69}, {\"QU_SEQNUM\": 18787668, \"MID_PRICE\": 172.685}, {\"QU_SEQNUM\": 18787673, \"MID_PRICE\": 172.685}, {\"QU_SEQNUM\": 18787674, \"MID_PRICE\": 172.685}, {\"QU_SEQNUM\": 18787676, \"MID_PRICE\": 172.685}, {\"QU_SEQNUM\": 18787679, \"MID_PRICE\": 172.69}, {\"QU_SEQNUM\": 18787683, \"MID_PRICE\": 172.69}, {\"QU_SEQNUM\": 18787714, \"MID_PRICE\": 172.69}, {\"QU_SEQNUM\": 18787730, \"MID_PRICE\": 172.69}, {\"QU_SEQNUM\": 18787731, \"MID_PRICE\": 172.685}, {\"QU_SEQNUM\": 18787736, \"MID_PRICE\": 172.685}, {\"QU_SEQNUM\": 18787803, \"MID_PRICE\": 172.685}, {\"QU_SEQNUM\": 18787806, \"MID_PRICE\": 172.685}, {\"QU_SEQNUM\": 18787813, \"MID_PRICE\": 172.69}, {\"QU_SEQNUM\": 18787814, \"MID_PRICE\": 172.69}, {\"QU_SEQNUM\": 18787819, \"MID_PRICE\": 172.69}, {\"QU_SEQNUM\": 18788493, \"MID_PRICE\": 172.685}, {\"QU_SEQNUM\": 18788548, \"MID_PRICE\": 172.685}, {\"QU_SEQNUM\": 18788552, \"MID_PRICE\": 172.69}, {\"QU_SEQNUM\": 18788645, \"MID_PRICE\": 172.69}, {\"QU_SEQNUM\": 18788869, \"MID_PRICE\": 172.69}, {\"QU_SEQNUM\": 18788876, \"MID_PRICE\": 172.69}, {\"QU_SEQNUM\": 18788881, \"MID_PRICE\": 172.685}, {\"QU_SEQNUM\": 18788885, \"MID_PRICE\": 172.685}, {\"QU_SEQNUM\": 18788898, \"MID_PRICE\": 172.685}, {\"QU_SEQNUM\": 18788899, \"MID_PRICE\": 172.685}, {\"QU_SEQNUM\": 18788911, \"MID_PRICE\": 172.685}, {\"QU_SEQNUM\": 18788915, \"MID_PRICE\": 172.685}, {\"QU_SEQNUM\": 18789018, \"MID_PRICE\": 172.685}, {\"QU_SEQNUM\": 18789128, \"MID_PRICE\": 172.685}, {\"QU_SEQNUM\": 18789134, \"MID_PRICE\": 172.685}, {\"QU_SEQNUM\": 18789163, \"MID_PRICE\": 172.685}, {\"QU_SEQNUM\": 18789176, \"MID_PRICE\": 172.685}, {\"QU_SEQNUM\": 18789178, \"MID_PRICE\": 172.685}, {\"QU_SEQNUM\": 18789197, \"MID_PRICE\": 172.685}, {\"QU_SEQNUM\": 18789211, \"MID_PRICE\": 172.685}, {\"QU_SEQNUM\": 18789216, \"MID_PRICE\": 172.685}, {\"QU_SEQNUM\": 18789261, \"MID_PRICE\": 172.685}, {\"QU_SEQNUM\": 18789406, \"MID_PRICE\": 172.685}, {\"QU_SEQNUM\": 18789442, \"MID_PRICE\": 172.685}, {\"QU_SEQNUM\": 18789452, \"MID_PRICE\": 172.685}, {\"QU_SEQNUM\": 18789455, \"MID_PRICE\": 172.685}, {\"QU_SEQNUM\": 18789553, \"MID_PRICE\": 172.685}, {\"QU_SEQNUM\": 18789992, \"MID_PRICE\": 172.685}, {\"QU_SEQNUM\": 18790085, \"MID_PRICE\": 172.685}, {\"QU_SEQNUM\": 18790111, \"MID_PRICE\": 172.685}, {\"QU_SEQNUM\": 18790188, \"MID_PRICE\": 172.685}, {\"QU_SEQNUM\": 18790230, \"MID_PRICE\": 172.685}, {\"QU_SEQNUM\": 18790235, \"MID_PRICE\": 172.685}, {\"QU_SEQNUM\": 18790257, \"MID_PRICE\": 172.685}, {\"QU_SEQNUM\": 18790259, \"MID_PRICE\": 172.685}, {\"QU_SEQNUM\": 18790260, \"MID_PRICE\": 172.69}, {\"QU_SEQNUM\": 18790270, \"MID_PRICE\": 172.69}, {\"QU_SEQNUM\": 18790305, \"MID_PRICE\": 172.685}, {\"QU_SEQNUM\": 18790308, \"MID_PRICE\": 172.685}, {\"QU_SEQNUM\": 18790314, \"MID_PRICE\": 172.685}, {\"QU_SEQNUM\": 18790337, \"MID_PRICE\": 172.685}, {\"QU_SEQNUM\": 18790345, \"MID_PRICE\": 172.685}, {\"QU_SEQNUM\": 18790348, \"MID_PRICE\": 172.685}, {\"QU_SEQNUM\": 18790355, \"MID_PRICE\": 172.685}, {\"QU_SEQNUM\": 18790380, \"MID_PRICE\": 172.685}, {\"QU_SEQNUM\": 18790390, \"MID_PRICE\": 172.685}, {\"QU_SEQNUM\": 18790403, \"MID_PRICE\": 172.685}, {\"QU_SEQNUM\": 18790466, \"MID_PRICE\": 172.685}, {\"QU_SEQNUM\": 18790492, \"MID_PRICE\": 172.685}, {\"QU_SEQNUM\": 18790516, \"MID_PRICE\": 172.685}, {\"QU_SEQNUM\": 18790628, \"MID_PRICE\": 172.685}, {\"QU_SEQNUM\": 18790670, \"MID_PRICE\": 172.685}, {\"QU_SEQNUM\": 18790674, \"MID_PRICE\": 172.685}, {\"QU_SEQNUM\": 18790677, \"MID_PRICE\": 172.685}, {\"QU_SEQNUM\": 18790680, \"MID_PRICE\": 172.685}, {\"QU_SEQNUM\": 18790681, \"MID_PRICE\": 172.685}, {\"QU_SEQNUM\": 18790691, \"MID_PRICE\": 172.685}, {\"QU_SEQNUM\": 18790692, \"MID_PRICE\": 172.685}, {\"QU_SEQNUM\": 18790702, \"MID_PRICE\": 172.685}, {\"QU_SEQNUM\": 18790738, \"MID_PRICE\": 172.685}, {\"QU_SEQNUM\": 18790788, \"MID_PRICE\": 172.685}, {\"QU_SEQNUM\": 18790791, \"MID_PRICE\": 172.685}, {\"QU_SEQNUM\": 18790928, \"MID_PRICE\": 172.685}, {\"QU_SEQNUM\": 18790931, \"MID_PRICE\": 172.685}, {\"QU_SEQNUM\": 18791194, \"MID_PRICE\": 172.685}, {\"QU_SEQNUM\": 18791426, \"MID_PRICE\": 172.685}, {\"QU_SEQNUM\": 18791428, \"MID_PRICE\": 172.685}, {\"QU_SEQNUM\": 18791431, \"MID_PRICE\": 172.685}, {\"QU_SEQNUM\": 18791436, \"MID_PRICE\": 172.685}, {\"QU_SEQNUM\": 18791445, \"MID_PRICE\": 172.685}, {\"QU_SEQNUM\": 18791449, \"MID_PRICE\": 172.685}, {\"QU_SEQNUM\": 18791452, \"MID_PRICE\": 172.685}, {\"QU_SEQNUM\": 18791457, \"MID_PRICE\": 172.685}, {\"QU_SEQNUM\": 18791463, \"MID_PRICE\": 172.685}, {\"QU_SEQNUM\": 18791469, \"MID_PRICE\": 172.685}, {\"QU_SEQNUM\": 18791475, \"MID_PRICE\": 172.685}, {\"QU_SEQNUM\": 18791610, \"MID_PRICE\": 172.685}, {\"QU_SEQNUM\": 18791634, \"MID_PRICE\": 172.685}, {\"QU_SEQNUM\": 18791849, \"MID_PRICE\": 172.685}, {\"QU_SEQNUM\": 18792032, \"MID_PRICE\": 172.685}, {\"QU_SEQNUM\": 18792043, \"MID_PRICE\": 172.685}, {\"QU_SEQNUM\": 18792053, \"MID_PRICE\": 172.685}, {\"QU_SEQNUM\": 18792054, \"MID_PRICE\": 172.685}, {\"QU_SEQNUM\": 18792059, \"MID_PRICE\": 172.685}, {\"QU_SEQNUM\": 18792086, \"MID_PRICE\": 172.685}, {\"QU_SEQNUM\": 18792090, \"MID_PRICE\": 172.685}, {\"QU_SEQNUM\": 18792091, \"MID_PRICE\": 172.685}, {\"QU_SEQNUM\": 18792162, \"MID_PRICE\": 172.685}, {\"QU_SEQNUM\": 18792170, \"MID_PRICE\": 172.685}, {\"QU_SEQNUM\": 18792225, \"MID_PRICE\": 172.685}, {\"QU_SEQNUM\": 18792283, \"MID_PRICE\": 172.69}, {\"QU_SEQNUM\": 18792286, \"MID_PRICE\": 172.69}, {\"QU_SEQNUM\": 18792292, \"MID_PRICE\": 172.69}, {\"QU_SEQNUM\": 18792302, \"MID_PRICE\": 172.695}, {\"QU_SEQNUM\": 18792311, \"MID_PRICE\": 172.695}, {\"QU_SEQNUM\": 18792317, \"MID_PRICE\": 172.695}, {\"QU_SEQNUM\": 18792324, \"MID_PRICE\": 172.695}, {\"QU_SEQNUM\": 18792326, \"MID_PRICE\": 172.695}, {\"QU_SEQNUM\": 18792335, \"MID_PRICE\": 172.695}, {\"QU_SEQNUM\": 18792353, \"MID_PRICE\": 172.695}, {\"QU_SEQNUM\": 18792365, \"MID_PRICE\": 172.695}, {\"QU_SEQNUM\": 18792399, \"MID_PRICE\": 172.695}, {\"QU_SEQNUM\": 18792405, \"MID_PRICE\": 172.695}, {\"QU_SEQNUM\": 18792408, \"MID_PRICE\": 172.695}, {\"QU_SEQNUM\": 18792410, \"MID_PRICE\": 172.695}, {\"QU_SEQNUM\": 18792411, \"MID_PRICE\": 172.695}, {\"QU_SEQNUM\": 18792417, \"MID_PRICE\": 172.695}, {\"QU_SEQNUM\": 18792428, \"MID_PRICE\": 172.695}, {\"QU_SEQNUM\": 18792431, \"MID_PRICE\": 172.695}, {\"QU_SEQNUM\": 18792434, \"MID_PRICE\": 172.695}, {\"QU_SEQNUM\": 18792436, \"MID_PRICE\": 172.695}, {\"QU_SEQNUM\": 18792468, \"MID_PRICE\": 172.695}, {\"QU_SEQNUM\": 18792473, \"MID_PRICE\": 172.695}, {\"QU_SEQNUM\": 18792475, \"MID_PRICE\": 172.695}, {\"QU_SEQNUM\": 18792477, \"MID_PRICE\": 172.695}, {\"QU_SEQNUM\": 18792527, \"MID_PRICE\": 172.695}, {\"QU_SEQNUM\": 18792528, \"MID_PRICE\": 172.695}, {\"QU_SEQNUM\": 18792544, \"MID_PRICE\": 172.695}, {\"QU_SEQNUM\": 18792603, \"MID_PRICE\": 172.695}, {\"QU_SEQNUM\": 18792605, \"MID_PRICE\": 172.695}, {\"QU_SEQNUM\": 18792618, \"MID_PRICE\": 172.695}, {\"QU_SEQNUM\": 18792625, \"MID_PRICE\": 172.695}, {\"QU_SEQNUM\": 18792641, \"MID_PRICE\": 172.69}, {\"QU_SEQNUM\": 18792652, \"MID_PRICE\": 172.69}, {\"QU_SEQNUM\": 18792653, \"MID_PRICE\": 172.69}, {\"QU_SEQNUM\": 18792655, \"MID_PRICE\": 172.69}, {\"QU_SEQNUM\": 18792657, \"MID_PRICE\": 172.69}, {\"QU_SEQNUM\": 18792667, \"MID_PRICE\": 172.69}, {\"QU_SEQNUM\": 18792670, \"MID_PRICE\": 172.69}, {\"QU_SEQNUM\": 18793219, \"MID_PRICE\": 172.69}, {\"QU_SEQNUM\": 18793220, \"MID_PRICE\": 172.69}, {\"QU_SEQNUM\": 18793223, \"MID_PRICE\": 172.69}, {\"QU_SEQNUM\": 18793240, \"MID_PRICE\": 172.69}, {\"QU_SEQNUM\": 18793247, \"MID_PRICE\": 172.685}, {\"QU_SEQNUM\": 18793257, \"MID_PRICE\": 172.685}, {\"QU_SEQNUM\": 18793262, \"MID_PRICE\": 172.685}, {\"QU_SEQNUM\": 18793266, \"MID_PRICE\": 172.685}, {\"QU_SEQNUM\": 18793274, \"MID_PRICE\": 172.685}, {\"QU_SEQNUM\": 18793395, \"MID_PRICE\": 172.685}, {\"QU_SEQNUM\": 18793396, \"MID_PRICE\": 172.685}, {\"QU_SEQNUM\": 18793400, \"MID_PRICE\": 172.685}, {\"QU_SEQNUM\": 18793475, \"MID_PRICE\": 172.685}, {\"QU_SEQNUM\": 18793478, \"MID_PRICE\": 172.685}, {\"QU_SEQNUM\": 18793481, \"MID_PRICE\": 172.685}, {\"QU_SEQNUM\": 18793487, \"MID_PRICE\": 172.685}, {\"QU_SEQNUM\": 18793488, \"MID_PRICE\": 172.685}, {\"QU_SEQNUM\": 18793491, \"MID_PRICE\": 172.685}, {\"QU_SEQNUM\": 18793494, \"MID_PRICE\": 172.69}, {\"QU_SEQNUM\": 18793495, \"MID_PRICE\": 172.69}, {\"QU_SEQNUM\": 18793532, \"MID_PRICE\": 172.685}, {\"QU_SEQNUM\": 18793533, \"MID_PRICE\": 172.685}, {\"QU_SEQNUM\": 18793538, \"MID_PRICE\": 172.685}, {\"QU_SEQNUM\": 18793540, \"MID_PRICE\": 172.685}, {\"QU_SEQNUM\": 18793541, \"MID_PRICE\": 172.685}, {\"QU_SEQNUM\": 18793545, \"MID_PRICE\": 172.685}, {\"QU_SEQNUM\": 18793552, \"MID_PRICE\": 172.685}, {\"QU_SEQNUM\": 18793557, \"MID_PRICE\": 172.685}, {\"QU_SEQNUM\": 18793559, \"MID_PRICE\": 172.685}, {\"QU_SEQNUM\": 18793561, \"MID_PRICE\": 172.685}, {\"QU_SEQNUM\": 18793605, \"MID_PRICE\": 172.685}, {\"QU_SEQNUM\": 18793621, \"MID_PRICE\": 172.685}, {\"QU_SEQNUM\": 18793626, \"MID_PRICE\": 172.685}, {\"QU_SEQNUM\": 18793628, \"MID_PRICE\": 172.69}, {\"QU_SEQNUM\": 18793629, \"MID_PRICE\": 172.69}, {\"QU_SEQNUM\": 18793646, \"MID_PRICE\": 172.685}, {\"QU_SEQNUM\": 18793648, \"MID_PRICE\": 172.69}, {\"QU_SEQNUM\": 18793649, \"MID_PRICE\": 172.685}, {\"QU_SEQNUM\": 18793650, \"MID_PRICE\": 172.685}, {\"QU_SEQNUM\": 18793691, \"MID_PRICE\": 172.685}, {\"QU_SEQNUM\": 18793693, \"MID_PRICE\": 172.685}, {\"QU_SEQNUM\": 18793695, \"MID_PRICE\": 172.685}, {\"QU_SEQNUM\": 18793743, \"MID_PRICE\": 172.685}, {\"QU_SEQNUM\": 18793746, \"MID_PRICE\": 172.685}, {\"QU_SEQNUM\": 18793747, \"MID_PRICE\": 172.685}, {\"QU_SEQNUM\": 18793749, \"MID_PRICE\": 172.685}, {\"QU_SEQNUM\": 18793765, \"MID_PRICE\": 172.69}, {\"QU_SEQNUM\": 18793768, \"MID_PRICE\": 172.69}, {\"QU_SEQNUM\": 18793917, \"MID_PRICE\": 172.69}, {\"QU_SEQNUM\": 18793948, \"MID_PRICE\": 172.69}, {\"QU_SEQNUM\": 18793956, \"MID_PRICE\": 172.69}, {\"QU_SEQNUM\": 18794065, \"MID_PRICE\": 172.69}, {\"QU_SEQNUM\": 18794284, \"MID_PRICE\": 172.69}, {\"QU_SEQNUM\": 18794292, \"MID_PRICE\": 172.69}, {\"QU_SEQNUM\": 18794300, \"MID_PRICE\": 172.685}, {\"QU_SEQNUM\": 18794311, \"MID_PRICE\": 172.685}, {\"QU_SEQNUM\": 18794312, \"MID_PRICE\": 172.685}, {\"QU_SEQNUM\": 18794392, \"MID_PRICE\": 172.685}, {\"QU_SEQNUM\": 18794396, \"MID_PRICE\": 172.685}, {\"QU_SEQNUM\": 18794398, \"MID_PRICE\": 172.685}, {\"QU_SEQNUM\": 18794674, \"MID_PRICE\": 172.685}, {\"QU_SEQNUM\": 18794872, \"MID_PRICE\": 172.68}, {\"QU_SEQNUM\": 18794894, \"MID_PRICE\": 172.675}, {\"QU_SEQNUM\": 18794907, \"MID_PRICE\": 172.675}, {\"QU_SEQNUM\": 18794926, \"MID_PRICE\": 172.675}, {\"QU_SEQNUM\": 18794956, \"MID_PRICE\": 172.675}, {\"QU_SEQNUM\": 18794969, \"MID_PRICE\": 172.67000000000002}, {\"QU_SEQNUM\": 18795055, \"MID_PRICE\": 172.67000000000002}, {\"QU_SEQNUM\": 18795057, \"MID_PRICE\": 172.67000000000002}, {\"QU_SEQNUM\": 18795059, \"MID_PRICE\": 172.67000000000002}, {\"QU_SEQNUM\": 18795068, \"MID_PRICE\": 172.67000000000002}, {\"QU_SEQNUM\": 18795076, \"MID_PRICE\": 172.67000000000002}, {\"QU_SEQNUM\": 18795086, \"MID_PRICE\": 172.67000000000002}, {\"QU_SEQNUM\": 18795107, \"MID_PRICE\": 172.67000000000002}, {\"QU_SEQNUM\": 18795245, \"MID_PRICE\": 172.67000000000002}, {\"QU_SEQNUM\": 18795294, \"MID_PRICE\": 172.665}, {\"QU_SEQNUM\": 18795302, \"MID_PRICE\": 172.665}, {\"QU_SEQNUM\": 18795303, \"MID_PRICE\": 172.665}, {\"QU_SEQNUM\": 18795337, \"MID_PRICE\": 172.665}, {\"QU_SEQNUM\": 18795346, \"MID_PRICE\": 172.66}, {\"QU_SEQNUM\": 18795392, \"MID_PRICE\": 172.66}, {\"QU_SEQNUM\": 18795437, \"MID_PRICE\": 172.66}, {\"QU_SEQNUM\": 18795553, \"MID_PRICE\": 172.66}, {\"QU_SEQNUM\": 18795555, \"MID_PRICE\": 172.66}, {\"QU_SEQNUM\": 18795567, \"MID_PRICE\": 172.66}, {\"QU_SEQNUM\": 18795592, \"MID_PRICE\": 172.66}, {\"QU_SEQNUM\": 18795612, \"MID_PRICE\": 172.66}, {\"QU_SEQNUM\": 18795634, \"MID_PRICE\": 172.66}, {\"QU_SEQNUM\": 18795636, \"MID_PRICE\": 172.665}, {\"QU_SEQNUM\": 18795640, \"MID_PRICE\": 172.665}, {\"QU_SEQNUM\": 18795799, \"MID_PRICE\": 172.665}, {\"QU_SEQNUM\": 18795861, \"MID_PRICE\": 172.665}, {\"QU_SEQNUM\": 18795862, \"MID_PRICE\": 172.66}, {\"QU_SEQNUM\": 18795914, \"MID_PRICE\": 172.66}, {\"QU_SEQNUM\": 18795923, \"MID_PRICE\": 172.66}, {\"QU_SEQNUM\": 18795963, \"MID_PRICE\": 172.66}, {\"QU_SEQNUM\": 18795981, \"MID_PRICE\": 172.66}, {\"QU_SEQNUM\": 18796012, \"MID_PRICE\": 172.66}, {\"QU_SEQNUM\": 18796053, \"MID_PRICE\": 172.66}, {\"QU_SEQNUM\": 18796059, \"MID_PRICE\": 172.66}, {\"QU_SEQNUM\": 18796077, \"MID_PRICE\": 172.665}, {\"QU_SEQNUM\": 18796078, \"MID_PRICE\": 172.665}, {\"QU_SEQNUM\": 18796084, \"MID_PRICE\": 172.665}, {\"QU_SEQNUM\": 18796134, \"MID_PRICE\": 172.67000000000002}, {\"QU_SEQNUM\": 18796136, \"MID_PRICE\": 172.67000000000002}, {\"QU_SEQNUM\": 18796184, \"MID_PRICE\": 172.67000000000002}, {\"QU_SEQNUM\": 18796234, \"MID_PRICE\": 172.67000000000002}, {\"QU_SEQNUM\": 18796236, \"MID_PRICE\": 172.665}, {\"QU_SEQNUM\": 18796240, \"MID_PRICE\": 172.665}, {\"QU_SEQNUM\": 18796245, \"MID_PRICE\": 172.665}, {\"QU_SEQNUM\": 18796247, \"MID_PRICE\": 172.665}, {\"QU_SEQNUM\": 18796263, \"MID_PRICE\": 172.665}, {\"QU_SEQNUM\": 18796264, \"MID_PRICE\": 172.665}, {\"QU_SEQNUM\": 18796290, \"MID_PRICE\": 172.665}, {\"QU_SEQNUM\": 18796302, \"MID_PRICE\": 172.665}, {\"QU_SEQNUM\": 18796305, \"MID_PRICE\": 172.66}, {\"QU_SEQNUM\": 18796341, \"MID_PRICE\": 172.66}, {\"QU_SEQNUM\": 18796358, \"MID_PRICE\": 172.66}, {\"QU_SEQNUM\": 18796373, \"MID_PRICE\": 172.66}, {\"QU_SEQNUM\": 18796549, \"MID_PRICE\": 172.66}, {\"QU_SEQNUM\": 18796551, \"MID_PRICE\": 172.665}, {\"QU_SEQNUM\": 18796557, \"MID_PRICE\": 172.665}, {\"QU_SEQNUM\": 18796591, \"MID_PRICE\": 172.665}, {\"QU_SEQNUM\": 18796628, \"MID_PRICE\": 172.665}, {\"QU_SEQNUM\": 18796663, \"MID_PRICE\": 172.66}, {\"QU_SEQNUM\": 18796667, \"MID_PRICE\": 172.66}, {\"QU_SEQNUM\": 18796677, \"MID_PRICE\": 172.66}, {\"QU_SEQNUM\": 18796694, \"MID_PRICE\": 172.66}, {\"QU_SEQNUM\": 18796723, \"MID_PRICE\": 172.66}, {\"QU_SEQNUM\": 18796726, \"MID_PRICE\": 172.66}, {\"QU_SEQNUM\": 18796765, \"MID_PRICE\": 172.66}, {\"QU_SEQNUM\": 18796767, \"MID_PRICE\": 172.66}, {\"QU_SEQNUM\": 18796769, \"MID_PRICE\": 172.665}, {\"QU_SEQNUM\": 18796770, \"MID_PRICE\": 172.665}, {\"QU_SEQNUM\": 18796784, \"MID_PRICE\": 172.665}, {\"QU_SEQNUM\": 18796788, \"MID_PRICE\": 172.665}, {\"QU_SEQNUM\": 18796841, \"MID_PRICE\": 172.665}, {\"QU_SEQNUM\": 18796845, \"MID_PRICE\": 172.67000000000002}, {\"QU_SEQNUM\": 18796848, \"MID_PRICE\": 172.67000000000002}, {\"QU_SEQNUM\": 18796905, \"MID_PRICE\": 172.67000000000002}, {\"QU_SEQNUM\": 18796912, \"MID_PRICE\": 172.67000000000002}, {\"QU_SEQNUM\": 18796917, \"MID_PRICE\": 172.67000000000002}, {\"QU_SEQNUM\": 18797011, \"MID_PRICE\": 172.675}, {\"QU_SEQNUM\": 18797018, \"MID_PRICE\": 172.675}, {\"QU_SEQNUM\": 18797020, \"MID_PRICE\": 172.675}, {\"QU_SEQNUM\": 18797025, \"MID_PRICE\": 172.675}, {\"QU_SEQNUM\": 18797032, \"MID_PRICE\": 172.675}, {\"QU_SEQNUM\": 18797049, \"MID_PRICE\": 172.675}, {\"QU_SEQNUM\": 18797055, \"MID_PRICE\": 172.675}, {\"QU_SEQNUM\": 18797072, \"MID_PRICE\": 172.675}, {\"QU_SEQNUM\": 18797082, \"MID_PRICE\": 172.675}, {\"QU_SEQNUM\": 18797090, \"MID_PRICE\": 172.675}, {\"QU_SEQNUM\": 18797259, \"MID_PRICE\": 172.675}, {\"QU_SEQNUM\": 18797261, \"MID_PRICE\": 172.675}, {\"QU_SEQNUM\": 18797271, \"MID_PRICE\": 172.68}, {\"QU_SEQNUM\": 18797348, \"MID_PRICE\": 172.685}, {\"QU_SEQNUM\": 18797356, \"MID_PRICE\": 172.685}, {\"QU_SEQNUM\": 18797368, \"MID_PRICE\": 172.685}, {\"QU_SEQNUM\": 18797370, \"MID_PRICE\": 172.68}, {\"QU_SEQNUM\": 18797383, \"MID_PRICE\": 172.68}, {\"QU_SEQNUM\": 18797384, \"MID_PRICE\": 172.685}, {\"QU_SEQNUM\": 18797410, \"MID_PRICE\": 172.68}, {\"QU_SEQNUM\": 18797800, \"MID_PRICE\": 172.68}, {\"QU_SEQNUM\": 18797808, \"MID_PRICE\": 172.675}, {\"QU_SEQNUM\": 18797814, \"MID_PRICE\": 172.675}, {\"QU_SEQNUM\": 18797817, \"MID_PRICE\": 172.675}, {\"QU_SEQNUM\": 18797827, \"MID_PRICE\": 172.675}, {\"QU_SEQNUM\": 18797837, \"MID_PRICE\": 172.675}, {\"QU_SEQNUM\": 18797841, \"MID_PRICE\": 172.675}, {\"QU_SEQNUM\": 18797847, \"MID_PRICE\": 172.675}, {\"QU_SEQNUM\": 18797849, \"MID_PRICE\": 172.675}, {\"QU_SEQNUM\": 18797870, \"MID_PRICE\": 172.675}, {\"QU_SEQNUM\": 18797876, \"MID_PRICE\": 172.675}, {\"QU_SEQNUM\": 18797879, \"MID_PRICE\": 172.68}, {\"QU_SEQNUM\": 18797882, \"MID_PRICE\": 172.68}, {\"QU_SEQNUM\": 18797883, \"MID_PRICE\": 172.68}, {\"QU_SEQNUM\": 18797917, \"MID_PRICE\": 172.675}, {\"QU_SEQNUM\": 18797919, \"MID_PRICE\": 172.68}, {\"QU_SEQNUM\": 18797921, \"MID_PRICE\": 172.675}, {\"QU_SEQNUM\": 18797923, \"MID_PRICE\": 172.675}, {\"QU_SEQNUM\": 18797931, \"MID_PRICE\": 172.675}, {\"QU_SEQNUM\": 18797939, \"MID_PRICE\": 172.67000000000002}, {\"QU_SEQNUM\": 18797946, \"MID_PRICE\": 172.67000000000002}, {\"QU_SEQNUM\": 18797948, \"MID_PRICE\": 172.675}, {\"QU_SEQNUM\": 18797970, \"MID_PRICE\": 172.675}, {\"QU_SEQNUM\": 18799373, \"MID_PRICE\": 172.675}, {\"QU_SEQNUM\": 18799377, \"MID_PRICE\": 172.675}, {\"QU_SEQNUM\": 18799381, \"MID_PRICE\": 172.675}, {\"QU_SEQNUM\": 18799386, \"MID_PRICE\": 172.675}, {\"QU_SEQNUM\": 18799387, \"MID_PRICE\": 172.675}, {\"QU_SEQNUM\": 18799390, \"MID_PRICE\": 172.68}, {\"QU_SEQNUM\": 18799552, \"MID_PRICE\": 172.68}, {\"QU_SEQNUM\": 18799583, \"MID_PRICE\": 172.68}, {\"QU_SEQNUM\": 18799588, \"MID_PRICE\": 172.675}, {\"QU_SEQNUM\": 18799590, \"MID_PRICE\": 172.675}, {\"QU_SEQNUM\": 18799596, \"MID_PRICE\": 172.675}, {\"QU_SEQNUM\": 18799598, \"MID_PRICE\": 172.675}, {\"QU_SEQNUM\": 18799599, \"MID_PRICE\": 172.675}, {\"QU_SEQNUM\": 18799600, \"MID_PRICE\": 172.675}, {\"QU_SEQNUM\": 18799609, \"MID_PRICE\": 172.675}, {\"QU_SEQNUM\": 18799615, \"MID_PRICE\": 172.67000000000002}, {\"QU_SEQNUM\": 18799641, \"MID_PRICE\": 172.67000000000002}, {\"QU_SEQNUM\": 18799645, \"MID_PRICE\": 172.67000000000002}, {\"QU_SEQNUM\": 18800116, \"MID_PRICE\": 172.675}, {\"QU_SEQNUM\": 18800117, \"MID_PRICE\": 172.675}, {\"QU_SEQNUM\": 18800124, \"MID_PRICE\": 172.675}, {\"QU_SEQNUM\": 18800221, \"MID_PRICE\": 172.675}, {\"QU_SEQNUM\": 18800228, \"MID_PRICE\": 172.675}, {\"QU_SEQNUM\": 18800229, \"MID_PRICE\": 172.67000000000002}, {\"QU_SEQNUM\": 18800348, \"MID_PRICE\": 172.67000000000002}, {\"QU_SEQNUM\": 18800351, \"MID_PRICE\": 172.67000000000002}, {\"QU_SEQNUM\": 18800356, \"MID_PRICE\": 172.67000000000002}, {\"QU_SEQNUM\": 18800368, \"MID_PRICE\": 172.67000000000002}, {\"QU_SEQNUM\": 18801143, \"MID_PRICE\": 172.67000000000002}, {\"QU_SEQNUM\": 18801181, \"MID_PRICE\": 172.67000000000002}, {\"QU_SEQNUM\": 18801184, \"MID_PRICE\": 172.67000000000002}, {\"QU_SEQNUM\": 18801187, \"MID_PRICE\": 172.67000000000002}, {\"QU_SEQNUM\": 18801194, \"MID_PRICE\": 172.67000000000002}, {\"QU_SEQNUM\": 18801198, \"MID_PRICE\": 172.67000000000002}, {\"QU_SEQNUM\": 18801206, \"MID_PRICE\": 172.67000000000002}, {\"QU_SEQNUM\": 18801344, \"MID_PRICE\": 172.67000000000002}, {\"QU_SEQNUM\": 18801365, \"MID_PRICE\": 172.67000000000002}, {\"QU_SEQNUM\": 18801369, \"MID_PRICE\": 172.67000000000002}, {\"QU_SEQNUM\": 18801376, \"MID_PRICE\": 172.665}, {\"QU_SEQNUM\": 18801382, \"MID_PRICE\": 172.665}, {\"QU_SEQNUM\": 18801398, \"MID_PRICE\": 172.665}, {\"QU_SEQNUM\": 18801399, \"MID_PRICE\": 172.66}, {\"QU_SEQNUM\": 18801408, \"MID_PRICE\": 172.66}, {\"QU_SEQNUM\": 18801453, \"MID_PRICE\": 172.66}, {\"QU_SEQNUM\": 18801483, \"MID_PRICE\": 172.66}, {\"QU_SEQNUM\": 18801494, \"MID_PRICE\": 172.66}, {\"QU_SEQNUM\": 18801497, \"MID_PRICE\": 172.66}, {\"QU_SEQNUM\": 18801500, \"MID_PRICE\": 172.665}, {\"QU_SEQNUM\": 18801501, \"MID_PRICE\": 172.665}, {\"QU_SEQNUM\": 18801504, \"MID_PRICE\": 172.665}, {\"QU_SEQNUM\": 18801505, \"MID_PRICE\": 172.665}, {\"QU_SEQNUM\": 18801506, \"MID_PRICE\": 172.66}, {\"QU_SEQNUM\": 18801510, \"MID_PRICE\": 172.66}, {\"QU_SEQNUM\": 18801546, \"MID_PRICE\": 172.66}, {\"QU_SEQNUM\": 18801552, \"MID_PRICE\": 172.66}, {\"QU_SEQNUM\": 18801559, \"MID_PRICE\": 172.665}, {\"QU_SEQNUM\": 18801574, \"MID_PRICE\": 172.665}, {\"QU_SEQNUM\": 18801584, \"MID_PRICE\": 172.665}, {\"QU_SEQNUM\": 18801587, \"MID_PRICE\": 172.665}, {\"QU_SEQNUM\": 18801597, \"MID_PRICE\": 172.665}, {\"QU_SEQNUM\": 18801603, \"MID_PRICE\": 172.67000000000002}, {\"QU_SEQNUM\": 18801609, \"MID_PRICE\": 172.67000000000002}, {\"QU_SEQNUM\": 18801620, \"MID_PRICE\": 172.67000000000002}, {\"QU_SEQNUM\": 18801680, \"MID_PRICE\": 172.67000000000002}, {\"QU_SEQNUM\": 18801688, \"MID_PRICE\": 172.67000000000002}, {\"QU_SEQNUM\": 18801728, \"MID_PRICE\": 172.67000000000002}, {\"QU_SEQNUM\": 18801737, \"MID_PRICE\": 172.67000000000002}, {\"QU_SEQNUM\": 18801740, \"MID_PRICE\": 172.67000000000002}, {\"QU_SEQNUM\": 18801743, \"MID_PRICE\": 172.67000000000002}, {\"QU_SEQNUM\": 18802181, \"MID_PRICE\": 172.67000000000002}, {\"QU_SEQNUM\": 18802182, \"MID_PRICE\": 172.67000000000002}, {\"QU_SEQNUM\": 18802185, \"MID_PRICE\": 172.675}, {\"QU_SEQNUM\": 18802189, \"MID_PRICE\": 172.675}, {\"QU_SEQNUM\": 18802208, \"MID_PRICE\": 172.675}, {\"QU_SEQNUM\": 18802237, \"MID_PRICE\": 172.675}, {\"QU_SEQNUM\": 18802245, \"MID_PRICE\": 172.675}, {\"QU_SEQNUM\": 18802249, \"MID_PRICE\": 172.675}, {\"QU_SEQNUM\": 18802273, \"MID_PRICE\": 172.675}, {\"QU_SEQNUM\": 18802277, \"MID_PRICE\": 172.675}, {\"QU_SEQNUM\": 18802301, \"MID_PRICE\": 172.675}, {\"QU_SEQNUM\": 18802303, \"MID_PRICE\": 172.675}, {\"QU_SEQNUM\": 18802310, \"MID_PRICE\": 172.675}, {\"QU_SEQNUM\": 18802321, \"MID_PRICE\": 172.675}, {\"QU_SEQNUM\": 18802327, \"MID_PRICE\": 172.675}, {\"QU_SEQNUM\": 18802439, \"MID_PRICE\": 172.675}, {\"QU_SEQNUM\": 18802442, \"MID_PRICE\": 172.675}, {\"QU_SEQNUM\": 18802451, \"MID_PRICE\": 172.675}, {\"QU_SEQNUM\": 18802487, \"MID_PRICE\": 172.675}, {\"QU_SEQNUM\": 18802654, \"MID_PRICE\": 172.675}, {\"QU_SEQNUM\": 18802655, \"MID_PRICE\": 172.675}, {\"QU_SEQNUM\": 18802758, \"MID_PRICE\": 172.67000000000002}, {\"QU_SEQNUM\": 18802815, \"MID_PRICE\": 172.67000000000002}, {\"QU_SEQNUM\": 18802816, \"MID_PRICE\": 172.675}, {\"QU_SEQNUM\": 18802818, \"MID_PRICE\": 172.675}, {\"QU_SEQNUM\": 18802819, \"MID_PRICE\": 172.675}, {\"QU_SEQNUM\": 18802820, \"MID_PRICE\": 172.675}, {\"QU_SEQNUM\": 18802823, \"MID_PRICE\": 172.675}, {\"QU_SEQNUM\": 18802834, \"MID_PRICE\": 172.675}, {\"QU_SEQNUM\": 18802837, \"MID_PRICE\": 172.675}, {\"QU_SEQNUM\": 18802838, \"MID_PRICE\": 172.675}, {\"QU_SEQNUM\": 18802841, \"MID_PRICE\": 172.675}, {\"QU_SEQNUM\": 18802847, \"MID_PRICE\": 172.67000000000002}, {\"QU_SEQNUM\": 18802862, \"MID_PRICE\": 172.67000000000002}, {\"QU_SEQNUM\": 18802863, \"MID_PRICE\": 172.675}, {\"QU_SEQNUM\": 18802936, \"MID_PRICE\": 172.675}, {\"QU_SEQNUM\": 18802956, \"MID_PRICE\": 172.675}, {\"QU_SEQNUM\": 18802985, \"MID_PRICE\": 172.68}, {\"QU_SEQNUM\": 18802989, \"MID_PRICE\": 172.68}, {\"QU_SEQNUM\": 18802991, \"MID_PRICE\": 172.68}, {\"QU_SEQNUM\": 18803000, \"MID_PRICE\": 172.68}, {\"QU_SEQNUM\": 18803007, \"MID_PRICE\": 172.68}, {\"QU_SEQNUM\": 18803010, \"MID_PRICE\": 172.68}, {\"QU_SEQNUM\": 18803035, \"MID_PRICE\": 172.675}, {\"QU_SEQNUM\": 18803037, \"MID_PRICE\": 172.675}, {\"QU_SEQNUM\": 18803039, \"MID_PRICE\": 172.675}, {\"QU_SEQNUM\": 18803041, \"MID_PRICE\": 172.675}, {\"QU_SEQNUM\": 18803051, \"MID_PRICE\": 172.675}, {\"QU_SEQNUM\": 18803078, \"MID_PRICE\": 172.675}, {\"QU_SEQNUM\": 18803079, \"MID_PRICE\": 172.675}, {\"QU_SEQNUM\": 18803086, \"MID_PRICE\": 172.675}, {\"QU_SEQNUM\": 18803092, \"MID_PRICE\": 172.675}, {\"QU_SEQNUM\": 18803196, \"MID_PRICE\": 172.675}, {\"QU_SEQNUM\": 18803197, \"MID_PRICE\": 172.675}, {\"QU_SEQNUM\": 18803200, \"MID_PRICE\": 172.675}, {\"QU_SEQNUM\": 18803203, \"MID_PRICE\": 172.675}, {\"QU_SEQNUM\": 18803310, \"MID_PRICE\": 172.67000000000002}, {\"QU_SEQNUM\": 18803311, \"MID_PRICE\": 172.67000000000002}, {\"QU_SEQNUM\": 18803352, \"MID_PRICE\": 172.675}, {\"QU_SEQNUM\": 18803356, \"MID_PRICE\": 172.675}, {\"QU_SEQNUM\": 18803358, \"MID_PRICE\": 172.675}, {\"QU_SEQNUM\": 18803362, \"MID_PRICE\": 172.675}, {\"QU_SEQNUM\": 18803380, \"MID_PRICE\": 172.675}, {\"QU_SEQNUM\": 18803381, \"MID_PRICE\": 172.675}, {\"QU_SEQNUM\": 18803581, \"MID_PRICE\": 172.675}, {\"QU_SEQNUM\": 18803619, \"MID_PRICE\": 172.675}, {\"QU_SEQNUM\": 18803622, \"MID_PRICE\": 172.675}, {\"QU_SEQNUM\": 18803629, \"MID_PRICE\": 172.675}, {\"QU_SEQNUM\": 18803631, \"MID_PRICE\": 172.67000000000002}, {\"QU_SEQNUM\": 18803684, \"MID_PRICE\": 172.67000000000002}, {\"QU_SEQNUM\": 18803687, \"MID_PRICE\": 172.67000000000002}, {\"QU_SEQNUM\": 18803694, \"MID_PRICE\": 172.67000000000002}, {\"QU_SEQNUM\": 18803706, \"MID_PRICE\": 172.67000000000002}, {\"QU_SEQNUM\": 18803709, \"MID_PRICE\": 172.67000000000002}, {\"QU_SEQNUM\": 18803723, \"MID_PRICE\": 172.67000000000002}, {\"QU_SEQNUM\": 18803724, \"MID_PRICE\": 172.67000000000002}, {\"QU_SEQNUM\": 18803735, \"MID_PRICE\": 172.67000000000002}, {\"QU_SEQNUM\": 18803738, \"MID_PRICE\": 172.67000000000002}, {\"QU_SEQNUM\": 18803739, \"MID_PRICE\": 172.67000000000002}, {\"QU_SEQNUM\": 18803740, \"MID_PRICE\": 172.67000000000002}, {\"QU_SEQNUM\": 18803760, \"MID_PRICE\": 172.675}, {\"QU_SEQNUM\": 18803764, \"MID_PRICE\": 172.675}, {\"QU_SEQNUM\": 18803783, \"MID_PRICE\": 172.675}, {\"QU_SEQNUM\": 18803800, \"MID_PRICE\": 172.675}, {\"QU_SEQNUM\": 18803802, \"MID_PRICE\": 172.675}, {\"QU_SEQNUM\": 18803804, \"MID_PRICE\": 172.67000000000002}, {\"QU_SEQNUM\": 18803806, \"MID_PRICE\": 172.67000000000002}, {\"QU_SEQNUM\": 18803812, \"MID_PRICE\": 172.67000000000002}, {\"QU_SEQNUM\": 18803823, \"MID_PRICE\": 172.67000000000002}, {\"QU_SEQNUM\": 18803825, \"MID_PRICE\": 172.67000000000002}, {\"QU_SEQNUM\": 18804125, \"MID_PRICE\": 172.67000000000002}, {\"QU_SEQNUM\": 18804242, \"MID_PRICE\": 172.67000000000002}, {\"QU_SEQNUM\": 18804243, \"MID_PRICE\": 172.67000000000002}, {\"QU_SEQNUM\": 18804245, \"MID_PRICE\": 172.67000000000002}, {\"QU_SEQNUM\": 18804248, \"MID_PRICE\": 172.675}, {\"QU_SEQNUM\": 18804298, \"MID_PRICE\": 172.675}, {\"QU_SEQNUM\": 18804305, \"MID_PRICE\": 172.67000000000002}, {\"QU_SEQNUM\": 18804484, \"MID_PRICE\": 172.67000000000002}, {\"QU_SEQNUM\": 18804867, \"MID_PRICE\": 172.67000000000002}, {\"QU_SEQNUM\": 18804896, \"MID_PRICE\": 172.67000000000002}, {\"QU_SEQNUM\": 18804923, \"MID_PRICE\": 172.67000000000002}, {\"QU_SEQNUM\": 18804924, \"MID_PRICE\": 172.67000000000002}, {\"QU_SEQNUM\": 18804948, \"MID_PRICE\": 172.67000000000002}, {\"QU_SEQNUM\": 18804950, \"MID_PRICE\": 172.67000000000002}, {\"QU_SEQNUM\": 18804951, \"MID_PRICE\": 172.67000000000002}, {\"QU_SEQNUM\": 18805005, \"MID_PRICE\": 172.67000000000002}, {\"QU_SEQNUM\": 18805042, \"MID_PRICE\": 172.67000000000002}, {\"QU_SEQNUM\": 18805051, \"MID_PRICE\": 172.67000000000002}, {\"QU_SEQNUM\": 18805084, \"MID_PRICE\": 172.67000000000002}, {\"QU_SEQNUM\": 18805091, \"MID_PRICE\": 172.67000000000002}, {\"QU_SEQNUM\": 18805098, \"MID_PRICE\": 172.665}, {\"QU_SEQNUM\": 18805113, \"MID_PRICE\": 172.66}, {\"QU_SEQNUM\": 18805116, \"MID_PRICE\": 172.66}, {\"QU_SEQNUM\": 18805121, \"MID_PRICE\": 172.66}, {\"QU_SEQNUM\": 18805129, \"MID_PRICE\": 172.66}, {\"QU_SEQNUM\": 18805131, \"MID_PRICE\": 172.66}, {\"QU_SEQNUM\": 18805298, \"MID_PRICE\": 172.66}, {\"QU_SEQNUM\": 18805430, \"MID_PRICE\": 172.65499999999997}, {\"QU_SEQNUM\": 18805452, \"MID_PRICE\": 172.65499999999997}, {\"QU_SEQNUM\": 18805842, \"MID_PRICE\": 172.65499999999997}, {\"QU_SEQNUM\": 18805923, \"MID_PRICE\": 172.65499999999997}, {\"QU_SEQNUM\": 18805924, \"MID_PRICE\": 172.65499999999997}, {\"QU_SEQNUM\": 18805938, \"MID_PRICE\": 172.65499999999997}, {\"QU_SEQNUM\": 18805944, \"MID_PRICE\": 172.65499999999997}, {\"QU_SEQNUM\": 18806192, \"MID_PRICE\": 172.65499999999997}, {\"QU_SEQNUM\": 18806200, \"MID_PRICE\": 172.65499999999997}, {\"QU_SEQNUM\": 18806207, \"MID_PRICE\": 172.64999999999998}, {\"QU_SEQNUM\": 18806214, \"MID_PRICE\": 172.64999999999998}, {\"QU_SEQNUM\": 18806220, \"MID_PRICE\": 172.64999999999998}, {\"QU_SEQNUM\": 18806225, \"MID_PRICE\": 172.64999999999998}, {\"QU_SEQNUM\": 18806229, \"MID_PRICE\": 172.64999999999998}, {\"QU_SEQNUM\": 18806278, \"MID_PRICE\": 172.64999999999998}, {\"QU_SEQNUM\": 18806408, \"MID_PRICE\": 172.64999999999998}, {\"QU_SEQNUM\": 18806423, \"MID_PRICE\": 172.64999999999998}, {\"QU_SEQNUM\": 18806452, \"MID_PRICE\": 172.64499999999998}, {\"QU_SEQNUM\": 18806466, \"MID_PRICE\": 172.64499999999998}, {\"QU_SEQNUM\": 18806472, \"MID_PRICE\": 172.64499999999998}, {\"QU_SEQNUM\": 18806479, \"MID_PRICE\": 172.64499999999998}, {\"QU_SEQNUM\": 18806484, \"MID_PRICE\": 172.64499999999998}, {\"QU_SEQNUM\": 18806527, \"MID_PRICE\": 172.64499999999998}, {\"QU_SEQNUM\": 18806538, \"MID_PRICE\": 172.64499999999998}, {\"QU_SEQNUM\": 18806545, \"MID_PRICE\": 172.64499999999998}, {\"QU_SEQNUM\": 18806546, \"MID_PRICE\": 172.64499999999998}, {\"QU_SEQNUM\": 18806622, \"MID_PRICE\": 172.64499999999998}, {\"QU_SEQNUM\": 18807067, \"MID_PRICE\": 172.64}, {\"QU_SEQNUM\": 18807073, \"MID_PRICE\": 172.64}, {\"QU_SEQNUM\": 18807145, \"MID_PRICE\": 172.64499999999998}, {\"QU_SEQNUM\": 18807147, \"MID_PRICE\": 172.64499999999998}, {\"QU_SEQNUM\": 18807152, \"MID_PRICE\": 172.64499999999998}, {\"QU_SEQNUM\": 18807156, \"MID_PRICE\": 172.64499999999998}, {\"QU_SEQNUM\": 18807159, \"MID_PRICE\": 172.64499999999998}, {\"QU_SEQNUM\": 18807162, \"MID_PRICE\": 172.64499999999998}, {\"QU_SEQNUM\": 18807164, \"MID_PRICE\": 172.64}, {\"QU_SEQNUM\": 18807175, \"MID_PRICE\": 172.64}, {\"QU_SEQNUM\": 18807177, \"MID_PRICE\": 172.64}, {\"QU_SEQNUM\": 18807181, \"MID_PRICE\": 172.64}, {\"QU_SEQNUM\": 18807195, \"MID_PRICE\": 172.64}, {\"QU_SEQNUM\": 18807197, \"MID_PRICE\": 172.64}, {\"QU_SEQNUM\": 18807206, \"MID_PRICE\": 172.64}, {\"QU_SEQNUM\": 18807208, \"MID_PRICE\": 172.64}, {\"QU_SEQNUM\": 18807209, \"MID_PRICE\": 172.64}, {\"QU_SEQNUM\": 18807215, \"MID_PRICE\": 172.64}, {\"QU_SEQNUM\": 18807225, \"MID_PRICE\": 172.64}, {\"QU_SEQNUM\": 18807232, \"MID_PRICE\": 172.64}, {\"QU_SEQNUM\": 18807255, \"MID_PRICE\": 172.64}, {\"QU_SEQNUM\": 18807259, \"MID_PRICE\": 172.64}, {\"QU_SEQNUM\": 18807349, \"MID_PRICE\": 172.64}, {\"QU_SEQNUM\": 18807353, \"MID_PRICE\": 172.64}, {\"QU_SEQNUM\": 18807402, \"MID_PRICE\": 172.64}, {\"QU_SEQNUM\": 18807405, \"MID_PRICE\": 172.64}, {\"QU_SEQNUM\": 18807453, \"MID_PRICE\": 172.64}, {\"QU_SEQNUM\": 18807480, \"MID_PRICE\": 172.64}, {\"QU_SEQNUM\": 18807801, \"MID_PRICE\": 172.64}, {\"QU_SEQNUM\": 18807820, \"MID_PRICE\": 172.64}, {\"QU_SEQNUM\": 18808153, \"MID_PRICE\": 172.64}, {\"QU_SEQNUM\": 18808257, \"MID_PRICE\": 172.64}, {\"QU_SEQNUM\": 18808275, \"MID_PRICE\": 172.635}, {\"QU_SEQNUM\": 18808276, \"MID_PRICE\": 172.635}, {\"QU_SEQNUM\": 18808282, \"MID_PRICE\": 172.635}, {\"QU_SEQNUM\": 18808506, \"MID_PRICE\": 172.635}, {\"QU_SEQNUM\": 18808601, \"MID_PRICE\": 172.635}, {\"QU_SEQNUM\": 18808715, \"MID_PRICE\": 172.635}, {\"QU_SEQNUM\": 18809292, \"MID_PRICE\": 172.635}, {\"QU_SEQNUM\": 18809313, \"MID_PRICE\": 172.635}, {\"QU_SEQNUM\": 18809361, \"MID_PRICE\": 172.635}, {\"QU_SEQNUM\": 18809487, \"MID_PRICE\": 172.635}, {\"QU_SEQNUM\": 18809607, \"MID_PRICE\": 172.635}, {\"QU_SEQNUM\": 18809725, \"MID_PRICE\": 172.635}, {\"QU_SEQNUM\": 18809766, \"MID_PRICE\": 172.63}, {\"QU_SEQNUM\": 18809770, \"MID_PRICE\": 172.63}, {\"QU_SEQNUM\": 18809777, \"MID_PRICE\": 172.63}, {\"QU_SEQNUM\": 18809781, \"MID_PRICE\": 172.63}, {\"QU_SEQNUM\": 18809784, \"MID_PRICE\": 172.63}, {\"QU_SEQNUM\": 18809791, \"MID_PRICE\": 172.63}, {\"QU_SEQNUM\": 18809796, \"MID_PRICE\": 172.625}, {\"QU_SEQNUM\": 18809813, \"MID_PRICE\": 172.625}, {\"QU_SEQNUM\": 18809832, \"MID_PRICE\": 172.625}, {\"QU_SEQNUM\": 18809836, \"MID_PRICE\": 172.625}, {\"QU_SEQNUM\": 18809875, \"MID_PRICE\": 172.625}, {\"QU_SEQNUM\": 18809901, \"MID_PRICE\": 172.625}, {\"QU_SEQNUM\": 18809902, \"MID_PRICE\": 172.625}, {\"QU_SEQNUM\": 18809919, \"MID_PRICE\": 172.625}, {\"QU_SEQNUM\": 18809923, \"MID_PRICE\": 172.62}, {\"QU_SEQNUM\": 18809965, \"MID_PRICE\": 172.62}, {\"QU_SEQNUM\": 18810033, \"MID_PRICE\": 172.62}, {\"QU_SEQNUM\": 18810128, \"MID_PRICE\": 172.62}, {\"QU_SEQNUM\": 18810233, \"MID_PRICE\": 172.62}, {\"QU_SEQNUM\": 18810256, \"MID_PRICE\": 172.62}, {\"QU_SEQNUM\": 18810266, \"MID_PRICE\": 172.62}, {\"QU_SEQNUM\": 18810271, \"MID_PRICE\": 172.62}, {\"QU_SEQNUM\": 18810275, \"MID_PRICE\": 172.62}, {\"QU_SEQNUM\": 18810298, \"MID_PRICE\": 172.615}, {\"QU_SEQNUM\": 18810343, \"MID_PRICE\": 172.615}, {\"QU_SEQNUM\": 18810349, \"MID_PRICE\": 172.615}, {\"QU_SEQNUM\": 18810421, \"MID_PRICE\": 172.615}, {\"QU_SEQNUM\": 18810429, \"MID_PRICE\": 172.615}, {\"QU_SEQNUM\": 18810569, \"MID_PRICE\": 172.615}, {\"QU_SEQNUM\": 18810572, \"MID_PRICE\": 172.615}, {\"QU_SEQNUM\": 18810618, \"MID_PRICE\": 172.615}, {\"QU_SEQNUM\": 18810624, \"MID_PRICE\": 172.615}, {\"QU_SEQNUM\": 18810643, \"MID_PRICE\": 172.615}, {\"QU_SEQNUM\": 18810708, \"MID_PRICE\": 172.615}, {\"QU_SEQNUM\": 18810720, \"MID_PRICE\": 172.62}, {\"QU_SEQNUM\": 18810731, \"MID_PRICE\": 172.62}, {\"QU_SEQNUM\": 18810735, \"MID_PRICE\": 172.62}, {\"QU_SEQNUM\": 18810742, \"MID_PRICE\": 172.62}, {\"QU_SEQNUM\": 18810749, \"MID_PRICE\": 172.62}, {\"QU_SEQNUM\": 18810868, \"MID_PRICE\": 172.62}, {\"QU_SEQNUM\": 18811098, \"MID_PRICE\": 172.62}, {\"QU_SEQNUM\": 18811120, \"MID_PRICE\": 172.62}, {\"QU_SEQNUM\": 18811128, \"MID_PRICE\": 172.62}, {\"QU_SEQNUM\": 18811130, \"MID_PRICE\": 172.62}, {\"QU_SEQNUM\": 18811134, \"MID_PRICE\": 172.62}, {\"QU_SEQNUM\": 18811198, \"MID_PRICE\": 172.62}, {\"QU_SEQNUM\": 18811209, \"MID_PRICE\": 172.625}, {\"QU_SEQNUM\": 18811211, \"MID_PRICE\": 172.625}, {\"QU_SEQNUM\": 18811212, \"MID_PRICE\": 172.625}, {\"QU_SEQNUM\": 18811215, \"MID_PRICE\": 172.625}, {\"QU_SEQNUM\": 18811238, \"MID_PRICE\": 172.625}, {\"QU_SEQNUM\": 18811239, \"MID_PRICE\": 172.625}, {\"QU_SEQNUM\": 18811240, \"MID_PRICE\": 172.625}, {\"QU_SEQNUM\": 18811242, \"MID_PRICE\": 172.62}, {\"QU_SEQNUM\": 18811244, \"MID_PRICE\": 172.62}, {\"QU_SEQNUM\": 18811456, \"MID_PRICE\": 172.62}, {\"QU_SEQNUM\": 18811463, \"MID_PRICE\": 172.625}, {\"QU_SEQNUM\": 18811464, \"MID_PRICE\": 172.625}, {\"QU_SEQNUM\": 18811473, \"MID_PRICE\": 172.625}, {\"QU_SEQNUM\": 18811583, \"MID_PRICE\": 172.625}, {\"QU_SEQNUM\": 18812041, \"MID_PRICE\": 172.625}, {\"QU_SEQNUM\": 18812042, \"MID_PRICE\": 172.625}, {\"QU_SEQNUM\": 18812094, \"MID_PRICE\": 172.625}, {\"QU_SEQNUM\": 18812194, \"MID_PRICE\": 172.625}, {\"QU_SEQNUM\": 18812201, \"MID_PRICE\": 172.625}, {\"QU_SEQNUM\": 18812499, \"MID_PRICE\": 172.63}, {\"QU_SEQNUM\": 18812501, \"MID_PRICE\": 172.625}, {\"QU_SEQNUM\": 18812503, \"MID_PRICE\": 172.625}, {\"QU_SEQNUM\": 18812505, \"MID_PRICE\": 172.625}, {\"QU_SEQNUM\": 18812589, \"MID_PRICE\": 172.625}, {\"QU_SEQNUM\": 18812593, \"MID_PRICE\": 172.625}, {\"QU_SEQNUM\": 18812595, \"MID_PRICE\": 172.63}, {\"QU_SEQNUM\": 18812598, \"MID_PRICE\": 172.63}, {\"QU_SEQNUM\": 18812602, \"MID_PRICE\": 172.63}, {\"QU_SEQNUM\": 18812612, \"MID_PRICE\": 172.63}, {\"QU_SEQNUM\": 18812620, \"MID_PRICE\": 172.63}, {\"QU_SEQNUM\": 18812653, \"MID_PRICE\": 172.625}, {\"QU_SEQNUM\": 18812662, \"MID_PRICE\": 172.63}, {\"QU_SEQNUM\": 18812666, \"MID_PRICE\": 172.625}, {\"QU_SEQNUM\": 18812683, \"MID_PRICE\": 172.63}, {\"QU_SEQNUM\": 18812811, \"MID_PRICE\": 172.63}, {\"QU_SEQNUM\": 18812836, \"MID_PRICE\": 172.63}, {\"QU_SEQNUM\": 18812884, \"MID_PRICE\": 172.635}, {\"QU_SEQNUM\": 18812886, \"MID_PRICE\": 172.635}, {\"QU_SEQNUM\": 18812893, \"MID_PRICE\": 172.635}, {\"QU_SEQNUM\": 18812897, \"MID_PRICE\": 172.63}, {\"QU_SEQNUM\": 18812961, \"MID_PRICE\": 172.63}, {\"QU_SEQNUM\": 18813075, \"MID_PRICE\": 172.63}, {\"QU_SEQNUM\": 18813377, \"MID_PRICE\": 172.625}, {\"QU_SEQNUM\": 18813379, \"MID_PRICE\": 172.625}, {\"QU_SEQNUM\": 18813394, \"MID_PRICE\": 172.625}, {\"QU_SEQNUM\": 18813450, \"MID_PRICE\": 172.625}, {\"QU_SEQNUM\": 18813457, \"MID_PRICE\": 172.63}, {\"QU_SEQNUM\": 18813459, \"MID_PRICE\": 172.63}, {\"QU_SEQNUM\": 18813574, \"MID_PRICE\": 172.635}, {\"QU_SEQNUM\": 18813575, \"MID_PRICE\": 172.635}, {\"QU_SEQNUM\": 18813651, \"MID_PRICE\": 172.635}, {\"QU_SEQNUM\": 18813654, \"MID_PRICE\": 172.635}, {\"QU_SEQNUM\": 18813668, \"MID_PRICE\": 172.635}, {\"QU_SEQNUM\": 18813671, \"MID_PRICE\": 172.635}, {\"QU_SEQNUM\": 18813764, \"MID_PRICE\": 172.635}, {\"QU_SEQNUM\": 18813912, \"MID_PRICE\": 172.635}, {\"QU_SEQNUM\": 18813924, \"MID_PRICE\": 172.635}, {\"QU_SEQNUM\": 18813958, \"MID_PRICE\": 172.63}, {\"QU_SEQNUM\": 18814207, \"MID_PRICE\": 172.63}, {\"QU_SEQNUM\": 18814209, \"MID_PRICE\": 172.63}, {\"QU_SEQNUM\": 18814211, \"MID_PRICE\": 172.635}, {\"QU_SEQNUM\": 18814225, \"MID_PRICE\": 172.635}, {\"QU_SEQNUM\": 18814232, \"MID_PRICE\": 172.635}, {\"QU_SEQNUM\": 18814236, \"MID_PRICE\": 172.635}, {\"QU_SEQNUM\": 18814335, \"MID_PRICE\": 172.635}, {\"QU_SEQNUM\": 18814339, \"MID_PRICE\": 172.63}, {\"QU_SEQNUM\": 18814428, \"MID_PRICE\": 172.63}, {\"QU_SEQNUM\": 18815506, \"MID_PRICE\": 172.635}, {\"QU_SEQNUM\": 18815509, \"MID_PRICE\": 172.635}, {\"QU_SEQNUM\": 18815540, \"MID_PRICE\": 172.635}, {\"QU_SEQNUM\": 18815543, \"MID_PRICE\": 172.635}, {\"QU_SEQNUM\": 18815551, \"MID_PRICE\": 172.635}, {\"QU_SEQNUM\": 18815609, \"MID_PRICE\": 172.635}, {\"QU_SEQNUM\": 18815640, \"MID_PRICE\": 172.635}, {\"QU_SEQNUM\": 18815644, \"MID_PRICE\": 172.635}, {\"QU_SEQNUM\": 18815688, \"MID_PRICE\": 172.64}, {\"QU_SEQNUM\": 18815696, \"MID_PRICE\": 172.64}, {\"QU_SEQNUM\": 18815698, \"MID_PRICE\": 172.635}, {\"QU_SEQNUM\": 18815701, \"MID_PRICE\": 172.635}, {\"QU_SEQNUM\": 18815729, \"MID_PRICE\": 172.635}, {\"QU_SEQNUM\": 18815736, \"MID_PRICE\": 172.635}, {\"QU_SEQNUM\": 18815737, \"MID_PRICE\": 172.635}, {\"QU_SEQNUM\": 18815748, \"MID_PRICE\": 172.635}, {\"QU_SEQNUM\": 18815752, \"MID_PRICE\": 172.635}, {\"QU_SEQNUM\": 18815780, \"MID_PRICE\": 172.635}, {\"QU_SEQNUM\": 18815783, \"MID_PRICE\": 172.635}, {\"QU_SEQNUM\": 18815793, \"MID_PRICE\": 172.635}, {\"QU_SEQNUM\": 18815833, \"MID_PRICE\": 172.635}, {\"QU_SEQNUM\": 18815988, \"MID_PRICE\": 172.635}, {\"QU_SEQNUM\": 18815991, \"MID_PRICE\": 172.635}, {\"QU_SEQNUM\": 18816026, \"MID_PRICE\": 172.635}, {\"QU_SEQNUM\": 18816077, \"MID_PRICE\": 172.635}, {\"QU_SEQNUM\": 18816108, \"MID_PRICE\": 172.635}, {\"QU_SEQNUM\": 18816112, \"MID_PRICE\": 172.635}, {\"QU_SEQNUM\": 18816131, \"MID_PRICE\": 172.635}, {\"QU_SEQNUM\": 18816297, \"MID_PRICE\": 172.635}, {\"QU_SEQNUM\": 18816303, \"MID_PRICE\": 172.635}, {\"QU_SEQNUM\": 18816306, \"MID_PRICE\": 172.635}, {\"QU_SEQNUM\": 18816367, \"MID_PRICE\": 172.635}, {\"QU_SEQNUM\": 18816369, \"MID_PRICE\": 172.635}, {\"QU_SEQNUM\": 18816376, \"MID_PRICE\": 172.635}, {\"QU_SEQNUM\": 18816388, \"MID_PRICE\": 172.635}, {\"QU_SEQNUM\": 18816397, \"MID_PRICE\": 172.635}, {\"QU_SEQNUM\": 18816402, \"MID_PRICE\": 172.635}, {\"QU_SEQNUM\": 18816511, \"MID_PRICE\": 172.635}, {\"QU_SEQNUM\": 18816538, \"MID_PRICE\": 172.635}, {\"QU_SEQNUM\": 18816642, \"MID_PRICE\": 172.635}, {\"QU_SEQNUM\": 18816687, \"MID_PRICE\": 172.635}, {\"QU_SEQNUM\": 18816693, \"MID_PRICE\": 172.63}, {\"QU_SEQNUM\": 18816720, \"MID_PRICE\": 172.63}, {\"QU_SEQNUM\": 18816748, \"MID_PRICE\": 172.635}, {\"QU_SEQNUM\": 18816753, \"MID_PRICE\": 172.635}, {\"QU_SEQNUM\": 18816754, \"MID_PRICE\": 172.635}, {\"QU_SEQNUM\": 18816760, \"MID_PRICE\": 172.635}, {\"QU_SEQNUM\": 18816765, \"MID_PRICE\": 172.635}, {\"QU_SEQNUM\": 18816772, \"MID_PRICE\": 172.635}, {\"QU_SEQNUM\": 18816789, \"MID_PRICE\": 172.635}, {\"QU_SEQNUM\": 18816790, \"MID_PRICE\": 172.635}, {\"QU_SEQNUM\": 18816795, \"MID_PRICE\": 172.635}, {\"QU_SEQNUM\": 18816797, \"MID_PRICE\": 172.635}, {\"QU_SEQNUM\": 18816811, \"MID_PRICE\": 172.635}, {\"QU_SEQNUM\": 18816819, \"MID_PRICE\": 172.635}, {\"QU_SEQNUM\": 18816831, \"MID_PRICE\": 172.635}]}}, {\"mode\": \"vega-lite\"});\n",
       "</script>"
      ],
      "text/plain": [
       "alt.Chart(...)"
      ]
     },
     "execution_count": 37,
     "metadata": {},
     "output_type": "execute_result"
    }
   ],
   "source": [
    "df_tmp[['QU_SEQNUM', 'MID_PRICE']].head(1000).plot.line(x=\"QU_SEQNUM\", y=\"MID_PRICE\")"
   ]
  },
  {
   "cell_type": "code",
   "execution_count": 36,
   "id": "948e4fe6",
   "metadata": {},
   "outputs": [
    {
     "data": {
      "text/html": [
       "\n",
       "<style>\n",
       "  #altair-viz-0d077d765173415d8b28157e866095af.vega-embed {\n",
       "    width: 100%;\n",
       "    display: flex;\n",
       "  }\n",
       "\n",
       "  #altair-viz-0d077d765173415d8b28157e866095af.vega-embed details,\n",
       "  #altair-viz-0d077d765173415d8b28157e866095af.vega-embed details summary {\n",
       "    position: relative;\n",
       "  }\n",
       "</style>\n",
       "<div id=\"altair-viz-0d077d765173415d8b28157e866095af\"></div>\n",
       "<script type=\"text/javascript\">\n",
       "  var VEGA_DEBUG = (typeof VEGA_DEBUG == \"undefined\") ? {} : VEGA_DEBUG;\n",
       "  (function(spec, embedOpt){\n",
       "    let outputDiv = document.currentScript.previousElementSibling;\n",
       "    if (outputDiv.id !== \"altair-viz-0d077d765173415d8b28157e866095af\") {\n",
       "      outputDiv = document.getElementById(\"altair-viz-0d077d765173415d8b28157e866095af\");\n",
       "    }\n",
       "\n",
       "    const paths = {\n",
       "      \"vega\": \"https://cdn.jsdelivr.net/npm/vega@5?noext\",\n",
       "      \"vega-lib\": \"https://cdn.jsdelivr.net/npm/vega-lib?noext\",\n",
       "      \"vega-lite\": \"https://cdn.jsdelivr.net/npm/vega-lite@5.20.1?noext\",\n",
       "      \"vega-embed\": \"https://cdn.jsdelivr.net/npm/vega-embed@6?noext\",\n",
       "    };\n",
       "\n",
       "    function maybeLoadScript(lib, version) {\n",
       "      var key = `${lib.replace(\"-\", \"\")}_version`;\n",
       "      return (VEGA_DEBUG[key] == version) ?\n",
       "        Promise.resolve(paths[lib]) :\n",
       "        new Promise(function(resolve, reject) {\n",
       "          var s = document.createElement('script');\n",
       "          document.getElementsByTagName(\"head\")[0].appendChild(s);\n",
       "          s.async = true;\n",
       "          s.onload = () => {\n",
       "            VEGA_DEBUG[key] = version;\n",
       "            return resolve(paths[lib]);\n",
       "          };\n",
       "          s.onerror = () => reject(`Error loading script: ${paths[lib]}`);\n",
       "          s.src = paths[lib];\n",
       "        });\n",
       "    }\n",
       "\n",
       "    function showError(err) {\n",
       "      outputDiv.innerHTML = `<div class=\"error\" style=\"color:red;\">${err}</div>`;\n",
       "      throw err;\n",
       "    }\n",
       "\n",
       "    function displayChart(vegaEmbed) {\n",
       "      vegaEmbed(outputDiv, spec, embedOpt)\n",
       "        .catch(err => showError(`Javascript Error: ${err.message}<br>This usually means there's a typo in your chart specification. See the javascript console for the full traceback.`));\n",
       "    }\n",
       "\n",
       "    if(typeof define === \"function\" && define.amd) {\n",
       "      requirejs.config({paths});\n",
       "      let deps = [\"vega-embed\"];\n",
       "      require(deps, displayChart, err => showError(`Error loading script: ${err.message}`));\n",
       "    } else {\n",
       "      maybeLoadScript(\"vega\", \"5\")\n",
       "        .then(() => maybeLoadScript(\"vega-lite\", \"5.20.1\"))\n",
       "        .then(() => maybeLoadScript(\"vega-embed\", \"6\"))\n",
       "        .catch(showError)\n",
       "        .then(() => displayChart(vegaEmbed));\n",
       "    }\n",
       "  })({\"config\": {\"view\": {\"continuousWidth\": 300, \"continuousHeight\": 300}}, \"data\": {\"name\": \"data-2d63b0120ee8a147a52d7dc9fa8b61ff\"}, \"mark\": {\"type\": \"line\", \"tooltip\": true}, \"encoding\": {\"x\": {\"field\": \"QU_SEQNUM\", \"type\": \"quantitative\"}, \"y\": {\"field\": \"VWAP\", \"type\": \"quantitative\"}}, \"params\": [{\"name\": \"param_12\", \"select\": {\"type\": \"interval\", \"encodings\": [\"x\", \"y\"]}, \"bind\": \"scales\"}], \"$schema\": \"https://vega.github.io/schema/vega-lite/v5.20.1.json\", \"datasets\": {\"data-2d63b0120ee8a147a52d7dc9fa8b61ff\": [{\"QU_SEQNUM\": 18780753, \"VWAP\": 172.67340298507463}, {\"QU_SEQNUM\": 18780758, \"VWAP\": 172.67319402985075}, {\"QU_SEQNUM\": 18780760, \"VWAP\": 172.67276627218936}, {\"QU_SEQNUM\": 18780809, \"VWAP\": 172.67232558139537}, {\"QU_SEQNUM\": 18780813, \"VWAP\": 172.6721469740634}, {\"QU_SEQNUM\": 18780845, \"VWAP\": 172.67200000000003}, {\"QU_SEQNUM\": 18780866, \"VWAP\": 172.67195086705203}, {\"QU_SEQNUM\": 18780868, \"VWAP\": 172.67192647058823}, {\"QU_SEQNUM\": 18780880, \"VWAP\": 172.671788856305}, {\"QU_SEQNUM\": 18780881, \"VWAP\": 172.6716617647059}, {\"QU_SEQNUM\": 18780882, \"VWAP\": 172.67155325443787}, {\"QU_SEQNUM\": 18780901, \"VWAP\": 172.67146627565984}, {\"QU_SEQNUM\": 18780927, \"VWAP\": 172.671387283237}, {\"QU_SEQNUM\": 18780937, \"VWAP\": 172.6713832853026}, {\"QU_SEQNUM\": 18781289, \"VWAP\": 172.67123209169054}, {\"QU_SEQNUM\": 18781291, \"VWAP\": 172.67105413105412}, {\"QU_SEQNUM\": 18781294, \"VWAP\": 172.67090000000002}, {\"QU_SEQNUM\": 18781295, \"VWAP\": 172.67076149425287}, {\"QU_SEQNUM\": 18781308, \"VWAP\": 172.67063768115943}, {\"QU_SEQNUM\": 18781309, \"VWAP\": 172.67049562682217}, {\"QU_SEQNUM\": 18781422, \"VWAP\": 172.67038123167154}, {\"QU_SEQNUM\": 18781427, \"VWAP\": 172.6703188405797}, {\"QU_SEQNUM\": 18781430, \"VWAP\": 172.67027142857143}, {\"QU_SEQNUM\": 18781435, \"VWAP\": 172.67007102272729}, {\"QU_SEQNUM\": 18781522, \"VWAP\": 172.66987288135593}, {\"QU_SEQNUM\": 18781528, \"VWAP\": 172.66958571428572}, {\"QU_SEQNUM\": 18781576, \"VWAP\": 172.66932857142857}, {\"QU_SEQNUM\": 18781592, \"VWAP\": 172.66900862068965}, {\"QU_SEQNUM\": 18781610, \"VWAP\": 172.6686849710983}, {\"QU_SEQNUM\": 18781622, \"VWAP\": 172.66850290697676}, {\"QU_SEQNUM\": 18781630, \"VWAP\": 172.6683479532164}, {\"QU_SEQNUM\": 18781636, \"VWAP\": 172.6682205882353}, {\"QU_SEQNUM\": 18781639, \"VWAP\": 172.66808035714288}, {\"QU_SEQNUM\": 18781643, \"VWAP\": 172.6679491017964}, {\"QU_SEQNUM\": 18781645, \"VWAP\": 172.66778614457832}, {\"QU_SEQNUM\": 18781649, \"VWAP\": 172.6676291793313}, {\"QU_SEQNUM\": 18781653, \"VWAP\": 172.66757530120483}, {\"QU_SEQNUM\": 18781661, \"VWAP\": 172.66747692307692}, {\"QU_SEQNUM\": 18781668, \"VWAP\": 172.66736677115986}, {\"QU_SEQNUM\": 18781679, \"VWAP\": 172.66726837060705}, {\"QU_SEQNUM\": 18781705, \"VWAP\": 172.66714743589745}, {\"QU_SEQNUM\": 18781742, \"VWAP\": 172.66705211726386}, {\"QU_SEQNUM\": 18781763, \"VWAP\": 172.66693708609273}, {\"QU_SEQNUM\": 18781764, \"VWAP\": 172.66683501683502}, {\"QU_SEQNUM\": 18781766, \"VWAP\": 172.66682432432432}, {\"QU_SEQNUM\": 18781769, \"VWAP\": 172.6666724738676}, {\"QU_SEQNUM\": 18781773, \"VWAP\": 172.6665053763441}, {\"QU_SEQNUM\": 18781911, \"VWAP\": 172.66652173913045}, {\"QU_SEQNUM\": 18781919, \"VWAP\": 172.66652727272728}, {\"QU_SEQNUM\": 18781920, \"VWAP\": 172.66653846153847}, {\"QU_SEQNUM\": 18781955, \"VWAP\": 172.66656133828997}, {\"QU_SEQNUM\": 18781964, \"VWAP\": 172.66659090909093}, {\"QU_SEQNUM\": 18782005, \"VWAP\": 172.66682879377433}, {\"QU_SEQNUM\": 18782009, \"VWAP\": 172.6671}, {\"QU_SEQNUM\": 18782031, \"VWAP\": 172.66713414634145}, {\"QU_SEQNUM\": 18782035, \"VWAP\": 172.66716049382717}, {\"QU_SEQNUM\": 18782044, \"VWAP\": 172.6671694214876}, {\"QU_SEQNUM\": 18782047, \"VWAP\": 172.66717842323652}, {\"QU_SEQNUM\": 18782063, \"VWAP\": 172.66720588235293}, {\"QU_SEQNUM\": 18782064, \"VWAP\": 172.6672245762712}, {\"QU_SEQNUM\": 18782072, \"VWAP\": 172.6672340425532}, {\"QU_SEQNUM\": 18782080, \"VWAP\": 172.66710869565216}, {\"QU_SEQNUM\": 18782116, \"VWAP\": 172.667096069869}, {\"QU_SEQNUM\": 18782142, \"VWAP\": 172.6670704845815}, {\"QU_SEQNUM\": 18782167, \"VWAP\": 172.6672391304348}, {\"QU_SEQNUM\": 18782249, \"VWAP\": 172.66741379310346}, {\"QU_SEQNUM\": 18782255, \"VWAP\": 172.66742424242426}, {\"QU_SEQNUM\": 18782259, \"VWAP\": 172.66742424242426}, {\"QU_SEQNUM\": 18782273, \"VWAP\": 172.66742424242426}, {\"QU_SEQNUM\": 18782276, \"VWAP\": 172.66742424242426}, {\"QU_SEQNUM\": 18782293, \"VWAP\": 172.66755274261604}, {\"QU_SEQNUM\": 18782296, \"VWAP\": 172.66756302521011}, {\"QU_SEQNUM\": 18782341, \"VWAP\": 172.66757322175732}, {\"QU_SEQNUM\": 18782388, \"VWAP\": 172.66744635193132}, {\"QU_SEQNUM\": 18782411, \"VWAP\": 172.6673127753304}, {\"QU_SEQNUM\": 18782416, \"VWAP\": 172.6673127753304}, {\"QU_SEQNUM\": 18782419, \"VWAP\": 172.6673127753304}, {\"QU_SEQNUM\": 18782432, \"VWAP\": 172.66730088495575}, {\"QU_SEQNUM\": 18782439, \"VWAP\": 172.66727678571428}, {\"QU_SEQNUM\": 18782445, \"VWAP\": 172.66730769230767}, {\"QU_SEQNUM\": 18782449, \"VWAP\": 172.66731818181816}, {\"QU_SEQNUM\": 18782450, \"VWAP\": 172.66731818181816}, {\"QU_SEQNUM\": 18782452, \"VWAP\": 172.66731818181816}, {\"QU_SEQNUM\": 18782453, \"VWAP\": 172.66731818181816}, {\"QU_SEQNUM\": 18782458, \"VWAP\": 172.66732876712328}, {\"QU_SEQNUM\": 18782460, \"VWAP\": 172.6673394495413}, {\"QU_SEQNUM\": 18782464, \"VWAP\": 172.66732718894008}, {\"QU_SEQNUM\": 18782465, \"VWAP\": 172.667443438914}, {\"QU_SEQNUM\": 18782509, \"VWAP\": 172.66757777777778}, {\"QU_SEQNUM\": 18782574, \"VWAP\": 172.66757777777778}, {\"QU_SEQNUM\": 18782576, \"VWAP\": 172.66758928571429}, {\"QU_SEQNUM\": 18782595, \"VWAP\": 172.66769736842105}, {\"QU_SEQNUM\": 18782598, \"VWAP\": 172.66782327586205}, {\"QU_SEQNUM\": 18782628, \"VWAP\": 172.66782327586205}, {\"QU_SEQNUM\": 18782636, \"VWAP\": 172.66769736842105}, {\"QU_SEQNUM\": 18782640, \"VWAP\": 172.6676739130435}, {\"QU_SEQNUM\": 18782652, \"VWAP\": 172.6676739130435}, {\"QU_SEQNUM\": 18782685, \"VWAP\": 172.6676739130435}, {\"QU_SEQNUM\": 18782690, \"VWAP\": 172.66769736842105}, {\"QU_SEQNUM\": 18782692, \"VWAP\": 172.66769736842105}, {\"QU_SEQNUM\": 18782695, \"VWAP\": 172.66779914529914}, {\"QU_SEQNUM\": 18782799, \"VWAP\": 172.66789583333332}, {\"QU_SEQNUM\": 18782807, \"VWAP\": 172.668}, {\"QU_SEQNUM\": 18782812, \"VWAP\": 172.6681124497992}, {\"QU_SEQNUM\": 18782816, \"VWAP\": 172.6682086614173}, {\"QU_SEQNUM\": 18782827, \"VWAP\": 172.66830115830118}, {\"QU_SEQNUM\": 18782829, \"VWAP\": 172.6684030418251}, {\"QU_SEQNUM\": 18782855, \"VWAP\": 172.66848880597016}, {\"QU_SEQNUM\": 18782862, \"VWAP\": 172.6685583941606}, {\"QU_SEQNUM\": 18782984, \"VWAP\": 172.66862007168461}, {\"QU_SEQNUM\": 18783016, \"VWAP\": 172.66862007168461}, {\"QU_SEQNUM\": 18783017, \"VWAP\": 172.6686330935252}, {\"QU_SEQNUM\": 18783021, \"VWAP\": 172.66855311355312}, {\"QU_SEQNUM\": 18783025, \"VWAP\": 172.66847744360902}, {\"QU_SEQNUM\": 18783030, \"VWAP\": 172.6683846153846}, {\"QU_SEQNUM\": 18783075, \"VWAP\": 172.66830039525692}, {\"QU_SEQNUM\": 18783079, \"VWAP\": 172.6683984375}, {\"QU_SEQNUM\": 18783082, \"VWAP\": 172.6684942084942}, {\"QU_SEQNUM\": 18783089, \"VWAP\": 172.66857954545458}, {\"QU_SEQNUM\": 18783114, \"VWAP\": 172.66867537313433}, {\"QU_SEQNUM\": 18783149, \"VWAP\": 172.66879699248122}, {\"QU_SEQNUM\": 18783173, \"VWAP\": 172.6687924528302}, {\"QU_SEQNUM\": 18783246, \"VWAP\": 172.6687878787879}, {\"QU_SEQNUM\": 18783248, \"VWAP\": 172.66886617100374}, {\"QU_SEQNUM\": 18783352, \"VWAP\": 172.66894160583942}, {\"QU_SEQNUM\": 18783365, \"VWAP\": 172.66902877697842}, {\"QU_SEQNUM\": 18783368, \"VWAP\": 172.66902173913044}, {\"QU_SEQNUM\": 18783373, \"VWAP\": 172.66884892086333}, {\"QU_SEQNUM\": 18783375, \"VWAP\": 172.66868327402136}, {\"QU_SEQNUM\": 18783377, \"VWAP\": 172.6685813148789}, {\"QU_SEQNUM\": 18783399, \"VWAP\": 172.6686518771331}, {\"QU_SEQNUM\": 18783407, \"VWAP\": 172.6687248322148}, {\"QU_SEQNUM\": 18783481, \"VWAP\": 172.66889438943895}, {\"QU_SEQNUM\": 18783483, \"VWAP\": 172.66896103896104}, {\"QU_SEQNUM\": 18783548, \"VWAP\": 172.66902555910545}, {\"QU_SEQNUM\": 18783551, \"VWAP\": 172.66907523510974}, {\"QU_SEQNUM\": 18783566, \"VWAP\": 172.669078125}, {\"QU_SEQNUM\": 18783757, \"VWAP\": 172.66908099688473}, {\"QU_SEQNUM\": 18784445, \"VWAP\": 172.66908099688473}, {\"QU_SEQNUM\": 18784455, \"VWAP\": 172.6691411042945}, {\"QU_SEQNUM\": 18784469, \"VWAP\": 172.66918674698798}, {\"QU_SEQNUM\": 18784472, \"VWAP\": 172.6691891891892}, {\"QU_SEQNUM\": 18784548, \"VWAP\": 172.6692921686747}, {\"QU_SEQNUM\": 18784551, \"VWAP\": 172.66934911242606}, {\"QU_SEQNUM\": 18784554, \"VWAP\": 172.66941520467836}, {\"QU_SEQNUM\": 18784556, \"VWAP\": 172.66957725947523}, {\"QU_SEQNUM\": 18784561, \"VWAP\": 172.6697093023256}, {\"QU_SEQNUM\": 18784615, \"VWAP\": 172.6697813411079}, {\"QU_SEQNUM\": 18784618, \"VWAP\": 172.66995664739886}, {\"QU_SEQNUM\": 18784629, \"VWAP\": 172.67014367816094}, {\"QU_SEQNUM\": 18784662, \"VWAP\": 172.67031791907516}, {\"QU_SEQNUM\": 18784668, \"VWAP\": 172.6704941860465}, {\"QU_SEQNUM\": 18784681, \"VWAP\": 172.6706997084548}, {\"QU_SEQNUM\": 18784807, \"VWAP\": 172.6708797653959}, {\"QU_SEQNUM\": 18784837, \"VWAP\": 172.6710355029586}, {\"QU_SEQNUM\": 18784843, \"VWAP\": 172.6710843373494}, {\"QU_SEQNUM\": 18784848, \"VWAP\": 172.67114678899082}, {\"QU_SEQNUM\": 18784850, \"VWAP\": 172.67121118012423}, {\"QU_SEQNUM\": 18784853, \"VWAP\": 172.6712893081761}, {\"QU_SEQNUM\": 18784857, \"VWAP\": 172.6713765822785}, {\"QU_SEQNUM\": 18784858, \"VWAP\": 172.67146226415096}, {\"QU_SEQNUM\": 18784898, \"VWAP\": 172.6715251572327}, {\"QU_SEQNUM\": 18784918, \"VWAP\": 172.67171875000003}, {\"QU_SEQNUM\": 18784921, \"VWAP\": 172.67188854489166}, {\"QU_SEQNUM\": 18784924, \"VWAP\": 172.67210122699387}, {\"QU_SEQNUM\": 18784931, \"VWAP\": 172.67231117824775}, {\"QU_SEQNUM\": 18785012, \"VWAP\": 172.6725}, {\"QU_SEQNUM\": 18785013, \"VWAP\": 172.67266768292683}, {\"QU_SEQNUM\": 18785057, \"VWAP\": 172.6728680981595}, {\"QU_SEQNUM\": 18785196, \"VWAP\": 172.67309230769231}, {\"QU_SEQNUM\": 18785199, \"VWAP\": 172.6732}, {\"QU_SEQNUM\": 18785218, \"VWAP\": 172.67342592592593}, {\"QU_SEQNUM\": 18785235, \"VWAP\": 172.673653250774}, {\"QU_SEQNUM\": 18785452, \"VWAP\": 172.67391975308644}, {\"QU_SEQNUM\": 18785466, \"VWAP\": 172.67420245398773}, {\"QU_SEQNUM\": 18785470, \"VWAP\": 172.67448170731709}, {\"QU_SEQNUM\": 18785479, \"VWAP\": 172.67474320241692}, {\"QU_SEQNUM\": 18785488, \"VWAP\": 172.67521084337352}, {\"QU_SEQNUM\": 18785495, \"VWAP\": 172.6757014925373}, {\"QU_SEQNUM\": 18785503, \"VWAP\": 172.67624624624625}, {\"QU_SEQNUM\": 18785506, \"VWAP\": 172.67656156156158}, {\"QU_SEQNUM\": 18785509, \"VWAP\": 172.67689759036145}, {\"QU_SEQNUM\": 18785515, \"VWAP\": 172.67708459214504}, {\"QU_SEQNUM\": 18785529, \"VWAP\": 172.67740121580547}, {\"QU_SEQNUM\": 18785567, \"VWAP\": 172.67774390243903}, {\"QU_SEQNUM\": 18785570, \"VWAP\": 172.67810975609757}, {\"QU_SEQNUM\": 18785587, \"VWAP\": 172.67845565749238}, {\"QU_SEQNUM\": 18785590, \"VWAP\": 172.67882262996943}, {\"QU_SEQNUM\": 18785641, \"VWAP\": 172.67920731707318}, {\"QU_SEQNUM\": 18785670, \"VWAP\": 172.6795896656535}, {\"QU_SEQNUM\": 18785678, \"VWAP\": 172.67996969696972}, {\"QU_SEQNUM\": 18785683, \"VWAP\": 172.68034743202418}, {\"QU_SEQNUM\": 18785704, \"VWAP\": 172.6805855855856}, {\"QU_SEQNUM\": 18785718, \"VWAP\": 172.680990990991}, {\"QU_SEQNUM\": 18785730, \"VWAP\": 172.68135135135134}, {\"QU_SEQNUM\": 18785734, \"VWAP\": 172.68152108433733}, {\"QU_SEQNUM\": 18785742, \"VWAP\": 172.68166163141996}, {\"QU_SEQNUM\": 18785747, \"VWAP\": 172.68173192771084}, {\"QU_SEQNUM\": 18785776, \"VWAP\": 172.68177811550152}, {\"QU_SEQNUM\": 18785946, \"VWAP\": 172.68183486238533}, {\"QU_SEQNUM\": 18785947, \"VWAP\": 172.6819076923077}, {\"QU_SEQNUM\": 18785949, \"VWAP\": 172.68199074074076}, {\"QU_SEQNUM\": 18785977, \"VWAP\": 172.68208074534164}, {\"QU_SEQNUM\": 18786294, \"VWAP\": 172.6821739130435}, {\"QU_SEQNUM\": 18786297, \"VWAP\": 172.68226006191952}, {\"QU_SEQNUM\": 18786300, \"VWAP\": 172.68234662576688}, {\"QU_SEQNUM\": 18786329, \"VWAP\": 172.68246200607902}, {\"QU_SEQNUM\": 18786338, \"VWAP\": 172.6825679758308}, {\"QU_SEQNUM\": 18786428, \"VWAP\": 172.68269578313252}, {\"QU_SEQNUM\": 18786823, \"VWAP\": 172.6828398791541}, {\"QU_SEQNUM\": 18786827, \"VWAP\": 172.6829668674699}, {\"QU_SEQNUM\": 18786838, \"VWAP\": 172.68305059523811}, {\"QU_SEQNUM\": 18786841, \"VWAP\": 172.68314159292035}, {\"QU_SEQNUM\": 18786842, \"VWAP\": 172.68323099415204}, {\"QU_SEQNUM\": 18786854, \"VWAP\": 172.68332361516036}, {\"QU_SEQNUM\": 18786870, \"VWAP\": 172.6834210526316}, {\"QU_SEQNUM\": 18786944, \"VWAP\": 172.68367052023123}, {\"QU_SEQNUM\": 18786945, \"VWAP\": 172.68392045454547}, {\"QU_SEQNUM\": 18786967, \"VWAP\": 172.68400849858358}, {\"QU_SEQNUM\": 18786983, \"VWAP\": 172.68411016949153}, {\"QU_SEQNUM\": 18786984, \"VWAP\": 172.68420903954805}, {\"QU_SEQNUM\": 18786985, \"VWAP\": 172.68430594900852}, {\"QU_SEQNUM\": 18786988, \"VWAP\": 172.68440170940173}, {\"QU_SEQNUM\": 18786994, \"VWAP\": 172.68452586206897}, {\"QU_SEQNUM\": 18786995, \"VWAP\": 172.68481321839081}, {\"QU_SEQNUM\": 18786997, \"VWAP\": 172.68511461318053}, {\"QU_SEQNUM\": 18787019, \"VWAP\": 172.68540114613182}, {\"QU_SEQNUM\": 18787020, \"VWAP\": 172.68556686046512}, {\"QU_SEQNUM\": 18787279, \"VWAP\": 172.68577380952382}, {\"QU_SEQNUM\": 18787288, \"VWAP\": 172.68577844311378}, {\"QU_SEQNUM\": 18787291, \"VWAP\": 172.68590773809524}, {\"QU_SEQNUM\": 18787292, \"VWAP\": 172.6860471976401}, {\"QU_SEQNUM\": 18787337, \"VWAP\": 172.68618075801749}, {\"QU_SEQNUM\": 18787344, \"VWAP\": 172.6861773255814}, {\"QU_SEQNUM\": 18787355, \"VWAP\": 172.68618075801749}, {\"QU_SEQNUM\": 18787365, \"VWAP\": 172.6861911764706}, {\"QU_SEQNUM\": 18787371, \"VWAP\": 172.68620535714285}, {\"QU_SEQNUM\": 18787396, \"VWAP\": 172.68621621621622}, {\"QU_SEQNUM\": 18787412, \"VWAP\": 172.68622727272728}, {\"QU_SEQNUM\": 18787467, \"VWAP\": 172.68624233128835}, {\"QU_SEQNUM\": 18787471, \"VWAP\": 172.68626168224299}, {\"QU_SEQNUM\": 18787646, \"VWAP\": 172.6862857142857}, {\"QU_SEQNUM\": 18787650, \"VWAP\": 172.68639423076925}, {\"QU_SEQNUM\": 18787654, \"VWAP\": 172.68651612903227}, {\"QU_SEQNUM\": 18787667, \"VWAP\": 172.68662337662337}, {\"QU_SEQNUM\": 18787668, \"VWAP\": 172.68663398692811}, {\"QU_SEQNUM\": 18787673, \"VWAP\": 172.68663398692811}, {\"QU_SEQNUM\": 18787674, \"VWAP\": 172.68662866449515}, {\"QU_SEQNUM\": 18787676, \"VWAP\": 172.68662337662337}, {\"QU_SEQNUM\": 18787679, \"VWAP\": 172.6867041800643}, {\"QU_SEQNUM\": 18787683, \"VWAP\": 172.68679936305733}, {\"QU_SEQNUM\": 18787714, \"VWAP\": 172.68689873417722}, {\"QU_SEQNUM\": 18787730, \"VWAP\": 172.6869873817035}, {\"QU_SEQNUM\": 18787731, \"VWAP\": 172.68700636942677}, {\"QU_SEQNUM\": 18787736, \"VWAP\": 172.68701923076924}, {\"QU_SEQNUM\": 18787803, \"VWAP\": 172.68702572347266}, {\"QU_SEQNUM\": 18787806, \"VWAP\": 172.68704545454545}, {\"QU_SEQNUM\": 18787813, \"VWAP\": 172.6871359223301}, {\"QU_SEQNUM\": 18787814, \"VWAP\": 172.6872347266881}, {\"QU_SEQNUM\": 18787819, \"VWAP\": 172.68733333333333}, {\"QU_SEQNUM\": 18788493, \"VWAP\": 172.68733333333333}, {\"QU_SEQNUM\": 18788548, \"VWAP\": 172.6873482428115}, {\"QU_SEQNUM\": 18788552, \"VWAP\": 172.68746794871797}, {\"QU_SEQNUM\": 18788645, \"VWAP\": 172.68759615384616}, {\"QU_SEQNUM\": 18788869, \"VWAP\": 172.6877156549521}, {\"QU_SEQNUM\": 18788876, \"VWAP\": 172.68781847133758}, {\"QU_SEQNUM\": 18788881, \"VWAP\": 172.68771103896106}, {\"QU_SEQNUM\": 18788885, \"VWAP\": 172.68758278145697}, {\"QU_SEQNUM\": 18788898, \"VWAP\": 172.68759136212626}, {\"QU_SEQNUM\": 18788899, \"VWAP\": 172.68761744966443}, {\"QU_SEQNUM\": 18788911, \"VWAP\": 172.68762626262625}, {\"QU_SEQNUM\": 18788915, \"VWAP\": 172.68763513513514}, {\"QU_SEQNUM\": 18789018, \"VWAP\": 172.68762626262625}, {\"QU_SEQNUM\": 18789128, \"VWAP\": 172.68762626262625}, {\"QU_SEQNUM\": 18789134, \"VWAP\": 172.6875}, {\"QU_SEQNUM\": 18789163, \"VWAP\": 172.68736013986015}, {\"QU_SEQNUM\": 18789176, \"VWAP\": 172.68722419928827}, {\"QU_SEQNUM\": 18789178, \"VWAP\": 172.68723214285714}, {\"QU_SEQNUM\": 18789197, \"VWAP\": 172.68723214285714}, {\"QU_SEQNUM\": 18789211, \"VWAP\": 172.68724014336917}, {\"QU_SEQNUM\": 18789216, \"VWAP\": 172.6871090909091}, {\"QU_SEQNUM\": 18789261, \"VWAP\": 172.68696296296298}, {\"QU_SEQNUM\": 18789406, \"VWAP\": 172.6868045112782}, {\"QU_SEQNUM\": 18789442, \"VWAP\": 172.68681818181818}, {\"QU_SEQNUM\": 18789452, \"VWAP\": 172.68681818181818}, {\"QU_SEQNUM\": 18789455, \"VWAP\": 172.68681818181818}, {\"QU_SEQNUM\": 18789553, \"VWAP\": 172.6868045112782}, {\"QU_SEQNUM\": 18789992, \"VWAP\": 172.6868045112782}, {\"QU_SEQNUM\": 18790085, \"VWAP\": 172.6868113207547}, {\"QU_SEQNUM\": 18790111, \"VWAP\": 172.6868113207547}, {\"QU_SEQNUM\": 18790188, \"VWAP\": 172.68679775280899}, {\"QU_SEQNUM\": 18790230, \"VWAP\": 172.6867777777778}, {\"QU_SEQNUM\": 18790235, \"VWAP\": 172.68667286245355}, {\"QU_SEQNUM\": 18790257, \"VWAP\": 172.68656015037595}, {\"QU_SEQNUM\": 18790259, \"VWAP\": 172.686463878327}, {\"QU_SEQNUM\": 18790260, \"VWAP\": 172.68657303370787}, {\"QU_SEQNUM\": 18790270, \"VWAP\": 172.68667286245355}, {\"QU_SEQNUM\": 18790305, \"VWAP\": 172.6866791044776}, {\"QU_SEQNUM\": 18790308, \"VWAP\": 172.68666051660517}, {\"QU_SEQNUM\": 18790314, \"VWAP\": 172.68654981549815}, {\"QU_SEQNUM\": 18790337, \"VWAP\": 172.68642592592593}, {\"QU_SEQNUM\": 18790345, \"VWAP\": 172.68630111524163}, {\"QU_SEQNUM\": 18790348, \"VWAP\": 172.68618959107806}, {\"QU_SEQNUM\": 18790355, \"VWAP\": 172.68617647058824}, {\"QU_SEQNUM\": 18790380, \"VWAP\": 172.68616788321168}, {\"QU_SEQNUM\": 18790390, \"VWAP\": 172.68616363636363}, {\"QU_SEQNUM\": 18790403, \"VWAP\": 172.68615942028987}, {\"QU_SEQNUM\": 18790466, \"VWAP\": 172.68605454545454}, {\"QU_SEQNUM\": 18790492, \"VWAP\": 172.68593750000002}, {\"QU_SEQNUM\": 18790516, \"VWAP\": 172.6857992565056}, {\"QU_SEQNUM\": 18790628, \"VWAP\": 172.6857992565056}, {\"QU_SEQNUM\": 18790670, \"VWAP\": 172.6857992565056}, {\"QU_SEQNUM\": 18790674, \"VWAP\": 172.6856741573034}, {\"QU_SEQNUM\": 18790677, \"VWAP\": 172.68553231939163}, {\"QU_SEQNUM\": 18790680, \"VWAP\": 172.6853861003861}, {\"QU_SEQNUM\": 18790681, \"VWAP\": 172.6852549019608}, {\"QU_SEQNUM\": 18790691, \"VWAP\": 172.6852549019608}, {\"QU_SEQNUM\": 18790692, \"VWAP\": 172.68525691699605}, {\"QU_SEQNUM\": 18790702, \"VWAP\": 172.68525896414343}, {\"QU_SEQNUM\": 18790738, \"VWAP\": 172.68525896414343}, {\"QU_SEQNUM\": 18790788, \"VWAP\": 172.6852610441767}, {\"QU_SEQNUM\": 18790791, \"VWAP\": 172.68526315789475}, {\"QU_SEQNUM\": 18790928, \"VWAP\": 172.68526530612246}, {\"QU_SEQNUM\": 18790931, \"VWAP\": 172.68526639344262}, {\"QU_SEQNUM\": 18791194, \"VWAP\": 172.68526748971195}, {\"QU_SEQNUM\": 18791426, \"VWAP\": 172.68526748971195}, {\"QU_SEQNUM\": 18791428, \"VWAP\": 172.68526639344262}, {\"QU_SEQNUM\": 18791431, \"VWAP\": 172.68526530612246}, {\"QU_SEQNUM\": 18791436, \"VWAP\": 172.68526530612246}, {\"QU_SEQNUM\": 18791445, \"VWAP\": 172.68526530612246}, {\"QU_SEQNUM\": 18791449, \"VWAP\": 172.68526639344262}, {\"QU_SEQNUM\": 18791452, \"VWAP\": 172.68526859504132}, {\"QU_SEQNUM\": 18791457, \"VWAP\": 172.68527083333336}, {\"QU_SEQNUM\": 18791463, \"VWAP\": 172.68527196652718}, {\"QU_SEQNUM\": 18791469, \"VWAP\": 172.68527426160338}, {\"QU_SEQNUM\": 18791475, \"VWAP\": 172.68527426160338}, {\"QU_SEQNUM\": 18791610, \"VWAP\": 172.6852754237288}, {\"QU_SEQNUM\": 18791634, \"VWAP\": 172.6852754237288}, {\"QU_SEQNUM\": 18791849, \"VWAP\": 172.68527659574468}, {\"QU_SEQNUM\": 18792032, \"VWAP\": 172.6852777777778}, {\"QU_SEQNUM\": 18792043, \"VWAP\": 172.68527896995707}, {\"QU_SEQNUM\": 18792053, \"VWAP\": 172.68527896995707}, {\"QU_SEQNUM\": 18792054, \"VWAP\": 172.68527896995707}, {\"QU_SEQNUM\": 18792059, \"VWAP\": 172.6852777777778}, {\"QU_SEQNUM\": 18792086, \"VWAP\": 172.68527659574468}, {\"QU_SEQNUM\": 18792090, \"VWAP\": 172.68512987012986}, {\"QU_SEQNUM\": 18792091, \"VWAP\": 172.68500000000003}, {\"QU_SEQNUM\": 18792162, \"VWAP\": 172.685}, {\"QU_SEQNUM\": 18792170, \"VWAP\": 172.685}, {\"QU_SEQNUM\": 18792225, \"VWAP\": 172.685}, {\"QU_SEQNUM\": 18792283, \"VWAP\": 172.68517467248907}, {\"QU_SEQNUM\": 18792286, \"VWAP\": 172.6853862660944}, {\"QU_SEQNUM\": 18792292, \"VWAP\": 172.68560924369748}, {\"QU_SEQNUM\": 18792302, \"VWAP\": 172.68582278481014}, {\"QU_SEQNUM\": 18792311, \"VWAP\": 172.68607594936708}, {\"QU_SEQNUM\": 18792317, \"VWAP\": 172.686359832636}, {\"QU_SEQNUM\": 18792324, \"VWAP\": 172.68666666666667}, {\"QU_SEQNUM\": 18792326, \"VWAP\": 172.6870362903226}, {\"QU_SEQNUM\": 18792335, \"VWAP\": 172.68732142857144}, {\"QU_SEQNUM\": 18792353, \"VWAP\": 172.68760784313727}, {\"QU_SEQNUM\": 18792365, \"VWAP\": 172.68791505791506}, {\"QU_SEQNUM\": 18792399, \"VWAP\": 172.68817490494297}, {\"QU_SEQNUM\": 18792405, \"VWAP\": 172.68843984962405}, {\"QU_SEQNUM\": 18792408, \"VWAP\": 172.68866171003717}, {\"QU_SEQNUM\": 18792410, \"VWAP\": 172.6888560885609}, {\"QU_SEQNUM\": 18792411, \"VWAP\": 172.689010989011}, {\"QU_SEQNUM\": 18792417, \"VWAP\": 172.6892}, {\"QU_SEQNUM\": 18792428, \"VWAP\": 172.68932971014493}, {\"QU_SEQNUM\": 18792431, \"VWAP\": 172.68945454545454}, {\"QU_SEQNUM\": 18792434, \"VWAP\": 172.68961678832116}, {\"QU_SEQNUM\": 18792436, \"VWAP\": 172.6897818181818}, {\"QU_SEQNUM\": 18792468, \"VWAP\": 172.68990942028987}, {\"QU_SEQNUM\": 18792473, \"VWAP\": 172.6900543478261}, {\"QU_SEQNUM\": 18792475, \"VWAP\": 172.69021818181818}, {\"QU_SEQNUM\": 18792477, \"VWAP\": 172.6903804347826}, {\"QU_SEQNUM\": 18792527, \"VWAP\": 172.6905615942029}, {\"QU_SEQNUM\": 18792528, \"VWAP\": 172.69076363636364}, {\"QU_SEQNUM\": 18792544, \"VWAP\": 172.6909818181818}, {\"QU_SEQNUM\": 18792603, \"VWAP\": 172.69116363636363}, {\"QU_SEQNUM\": 18792605, \"VWAP\": 172.69134545454546}, {\"QU_SEQNUM\": 18792618, \"VWAP\": 172.69150362318842}, {\"QU_SEQNUM\": 18792625, \"VWAP\": 172.6916366906475}, {\"QU_SEQNUM\": 18792641, \"VWAP\": 172.69167253521127}, {\"QU_SEQNUM\": 18792652, \"VWAP\": 172.69169520547945}, {\"QU_SEQNUM\": 18792653, \"VWAP\": 172.69172240802675}, {\"QU_SEQNUM\": 18792655, \"VWAP\": 172.69175324675325}, {\"QU_SEQNUM\": 18792657, \"VWAP\": 172.69176100628928}, {\"QU_SEQNUM\": 18792667, \"VWAP\": 172.69178899082567}, {\"QU_SEQNUM\": 18792670, \"VWAP\": 172.6918005952381}, {\"QU_SEQNUM\": 18793219, \"VWAP\": 172.69181159420287}, {\"QU_SEQNUM\": 18793220, \"VWAP\": 172.69184659090908}, {\"QU_SEQNUM\": 18793223, \"VWAP\": 172.69189944134078}, {\"QU_SEQNUM\": 18793240, \"VWAP\": 172.69193150684933}, {\"QU_SEQNUM\": 18793247, \"VWAP\": 172.691912568306}, {\"QU_SEQNUM\": 18793257, \"VWAP\": 172.69183783783782}, {\"QU_SEQNUM\": 18793262, \"VWAP\": 172.69174666666666}, {\"QU_SEQNUM\": 18793266, \"VWAP\": 172.69165789473684}, {\"QU_SEQNUM\": 18793274, \"VWAP\": 172.69160574412533}, {\"QU_SEQNUM\": 18793395, \"VWAP\": 172.69157142857145}, {\"QU_SEQNUM\": 18793396, \"VWAP\": 172.69157142857145}, {\"QU_SEQNUM\": 18793400, \"VWAP\": 172.69150130548303}, {\"QU_SEQNUM\": 18793475, \"VWAP\": 172.69142105263157}, {\"QU_SEQNUM\": 18793478, \"VWAP\": 172.69135999999997}, {\"QU_SEQNUM\": 18793481, \"VWAP\": 172.69121010638298}, {\"QU_SEQNUM\": 18793487, \"VWAP\": 172.69106666666667}, {\"QU_SEQNUM\": 18793488, \"VWAP\": 172.69092741935484}, {\"QU_SEQNUM\": 18793491, \"VWAP\": 172.6907901907357}, {\"QU_SEQNUM\": 18793494, \"VWAP\": 172.69065395095367}, {\"QU_SEQNUM\": 18793495, \"VWAP\": 172.69054054054055}, {\"QU_SEQNUM\": 18793532, \"VWAP\": 172.6903825136612}, {\"QU_SEQNUM\": 18793533, \"VWAP\": 172.69022222222222}, {\"QU_SEQNUM\": 18793538, \"VWAP\": 172.69005617977527}, {\"QU_SEQNUM\": 18793540, \"VWAP\": 172.68987252124646}, {\"QU_SEQNUM\": 18793541, \"VWAP\": 172.6896875}, {\"QU_SEQNUM\": 18793545, \"VWAP\": 172.68951704545455}, {\"QU_SEQNUM\": 18793552, \"VWAP\": 172.6893626062323}, {\"QU_SEQNUM\": 18793557, \"VWAP\": 172.68920454545454}, {\"QU_SEQNUM\": 18793559, \"VWAP\": 172.68906779661017}, {\"QU_SEQNUM\": 18793561, \"VWAP\": 172.6889606741573}, {\"QU_SEQNUM\": 18793605, \"VWAP\": 172.68884831460673}, {\"QU_SEQNUM\": 18793621, \"VWAP\": 172.68870786516854}, {\"QU_SEQNUM\": 18793626, \"VWAP\": 172.68859550561797}, {\"QU_SEQNUM\": 18793628, \"VWAP\": 172.68856749311294}, {\"QU_SEQNUM\": 18793629, \"VWAP\": 172.68854054054054}, {\"QU_SEQNUM\": 18793646, \"VWAP\": 172.68841463414634}, {\"QU_SEQNUM\": 18793648, \"VWAP\": 172.68837333333335}, {\"QU_SEQNUM\": 18793649, \"VWAP\": 172.6882486631016}, {\"QU_SEQNUM\": 18793650, \"VWAP\": 172.6880965147453}, {\"QU_SEQNUM\": 18793691, \"VWAP\": 172.68796246648793}, {\"QU_SEQNUM\": 18793693, \"VWAP\": 172.68783602150538}, {\"QU_SEQNUM\": 18793695, \"VWAP\": 172.68771621621622}, {\"QU_SEQNUM\": 18793743, \"VWAP\": 172.68758807588077}, {\"QU_SEQNUM\": 18793746, \"VWAP\": 172.68748626373628}, {\"QU_SEQNUM\": 18793747, \"VWAP\": 172.68737359550562}, {\"QU_SEQNUM\": 18793749, \"VWAP\": 172.6872636103152}, {\"QU_SEQNUM\": 18793765, \"VWAP\": 172.68723188405798}, {\"QU_SEQNUM\": 18793768, \"VWAP\": 172.68720760233919}, {\"QU_SEQNUM\": 18793917, \"VWAP\": 172.68717455621302}, {\"QU_SEQNUM\": 18793948, \"VWAP\": 172.68714925373135}, {\"QU_SEQNUM\": 18793956, \"VWAP\": 172.68712349397592}, {\"QU_SEQNUM\": 18794065, \"VWAP\": 172.6871148036254}, {\"QU_SEQNUM\": 18794284, \"VWAP\": 172.68709726443768}, {\"QU_SEQNUM\": 18794292, \"VWAP\": 172.68707951070337}, {\"QU_SEQNUM\": 18794300, \"VWAP\": 172.6870923076923}, {\"QU_SEQNUM\": 18794311, \"VWAP\": 172.68711180124222}, {\"QU_SEQNUM\": 18794312, \"VWAP\": 172.68713836477988}, {\"QU_SEQNUM\": 18794392, \"VWAP\": 172.68716560509554}, {\"QU_SEQNUM\": 18794396, \"VWAP\": 172.68718649517686}, {\"QU_SEQNUM\": 18794398, \"VWAP\": 172.68719354838709}, {\"QU_SEQNUM\": 18794674, \"VWAP\": 172.68719354838709}, {\"QU_SEQNUM\": 18794872, \"VWAP\": 172.68705128205127}, {\"QU_SEQNUM\": 18794894, \"VWAP\": 172.6868649517685}, {\"QU_SEQNUM\": 18794907, \"VWAP\": 172.68667202572348}, {\"QU_SEQNUM\": 18794926, \"VWAP\": 172.6864423076923}, {\"QU_SEQNUM\": 18794956, \"VWAP\": 172.6862101910828}, {\"QU_SEQNUM\": 18794969, \"VWAP\": 172.68571875}, {\"QU_SEQNUM\": 18795055, \"VWAP\": 172.68524464831805}, {\"QU_SEQNUM\": 18795057, \"VWAP\": 172.68445619335347}, {\"QU_SEQNUM\": 18795059, \"VWAP\": 172.6837087087087}, {\"QU_SEQNUM\": 18795068, \"VWAP\": 172.68321114369502}, {\"QU_SEQNUM\": 18795076, \"VWAP\": 172.68270655270658}, {\"QU_SEQNUM\": 18795086, \"VWAP\": 172.68225626740949}, {\"QU_SEQNUM\": 18795107, \"VWAP\": 172.6818169398907}, {\"QU_SEQNUM\": 18795245, \"VWAP\": 172.68141509433963}, {\"QU_SEQNUM\": 18795294, \"VWAP\": 172.68126702997276}, {\"QU_SEQNUM\": 18795302, \"VWAP\": 172.68111570247936}, {\"QU_SEQNUM\": 18795303, \"VWAP\": 172.68092797783933}, {\"QU_SEQNUM\": 18795337, \"VWAP\": 172.6806824512535}, {\"QU_SEQNUM\": 18795346, \"VWAP\": 172.6802216066482}, {\"QU_SEQNUM\": 18795392, \"VWAP\": 172.67972602739727}, {\"QU_SEQNUM\": 18795437, \"VWAP\": 172.67927792915532}, {\"QU_SEQNUM\": 18795553, \"VWAP\": 172.6789024390244}, {\"QU_SEQNUM\": 18795555, \"VWAP\": 172.67830578512397}, {\"QU_SEQNUM\": 18795567, \"VWAP\": 172.67763966480447}, {\"QU_SEQNUM\": 18795592, \"VWAP\": 172.67731197771587}, {\"QU_SEQNUM\": 18795612, \"VWAP\": 172.67662429378532}, {\"QU_SEQNUM\": 18795634, \"VWAP\": 172.67629577464788}, {\"QU_SEQNUM\": 18795636, \"VWAP\": 172.67607648725212}, {\"QU_SEQNUM\": 18795640, \"VWAP\": 172.67582386363637}, {\"QU_SEQNUM\": 18795799, \"VWAP\": 172.6755965909091}, {\"QU_SEQNUM\": 18795861, \"VWAP\": 172.67542613636363}, {\"QU_SEQNUM\": 18795862, \"VWAP\": 172.67509915014165}, {\"QU_SEQNUM\": 18795914, \"VWAP\": 172.6747033898305}, {\"QU_SEQNUM\": 18795923, \"VWAP\": 172.67438028169013}, {\"QU_SEQNUM\": 18795963, \"VWAP\": 172.67401960784315}, {\"QU_SEQNUM\": 18795981, \"VWAP\": 172.673290960452}, {\"QU_SEQNUM\": 18796012, \"VWAP\": 172.67253581661893}, {\"QU_SEQNUM\": 18796053, \"VWAP\": 172.67184593023256}, {\"QU_SEQNUM\": 18796059, \"VWAP\": 172.67110294117649}, {\"QU_SEQNUM\": 18796077, \"VWAP\": 172.6704804804805}, {\"QU_SEQNUM\": 18796078, \"VWAP\": 172.669754601227}, {\"QU_SEQNUM\": 18796084, \"VWAP\": 172.66907523510972}, {\"QU_SEQNUM\": 18796134, \"VWAP\": 172.66846273291927}, {\"QU_SEQNUM\": 18796136, \"VWAP\": 172.6683232628399}, {\"QU_SEQNUM\": 18796184, \"VWAP\": 172.66813609467457}, {\"QU_SEQNUM\": 18796234, \"VWAP\": 172.66800578034685}, {\"QU_SEQNUM\": 18796236, \"VWAP\": 172.66774052478135}, {\"QU_SEQNUM\": 18796240, \"VWAP\": 172.6675219941349}, {\"QU_SEQNUM\": 18796245, \"VWAP\": 172.66723529411766}, {\"QU_SEQNUM\": 18796247, \"VWAP\": 172.66694690265487}, {\"QU_SEQNUM\": 18796263, \"VWAP\": 172.66661676646706}, {\"QU_SEQNUM\": 18796264, \"VWAP\": 172.66645454545454}, {\"QU_SEQNUM\": 18796290, \"VWAP\": 172.66628834355828}, {\"QU_SEQNUM\": 18796302, \"VWAP\": 172.66608359133127}, {\"QU_SEQNUM\": 18796305, \"VWAP\": 172.66577639751551}, {\"QU_SEQNUM\": 18796341, \"VWAP\": 172.66551724137932}, {\"QU_SEQNUM\": 18796358, \"VWAP\": 172.66526984126983}, {\"QU_SEQNUM\": 18796373, \"VWAP\": 172.6649673202614}, {\"QU_SEQNUM\": 18796549, \"VWAP\": 172.66464882943143}, {\"QU_SEQNUM\": 18796551, \"VWAP\": 172.66443103448276}, {\"QU_SEQNUM\": 18796557, \"VWAP\": 172.66418149466193}, {\"QU_SEQNUM\": 18796591, \"VWAP\": 172.6639338235294}, {\"QU_SEQNUM\": 18796628, \"VWAP\": 172.66366920152092}, {\"QU_SEQNUM\": 18796663, \"VWAP\": 172.66332684824903}, {\"QU_SEQNUM\": 18796667, \"VWAP\": 172.6632375478927}, {\"QU_SEQNUM\": 18796677, \"VWAP\": 172.66316287878786}, {\"QU_SEQNUM\": 18796694, \"VWAP\": 172.6630711610487}, {\"QU_SEQNUM\": 18796723, \"VWAP\": 172.66296296296295}, {\"QU_SEQNUM\": 18796726, \"VWAP\": 172.66297397769515}, {\"QU_SEQNUM\": 18796765, \"VWAP\": 172.663007518797}, {\"QU_SEQNUM\": 18796767, \"VWAP\": 172.6630188679245}, {\"QU_SEQNUM\": 18796769, \"VWAP\": 172.6631106870229}, {\"QU_SEQNUM\": 18796770, \"VWAP\": 172.6631923076923}, {\"QU_SEQNUM\": 18796784, \"VWAP\": 172.66328793774318}, {\"QU_SEQNUM\": 18796788, \"VWAP\": 172.6633661417323}, {\"QU_SEQNUM\": 18796841, \"VWAP\": 172.66346613545815}, {\"QU_SEQNUM\": 18796845, \"VWAP\": 172.663861003861}, {\"QU_SEQNUM\": 18796848, \"VWAP\": 172.66414498141265}, {\"QU_SEQNUM\": 18796905, \"VWAP\": 172.66440647482014}, {\"QU_SEQNUM\": 18796912, \"VWAP\": 172.66463286713287}, {\"QU_SEQNUM\": 18796917, \"VWAP\": 172.66486486486488}, {\"QU_SEQNUM\": 18797011, \"VWAP\": 172.66531456953643}, {\"QU_SEQNUM\": 18797018, \"VWAP\": 172.6657654723127}, {\"QU_SEQNUM\": 18797020, \"VWAP\": 172.6662101910828}, {\"QU_SEQNUM\": 18797025, \"VWAP\": 172.66668224299067}, {\"QU_SEQNUM\": 18797032, \"VWAP\": 172.6671319018405}, {\"QU_SEQNUM\": 18797049, \"VWAP\": 172.6675226586103}, {\"QU_SEQNUM\": 18797055, \"VWAP\": 172.66785714285714}, {\"QU_SEQNUM\": 18797072, \"VWAP\": 172.66818584070796}, {\"QU_SEQNUM\": 18797082, \"VWAP\": 172.66837209302327}, {\"QU_SEQNUM\": 18797090, \"VWAP\": 172.66858166189112}, {\"QU_SEQNUM\": 18797259, \"VWAP\": 172.66879213483148}, {\"QU_SEQNUM\": 18797261, \"VWAP\": 172.66887142857144}, {\"QU_SEQNUM\": 18797271, \"VWAP\": 172.66921203438395}, {\"QU_SEQNUM\": 18797348, \"VWAP\": 172.6695507246377}, {\"QU_SEQNUM\": 18797356, \"VWAP\": 172.66994152046783}, {\"QU_SEQNUM\": 18797368, \"VWAP\": 172.67031609195402}, {\"QU_SEQNUM\": 18797370, \"VWAP\": 172.67072222222222}, {\"QU_SEQNUM\": 18797383, \"VWAP\": 172.67113513513513}, {\"QU_SEQNUM\": 18797384, \"VWAP\": 172.6714973262032}, {\"QU_SEQNUM\": 18797410, \"VWAP\": 172.67185714285716}, {\"QU_SEQNUM\": 18797800, \"VWAP\": 172.6721590909091}, {\"QU_SEQNUM\": 18797808, \"VWAP\": 172.67224438902744}, {\"QU_SEQNUM\": 18797814, \"VWAP\": 172.67236386138617}, {\"QU_SEQNUM\": 18797817, \"VWAP\": 172.6725806451613}, {\"QU_SEQNUM\": 18797827, \"VWAP\": 172.67283582089556}, {\"QU_SEQNUM\": 18797837, \"VWAP\": 172.6730548628429}, {\"QU_SEQNUM\": 18797841, \"VWAP\": 172.6732375}, {\"QU_SEQNUM\": 18797847, \"VWAP\": 172.67345864661655}, {\"QU_SEQNUM\": 18797849, \"VWAP\": 172.6735375}, {\"QU_SEQNUM\": 18797870, \"VWAP\": 172.67364089775563}, {\"QU_SEQNUM\": 18797876, \"VWAP\": 172.6737157107232}, {\"QU_SEQNUM\": 18797879, \"VWAP\": 172.67393382352944}, {\"QU_SEQNUM\": 18797882, \"VWAP\": 172.67424939467315}, {\"QU_SEQNUM\": 18797883, \"VWAP\": 172.6745923261391}, {\"QU_SEQNUM\": 18797917, \"VWAP\": 172.67477108433735}, {\"QU_SEQNUM\": 18797919, \"VWAP\": 172.67510739856803}, {\"QU_SEQNUM\": 18797921, \"VWAP\": 172.6753597122302}, {\"QU_SEQNUM\": 18797923, \"VWAP\": 172.67557692307693}, {\"QU_SEQNUM\": 18797931, \"VWAP\": 172.6757590361446}, {\"QU_SEQNUM\": 18797939, \"VWAP\": 172.67586124401916}, {\"QU_SEQNUM\": 18797946, \"VWAP\": 172.67582742316785}, {\"QU_SEQNUM\": 18797948, \"VWAP\": 172.6758962264151}, {\"QU_SEQNUM\": 18797970, \"VWAP\": 172.67596698113206}, {\"QU_SEQNUM\": 18799373, \"VWAP\": 172.6760117647059}, {\"QU_SEQNUM\": 18799377, \"VWAP\": 172.67607981220658}, {\"QU_SEQNUM\": 18799381, \"VWAP\": 172.67625899280574}, {\"QU_SEQNUM\": 18799386, \"VWAP\": 172.67644963144963}, {\"QU_SEQNUM\": 18799387, \"VWAP\": 172.67664572864322}, {\"QU_SEQNUM\": 18799390, \"VWAP\": 172.67693181818183}, {\"QU_SEQNUM\": 18799552, \"VWAP\": 172.67723918575064}, {\"QU_SEQNUM\": 18799583, \"VWAP\": 172.67737244897958}, {\"QU_SEQNUM\": 18799588, \"VWAP\": 172.6774155844156}, {\"QU_SEQNUM\": 18799590, \"VWAP\": 172.67747340425532}, {\"QU_SEQNUM\": 18799596, \"VWAP\": 172.67753405994551}, {\"QU_SEQNUM\": 18799598, \"VWAP\": 172.67759052924794}, {\"QU_SEQNUM\": 18799599, \"VWAP\": 172.67764957264959}, {\"QU_SEQNUM\": 18799600, \"VWAP\": 172.67769565217392}, {\"QU_SEQNUM\": 18799609, \"VWAP\": 172.67772727272728}, {\"QU_SEQNUM\": 18799615, \"VWAP\": 172.67756559766767}, {\"QU_SEQNUM\": 18799641, \"VWAP\": 172.6774127906977}, {\"QU_SEQNUM\": 18799645, \"VWAP\": 172.67728862973763}, {\"QU_SEQNUM\": 18800116, \"VWAP\": 172.67730882352942}, {\"QU_SEQNUM\": 18800117, \"VWAP\": 172.67717717717719}, {\"QU_SEQNUM\": 18800124, \"VWAP\": 172.6769604863222}, {\"QU_SEQNUM\": 18800221, \"VWAP\": 172.67671296296297}, {\"QU_SEQNUM\": 18800228, \"VWAP\": 172.67647975077884}, {\"QU_SEQNUM\": 18800229, \"VWAP\": 172.67613924050633}, {\"QU_SEQNUM\": 18800348, \"VWAP\": 172.67576923076925}, {\"QU_SEQNUM\": 18800351, \"VWAP\": 172.6753674121406}, {\"QU_SEQNUM\": 18800356, \"VWAP\": 172.67498381877024}, {\"QU_SEQNUM\": 18800368, \"VWAP\": 172.6746229508197}, {\"QU_SEQNUM\": 18801143, \"VWAP\": 172.6744934640523}, {\"QU_SEQNUM\": 18801181, \"VWAP\": 172.67437908496734}, {\"QU_SEQNUM\": 18801184, \"VWAP\": 172.67426948051948}, {\"QU_SEQNUM\": 18801187, \"VWAP\": 172.6741585760518}, {\"QU_SEQNUM\": 18801194, \"VWAP\": 172.67405144694536}, {\"QU_SEQNUM\": 18801198, \"VWAP\": 172.67391167192432}, {\"QU_SEQNUM\": 18801206, \"VWAP\": 172.6737732919255}, {\"QU_SEQNUM\": 18801344, \"VWAP\": 172.67364329268295}, {\"QU_SEQNUM\": 18801365, \"VWAP\": 172.67352409638556}, {\"QU_SEQNUM\": 18801369, \"VWAP\": 172.67341715976332}, {\"QU_SEQNUM\": 18801376, \"VWAP\": 172.67314199395773}, {\"QU_SEQNUM\": 18801382, \"VWAP\": 172.67283076923079}, {\"QU_SEQNUM\": 18801398, \"VWAP\": 172.6725078369906}, {\"QU_SEQNUM\": 18801399, \"VWAP\": 172.67210122699387}, {\"QU_SEQNUM\": 18801408, \"VWAP\": 172.6714525993884}, {\"QU_SEQNUM\": 18801453, \"VWAP\": 172.67102102102103}, {\"QU_SEQNUM\": 18801483, \"VWAP\": 172.6705735294118}, {\"QU_SEQNUM\": 18801494, \"VWAP\": 172.67018731988475}, {\"QU_SEQNUM\": 18801497, \"VWAP\": 172.66989942528738}, {\"QU_SEQNUM\": 18801500, \"VWAP\": 172.66978448275864}, {\"QU_SEQNUM\": 18801501, \"VWAP\": 172.66965616045846}, {\"QU_SEQNUM\": 18801504, \"VWAP\": 172.66953125}, {\"QU_SEQNUM\": 18801505, \"VWAP\": 172.66942090395483}, {\"QU_SEQNUM\": 18801506, \"VWAP\": 172.6691736694678}, {\"QU_SEQNUM\": 18801510, \"VWAP\": 172.66895543175488}, {\"QU_SEQNUM\": 18801546, \"VWAP\": 172.66873278236918}, {\"QU_SEQNUM\": 18801552, \"VWAP\": 172.6685205479452}, {\"QU_SEQNUM\": 18801559, \"VWAP\": 172.66817039106147}, {\"QU_SEQNUM\": 18801574, \"VWAP\": 172.66781428571431}, {\"QU_SEQNUM\": 18801584, \"VWAP\": 172.6674344023324}, {\"QU_SEQNUM\": 18801587, \"VWAP\": 172.66731778425657}, {\"QU_SEQNUM\": 18801597, \"VWAP\": 172.66723032069973}, {\"QU_SEQNUM\": 18801603, \"VWAP\": 172.66722063037253}, {\"QU_SEQNUM\": 18801609, \"VWAP\": 172.6672191011236}, {\"QU_SEQNUM\": 18801620, \"VWAP\": 172.66725409836067}, {\"QU_SEQNUM\": 18801680, \"VWAP\": 172.66726666666668}, {\"QU_SEQNUM\": 18801688, \"VWAP\": 172.66724409448818}, {\"QU_SEQNUM\": 18801728, \"VWAP\": 172.66725848563968}, {\"QU_SEQNUM\": 18801737, \"VWAP\": 172.66726562500003}, {\"QU_SEQNUM\": 18801740, \"VWAP\": 172.66728682170543}, {\"QU_SEQNUM\": 18801743, \"VWAP\": 172.66729113924052}, {\"QU_SEQNUM\": 18802181, \"VWAP\": 172.667276119403}, {\"QU_SEQNUM\": 18802182, \"VWAP\": 172.6672804878049}, {\"QU_SEQNUM\": 18802185, \"VWAP\": 172.66735507246378}, {\"QU_SEQNUM\": 18802189, \"VWAP\": 172.6673918269231}, {\"QU_SEQNUM\": 18802208, \"VWAP\": 172.66748192771087}, {\"QU_SEQNUM\": 18802237, \"VWAP\": 172.66754854368932}, {\"QU_SEQNUM\": 18802245, \"VWAP\": 172.66760391198045}, {\"QU_SEQNUM\": 18802249, \"VWAP\": 172.6676361386139}, {\"QU_SEQNUM\": 18802273, \"VWAP\": 172.66769326683294}, {\"QU_SEQNUM\": 18802277, \"VWAP\": 172.66775689223056}, {\"QU_SEQNUM\": 18802301, \"VWAP\": 172.66782663316582}, {\"QU_SEQNUM\": 18802303, \"VWAP\": 172.66791457286433}, {\"QU_SEQNUM\": 18802310, \"VWAP\": 172.6679848866499}, {\"QU_SEQNUM\": 18802321, \"VWAP\": 172.66807304785897}, {\"QU_SEQNUM\": 18802327, \"VWAP\": 172.66816455696204}, {\"QU_SEQNUM\": 18802439, \"VWAP\": 172.6682397959184}, {\"QU_SEQNUM\": 18802442, \"VWAP\": 172.66829896907217}, {\"QU_SEQNUM\": 18802451, \"VWAP\": 172.6683115183246}, {\"QU_SEQNUM\": 18802487, \"VWAP\": 172.6683066666667}, {\"QU_SEQNUM\": 18802654, \"VWAP\": 172.6683866666667}, {\"QU_SEQNUM\": 18802655, \"VWAP\": 172.66849333333334}, {\"QU_SEQNUM\": 18802758, \"VWAP\": 172.66856200527704}, {\"QU_SEQNUM\": 18802815, \"VWAP\": 172.6688196286472}, {\"QU_SEQNUM\": 18802816, \"VWAP\": 172.66914864864867}, {\"QU_SEQNUM\": 18802818, \"VWAP\": 172.66949035812672}, {\"QU_SEQNUM\": 18802819, \"VWAP\": 172.66988764044945}, {\"QU_SEQNUM\": 18802820, \"VWAP\": 172.6702849002849}, {\"QU_SEQNUM\": 18802823, \"VWAP\": 172.67065028901735}, {\"QU_SEQNUM\": 18802834, \"VWAP\": 172.67084548104958}, {\"QU_SEQNUM\": 18802837, \"VWAP\": 172.67097953216376}, {\"QU_SEQNUM\": 18802838, \"VWAP\": 172.67114369501468}, {\"QU_SEQNUM\": 18802841, \"VWAP\": 172.67127941176471}, {\"QU_SEQNUM\": 18802847, \"VWAP\": 172.67148093841644}, {\"QU_SEQNUM\": 18802862, \"VWAP\": 172.67164723032073}, {\"QU_SEQNUM\": 18802863, \"VWAP\": 172.67192647058826}, {\"QU_SEQNUM\": 18802936, \"VWAP\": 172.67216617210684}, {\"QU_SEQNUM\": 18802956, \"VWAP\": 172.67224702380955}, {\"QU_SEQNUM\": 18802985, \"VWAP\": 172.67247076023395}, {\"QU_SEQNUM\": 18802989, \"VWAP\": 172.6727298850575}, {\"QU_SEQNUM\": 18802991, \"VWAP\": 172.6730225988701}, {\"QU_SEQNUM\": 18803000, \"VWAP\": 172.67328254847646}, {\"QU_SEQNUM\": 18803007, \"VWAP\": 172.6735416666667}, {\"QU_SEQNUM\": 18803010, \"VWAP\": 172.6737955182073}, {\"QU_SEQNUM\": 18803035, \"VWAP\": 172.6739450867052}, {\"QU_SEQNUM\": 18803037, \"VWAP\": 172.67410447761196}, {\"QU_SEQNUM\": 18803039, \"VWAP\": 172.674250764526}, {\"QU_SEQNUM\": 18803041, \"VWAP\": 172.67442006269596}, {\"QU_SEQNUM\": 18803051, \"VWAP\": 172.67458466453675}, {\"QU_SEQNUM\": 18803078, \"VWAP\": 172.67477049180332}, {\"QU_SEQNUM\": 18803079, \"VWAP\": 172.67496621621623}, {\"QU_SEQNUM\": 18803086, \"VWAP\": 172.67517361111112}, {\"QU_SEQNUM\": 18803092, \"VWAP\": 172.67539145907475}, {\"QU_SEQNUM\": 18803196, \"VWAP\": 172.67539711191338}, {\"QU_SEQNUM\": 18803197, \"VWAP\": 172.67540293040295}, {\"QU_SEQNUM\": 18803200, \"VWAP\": 172.6754089219331}, {\"QU_SEQNUM\": 18803203, \"VWAP\": 172.67541198501874}, {\"QU_SEQNUM\": 18803310, \"VWAP\": 172.67524074074078}, {\"QU_SEQNUM\": 18803311, \"VWAP\": 172.67507299270076}, {\"QU_SEQNUM\": 18803352, \"VWAP\": 172.67507326007328}, {\"QU_SEQNUM\": 18803356, \"VWAP\": 172.67507380073803}, {\"QU_SEQNUM\": 18803358, \"VWAP\": 172.6750746268657}, {\"QU_SEQNUM\": 18803362, \"VWAP\": 172.6750760456274}, {\"QU_SEQNUM\": 18803380, \"VWAP\": 172.67507692307694}, {\"QU_SEQNUM\": 18803381, \"VWAP\": 172.6750778210117}, {\"QU_SEQNUM\": 18803581, \"VWAP\": 172.6750793650794}, {\"QU_SEQNUM\": 18803619, \"VWAP\": 172.67508032128518}, {\"QU_SEQNUM\": 18803622, \"VWAP\": 172.6750806451613}, {\"QU_SEQNUM\": 18803629, \"VWAP\": 172.67508}, {\"QU_SEQNUM\": 18803631, \"VWAP\": 172.6749027237354}, {\"QU_SEQNUM\": 18803684, \"VWAP\": 172.6747338403042}, {\"QU_SEQNUM\": 18803687, \"VWAP\": 172.6745708955224}, {\"QU_SEQNUM\": 18803694, \"VWAP\": 172.67455390334575}, {\"QU_SEQNUM\": 18803706, \"VWAP\": 172.67453703703706}, {\"QU_SEQNUM\": 18803709, \"VWAP\": 172.67438181818184}, {\"QU_SEQNUM\": 18803723, \"VWAP\": 172.67423214285716}, {\"QU_SEQNUM\": 18803724, \"VWAP\": 172.6740845070423}, {\"QU_SEQNUM\": 18803735, \"VWAP\": 172.67393728222999}, {\"QU_SEQNUM\": 18803738, \"VWAP\": 172.6737972508591}, {\"QU_SEQNUM\": 18803739, \"VWAP\": 172.67366101694918}, {\"QU_SEQNUM\": 18803740, \"VWAP\": 172.67353333333335}, {\"QU_SEQNUM\": 18803760, \"VWAP\": 172.67353333333335}, {\"QU_SEQNUM\": 18803764, \"VWAP\": 172.67353333333335}, {\"QU_SEQNUM\": 18803783, \"VWAP\": 172.67364406779663}, {\"QU_SEQNUM\": 18803800, \"VWAP\": 172.67376288659798}, {\"QU_SEQNUM\": 18803802, \"VWAP\": 172.6737671232877}, {\"QU_SEQNUM\": 18803804, \"VWAP\": 172.67364093959736}, {\"QU_SEQNUM\": 18803806, \"VWAP\": 172.67352459016396}, {\"QU_SEQNUM\": 18803812, \"VWAP\": 172.67325163398695}, {\"QU_SEQNUM\": 18803823, \"VWAP\": 172.6729575163399}, {\"QU_SEQNUM\": 18803825, \"VWAP\": 172.6726393442623}, {\"QU_SEQNUM\": 18804125, \"VWAP\": 172.6723190789474}, {\"QU_SEQNUM\": 18804242, \"VWAP\": 172.6720230263158}, {\"QU_SEQNUM\": 18804243, \"VWAP\": 172.67175409836068}, {\"QU_SEQNUM\": 18804245, \"VWAP\": 172.6716826923077}, {\"QU_SEQNUM\": 18804248, \"VWAP\": 172.67171428571433}, {\"QU_SEQNUM\": 18804298, \"VWAP\": 172.6717350157729}, {\"QU_SEQNUM\": 18804305, \"VWAP\": 172.67164596273295}, {\"QU_SEQNUM\": 18804484, \"VWAP\": 172.67155384615387}, {\"QU_SEQNUM\": 18804867, \"VWAP\": 172.67147416413377}, {\"QU_SEQNUM\": 18804896, \"VWAP\": 172.67140718562877}, {\"QU_SEQNUM\": 18804923, \"VWAP\": 172.67133136094677}, {\"QU_SEQNUM\": 18804924, \"VWAP\": 172.6712463343109}, {\"QU_SEQNUM\": 18804948, \"VWAP\": 172.6711739130435}, {\"QU_SEQNUM\": 18804950, \"VWAP\": 172.67111747851004}, {\"QU_SEQNUM\": 18804951, \"VWAP\": 172.67105413105415}, {\"QU_SEQNUM\": 18805005, \"VWAP\": 172.6709801136364}, {\"QU_SEQNUM\": 18805042, \"VWAP\": 172.67098853868197}, {\"QU_SEQNUM\": 18805051, \"VWAP\": 172.6709971098266}, {\"QU_SEQNUM\": 18805084, \"VWAP\": 172.6709195402299}, {\"QU_SEQNUM\": 18805091, \"VWAP\": 172.67084507042256}, {\"QU_SEQNUM\": 18805098, \"VWAP\": 172.67072829131655}, {\"QU_SEQNUM\": 18805113, \"VWAP\": 172.6705849582173}, {\"QU_SEQNUM\": 18805116, \"VWAP\": 172.67040166204987}, {\"QU_SEQNUM\": 18805121, \"VWAP\": 172.6701790633609}, {\"QU_SEQNUM\": 18805129, \"VWAP\": 172.66994550408722}, {\"QU_SEQNUM\": 18805131, \"VWAP\": 172.6696246648794}, {\"QU_SEQNUM\": 18805298, \"VWAP\": 172.66929894179896}, {\"QU_SEQNUM\": 18805430, \"VWAP\": 172.66867268041239}, {\"QU_SEQNUM\": 18805452, \"VWAP\": 172.66815521628502}, {\"QU_SEQNUM\": 18805842, \"VWAP\": 172.66768261964737}, {\"QU_SEQNUM\": 18805923, \"VWAP\": 172.66721945137158}, {\"QU_SEQNUM\": 18805924, \"VWAP\": 172.6667654320988}, {\"QU_SEQNUM\": 18805938, \"VWAP\": 172.66632029339854}, {\"QU_SEQNUM\": 18805944, \"VWAP\": 172.66588377723974}, {\"QU_SEQNUM\": 18806192, \"VWAP\": 172.66545563549158}, {\"QU_SEQNUM\": 18806200, \"VWAP\": 172.66508353221957}, {\"QU_SEQNUM\": 18806207, \"VWAP\": 172.66479518072288}, {\"QU_SEQNUM\": 18806214, \"VWAP\": 172.66446601941746}, {\"QU_SEQNUM\": 18806220, \"VWAP\": 172.66409756097562}, {\"QU_SEQNUM\": 18806225, \"VWAP\": 172.6635922330097}, {\"QU_SEQNUM\": 18806229, \"VWAP\": 172.66309808612442}, {\"QU_SEQNUM\": 18806278, \"VWAP\": 172.66264705882352}, {\"QU_SEQNUM\": 18806408, \"VWAP\": 172.6622401847575}, {\"QU_SEQNUM\": 18806423, \"VWAP\": 172.66181818181818}, {\"QU_SEQNUM\": 18806452, \"VWAP\": 172.66151480637814}, {\"QU_SEQNUM\": 18806466, \"VWAP\": 172.66118663594472}, {\"QU_SEQNUM\": 18806472, \"VWAP\": 172.66074074074075}, {\"QU_SEQNUM\": 18806479, \"VWAP\": 172.6602906976744}, {\"QU_SEQNUM\": 18806484, \"VWAP\": 172.65983644859813}, {\"QU_SEQNUM\": 18806527, \"VWAP\": 172.65934426229506}, {\"QU_SEQNUM\": 18806538, \"VWAP\": 172.65884976525822}, {\"QU_SEQNUM\": 18806545, \"VWAP\": 172.65832159624412}, {\"QU_SEQNUM\": 18806546, \"VWAP\": 172.65779342723005}, {\"QU_SEQNUM\": 18806622, \"VWAP\": 172.65732311320755}, {\"QU_SEQNUM\": 18807067, \"VWAP\": 172.65679156908664}, {\"QU_SEQNUM\": 18807073, \"VWAP\": 172.65622969837585}, {\"QU_SEQNUM\": 18807145, \"VWAP\": 172.65570765661252}, {\"QU_SEQNUM\": 18807147, \"VWAP\": 172.65529137529137}, {\"QU_SEQNUM\": 18807152, \"VWAP\": 172.65484813084112}, {\"QU_SEQNUM\": 18807156, \"VWAP\": 172.65444705882354}, {\"QU_SEQNUM\": 18807159, \"VWAP\": 172.65404028436018}, {\"QU_SEQNUM\": 18807162, \"VWAP\": 172.6536276849642}, {\"QU_SEQNUM\": 18807164, \"VWAP\": 172.65311750599517}, {\"QU_SEQNUM\": 18807175, \"VWAP\": 172.652553699284}, {\"QU_SEQNUM\": 18807177, \"VWAP\": 172.65200945626475}, {\"QU_SEQNUM\": 18807181, \"VWAP\": 172.65150234741782}, {\"QU_SEQNUM\": 18807195, \"VWAP\": 172.65097674418604}, {\"QU_SEQNUM\": 18807197, \"VWAP\": 172.65048498845263}, {\"QU_SEQNUM\": 18807206, \"VWAP\": 172.64997695852534}, {\"QU_SEQNUM\": 18807208, \"VWAP\": 172.64925925925925}, {\"QU_SEQNUM\": 18807209, \"VWAP\": 172.648908045977}, {\"QU_SEQNUM\": 18807215, \"VWAP\": 172.64862499999998}, {\"QU_SEQNUM\": 18807225, \"VWAP\": 172.64837868480726}, {\"QU_SEQNUM\": 18807232, \"VWAP\": 172.64812499999996}, {\"QU_SEQNUM\": 18807255, \"VWAP\": 172.6478604118993}, {\"QU_SEQNUM\": 18807259, \"VWAP\": 172.64748842592593}, {\"QU_SEQNUM\": 18807349, \"VWAP\": 172.6470911214953}, {\"QU_SEQNUM\": 18807353, \"VWAP\": 172.64672248803825}, {\"QU_SEQNUM\": 18807402, \"VWAP\": 172.6463414634146}, {\"QU_SEQNUM\": 18807405, \"VWAP\": 172.64598258706468}, {\"QU_SEQNUM\": 18807453, \"VWAP\": 172.64559493670885}, {\"QU_SEQNUM\": 18807480, \"VWAP\": 172.64520671834623}, {\"QU_SEQNUM\": 18807801, \"VWAP\": 172.64478947368417}, {\"QU_SEQNUM\": 18807820, \"VWAP\": 172.64436827956987}, {\"QU_SEQNUM\": 18808153, \"VWAP\": 172.64389645776566}, {\"QU_SEQNUM\": 18808257, \"VWAP\": 172.64347527472526}, {\"QU_SEQNUM\": 18808275, \"VWAP\": 172.64329201101927}, {\"QU_SEQNUM\": 18808276, \"VWAP\": 172.64306629834252}, {\"QU_SEQNUM\": 18808282, \"VWAP\": 172.6427977839335}, {\"QU_SEQNUM\": 18808506, \"VWAP\": 172.6424438202247}, {\"QU_SEQNUM\": 18808601, \"VWAP\": 172.64207977207977}, {\"QU_SEQNUM\": 18808715, \"VWAP\": 172.64172463768114}, {\"QU_SEQNUM\": 18809292, \"VWAP\": 172.6413569321534}, {\"QU_SEQNUM\": 18809313, \"VWAP\": 172.64097597597598}, {\"QU_SEQNUM\": 18809361, \"VWAP\": 172.64083832335328}, {\"QU_SEQNUM\": 18809487, \"VWAP\": 172.6407014925373}, {\"QU_SEQNUM\": 18809607, \"VWAP\": 172.64052552552553}, {\"QU_SEQNUM\": 18809725, \"VWAP\": 172.64034743202416}, {\"QU_SEQNUM\": 18809766, \"VWAP\": 172.6400911854103}, {\"QU_SEQNUM\": 18809770, \"VWAP\": 172.6397859327217}, {\"QU_SEQNUM\": 18809777, \"VWAP\": 172.63944785276072}, {\"QU_SEQNUM\": 18809781, \"VWAP\": 172.63906153846153}, {\"QU_SEQNUM\": 18809784, \"VWAP\": 172.63864615384614}, {\"QU_SEQNUM\": 18809791, \"VWAP\": 172.63819696969696}, {\"QU_SEQNUM\": 18809796, \"VWAP\": 172.63791158536586}, {\"QU_SEQNUM\": 18809813, \"VWAP\": 172.63761538461537}, {\"QU_SEQNUM\": 18809832, \"VWAP\": 172.63717391304348}, {\"QU_SEQNUM\": 18809836, \"VWAP\": 172.63676470588234}, {\"QU_SEQNUM\": 18809875, \"VWAP\": 172.6363664596273}, {\"QU_SEQNUM\": 18809901, \"VWAP\": 172.63602167182663}, {\"QU_SEQNUM\": 18809902, \"VWAP\": 172.6356790123457}, {\"QU_SEQNUM\": 18809919, \"VWAP\": 172.63533846153845}, {\"QU_SEQNUM\": 18809923, \"VWAP\": 172.6347424242424}, {\"QU_SEQNUM\": 18809965, \"VWAP\": 172.63415407854984}, {\"QU_SEQNUM\": 18810033, \"VWAP\": 172.6335909090909}, {\"QU_SEQNUM\": 18810128, \"VWAP\": 172.63308510638296}, {\"QU_SEQNUM\": 18810233, \"VWAP\": 172.6324393939394}, {\"QU_SEQNUM\": 18810256, \"VWAP\": 172.63182228915662}, {\"QU_SEQNUM\": 18810266, \"VWAP\": 172.63120535714285}, {\"QU_SEQNUM\": 18810271, \"VWAP\": 172.63054411764708}, {\"QU_SEQNUM\": 18810275, \"VWAP\": 172.62989884393065}, {\"QU_SEQNUM\": 18810298, \"VWAP\": 172.6292485549133}, {\"QU_SEQNUM\": 18810343, \"VWAP\": 172.62869627507163}, {\"QU_SEQNUM\": 18810349, \"VWAP\": 172.62814971751413}, {\"QU_SEQNUM\": 18810421, \"VWAP\": 172.62761772853185}, {\"QU_SEQNUM\": 18810429, \"VWAP\": 172.62710382513663}, {\"QU_SEQNUM\": 18810569, \"VWAP\": 172.62659891598918}, {\"QU_SEQNUM\": 18810572, \"VWAP\": 172.62616935483874}, {\"QU_SEQNUM\": 18810618, \"VWAP\": 172.6256515957447}, {\"QU_SEQNUM\": 18810624, \"VWAP\": 172.62521052631578}, {\"QU_SEQNUM\": 18810643, \"VWAP\": 172.62471354166667}, {\"QU_SEQNUM\": 18810708, \"VWAP\": 172.62429123711343}, {\"QU_SEQNUM\": 18810720, \"VWAP\": 172.62389168765742}, {\"QU_SEQNUM\": 18810731, \"VWAP\": 172.62354166666665}, {\"QU_SEQNUM\": 18810735, \"VWAP\": 172.6230889423077}, {\"QU_SEQNUM\": 18810742, \"VWAP\": 172.62265957446812}, {\"QU_SEQNUM\": 18810749, \"VWAP\": 172.6224539170507}, {\"QU_SEQNUM\": 18810868, \"VWAP\": 172.62222972972975}, {\"QU_SEQNUM\": 18811098, \"VWAP\": 172.6219867549669}, {\"QU_SEQNUM\": 18811120, \"VWAP\": 172.62176470588236}, {\"QU_SEQNUM\": 18811128, \"VWAP\": 172.62155172413796}, {\"QU_SEQNUM\": 18811130, \"VWAP\": 172.62137526652452}, {\"QU_SEQNUM\": 18811134, \"VWAP\": 172.62120000000002}, {\"QU_SEQNUM\": 18811198, \"VWAP\": 172.62103125000002}, {\"QU_SEQNUM\": 18811209, \"VWAP\": 172.620910041841}, {\"QU_SEQNUM\": 18811211, \"VWAP\": 172.6207966457023}, {\"QU_SEQNUM\": 18811212, \"VWAP\": 172.6206918238994}, {\"QU_SEQNUM\": 18811215, \"VWAP\": 172.62059623430963}, {\"QU_SEQNUM\": 18811238, \"VWAP\": 172.62054393305442}, {\"QU_SEQNUM\": 18811239, \"VWAP\": 172.620462184874}, {\"QU_SEQNUM\": 18811240, \"VWAP\": 172.6203495762712}, {\"QU_SEQNUM\": 18811242, \"VWAP\": 172.62017932489454}, {\"QU_SEQNUM\": 18811244, \"VWAP\": 172.61998949579834}, {\"QU_SEQNUM\": 18811456, \"VWAP\": 172.61973628691985}, {\"QU_SEQNUM\": 18811463, \"VWAP\": 172.61970276008495}, {\"QU_SEQNUM\": 18811464, \"VWAP\": 172.6196801705757}, {\"QU_SEQNUM\": 18811473, \"VWAP\": 172.6196459227468}, {\"QU_SEQNUM\": 18811583, \"VWAP\": 172.61961123110152}, {\"QU_SEQNUM\": 18812041, \"VWAP\": 172.61959956709958}, {\"QU_SEQNUM\": 18812042, \"VWAP\": 172.61957608695653}, {\"QU_SEQNUM\": 18812094, \"VWAP\": 172.61956427015252}, {\"QU_SEQNUM\": 18812194, \"VWAP\": 172.61954048140043}, {\"QU_SEQNUM\": 18812201, \"VWAP\": 172.61956570155905}, {\"QU_SEQNUM\": 18812499, \"VWAP\": 172.61978841870825}, {\"QU_SEQNUM\": 18812501, \"VWAP\": 172.61981941309256}, {\"QU_SEQNUM\": 18812503, \"VWAP\": 172.61986332574034}, {\"QU_SEQNUM\": 18812505, \"VWAP\": 172.61990740740742}, {\"QU_SEQNUM\": 18812589, \"VWAP\": 172.61996478873243}, {\"QU_SEQNUM\": 18812593, \"VWAP\": 172.6200119617225}, {\"QU_SEQNUM\": 18812595, \"VWAP\": 172.6202764423077}, {\"QU_SEQNUM\": 18812598, \"VWAP\": 172.62054479418887}, {\"QU_SEQNUM\": 18812602, \"VWAP\": 172.62091566265062}, {\"QU_SEQNUM\": 18812612, \"VWAP\": 172.62128297362113}, {\"QU_SEQNUM\": 18812620, \"VWAP\": 172.62166267942587}, {\"QU_SEQNUM\": 18812653, \"VWAP\": 172.62187347931877}, {\"QU_SEQNUM\": 18812662, \"VWAP\": 172.62225728155343}, {\"QU_SEQNUM\": 18812666, \"VWAP\": 172.62244471744472}, {\"QU_SEQNUM\": 18812683, \"VWAP\": 172.62277506112468}, {\"QU_SEQNUM\": 18812811, \"VWAP\": 172.62315853658538}, {\"QU_SEQNUM\": 18812836, \"VWAP\": 172.62351941747573}, {\"QU_SEQNUM\": 18812884, \"VWAP\": 172.6239512195122}, {\"QU_SEQNUM\": 18812886, \"VWAP\": 172.62439024390244}, {\"QU_SEQNUM\": 18812893, \"VWAP\": 172.62476426799006}, {\"QU_SEQNUM\": 18812897, \"VWAP\": 172.6251005025126}, {\"QU_SEQNUM\": 18812961, \"VWAP\": 172.6254336734694}, {\"QU_SEQNUM\": 18813075, \"VWAP\": 172.62572916666667}, {\"QU_SEQNUM\": 18813377, \"VWAP\": 172.62595174262736}, {\"QU_SEQNUM\": 18813379, \"VWAP\": 172.62618457300275}, {\"QU_SEQNUM\": 18813394, \"VWAP\": 172.62643059490085}, {\"QU_SEQNUM\": 18813450, \"VWAP\": 172.62663768115942}, {\"QU_SEQNUM\": 18813457, \"VWAP\": 172.62692082111437}, {\"QU_SEQNUM\": 18813459, \"VWAP\": 172.62718934911243}, {\"QU_SEQNUM\": 18813574, \"VWAP\": 172.6275451807229}, {\"QU_SEQNUM\": 18813575, \"VWAP\": 172.62791158536587}, {\"QU_SEQNUM\": 18813651, \"VWAP\": 172.62804545454546}, {\"QU_SEQNUM\": 18813654, \"VWAP\": 172.62816666666666}, {\"QU_SEQNUM\": 18813668, \"VWAP\": 172.62831818181817}, {\"QU_SEQNUM\": 18813671, \"VWAP\": 172.6285}, {\"QU_SEQNUM\": 18813764, \"VWAP\": 172.62865151515152}, {\"QU_SEQNUM\": 18813912, \"VWAP\": 172.62877272727275}, {\"QU_SEQNUM\": 18813924, \"VWAP\": 172.62890060240963}, {\"QU_SEQNUM\": 18813958, \"VWAP\": 172.62919452887536}, {\"QU_SEQNUM\": 18814207, \"VWAP\": 172.62952307692308}, {\"QU_SEQNUM\": 18814209, \"VWAP\": 172.6298291925466}, {\"QU_SEQNUM\": 18814211, \"VWAP\": 172.62995370370368}, {\"QU_SEQNUM\": 18814225, \"VWAP\": 172.6300771604938}, {\"QU_SEQNUM\": 18814232, \"VWAP\": 172.63016975308642}, {\"QU_SEQNUM\": 18814236, \"VWAP\": 172.63029320987653}, {\"QU_SEQNUM\": 18814335, \"VWAP\": 172.6304475308642}, {\"QU_SEQNUM\": 18814339, \"VWAP\": 172.63050458715594}, {\"QU_SEQNUM\": 18814428, \"VWAP\": 172.6305775075988}, {\"QU_SEQNUM\": 18815506, \"VWAP\": 172.63071212121213}, {\"QU_SEQNUM\": 18815509, \"VWAP\": 172.630828313253}, {\"QU_SEQNUM\": 18815540, \"VWAP\": 172.63091743119264}, {\"QU_SEQNUM\": 18815543, \"VWAP\": 172.63103343465045}, {\"QU_SEQNUM\": 18815551, \"VWAP\": 172.63115501519758}, {\"QU_SEQNUM\": 18815609, \"VWAP\": 172.63128787878787}, {\"QU_SEQNUM\": 18815640, \"VWAP\": 172.63142857142856}, {\"QU_SEQNUM\": 18815644, \"VWAP\": 172.63153963414632}, {\"QU_SEQNUM\": 18815688, \"VWAP\": 172.6318}, {\"QU_SEQNUM\": 18815696, \"VWAP\": 172.6320652173913}, {\"QU_SEQNUM\": 18815698, \"VWAP\": 172.63216560509554}, {\"QU_SEQNUM\": 18815701, \"VWAP\": 172.63228013029317}, {\"QU_SEQNUM\": 18815729, \"VWAP\": 172.63240863787374}, {\"QU_SEQNUM\": 18815736, \"VWAP\": 172.63254966887416}, {\"QU_SEQNUM\": 18815737, \"VWAP\": 172.6326858108108}, {\"QU_SEQNUM\": 18815748, \"VWAP\": 172.63282828282829}, {\"QU_SEQNUM\": 18815752, \"VWAP\": 172.63296232876712}, {\"QU_SEQNUM\": 18815780, \"VWAP\": 172.6331118881119}, {\"QU_SEQNUM\": 18815783, \"VWAP\": 172.63326164874553}, {\"QU_SEQNUM\": 18815793, \"VWAP\": 172.63323636363637}, {\"QU_SEQNUM\": 18815833, \"VWAP\": 172.63321033210332}, {\"QU_SEQNUM\": 18815988, \"VWAP\": 172.63319029850746}, {\"QU_SEQNUM\": 18815991, \"VWAP\": 172.63335249042146}, {\"QU_SEQNUM\": 18816026, \"VWAP\": 172.63350980392156}, {\"QU_SEQNUM\": 18816077, \"VWAP\": 172.63363095238097}, {\"QU_SEQNUM\": 18816108, \"VWAP\": 172.63379446640315}, {\"QU_SEQNUM\": 18816112, \"VWAP\": 172.63399209486167}, {\"QU_SEQNUM\": 18816131, \"VWAP\": 172.6341865079365}, {\"QU_SEQNUM\": 18816297, \"VWAP\": 172.63434782608695}, {\"QU_SEQNUM\": 18816303, \"VWAP\": 172.63448}, {\"QU_SEQNUM\": 18816306, \"VWAP\": 172.6346153846154}, {\"QU_SEQNUM\": 18816367, \"VWAP\": 172.6346138211382}, {\"QU_SEQNUM\": 18816369, \"VWAP\": 172.63461224489794}, {\"QU_SEQNUM\": 18816376, \"VWAP\": 172.6346106557377}, {\"QU_SEQNUM\": 18816388, \"VWAP\": 172.6346106557377}, {\"QU_SEQNUM\": 18816397, \"VWAP\": 172.6346106557377}, {\"QU_SEQNUM\": 18816402, \"VWAP\": 172.63460743801653}, {\"QU_SEQNUM\": 18816511, \"VWAP\": 172.63460416666666}, {\"QU_SEQNUM\": 18816538, \"VWAP\": 172.63460251046024}, {\"QU_SEQNUM\": 18816642, \"VWAP\": 172.63460251046024}, {\"QU_SEQNUM\": 18816687, \"VWAP\": 172.63474576271187}, {\"QU_SEQNUM\": 18816693, \"VWAP\": 172.6347659574468}, {\"QU_SEQNUM\": 18816720, \"VWAP\": 172.6347659574468}, {\"QU_SEQNUM\": 18816748, \"VWAP\": 172.6347659574468}, {\"QU_SEQNUM\": 18816753, \"VWAP\": 172.6347659574468}, {\"QU_SEQNUM\": 18816754, \"VWAP\": 172.6347659574468}, {\"QU_SEQNUM\": 18816760, \"VWAP\": 172.6347659574468}, {\"QU_SEQNUM\": 18816765, \"VWAP\": 172.6347659574468}, {\"QU_SEQNUM\": 18816772, \"VWAP\": 172.63491379310346}, {\"QU_SEQNUM\": 18816789, \"VWAP\": 172.63506521739131}, {\"QU_SEQNUM\": 18816790, \"VWAP\": 172.63506521739131}, {\"QU_SEQNUM\": 18816795, \"VWAP\": 172.63506521739131}, {\"QU_SEQNUM\": 18816797, \"VWAP\": 172.6350655021834}, {\"QU_SEQNUM\": 18816811, \"VWAP\": 172.63506607929517}, {\"QU_SEQNUM\": 18816819, \"VWAP\": 172.63506607929517}, {\"QU_SEQNUM\": 18816831, \"VWAP\": 172.63506607929517}]}}, {\"mode\": \"vega-lite\"});\n",
       "</script>"
      ],
      "text/plain": [
       "alt.Chart(...)"
      ]
     },
     "execution_count": 36,
     "metadata": {},
     "output_type": "execute_result"
    }
   ],
   "source": [
    "df_tmp[['QU_SEQNUM', 'VWAP']].head(1000).plot.line(x=\"QU_SEQNUM\", y=\"VWAP\")"
   ]
  },
  {
   "cell_type": "code",
   "execution_count": null,
   "id": "09afd922",
   "metadata": {},
   "outputs": [],
   "source": []
  },
  {
   "cell_type": "code",
   "execution_count": 26,
   "id": "adf40343",
   "metadata": {},
   "outputs": [
    {
     "ename": "ArrowInvalid",
     "evalue": "Value 37800048115245 has non-zero nanoseconds",
     "output_type": "error",
     "traceback": [
      "\u001b[0;31m---------------------------------------------------------------------------\u001b[0m",
      "\u001b[0;31mArrowInvalid\u001b[0m                              Traceback (most recent call last)",
      "Cell \u001b[0;32mIn[26], line 1\u001b[0m\n\u001b[0;32m----> 1\u001b[0m \u001b[43mdf_tmp\u001b[49m\u001b[38;5;241;43m.\u001b[39;49m\u001b[43mhead\u001b[49m\u001b[43m(\u001b[49m\u001b[38;5;241;43m100\u001b[39;49m\u001b[43m)\u001b[49m\u001b[38;5;241;43m.\u001b[39;49m\u001b[43mto_pandas\u001b[49m\u001b[43m(\u001b[49m\u001b[43m)\u001b[49m\u001b[38;5;241m.\u001b[39mplot\u001b[38;5;241m.\u001b[39mline(x\u001b[38;5;241m=\u001b[39m\u001b[38;5;124m\"\u001b[39m\u001b[38;5;124mQU_SEQNUM\u001b[39m\u001b[38;5;124m\"\u001b[39m, y\u001b[38;5;241m=\u001b[39m\u001b[38;5;124m\"\u001b[39m\u001b[38;5;124mOBI\u001b[39m\u001b[38;5;124m\"\u001b[39m)\n",
      "File \u001b[0;32m/Library/Frameworks/Python.framework/Versions/3.12/lib/python3.12/site-packages/polars/dataframe/frame.py:2443\u001b[0m, in \u001b[0;36mDataFrame.to_pandas\u001b[0;34m(self, use_pyarrow_extension_array, **kwargs)\u001b[0m\n\u001b[1;32m   2438\u001b[0m \u001b[38;5;28;01mif\u001b[39;00m Object \u001b[38;5;129;01min\u001b[39;00m \u001b[38;5;28mself\u001b[39m\u001b[38;5;241m.\u001b[39mdtypes:\n\u001b[1;32m   2439\u001b[0m     \u001b[38;5;28;01mreturn\u001b[39;00m \u001b[38;5;28mself\u001b[39m\u001b[38;5;241m.\u001b[39m_to_pandas_with_object_columns(\n\u001b[1;32m   2440\u001b[0m         use_pyarrow_extension_array\u001b[38;5;241m=\u001b[39muse_pyarrow_extension_array, \u001b[38;5;241m*\u001b[39m\u001b[38;5;241m*\u001b[39mkwargs\n\u001b[1;32m   2441\u001b[0m     )\n\u001b[0;32m-> 2443\u001b[0m \u001b[38;5;28;01mreturn\u001b[39;00m \u001b[38;5;28;43mself\u001b[39;49m\u001b[38;5;241;43m.\u001b[39;49m\u001b[43m_to_pandas_without_object_columns\u001b[49m\u001b[43m(\u001b[49m\n\u001b[1;32m   2444\u001b[0m \u001b[43m    \u001b[49m\u001b[38;5;28;43mself\u001b[39;49m\u001b[43m,\u001b[49m\u001b[43m \u001b[49m\u001b[43muse_pyarrow_extension_array\u001b[49m\u001b[38;5;241;43m=\u001b[39;49m\u001b[43muse_pyarrow_extension_array\u001b[49m\u001b[43m,\u001b[49m\u001b[43m \u001b[49m\u001b[38;5;241;43m*\u001b[39;49m\u001b[38;5;241;43m*\u001b[39;49m\u001b[43mkwargs\u001b[49m\n\u001b[1;32m   2445\u001b[0m \u001b[43m\u001b[49m\u001b[43m)\u001b[49m\n",
      "File \u001b[0;32m/Library/Frameworks/Python.framework/Versions/3.12/lib/python3.12/site-packages/polars/dataframe/frame.py:2505\u001b[0m, in \u001b[0;36mDataFrame._to_pandas_without_object_columns\u001b[0;34m(self, df, use_pyarrow_extension_array, **kwargs)\u001b[0m\n\u001b[1;32m   2497\u001b[0m     \u001b[38;5;28;01mreturn\u001b[39;00m tbl\u001b[38;5;241m.\u001b[39mto_pandas(\n\u001b[1;32m   2498\u001b[0m         self_destruct\u001b[38;5;241m=\u001b[39m\u001b[38;5;28;01mTrue\u001b[39;00m,\n\u001b[1;32m   2499\u001b[0m         split_blocks\u001b[38;5;241m=\u001b[39m\u001b[38;5;28;01mTrue\u001b[39;00m,\n\u001b[1;32m   2500\u001b[0m         types_mapper\u001b[38;5;241m=\u001b[39m\u001b[38;5;28;01mlambda\u001b[39;00m pa_dtype: pd\u001b[38;5;241m.\u001b[39mArrowDtype(pa_dtype),\n\u001b[1;32m   2501\u001b[0m         \u001b[38;5;241m*\u001b[39m\u001b[38;5;241m*\u001b[39mkwargs,\n\u001b[1;32m   2502\u001b[0m     )\n\u001b[1;32m   2504\u001b[0m date_as_object \u001b[38;5;241m=\u001b[39m kwargs\u001b[38;5;241m.\u001b[39mpop(\u001b[38;5;124m\"\u001b[39m\u001b[38;5;124mdate_as_object\u001b[39m\u001b[38;5;124m\"\u001b[39m, \u001b[38;5;28;01mFalse\u001b[39;00m)\n\u001b[0;32m-> 2505\u001b[0m \u001b[38;5;28;01mreturn\u001b[39;00m \u001b[43mtbl\u001b[49m\u001b[38;5;241;43m.\u001b[39;49m\u001b[43mto_pandas\u001b[49m\u001b[43m(\u001b[49m\u001b[43mdate_as_object\u001b[49m\u001b[38;5;241;43m=\u001b[39;49m\u001b[43mdate_as_object\u001b[49m\u001b[43m,\u001b[49m\u001b[43m \u001b[49m\u001b[38;5;241;43m*\u001b[39;49m\u001b[38;5;241;43m*\u001b[39;49m\u001b[43mkwargs\u001b[49m\u001b[43m)\u001b[49m\n",
      "File \u001b[0;32m/Library/Frameworks/Python.framework/Versions/3.12/lib/python3.12/site-packages/pyarrow/array.pxi:987\u001b[0m, in \u001b[0;36mpyarrow.lib._PandasConvertible.to_pandas\u001b[0;34m()\u001b[0m\n",
      "File \u001b[0;32m/Library/Frameworks/Python.framework/Versions/3.12/lib/python3.12/site-packages/pyarrow/table.pxi:5174\u001b[0m, in \u001b[0;36mpyarrow.lib.Table._to_pandas\u001b[0;34m()\u001b[0m\n",
      "File \u001b[0;32m/Library/Frameworks/Python.framework/Versions/3.12/lib/python3.12/site-packages/pyarrow/pandas_compat.py:808\u001b[0m, in \u001b[0;36mtable_to_dataframe\u001b[0;34m(options, table, categories, ignore_metadata, types_mapper)\u001b[0m\n\u001b[1;32m    805\u001b[0m columns \u001b[38;5;241m=\u001b[39m _deserialize_column_index(table, all_columns, column_indexes)\n\u001b[1;32m    807\u001b[0m column_names \u001b[38;5;241m=\u001b[39m table\u001b[38;5;241m.\u001b[39mcolumn_names\n\u001b[0;32m--> 808\u001b[0m result \u001b[38;5;241m=\u001b[39m \u001b[43mpa\u001b[49m\u001b[38;5;241;43m.\u001b[39;49m\u001b[43mlib\u001b[49m\u001b[38;5;241;43m.\u001b[39;49m\u001b[43mtable_to_blocks\u001b[49m\u001b[43m(\u001b[49m\u001b[43moptions\u001b[49m\u001b[43m,\u001b[49m\u001b[43m \u001b[49m\u001b[43mtable\u001b[49m\u001b[43m,\u001b[49m\u001b[43m \u001b[49m\u001b[43mcategories\u001b[49m\u001b[43m,\u001b[49m\n\u001b[1;32m    809\u001b[0m \u001b[43m                                \u001b[49m\u001b[38;5;28;43mlist\u001b[39;49m\u001b[43m(\u001b[49m\u001b[43mext_columns_dtypes\u001b[49m\u001b[38;5;241;43m.\u001b[39;49m\u001b[43mkeys\u001b[49m\u001b[43m(\u001b[49m\u001b[43m)\u001b[49m\u001b[43m)\u001b[49m\u001b[43m)\u001b[49m\n\u001b[1;32m    810\u001b[0m \u001b[38;5;28;01mif\u001b[39;00m _pandas_api\u001b[38;5;241m.\u001b[39mis_ge_v3():\n\u001b[1;32m    811\u001b[0m     \u001b[38;5;28;01mfrom\u001b[39;00m \u001b[38;5;21;01mpandas\u001b[39;00m\u001b[38;5;21;01m.\u001b[39;00m\u001b[38;5;21;01mapi\u001b[39;00m\u001b[38;5;21;01m.\u001b[39;00m\u001b[38;5;21;01minternals\u001b[39;00m \u001b[38;5;28;01mimport\u001b[39;00m create_dataframe_from_blocks\n",
      "File \u001b[0;32m/Library/Frameworks/Python.framework/Versions/3.12/lib/python3.12/site-packages/pyarrow/table.pxi:4103\u001b[0m, in \u001b[0;36mpyarrow.lib.table_to_blocks\u001b[0;34m()\u001b[0m\n",
      "File \u001b[0;32m/Library/Frameworks/Python.framework/Versions/3.12/lib/python3.12/site-packages/pyarrow/error.pxi:92\u001b[0m, in \u001b[0;36mpyarrow.lib.check_status\u001b[0;34m()\u001b[0m\n",
      "\u001b[0;31mArrowInvalid\u001b[0m: Value 37800048115245 has non-zero nanoseconds"
     ]
    }
   ],
   "source": [
    "df_tmp.head(100).to_pandas().plot.line(x=\"QU_SEQNUM\", y=\"OBI\")"
   ]
  },
  {
   "cell_type": "code",
   "execution_count": 23,
   "id": "4da52a08",
   "metadata": {},
   "outputs": [
    {
     "ename": "ValueError",
     "evalue": "Unexpected DtypeKind: Time",
     "output_type": "error",
     "traceback": [
      "\u001b[0;31m---------------------------------------------------------------------------\u001b[0m",
      "\u001b[0;31mValueError\u001b[0m                                Traceback (most recent call last)",
      "File \u001b[0;32m/Library/Frameworks/Python.framework/Versions/3.12/lib/python3.12/site-packages/altair/vegalite/v5/api.py:4033\u001b[0m, in \u001b[0;36mChart.to_dict\u001b[0;34m(self, validate, format, ignore, context)\u001b[0m\n\u001b[1;32m   4031\u001b[0m     copy\u001b[38;5;241m.\u001b[39mdata \u001b[38;5;241m=\u001b[39m core\u001b[38;5;241m.\u001b[39mInlineData(values\u001b[38;5;241m=\u001b[39m[{}])\n\u001b[1;32m   4032\u001b[0m     \u001b[38;5;28;01mreturn\u001b[39;00m \u001b[38;5;28msuper\u001b[39m(Chart, copy)\u001b[38;5;241m.\u001b[39mto_dict(\u001b[38;5;241m*\u001b[39m\u001b[38;5;241m*\u001b[39mkwds)\n\u001b[0;32m-> 4033\u001b[0m \u001b[38;5;28;01mreturn\u001b[39;00m \u001b[38;5;28;43msuper\u001b[39;49m\u001b[43m(\u001b[49m\u001b[43m)\u001b[49m\u001b[38;5;241;43m.\u001b[39;49m\u001b[43mto_dict\u001b[49m\u001b[43m(\u001b[49m\u001b[38;5;241;43m*\u001b[39;49m\u001b[38;5;241;43m*\u001b[39;49m\u001b[43mkwds\u001b[49m\u001b[43m)\u001b[49m\n",
      "File \u001b[0;32m/Library/Frameworks/Python.framework/Versions/3.12/lib/python3.12/site-packages/altair/vegalite/v5/api.py:2004\u001b[0m, in \u001b[0;36mTopLevelMixin.to_dict\u001b[0;34m(self, validate, format, ignore, context)\u001b[0m\n\u001b[1;32m   2001\u001b[0m \u001b[38;5;66;03m# remaining to_dict calls are not at top level\u001b[39;00m\n\u001b[1;32m   2002\u001b[0m context[\u001b[38;5;124m\"\u001b[39m\u001b[38;5;124mtop_level\u001b[39m\u001b[38;5;124m\"\u001b[39m] \u001b[38;5;241m=\u001b[39m \u001b[38;5;28;01mFalse\u001b[39;00m\n\u001b[0;32m-> 2004\u001b[0m vegalite_spec: Any \u001b[38;5;241m=\u001b[39m \u001b[43m_top_schema_base\u001b[49m\u001b[43m(\u001b[49m\u001b[38;5;28;43msuper\u001b[39;49m\u001b[43m(\u001b[49m\u001b[43mTopLevelMixin\u001b[49m\u001b[43m,\u001b[49m\u001b[43m \u001b[49m\u001b[43mcopy\u001b[49m\u001b[43m)\u001b[49m\u001b[43m)\u001b[49m\u001b[38;5;241;43m.\u001b[39;49m\u001b[43mto_dict\u001b[49m\u001b[43m(\u001b[49m\n\u001b[1;32m   2005\u001b[0m \u001b[43m    \u001b[49m\u001b[43mvalidate\u001b[49m\u001b[38;5;241;43m=\u001b[39;49m\u001b[43mvalidate\u001b[49m\u001b[43m,\u001b[49m\u001b[43m \u001b[49m\u001b[43mignore\u001b[49m\u001b[38;5;241;43m=\u001b[39;49m\u001b[43mignore\u001b[49m\u001b[43m,\u001b[49m\u001b[43m \u001b[49m\u001b[43mcontext\u001b[49m\u001b[38;5;241;43m=\u001b[39;49m\u001b[38;5;28;43mdict\u001b[39;49m\u001b[43m(\u001b[49m\u001b[43mcontext\u001b[49m\u001b[43m,\u001b[49m\u001b[43m \u001b[49m\u001b[43mpre_transform\u001b[49m\u001b[38;5;241;43m=\u001b[39;49m\u001b[38;5;28;43;01mFalse\u001b[39;49;00m\u001b[43m)\u001b[49m\n\u001b[1;32m   2006\u001b[0m \u001b[43m\u001b[49m\u001b[43m)\u001b[49m\n\u001b[1;32m   2008\u001b[0m \u001b[38;5;66;03m# TODO: following entries are added after validation. Should they be validated?\u001b[39;00m\n\u001b[1;32m   2009\u001b[0m \u001b[38;5;28;01mif\u001b[39;00m is_top_level:\n\u001b[1;32m   2010\u001b[0m     \u001b[38;5;66;03m# since this is top-level we add $schema if it's missing\u001b[39;00m\n",
      "File \u001b[0;32m/Library/Frameworks/Python.framework/Versions/3.12/lib/python3.12/site-packages/altair/utils/schemapi.py:1163\u001b[0m, in \u001b[0;36mSchemaBase.to_dict\u001b[0;34m(self, validate, ignore, context)\u001b[0m\n\u001b[1;32m   1161\u001b[0m     msg \u001b[38;5;241m=\u001b[39m \u001b[38;5;124mf\u001b[39m\u001b[38;5;124m\"\u001b[39m\u001b[38;5;132;01m{\u001b[39;00m\u001b[38;5;28mtype\u001b[39m(\u001b[38;5;28mself\u001b[39m)\u001b[38;5;132;01m}\u001b[39;00m\u001b[38;5;124m instance has both a value and properties : cannot serialize to dict\u001b[39m\u001b[38;5;124m\"\u001b[39m\n\u001b[1;32m   1162\u001b[0m     \u001b[38;5;28;01mraise\u001b[39;00m \u001b[38;5;167;01mValueError\u001b[39;00m(msg)\n\u001b[0;32m-> 1163\u001b[0m result \u001b[38;5;241m=\u001b[39m \u001b[43m_todict\u001b[49m\u001b[43m(\u001b[49m\u001b[43mkwds\u001b[49m\u001b[43m,\u001b[49m\u001b[43m \u001b[49m\u001b[43mcontext\u001b[49m\u001b[38;5;241;43m=\u001b[39;49m\u001b[43mcontext\u001b[49m\u001b[43m,\u001b[49m\u001b[43m \u001b[49m\u001b[38;5;241;43m*\u001b[39;49m\u001b[38;5;241;43m*\u001b[39;49m\u001b[43mopts\u001b[49m\u001b[43m)\u001b[49m\n\u001b[1;32m   1164\u001b[0m \u001b[38;5;28;01mif\u001b[39;00m validate:\n\u001b[1;32m   1165\u001b[0m     \u001b[38;5;66;03m# NOTE: Don't raise `from err`, see `SchemaValidationError` doc\u001b[39;00m\n\u001b[1;32m   1166\u001b[0m     \u001b[38;5;28;01mtry\u001b[39;00m:\n",
      "File \u001b[0;32m/Library/Frameworks/Python.framework/Versions/3.12/lib/python3.12/site-packages/altair/utils/schemapi.py:554\u001b[0m, in \u001b[0;36m_todict\u001b[0;34m(obj, context, np_opt, pd_opt)\u001b[0m\n\u001b[1;32m    551\u001b[0m     \u001b[38;5;28;01mreturn\u001b[39;00m [_todict(v, context, np_opt, pd_opt) \u001b[38;5;28;01mfor\u001b[39;00m v \u001b[38;5;129;01min\u001b[39;00m obj]\n\u001b[1;32m    552\u001b[0m \u001b[38;5;28;01melif\u001b[39;00m \u001b[38;5;28misinstance\u001b[39m(obj, \u001b[38;5;28mdict\u001b[39m):\n\u001b[1;32m    553\u001b[0m     \u001b[38;5;28;01mreturn\u001b[39;00m {\n\u001b[0;32m--> 554\u001b[0m         k: \u001b[43m_todict\u001b[49m\u001b[43m(\u001b[49m\u001b[43mv\u001b[49m\u001b[43m,\u001b[49m\u001b[43m \u001b[49m\u001b[43mcontext\u001b[49m\u001b[43m,\u001b[49m\u001b[43m \u001b[49m\u001b[43mnp_opt\u001b[49m\u001b[43m,\u001b[49m\u001b[43m \u001b[49m\u001b[43mpd_opt\u001b[49m\u001b[43m)\u001b[49m\n\u001b[1;32m    555\u001b[0m         \u001b[38;5;28;01mfor\u001b[39;00m k, v \u001b[38;5;129;01min\u001b[39;00m obj\u001b[38;5;241m.\u001b[39mitems()\n\u001b[1;32m    556\u001b[0m         \u001b[38;5;28;01mif\u001b[39;00m v \u001b[38;5;129;01mis\u001b[39;00m \u001b[38;5;129;01mnot\u001b[39;00m Undefined\n\u001b[1;32m    557\u001b[0m     }\n\u001b[1;32m    558\u001b[0m \u001b[38;5;28;01melif\u001b[39;00m \u001b[38;5;28misinstance\u001b[39m(obj, SchemaLike):\n\u001b[1;32m    559\u001b[0m     \u001b[38;5;28;01mreturn\u001b[39;00m obj\u001b[38;5;241m.\u001b[39mto_dict()\n",
      "File \u001b[0;32m/Library/Frameworks/Python.framework/Versions/3.12/lib/python3.12/site-packages/altair/utils/schemapi.py:549\u001b[0m, in \u001b[0;36m_todict\u001b[0;34m(obj, context, np_opt, pd_opt)\u001b[0m\n\u001b[1;32m    547\u001b[0m         \u001b[38;5;28;01mreturn\u001b[39;00m result\n\u001b[1;32m    548\u001b[0m \u001b[38;5;28;01mif\u001b[39;00m \u001b[38;5;28misinstance\u001b[39m(obj, SchemaBase):\n\u001b[0;32m--> 549\u001b[0m     \u001b[38;5;28;01mreturn\u001b[39;00m \u001b[43mobj\u001b[49m\u001b[38;5;241;43m.\u001b[39;49m\u001b[43mto_dict\u001b[49m\u001b[43m(\u001b[49m\u001b[43mvalidate\u001b[49m\u001b[38;5;241;43m=\u001b[39;49m\u001b[38;5;28;43;01mFalse\u001b[39;49;00m\u001b[43m,\u001b[49m\u001b[43m \u001b[49m\u001b[43mcontext\u001b[49m\u001b[38;5;241;43m=\u001b[39;49m\u001b[43mcontext\u001b[49m\u001b[43m)\u001b[49m\n\u001b[1;32m    550\u001b[0m \u001b[38;5;28;01melif\u001b[39;00m \u001b[38;5;28misinstance\u001b[39m(obj, (\u001b[38;5;28mlist\u001b[39m, \u001b[38;5;28mtuple\u001b[39m)):\n\u001b[1;32m    551\u001b[0m     \u001b[38;5;28;01mreturn\u001b[39;00m [_todict(v, context, np_opt, pd_opt) \u001b[38;5;28;01mfor\u001b[39;00m v \u001b[38;5;129;01min\u001b[39;00m obj]\n",
      "File \u001b[0;32m/Library/Frameworks/Python.framework/Versions/3.12/lib/python3.12/site-packages/altair/utils/schemapi.py:1163\u001b[0m, in \u001b[0;36mSchemaBase.to_dict\u001b[0;34m(self, validate, ignore, context)\u001b[0m\n\u001b[1;32m   1161\u001b[0m     msg \u001b[38;5;241m=\u001b[39m \u001b[38;5;124mf\u001b[39m\u001b[38;5;124m\"\u001b[39m\u001b[38;5;132;01m{\u001b[39;00m\u001b[38;5;28mtype\u001b[39m(\u001b[38;5;28mself\u001b[39m)\u001b[38;5;132;01m}\u001b[39;00m\u001b[38;5;124m instance has both a value and properties : cannot serialize to dict\u001b[39m\u001b[38;5;124m\"\u001b[39m\n\u001b[1;32m   1162\u001b[0m     \u001b[38;5;28;01mraise\u001b[39;00m \u001b[38;5;167;01mValueError\u001b[39;00m(msg)\n\u001b[0;32m-> 1163\u001b[0m result \u001b[38;5;241m=\u001b[39m \u001b[43m_todict\u001b[49m\u001b[43m(\u001b[49m\u001b[43mkwds\u001b[49m\u001b[43m,\u001b[49m\u001b[43m \u001b[49m\u001b[43mcontext\u001b[49m\u001b[38;5;241;43m=\u001b[39;49m\u001b[43mcontext\u001b[49m\u001b[43m,\u001b[49m\u001b[43m \u001b[49m\u001b[38;5;241;43m*\u001b[39;49m\u001b[38;5;241;43m*\u001b[39;49m\u001b[43mopts\u001b[49m\u001b[43m)\u001b[49m\n\u001b[1;32m   1164\u001b[0m \u001b[38;5;28;01mif\u001b[39;00m validate:\n\u001b[1;32m   1165\u001b[0m     \u001b[38;5;66;03m# NOTE: Don't raise `from err`, see `SchemaValidationError` doc\u001b[39;00m\n\u001b[1;32m   1166\u001b[0m     \u001b[38;5;28;01mtry\u001b[39;00m:\n",
      "File \u001b[0;32m/Library/Frameworks/Python.framework/Versions/3.12/lib/python3.12/site-packages/altair/utils/schemapi.py:554\u001b[0m, in \u001b[0;36m_todict\u001b[0;34m(obj, context, np_opt, pd_opt)\u001b[0m\n\u001b[1;32m    551\u001b[0m     \u001b[38;5;28;01mreturn\u001b[39;00m [_todict(v, context, np_opt, pd_opt) \u001b[38;5;28;01mfor\u001b[39;00m v \u001b[38;5;129;01min\u001b[39;00m obj]\n\u001b[1;32m    552\u001b[0m \u001b[38;5;28;01melif\u001b[39;00m \u001b[38;5;28misinstance\u001b[39m(obj, \u001b[38;5;28mdict\u001b[39m):\n\u001b[1;32m    553\u001b[0m     \u001b[38;5;28;01mreturn\u001b[39;00m {\n\u001b[0;32m--> 554\u001b[0m         k: \u001b[43m_todict\u001b[49m\u001b[43m(\u001b[49m\u001b[43mv\u001b[49m\u001b[43m,\u001b[49m\u001b[43m \u001b[49m\u001b[43mcontext\u001b[49m\u001b[43m,\u001b[49m\u001b[43m \u001b[49m\u001b[43mnp_opt\u001b[49m\u001b[43m,\u001b[49m\u001b[43m \u001b[49m\u001b[43mpd_opt\u001b[49m\u001b[43m)\u001b[49m\n\u001b[1;32m    555\u001b[0m         \u001b[38;5;28;01mfor\u001b[39;00m k, v \u001b[38;5;129;01min\u001b[39;00m obj\u001b[38;5;241m.\u001b[39mitems()\n\u001b[1;32m    556\u001b[0m         \u001b[38;5;28;01mif\u001b[39;00m v \u001b[38;5;129;01mis\u001b[39;00m \u001b[38;5;129;01mnot\u001b[39;00m Undefined\n\u001b[1;32m    557\u001b[0m     }\n\u001b[1;32m    558\u001b[0m \u001b[38;5;28;01melif\u001b[39;00m \u001b[38;5;28misinstance\u001b[39m(obj, SchemaLike):\n\u001b[1;32m    559\u001b[0m     \u001b[38;5;28;01mreturn\u001b[39;00m obj\u001b[38;5;241m.\u001b[39mto_dict()\n",
      "File \u001b[0;32m/Library/Frameworks/Python.framework/Versions/3.12/lib/python3.12/site-packages/altair/utils/schemapi.py:549\u001b[0m, in \u001b[0;36m_todict\u001b[0;34m(obj, context, np_opt, pd_opt)\u001b[0m\n\u001b[1;32m    547\u001b[0m         \u001b[38;5;28;01mreturn\u001b[39;00m result\n\u001b[1;32m    548\u001b[0m \u001b[38;5;28;01mif\u001b[39;00m \u001b[38;5;28misinstance\u001b[39m(obj, SchemaBase):\n\u001b[0;32m--> 549\u001b[0m     \u001b[38;5;28;01mreturn\u001b[39;00m \u001b[43mobj\u001b[49m\u001b[38;5;241;43m.\u001b[39;49m\u001b[43mto_dict\u001b[49m\u001b[43m(\u001b[49m\u001b[43mvalidate\u001b[49m\u001b[38;5;241;43m=\u001b[39;49m\u001b[38;5;28;43;01mFalse\u001b[39;49;00m\u001b[43m,\u001b[49m\u001b[43m \u001b[49m\u001b[43mcontext\u001b[49m\u001b[38;5;241;43m=\u001b[39;49m\u001b[43mcontext\u001b[49m\u001b[43m)\u001b[49m\n\u001b[1;32m    550\u001b[0m \u001b[38;5;28;01melif\u001b[39;00m \u001b[38;5;28misinstance\u001b[39m(obj, (\u001b[38;5;28mlist\u001b[39m, \u001b[38;5;28mtuple\u001b[39m)):\n\u001b[1;32m    551\u001b[0m     \u001b[38;5;28;01mreturn\u001b[39;00m [_todict(v, context, np_opt, pd_opt) \u001b[38;5;28;01mfor\u001b[39;00m v \u001b[38;5;129;01min\u001b[39;00m obj]\n",
      "File \u001b[0;32m/Library/Frameworks/Python.framework/Versions/3.12/lib/python3.12/site-packages/altair/vegalite/v5/schema/channels.py:193\u001b[0m, in \u001b[0;36mFieldChannelMixin.to_dict\u001b[0;34m(self, validate, ignore, context)\u001b[0m\n\u001b[1;32m    191\u001b[0m \u001b[38;5;28;01melif\u001b[39;00m \u001b[38;5;28misinstance\u001b[39m(shorthand, \u001b[38;5;28mstr\u001b[39m):\n\u001b[1;32m    192\u001b[0m     data: nw\u001b[38;5;241m.\u001b[39mDataFrame \u001b[38;5;241m|\u001b[39m Any \u001b[38;5;241m=\u001b[39m context\u001b[38;5;241m.\u001b[39mget(\u001b[38;5;124m\"\u001b[39m\u001b[38;5;124mdata\u001b[39m\u001b[38;5;124m\"\u001b[39m, \u001b[38;5;28;01mNone\u001b[39;00m)\n\u001b[0;32m--> 193\u001b[0m     parsed \u001b[38;5;241m=\u001b[39m \u001b[43mparse_shorthand\u001b[49m\u001b[43m(\u001b[49m\u001b[43mshorthand\u001b[49m\u001b[43m,\u001b[49m\u001b[43m \u001b[49m\u001b[43mdata\u001b[49m\u001b[38;5;241;43m=\u001b[39;49m\u001b[43mdata\u001b[49m\u001b[43m)\u001b[49m\n\u001b[1;32m    194\u001b[0m     type_required \u001b[38;5;241m=\u001b[39m \u001b[38;5;124m\"\u001b[39m\u001b[38;5;124mtype\u001b[39m\u001b[38;5;124m\"\u001b[39m \u001b[38;5;129;01min\u001b[39;00m \u001b[38;5;28mself\u001b[39m\u001b[38;5;241m.\u001b[39m_kwds  \u001b[38;5;66;03m# type: ignore[attr-defined]\u001b[39;00m\n\u001b[1;32m    195\u001b[0m     type_in_shorthand \u001b[38;5;241m=\u001b[39m \u001b[38;5;124m\"\u001b[39m\u001b[38;5;124mtype\u001b[39m\u001b[38;5;124m\"\u001b[39m \u001b[38;5;129;01min\u001b[39;00m parsed\n",
      "File \u001b[0;32m/Library/Frameworks/Python.framework/Versions/3.12/lib/python3.12/site-packages/altair/utils/core.py:680\u001b[0m, in \u001b[0;36mparse_shorthand\u001b[0;34m(shorthand, data, parse_aggregates, parse_window_ops, parse_timeunits, parse_types)\u001b[0m\n\u001b[1;32m    678\u001b[0m     attrs[\u001b[38;5;124m\"\u001b[39m\u001b[38;5;124mtype\u001b[39m\u001b[38;5;124m\"\u001b[39m] \u001b[38;5;241m=\u001b[39m infer_vegalite_type_for_pandas(column\u001b[38;5;241m.\u001b[39mto_native())\n\u001b[1;32m    679\u001b[0m \u001b[38;5;28;01melse\u001b[39;00m:\n\u001b[0;32m--> 680\u001b[0m     attrs[\u001b[38;5;124m\"\u001b[39m\u001b[38;5;124mtype\u001b[39m\u001b[38;5;124m\"\u001b[39m] \u001b[38;5;241m=\u001b[39m \u001b[43minfer_vegalite_type_for_narwhals\u001b[49m\u001b[43m(\u001b[49m\u001b[43mcolumn\u001b[49m\u001b[43m)\u001b[49m\n\u001b[1;32m    681\u001b[0m \u001b[38;5;28;01mif\u001b[39;00m \u001b[38;5;28misinstance\u001b[39m(attrs[\u001b[38;5;124m\"\u001b[39m\u001b[38;5;124mtype\u001b[39m\u001b[38;5;124m\"\u001b[39m], \u001b[38;5;28mtuple\u001b[39m):\n\u001b[1;32m    682\u001b[0m     attrs[\u001b[38;5;124m\"\u001b[39m\u001b[38;5;124msort\u001b[39m\u001b[38;5;124m\"\u001b[39m] \u001b[38;5;241m=\u001b[39m attrs[\u001b[38;5;124m\"\u001b[39m\u001b[38;5;124mtype\u001b[39m\u001b[38;5;124m\"\u001b[39m][\u001b[38;5;241m1\u001b[39m]\n",
      "File \u001b[0;32m/Library/Frameworks/Python.framework/Versions/3.12/lib/python3.12/site-packages/altair/utils/core.py:724\u001b[0m, in \u001b[0;36minfer_vegalite_type_for_narwhals\u001b[0;34m(column)\u001b[0m\n\u001b[1;32m    722\u001b[0m \u001b[38;5;28;01melse\u001b[39;00m:\n\u001b[1;32m    723\u001b[0m     msg \u001b[38;5;241m=\u001b[39m \u001b[38;5;124mf\u001b[39m\u001b[38;5;124m\"\u001b[39m\u001b[38;5;124mUnexpected DtypeKind: \u001b[39m\u001b[38;5;132;01m{\u001b[39;00mdtype\u001b[38;5;132;01m}\u001b[39;00m\u001b[38;5;124m\"\u001b[39m\n\u001b[0;32m--> 724\u001b[0m     \u001b[38;5;28;01mraise\u001b[39;00m \u001b[38;5;167;01mValueError\u001b[39;00m(msg)\n",
      "\u001b[0;31mValueError\u001b[0m: Unexpected DtypeKind: Time"
     ]
    },
    {
     "data": {
      "text/plain": [
       "alt.Chart(...)"
      ]
     },
     "execution_count": 23,
     "metadata": {},
     "output_type": "execute_result"
    }
   ],
   "source": [
    "df_tmp.head(2000).plot.line(x=\"TIME_M\", y=\"MID_PRICE\")"
   ]
  },
  {
   "cell_type": "code",
   "execution_count": 24,
   "id": "af3b1d7d",
   "metadata": {},
   "outputs": [
    {
     "ename": "ValueError",
     "evalue": "Unexpected DtypeKind: Time",
     "output_type": "error",
     "traceback": [
      "\u001b[0;31m---------------------------------------------------------------------------\u001b[0m",
      "\u001b[0;31mValueError\u001b[0m                                Traceback (most recent call last)",
      "File \u001b[0;32m/Library/Frameworks/Python.framework/Versions/3.12/lib/python3.12/site-packages/altair/vegalite/v5/api.py:4033\u001b[0m, in \u001b[0;36mChart.to_dict\u001b[0;34m(self, validate, format, ignore, context)\u001b[0m\n\u001b[1;32m   4031\u001b[0m     copy\u001b[38;5;241m.\u001b[39mdata \u001b[38;5;241m=\u001b[39m core\u001b[38;5;241m.\u001b[39mInlineData(values\u001b[38;5;241m=\u001b[39m[{}])\n\u001b[1;32m   4032\u001b[0m     \u001b[38;5;28;01mreturn\u001b[39;00m \u001b[38;5;28msuper\u001b[39m(Chart, copy)\u001b[38;5;241m.\u001b[39mto_dict(\u001b[38;5;241m*\u001b[39m\u001b[38;5;241m*\u001b[39mkwds)\n\u001b[0;32m-> 4033\u001b[0m \u001b[38;5;28;01mreturn\u001b[39;00m \u001b[38;5;28;43msuper\u001b[39;49m\u001b[43m(\u001b[49m\u001b[43m)\u001b[49m\u001b[38;5;241;43m.\u001b[39;49m\u001b[43mto_dict\u001b[49m\u001b[43m(\u001b[49m\u001b[38;5;241;43m*\u001b[39;49m\u001b[38;5;241;43m*\u001b[39;49m\u001b[43mkwds\u001b[49m\u001b[43m)\u001b[49m\n",
      "File \u001b[0;32m/Library/Frameworks/Python.framework/Versions/3.12/lib/python3.12/site-packages/altair/vegalite/v5/api.py:2004\u001b[0m, in \u001b[0;36mTopLevelMixin.to_dict\u001b[0;34m(self, validate, format, ignore, context)\u001b[0m\n\u001b[1;32m   2001\u001b[0m \u001b[38;5;66;03m# remaining to_dict calls are not at top level\u001b[39;00m\n\u001b[1;32m   2002\u001b[0m context[\u001b[38;5;124m\"\u001b[39m\u001b[38;5;124mtop_level\u001b[39m\u001b[38;5;124m\"\u001b[39m] \u001b[38;5;241m=\u001b[39m \u001b[38;5;28;01mFalse\u001b[39;00m\n\u001b[0;32m-> 2004\u001b[0m vegalite_spec: Any \u001b[38;5;241m=\u001b[39m \u001b[43m_top_schema_base\u001b[49m\u001b[43m(\u001b[49m\u001b[38;5;28;43msuper\u001b[39;49m\u001b[43m(\u001b[49m\u001b[43mTopLevelMixin\u001b[49m\u001b[43m,\u001b[49m\u001b[43m \u001b[49m\u001b[43mcopy\u001b[49m\u001b[43m)\u001b[49m\u001b[43m)\u001b[49m\u001b[38;5;241;43m.\u001b[39;49m\u001b[43mto_dict\u001b[49m\u001b[43m(\u001b[49m\n\u001b[1;32m   2005\u001b[0m \u001b[43m    \u001b[49m\u001b[43mvalidate\u001b[49m\u001b[38;5;241;43m=\u001b[39;49m\u001b[43mvalidate\u001b[49m\u001b[43m,\u001b[49m\u001b[43m \u001b[49m\u001b[43mignore\u001b[49m\u001b[38;5;241;43m=\u001b[39;49m\u001b[43mignore\u001b[49m\u001b[43m,\u001b[49m\u001b[43m \u001b[49m\u001b[43mcontext\u001b[49m\u001b[38;5;241;43m=\u001b[39;49m\u001b[38;5;28;43mdict\u001b[39;49m\u001b[43m(\u001b[49m\u001b[43mcontext\u001b[49m\u001b[43m,\u001b[49m\u001b[43m \u001b[49m\u001b[43mpre_transform\u001b[49m\u001b[38;5;241;43m=\u001b[39;49m\u001b[38;5;28;43;01mFalse\u001b[39;49;00m\u001b[43m)\u001b[49m\n\u001b[1;32m   2006\u001b[0m \u001b[43m\u001b[49m\u001b[43m)\u001b[49m\n\u001b[1;32m   2008\u001b[0m \u001b[38;5;66;03m# TODO: following entries are added after validation. Should they be validated?\u001b[39;00m\n\u001b[1;32m   2009\u001b[0m \u001b[38;5;28;01mif\u001b[39;00m is_top_level:\n\u001b[1;32m   2010\u001b[0m     \u001b[38;5;66;03m# since this is top-level we add $schema if it's missing\u001b[39;00m\n",
      "File \u001b[0;32m/Library/Frameworks/Python.framework/Versions/3.12/lib/python3.12/site-packages/altair/utils/schemapi.py:1163\u001b[0m, in \u001b[0;36mSchemaBase.to_dict\u001b[0;34m(self, validate, ignore, context)\u001b[0m\n\u001b[1;32m   1161\u001b[0m     msg \u001b[38;5;241m=\u001b[39m \u001b[38;5;124mf\u001b[39m\u001b[38;5;124m\"\u001b[39m\u001b[38;5;132;01m{\u001b[39;00m\u001b[38;5;28mtype\u001b[39m(\u001b[38;5;28mself\u001b[39m)\u001b[38;5;132;01m}\u001b[39;00m\u001b[38;5;124m instance has both a value and properties : cannot serialize to dict\u001b[39m\u001b[38;5;124m\"\u001b[39m\n\u001b[1;32m   1162\u001b[0m     \u001b[38;5;28;01mraise\u001b[39;00m \u001b[38;5;167;01mValueError\u001b[39;00m(msg)\n\u001b[0;32m-> 1163\u001b[0m result \u001b[38;5;241m=\u001b[39m \u001b[43m_todict\u001b[49m\u001b[43m(\u001b[49m\u001b[43mkwds\u001b[49m\u001b[43m,\u001b[49m\u001b[43m \u001b[49m\u001b[43mcontext\u001b[49m\u001b[38;5;241;43m=\u001b[39;49m\u001b[43mcontext\u001b[49m\u001b[43m,\u001b[49m\u001b[43m \u001b[49m\u001b[38;5;241;43m*\u001b[39;49m\u001b[38;5;241;43m*\u001b[39;49m\u001b[43mopts\u001b[49m\u001b[43m)\u001b[49m\n\u001b[1;32m   1164\u001b[0m \u001b[38;5;28;01mif\u001b[39;00m validate:\n\u001b[1;32m   1165\u001b[0m     \u001b[38;5;66;03m# NOTE: Don't raise `from err`, see `SchemaValidationError` doc\u001b[39;00m\n\u001b[1;32m   1166\u001b[0m     \u001b[38;5;28;01mtry\u001b[39;00m:\n",
      "File \u001b[0;32m/Library/Frameworks/Python.framework/Versions/3.12/lib/python3.12/site-packages/altair/utils/schemapi.py:554\u001b[0m, in \u001b[0;36m_todict\u001b[0;34m(obj, context, np_opt, pd_opt)\u001b[0m\n\u001b[1;32m    551\u001b[0m     \u001b[38;5;28;01mreturn\u001b[39;00m [_todict(v, context, np_opt, pd_opt) \u001b[38;5;28;01mfor\u001b[39;00m v \u001b[38;5;129;01min\u001b[39;00m obj]\n\u001b[1;32m    552\u001b[0m \u001b[38;5;28;01melif\u001b[39;00m \u001b[38;5;28misinstance\u001b[39m(obj, \u001b[38;5;28mdict\u001b[39m):\n\u001b[1;32m    553\u001b[0m     \u001b[38;5;28;01mreturn\u001b[39;00m {\n\u001b[0;32m--> 554\u001b[0m         k: \u001b[43m_todict\u001b[49m\u001b[43m(\u001b[49m\u001b[43mv\u001b[49m\u001b[43m,\u001b[49m\u001b[43m \u001b[49m\u001b[43mcontext\u001b[49m\u001b[43m,\u001b[49m\u001b[43m \u001b[49m\u001b[43mnp_opt\u001b[49m\u001b[43m,\u001b[49m\u001b[43m \u001b[49m\u001b[43mpd_opt\u001b[49m\u001b[43m)\u001b[49m\n\u001b[1;32m    555\u001b[0m         \u001b[38;5;28;01mfor\u001b[39;00m k, v \u001b[38;5;129;01min\u001b[39;00m obj\u001b[38;5;241m.\u001b[39mitems()\n\u001b[1;32m    556\u001b[0m         \u001b[38;5;28;01mif\u001b[39;00m v \u001b[38;5;129;01mis\u001b[39;00m \u001b[38;5;129;01mnot\u001b[39;00m Undefined\n\u001b[1;32m    557\u001b[0m     }\n\u001b[1;32m    558\u001b[0m \u001b[38;5;28;01melif\u001b[39;00m \u001b[38;5;28misinstance\u001b[39m(obj, SchemaLike):\n\u001b[1;32m    559\u001b[0m     \u001b[38;5;28;01mreturn\u001b[39;00m obj\u001b[38;5;241m.\u001b[39mto_dict()\n",
      "File \u001b[0;32m/Library/Frameworks/Python.framework/Versions/3.12/lib/python3.12/site-packages/altair/utils/schemapi.py:549\u001b[0m, in \u001b[0;36m_todict\u001b[0;34m(obj, context, np_opt, pd_opt)\u001b[0m\n\u001b[1;32m    547\u001b[0m         \u001b[38;5;28;01mreturn\u001b[39;00m result\n\u001b[1;32m    548\u001b[0m \u001b[38;5;28;01mif\u001b[39;00m \u001b[38;5;28misinstance\u001b[39m(obj, SchemaBase):\n\u001b[0;32m--> 549\u001b[0m     \u001b[38;5;28;01mreturn\u001b[39;00m \u001b[43mobj\u001b[49m\u001b[38;5;241;43m.\u001b[39;49m\u001b[43mto_dict\u001b[49m\u001b[43m(\u001b[49m\u001b[43mvalidate\u001b[49m\u001b[38;5;241;43m=\u001b[39;49m\u001b[38;5;28;43;01mFalse\u001b[39;49;00m\u001b[43m,\u001b[49m\u001b[43m \u001b[49m\u001b[43mcontext\u001b[49m\u001b[38;5;241;43m=\u001b[39;49m\u001b[43mcontext\u001b[49m\u001b[43m)\u001b[49m\n\u001b[1;32m    550\u001b[0m \u001b[38;5;28;01melif\u001b[39;00m \u001b[38;5;28misinstance\u001b[39m(obj, (\u001b[38;5;28mlist\u001b[39m, \u001b[38;5;28mtuple\u001b[39m)):\n\u001b[1;32m    551\u001b[0m     \u001b[38;5;28;01mreturn\u001b[39;00m [_todict(v, context, np_opt, pd_opt) \u001b[38;5;28;01mfor\u001b[39;00m v \u001b[38;5;129;01min\u001b[39;00m obj]\n",
      "File \u001b[0;32m/Library/Frameworks/Python.framework/Versions/3.12/lib/python3.12/site-packages/altair/utils/schemapi.py:1163\u001b[0m, in \u001b[0;36mSchemaBase.to_dict\u001b[0;34m(self, validate, ignore, context)\u001b[0m\n\u001b[1;32m   1161\u001b[0m     msg \u001b[38;5;241m=\u001b[39m \u001b[38;5;124mf\u001b[39m\u001b[38;5;124m\"\u001b[39m\u001b[38;5;132;01m{\u001b[39;00m\u001b[38;5;28mtype\u001b[39m(\u001b[38;5;28mself\u001b[39m)\u001b[38;5;132;01m}\u001b[39;00m\u001b[38;5;124m instance has both a value and properties : cannot serialize to dict\u001b[39m\u001b[38;5;124m\"\u001b[39m\n\u001b[1;32m   1162\u001b[0m     \u001b[38;5;28;01mraise\u001b[39;00m \u001b[38;5;167;01mValueError\u001b[39;00m(msg)\n\u001b[0;32m-> 1163\u001b[0m result \u001b[38;5;241m=\u001b[39m \u001b[43m_todict\u001b[49m\u001b[43m(\u001b[49m\u001b[43mkwds\u001b[49m\u001b[43m,\u001b[49m\u001b[43m \u001b[49m\u001b[43mcontext\u001b[49m\u001b[38;5;241;43m=\u001b[39;49m\u001b[43mcontext\u001b[49m\u001b[43m,\u001b[49m\u001b[43m \u001b[49m\u001b[38;5;241;43m*\u001b[39;49m\u001b[38;5;241;43m*\u001b[39;49m\u001b[43mopts\u001b[49m\u001b[43m)\u001b[49m\n\u001b[1;32m   1164\u001b[0m \u001b[38;5;28;01mif\u001b[39;00m validate:\n\u001b[1;32m   1165\u001b[0m     \u001b[38;5;66;03m# NOTE: Don't raise `from err`, see `SchemaValidationError` doc\u001b[39;00m\n\u001b[1;32m   1166\u001b[0m     \u001b[38;5;28;01mtry\u001b[39;00m:\n",
      "File \u001b[0;32m/Library/Frameworks/Python.framework/Versions/3.12/lib/python3.12/site-packages/altair/utils/schemapi.py:554\u001b[0m, in \u001b[0;36m_todict\u001b[0;34m(obj, context, np_opt, pd_opt)\u001b[0m\n\u001b[1;32m    551\u001b[0m     \u001b[38;5;28;01mreturn\u001b[39;00m [_todict(v, context, np_opt, pd_opt) \u001b[38;5;28;01mfor\u001b[39;00m v \u001b[38;5;129;01min\u001b[39;00m obj]\n\u001b[1;32m    552\u001b[0m \u001b[38;5;28;01melif\u001b[39;00m \u001b[38;5;28misinstance\u001b[39m(obj, \u001b[38;5;28mdict\u001b[39m):\n\u001b[1;32m    553\u001b[0m     \u001b[38;5;28;01mreturn\u001b[39;00m {\n\u001b[0;32m--> 554\u001b[0m         k: \u001b[43m_todict\u001b[49m\u001b[43m(\u001b[49m\u001b[43mv\u001b[49m\u001b[43m,\u001b[49m\u001b[43m \u001b[49m\u001b[43mcontext\u001b[49m\u001b[43m,\u001b[49m\u001b[43m \u001b[49m\u001b[43mnp_opt\u001b[49m\u001b[43m,\u001b[49m\u001b[43m \u001b[49m\u001b[43mpd_opt\u001b[49m\u001b[43m)\u001b[49m\n\u001b[1;32m    555\u001b[0m         \u001b[38;5;28;01mfor\u001b[39;00m k, v \u001b[38;5;129;01min\u001b[39;00m obj\u001b[38;5;241m.\u001b[39mitems()\n\u001b[1;32m    556\u001b[0m         \u001b[38;5;28;01mif\u001b[39;00m v \u001b[38;5;129;01mis\u001b[39;00m \u001b[38;5;129;01mnot\u001b[39;00m Undefined\n\u001b[1;32m    557\u001b[0m     }\n\u001b[1;32m    558\u001b[0m \u001b[38;5;28;01melif\u001b[39;00m \u001b[38;5;28misinstance\u001b[39m(obj, SchemaLike):\n\u001b[1;32m    559\u001b[0m     \u001b[38;5;28;01mreturn\u001b[39;00m obj\u001b[38;5;241m.\u001b[39mto_dict()\n",
      "File \u001b[0;32m/Library/Frameworks/Python.framework/Versions/3.12/lib/python3.12/site-packages/altair/utils/schemapi.py:549\u001b[0m, in \u001b[0;36m_todict\u001b[0;34m(obj, context, np_opt, pd_opt)\u001b[0m\n\u001b[1;32m    547\u001b[0m         \u001b[38;5;28;01mreturn\u001b[39;00m result\n\u001b[1;32m    548\u001b[0m \u001b[38;5;28;01mif\u001b[39;00m \u001b[38;5;28misinstance\u001b[39m(obj, SchemaBase):\n\u001b[0;32m--> 549\u001b[0m     \u001b[38;5;28;01mreturn\u001b[39;00m \u001b[43mobj\u001b[49m\u001b[38;5;241;43m.\u001b[39;49m\u001b[43mto_dict\u001b[49m\u001b[43m(\u001b[49m\u001b[43mvalidate\u001b[49m\u001b[38;5;241;43m=\u001b[39;49m\u001b[38;5;28;43;01mFalse\u001b[39;49;00m\u001b[43m,\u001b[49m\u001b[43m \u001b[49m\u001b[43mcontext\u001b[49m\u001b[38;5;241;43m=\u001b[39;49m\u001b[43mcontext\u001b[49m\u001b[43m)\u001b[49m\n\u001b[1;32m    550\u001b[0m \u001b[38;5;28;01melif\u001b[39;00m \u001b[38;5;28misinstance\u001b[39m(obj, (\u001b[38;5;28mlist\u001b[39m, \u001b[38;5;28mtuple\u001b[39m)):\n\u001b[1;32m    551\u001b[0m     \u001b[38;5;28;01mreturn\u001b[39;00m [_todict(v, context, np_opt, pd_opt) \u001b[38;5;28;01mfor\u001b[39;00m v \u001b[38;5;129;01min\u001b[39;00m obj]\n",
      "File \u001b[0;32m/Library/Frameworks/Python.framework/Versions/3.12/lib/python3.12/site-packages/altair/vegalite/v5/schema/channels.py:193\u001b[0m, in \u001b[0;36mFieldChannelMixin.to_dict\u001b[0;34m(self, validate, ignore, context)\u001b[0m\n\u001b[1;32m    191\u001b[0m \u001b[38;5;28;01melif\u001b[39;00m \u001b[38;5;28misinstance\u001b[39m(shorthand, \u001b[38;5;28mstr\u001b[39m):\n\u001b[1;32m    192\u001b[0m     data: nw\u001b[38;5;241m.\u001b[39mDataFrame \u001b[38;5;241m|\u001b[39m Any \u001b[38;5;241m=\u001b[39m context\u001b[38;5;241m.\u001b[39mget(\u001b[38;5;124m\"\u001b[39m\u001b[38;5;124mdata\u001b[39m\u001b[38;5;124m\"\u001b[39m, \u001b[38;5;28;01mNone\u001b[39;00m)\n\u001b[0;32m--> 193\u001b[0m     parsed \u001b[38;5;241m=\u001b[39m \u001b[43mparse_shorthand\u001b[49m\u001b[43m(\u001b[49m\u001b[43mshorthand\u001b[49m\u001b[43m,\u001b[49m\u001b[43m \u001b[49m\u001b[43mdata\u001b[49m\u001b[38;5;241;43m=\u001b[39;49m\u001b[43mdata\u001b[49m\u001b[43m)\u001b[49m\n\u001b[1;32m    194\u001b[0m     type_required \u001b[38;5;241m=\u001b[39m \u001b[38;5;124m\"\u001b[39m\u001b[38;5;124mtype\u001b[39m\u001b[38;5;124m\"\u001b[39m \u001b[38;5;129;01min\u001b[39;00m \u001b[38;5;28mself\u001b[39m\u001b[38;5;241m.\u001b[39m_kwds  \u001b[38;5;66;03m# type: ignore[attr-defined]\u001b[39;00m\n\u001b[1;32m    195\u001b[0m     type_in_shorthand \u001b[38;5;241m=\u001b[39m \u001b[38;5;124m\"\u001b[39m\u001b[38;5;124mtype\u001b[39m\u001b[38;5;124m\"\u001b[39m \u001b[38;5;129;01min\u001b[39;00m parsed\n",
      "File \u001b[0;32m/Library/Frameworks/Python.framework/Versions/3.12/lib/python3.12/site-packages/altair/utils/core.py:680\u001b[0m, in \u001b[0;36mparse_shorthand\u001b[0;34m(shorthand, data, parse_aggregates, parse_window_ops, parse_timeunits, parse_types)\u001b[0m\n\u001b[1;32m    678\u001b[0m     attrs[\u001b[38;5;124m\"\u001b[39m\u001b[38;5;124mtype\u001b[39m\u001b[38;5;124m\"\u001b[39m] \u001b[38;5;241m=\u001b[39m infer_vegalite_type_for_pandas(column\u001b[38;5;241m.\u001b[39mto_native())\n\u001b[1;32m    679\u001b[0m \u001b[38;5;28;01melse\u001b[39;00m:\n\u001b[0;32m--> 680\u001b[0m     attrs[\u001b[38;5;124m\"\u001b[39m\u001b[38;5;124mtype\u001b[39m\u001b[38;5;124m\"\u001b[39m] \u001b[38;5;241m=\u001b[39m \u001b[43minfer_vegalite_type_for_narwhals\u001b[49m\u001b[43m(\u001b[49m\u001b[43mcolumn\u001b[49m\u001b[43m)\u001b[49m\n\u001b[1;32m    681\u001b[0m \u001b[38;5;28;01mif\u001b[39;00m \u001b[38;5;28misinstance\u001b[39m(attrs[\u001b[38;5;124m\"\u001b[39m\u001b[38;5;124mtype\u001b[39m\u001b[38;5;124m\"\u001b[39m], \u001b[38;5;28mtuple\u001b[39m):\n\u001b[1;32m    682\u001b[0m     attrs[\u001b[38;5;124m\"\u001b[39m\u001b[38;5;124msort\u001b[39m\u001b[38;5;124m\"\u001b[39m] \u001b[38;5;241m=\u001b[39m attrs[\u001b[38;5;124m\"\u001b[39m\u001b[38;5;124mtype\u001b[39m\u001b[38;5;124m\"\u001b[39m][\u001b[38;5;241m1\u001b[39m]\n",
      "File \u001b[0;32m/Library/Frameworks/Python.framework/Versions/3.12/lib/python3.12/site-packages/altair/utils/core.py:724\u001b[0m, in \u001b[0;36minfer_vegalite_type_for_narwhals\u001b[0;34m(column)\u001b[0m\n\u001b[1;32m    722\u001b[0m \u001b[38;5;28;01melse\u001b[39;00m:\n\u001b[1;32m    723\u001b[0m     msg \u001b[38;5;241m=\u001b[39m \u001b[38;5;124mf\u001b[39m\u001b[38;5;124m\"\u001b[39m\u001b[38;5;124mUnexpected DtypeKind: \u001b[39m\u001b[38;5;132;01m{\u001b[39;00mdtype\u001b[38;5;132;01m}\u001b[39;00m\u001b[38;5;124m\"\u001b[39m\n\u001b[0;32m--> 724\u001b[0m     \u001b[38;5;28;01mraise\u001b[39;00m \u001b[38;5;167;01mValueError\u001b[39;00m(msg)\n",
      "\u001b[0;31mValueError\u001b[0m: Unexpected DtypeKind: Time"
     ]
    },
    {
     "data": {
      "text/plain": [
       "alt.Chart(...)"
      ]
     },
     "execution_count": 24,
     "metadata": {},
     "output_type": "execute_result"
    }
   ],
   "source": [
    "df_tmp.head(2000).plot.line(x=\"TIME_M\", y=\"OBI\")"
   ]
  },
  {
   "cell_type": "code",
   "execution_count": 25,
   "id": "d1137886",
   "metadata": {},
   "outputs": [
    {
     "ename": "SyntaxError",
     "evalue": "invalid syntax (3424061299.py, line 1)",
     "output_type": "error",
     "traceback": [
      "\u001b[0;36m  Cell \u001b[0;32mIn[25], line 1\u001b[0;36m\u001b[0m\n\u001b[0;31m    df_tmp.head(2000).\u001b[0m\n\u001b[0m                      ^\u001b[0m\n\u001b[0;31mSyntaxError\u001b[0m\u001b[0;31m:\u001b[0m invalid syntax\n"
     ]
    }
   ],
   "source": [
    "df_tmp.head(2000)."
   ]
  },
  {
   "cell_type": "code",
   "execution_count": null,
   "id": "959d267c",
   "metadata": {},
   "outputs": [
    {
     "ename": "InvalidOperationError",
     "evalue": "conversion from `str` to `datetime[ns]` failed in column 'DATE' for 346766 out of 346766 values: [\"2023-05-11 2023-05-11 10:30:00.000000000\", \"2023-05-11 2023-05-11 10:30:00.000000000\", … \"2023-05-11 2023-05-11 11:59:59.000000000\"]\n\nYou might want to try:\n- setting `strict=False` to set values that cannot be converted to `null`\n- using `str.strptime`, `str.to_date`, or `str.to_datetime` and providing a format string",
     "output_type": "error",
     "traceback": [
      "\u001b[0;31m---------------------------------------------------------------------------\u001b[0m",
      "\u001b[0;31mInvalidOperationError\u001b[0m                     Traceback (most recent call last)",
      "Cell \u001b[0;32mIn[34], line 5\u001b[0m\n\u001b[1;32m      2\u001b[0m \u001b[38;5;28;01mimport\u001b[39;00m \u001b[38;5;21;01mmatplotlib\u001b[39;00m\u001b[38;5;21;01m.\u001b[39;00m\u001b[38;5;21;01mdates\u001b[39;00m \u001b[38;5;28;01mas\u001b[39;00m \u001b[38;5;21;01mmdates\u001b[39;00m\n\u001b[1;32m      4\u001b[0m \u001b[38;5;66;03m# Convert to pandas\u001b[39;00m\n\u001b[0;32m----> 5\u001b[0m backtest_data \u001b[38;5;241m=\u001b[39m \u001b[43mbacktest_data\u001b[49m\u001b[38;5;241;43m.\u001b[39;49m\u001b[43mwith_columns\u001b[49m\u001b[43m(\u001b[49m\n\u001b[1;32m      6\u001b[0m \u001b[43m    \u001b[49m\u001b[43m(\u001b[49m\u001b[43mpl\u001b[49m\u001b[38;5;241;43m.\u001b[39;49m\u001b[43mcol\u001b[49m\u001b[43m(\u001b[49m\u001b[38;5;124;43m\"\u001b[39;49m\u001b[38;5;124;43mDATE\u001b[39;49m\u001b[38;5;124;43m\"\u001b[39;49m\u001b[43m)\u001b[49m\u001b[38;5;241;43m.\u001b[39;49m\u001b[43mcast\u001b[49m\u001b[43m(\u001b[49m\u001b[43mpl\u001b[49m\u001b[38;5;241;43m.\u001b[39;49m\u001b[43mUtf8\u001b[49m\u001b[43m)\u001b[49m\u001b[43m \u001b[49m\u001b[38;5;241;43m+\u001b[39;49m\u001b[43m \u001b[49m\u001b[38;5;124;43m\"\u001b[39;49m\u001b[38;5;124;43m \u001b[39;49m\u001b[38;5;124;43m\"\u001b[39;49m\u001b[43m \u001b[49m\u001b[38;5;241;43m+\u001b[39;49m\u001b[43m \u001b[49m\u001b[43mpl\u001b[49m\u001b[38;5;241;43m.\u001b[39;49m\u001b[43mcol\u001b[49m\u001b[43m(\u001b[49m\u001b[38;5;124;43m\"\u001b[39;49m\u001b[38;5;124;43mTIME_M\u001b[39;49m\u001b[38;5;124;43m\"\u001b[39;49m\u001b[43m)\u001b[49m\u001b[38;5;241;43m.\u001b[39;49m\u001b[43mcast\u001b[49m\u001b[43m(\u001b[49m\u001b[43mpl\u001b[49m\u001b[38;5;241;43m.\u001b[39;49m\u001b[43mUtf8\u001b[49m\u001b[43m)\u001b[49m\u001b[43m)\u001b[49m\n\u001b[1;32m      7\u001b[0m \u001b[43m    \u001b[49m\u001b[38;5;241;43m.\u001b[39;49m\u001b[43mstr\u001b[49m\u001b[38;5;241;43m.\u001b[39;49m\u001b[43mstrptime\u001b[49m\u001b[43m(\u001b[49m\u001b[43mpl\u001b[49m\u001b[38;5;241;43m.\u001b[39;49m\u001b[43mDatetime\u001b[49m\u001b[43m(\u001b[49m\u001b[38;5;124;43m\"\u001b[39;49m\u001b[38;5;124;43mns\u001b[39;49m\u001b[38;5;124;43m\"\u001b[39;49m\u001b[43m)\u001b[49m\u001b[43m,\u001b[49m\u001b[43m \u001b[49m\u001b[38;5;28;43mformat\u001b[39;49m\u001b[38;5;241;43m=\u001b[39;49m\u001b[38;5;124;43m\"\u001b[39;49m\u001b[38;5;124;43m%\u001b[39;49m\u001b[38;5;124;43mY-\u001b[39;49m\u001b[38;5;124;43m%\u001b[39;49m\u001b[38;5;124;43mm-\u001b[39;49m\u001b[38;5;132;43;01m%d\u001b[39;49;00m\u001b[38;5;124;43m \u001b[39;49m\u001b[38;5;124;43m%\u001b[39;49m\u001b[38;5;124;43mH:\u001b[39;49m\u001b[38;5;124;43m%\u001b[39;49m\u001b[38;5;124;43mM:\u001b[39;49m\u001b[38;5;124;43m%\u001b[39;49m\u001b[38;5;124;43mS\u001b[39;49m\u001b[38;5;124;43m%\u001b[39;49m\u001b[38;5;124;43m.f\u001b[39;49m\u001b[38;5;124;43m\"\u001b[39;49m\u001b[43m)\u001b[49m\n\u001b[1;32m      8\u001b[0m \u001b[43m    \u001b[49m\u001b[38;5;241;43m.\u001b[39;49m\u001b[43malias\u001b[49m\u001b[43m(\u001b[49m\u001b[38;5;124;43m\"\u001b[39;49m\u001b[38;5;124;43mTIME_M\u001b[39;49m\u001b[38;5;124;43m\"\u001b[39;49m\u001b[43m)\u001b[49m\n\u001b[1;32m      9\u001b[0m \u001b[43m)\u001b[49m\n\u001b[1;32m     11\u001b[0m pdf \u001b[38;5;241m=\u001b[39m backtest_data\u001b[38;5;241m.\u001b[39mto_pandas()\n\u001b[1;32m     14\u001b[0m \u001b[38;5;66;03m# Plot\u001b[39;00m\n",
      "File \u001b[0;32m/Library/Frameworks/Python.framework/Versions/3.12/lib/python3.12/site-packages/polars/dataframe/frame.py:9830\u001b[0m, in \u001b[0;36mDataFrame.with_columns\u001b[0;34m(self, *exprs, **named_exprs)\u001b[0m\n\u001b[1;32m   9684\u001b[0m \u001b[38;5;28;01mdef\u001b[39;00m \u001b[38;5;21mwith_columns\u001b[39m(\n\u001b[1;32m   9685\u001b[0m     \u001b[38;5;28mself\u001b[39m,\n\u001b[1;32m   9686\u001b[0m     \u001b[38;5;241m*\u001b[39mexprs: IntoExpr \u001b[38;5;241m|\u001b[39m Iterable[IntoExpr],\n\u001b[1;32m   9687\u001b[0m     \u001b[38;5;241m*\u001b[39m\u001b[38;5;241m*\u001b[39mnamed_exprs: IntoExpr,\n\u001b[1;32m   9688\u001b[0m ) \u001b[38;5;241m-\u001b[39m\u001b[38;5;241m>\u001b[39m DataFrame:\n\u001b[1;32m   9689\u001b[0m \u001b[38;5;250m    \u001b[39m\u001b[38;5;124;03m\"\"\"\u001b[39;00m\n\u001b[1;32m   9690\u001b[0m \u001b[38;5;124;03m    Add columns to this DataFrame.\u001b[39;00m\n\u001b[1;32m   9691\u001b[0m \n\u001b[0;32m   (...)\u001b[0m\n\u001b[1;32m   9828\u001b[0m \u001b[38;5;124;03m    └─────┴──────┴─────────────┘\u001b[39;00m\n\u001b[1;32m   9829\u001b[0m \u001b[38;5;124;03m    \"\"\"\u001b[39;00m\n\u001b[0;32m-> 9830\u001b[0m     \u001b[38;5;28;01mreturn\u001b[39;00m \u001b[38;5;28;43mself\u001b[39;49m\u001b[38;5;241;43m.\u001b[39;49m\u001b[43mlazy\u001b[49m\u001b[43m(\u001b[49m\u001b[43m)\u001b[49m\u001b[38;5;241;43m.\u001b[39;49m\u001b[43mwith_columns\u001b[49m\u001b[43m(\u001b[49m\u001b[38;5;241;43m*\u001b[39;49m\u001b[43mexprs\u001b[49m\u001b[43m,\u001b[49m\u001b[43m \u001b[49m\u001b[38;5;241;43m*\u001b[39;49m\u001b[38;5;241;43m*\u001b[39;49m\u001b[43mnamed_exprs\u001b[49m\u001b[43m)\u001b[49m\u001b[38;5;241;43m.\u001b[39;49m\u001b[43mcollect\u001b[49m\u001b[43m(\u001b[49m\u001b[43m_eager\u001b[49m\u001b[38;5;241;43m=\u001b[39;49m\u001b[38;5;28;43;01mTrue\u001b[39;49;00m\u001b[43m)\u001b[49m\n",
      "File \u001b[0;32m/Library/Frameworks/Python.framework/Versions/3.12/lib/python3.12/site-packages/polars/_utils/deprecation.py:93\u001b[0m, in \u001b[0;36mdeprecate_streaming_parameter.<locals>.decorate.<locals>.wrapper\u001b[0;34m(*args, **kwargs)\u001b[0m\n\u001b[1;32m     89\u001b[0m         kwargs[\u001b[38;5;124m\"\u001b[39m\u001b[38;5;124mengine\u001b[39m\u001b[38;5;124m\"\u001b[39m] \u001b[38;5;241m=\u001b[39m \u001b[38;5;124m\"\u001b[39m\u001b[38;5;124min-memory\u001b[39m\u001b[38;5;124m\"\u001b[39m\n\u001b[1;32m     91\u001b[0m     \u001b[38;5;28;01mdel\u001b[39;00m kwargs[\u001b[38;5;124m\"\u001b[39m\u001b[38;5;124mstreaming\u001b[39m\u001b[38;5;124m\"\u001b[39m]\n\u001b[0;32m---> 93\u001b[0m \u001b[38;5;28;01mreturn\u001b[39;00m \u001b[43mfunction\u001b[49m\u001b[43m(\u001b[49m\u001b[38;5;241;43m*\u001b[39;49m\u001b[43margs\u001b[49m\u001b[43m,\u001b[49m\u001b[43m \u001b[49m\u001b[38;5;241;43m*\u001b[39;49m\u001b[38;5;241;43m*\u001b[39;49m\u001b[43mkwargs\u001b[49m\u001b[43m)\u001b[49m\n",
      "File \u001b[0;32m/Library/Frameworks/Python.framework/Versions/3.12/lib/python3.12/site-packages/polars/lazyframe/frame.py:2224\u001b[0m, in \u001b[0;36mLazyFrame.collect\u001b[0;34m(self, type_coercion, _type_check, predicate_pushdown, projection_pushdown, simplify_expression, slice_pushdown, comm_subplan_elim, comm_subexpr_elim, cluster_with_columns, collapse_joins, no_optimization, engine, background, _check_order, _eager, **_kwargs)\u001b[0m\n\u001b[1;32m   2222\u001b[0m \u001b[38;5;66;03m# Only for testing purposes\u001b[39;00m\n\u001b[1;32m   2223\u001b[0m callback \u001b[38;5;241m=\u001b[39m _kwargs\u001b[38;5;241m.\u001b[39mget(\u001b[38;5;124m\"\u001b[39m\u001b[38;5;124mpost_opt_callback\u001b[39m\u001b[38;5;124m\"\u001b[39m, callback)\n\u001b[0;32m-> 2224\u001b[0m \u001b[38;5;28;01mreturn\u001b[39;00m wrap_df(\u001b[43mldf\u001b[49m\u001b[38;5;241;43m.\u001b[39;49m\u001b[43mcollect\u001b[49m\u001b[43m(\u001b[49m\u001b[43mengine\u001b[49m\u001b[43m,\u001b[49m\u001b[43m \u001b[49m\u001b[43mcallback\u001b[49m\u001b[43m)\u001b[49m)\n",
      "\u001b[0;31mInvalidOperationError\u001b[0m: conversion from `str` to `datetime[ns]` failed in column 'DATE' for 346766 out of 346766 values: [\"2023-05-11 2023-05-11 10:30:00.000000000\", \"2023-05-11 2023-05-11 10:30:00.000000000\", … \"2023-05-11 2023-05-11 11:59:59.000000000\"]\n\nYou might want to try:\n- setting `strict=False` to set values that cannot be converted to `null`\n- using `str.strptime`, `str.to_date`, or `str.to_datetime` and providing a format string"
     ]
    }
   ],
   "source": [
    "import matplotlib.pyplot as plt\n",
    "import matplotlib.dates as mdates\n",
    "\n",
    "# Convert to pandas\n",
    "backtest_data = backtest_data.with_columns(\n",
    "    (pl.col(\"DATE\").cast(pl.Utf8) + \" \" + pl.col(\"TIME_M\").cast(pl.Utf8))\n",
    "    .str.strptime(pl.Datetime(\"ns\"), format=\"%Y-%m-%d %H:%M:%S%.f\")\n",
    "    .alias(\"TIME_M\")\n",
    ")\n",
    "\n",
    "pdf = backtest_data.to_pandas()\n",
    "\n",
    "\n",
    "# Plot\n",
    "for ticker in set(pdf['SYM_ROOT']):\n",
    "    ticker_df = pdf[pdf['SYM_ROOT'] == ticker]\n",
    "    plt.figure(figsize=(12, 6))\n",
    "    plt.plot(ticker_df[\"TIME_M\"], ticker_df[\"Account_Balance\"])\n",
    "    plt.xlabel(\"TIME_M\")\n",
    "    plt.ylabel(\"Account_Balance\")\n",
    "    plt.title(f\"Account Balance for {ticker}\")\n",
    "    plt.gca().xaxis.set_major_formatter(mdates.DateFormatter('%Y-%m-%d %H:%M'))\n",
    "    plt.xticks(rotation=45)\n",
    "    plt.show()"
   ]
  }
 ],
 "metadata": {
  "kernelspec": {
   "display_name": "ibkr",
   "language": "python",
   "name": "python3"
  },
  "language_info": {
   "codemirror_mode": {
    "name": "ipython",
    "version": 3
   },
   "file_extension": ".py",
   "mimetype": "text/x-python",
   "name": "python",
   "nbconvert_exporter": "python",
   "pygments_lexer": "ipython3",
   "version": "3.12.4"
  }
 },
 "nbformat": 4,
 "nbformat_minor": 5
}
