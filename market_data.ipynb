{
 "cells": [
  {
   "cell_type": "code",
   "execution_count": 1,
   "id": "5eb7f5aa",
   "metadata": {},
   "outputs": [],
   "source": [
    "import wrds\n",
    "import pandas as pd\n",
    "import numpy as np"
   ]
  },
  {
   "cell_type": "code",
   "execution_count": 2,
   "id": "e9d5c0d4",
   "metadata": {},
   "outputs": [
    {
     "name": "stdout",
     "output_type": "stream",
     "text": [
      "Loading library list...\n",
      "Done\n"
     ]
    }
   ],
   "source": [
    "# Read tickers from file\n",
    "with open(\"data/positive_return_tickers_v1.txt\") as f:\n",
    "    tickers = [line.strip() for line in f if line.strip()]\n",
    "\n",
    "# Format tickers for SQL IN clause\n",
    "tickers_str = \",\".join([f\"'{t}'\" for t in tickers])\n",
    "\n",
    "db = wrds.Connection(wrds_username='changjulian17')"
   ]
  },
  {
   "cell_type": "code",
   "execution_count": 3,
   "id": "65caa9f8",
   "metadata": {},
   "outputs": [
    {
     "data": {
      "application/vnd.microsoft.datawrangler.viewer.v0+json": {
       "columns": [
        {
         "name": "index",
         "rawType": "int64",
         "type": "integer"
        },
        {
         "name": "date",
         "rawType": "string",
         "type": "string"
        },
        {
         "name": "ticker",
         "rawType": "string",
         "type": "string"
        },
        {
         "name": "permno",
         "rawType": "Int64",
         "type": "integer"
        },
        {
         "name": "vol",
         "rawType": "Float64",
         "type": "float"
        },
        {
         "name": "prc",
         "rawType": "Float64",
         "type": "float"
        },
        {
         "name": "float_shares",
         "rawType": "Float64",
         "type": "float"
        },
        {
         "name": "market_cap",
         "rawType": "Float64",
         "type": "float"
        }
       ],
       "ref": "757e58dc-e288-4fcb-9700-cce8dc3ce96b",
       "rows": [
        [
         "19",
         "2023-01-03",
         "JPM",
         "47896",
         "11054778.0",
         "135.12",
         "2905342.0",
         "392569811.04"
        ],
        [
         "4",
         "2023-01-03",
         "BAC",
         "59408",
         "35221501.0",
         "33.51",
         "8009564.0",
         "268400489.64"
        ],
        [
         "30",
         "2023-01-03",
         "NEE",
         "24205",
         "5535451.0",
         "83.83",
         "1977540.0",
         "165777178.2"
        ],
        [
         "45",
         "2023-01-03",
         "WFC",
         "38703",
         "15944341.0",
         "41.79",
         "3806501.0",
         "159073676.79"
        ],
        [
         "38",
         "2023-01-03",
         "SCHW",
         "75186",
         "7443208.0",
         "81.94",
         "1700129.0",
         "139308570.26"
        ]
       ],
       "shape": {
        "columns": 7,
        "rows": 5
       }
      },
      "text/html": [
       "<div>\n",
       "<style scoped>\n",
       "    .dataframe tbody tr th:only-of-type {\n",
       "        vertical-align: middle;\n",
       "    }\n",
       "\n",
       "    .dataframe tbody tr th {\n",
       "        vertical-align: top;\n",
       "    }\n",
       "\n",
       "    .dataframe thead th {\n",
       "        text-align: right;\n",
       "    }\n",
       "</style>\n",
       "<table border=\"1\" class=\"dataframe\">\n",
       "  <thead>\n",
       "    <tr style=\"text-align: right;\">\n",
       "      <th></th>\n",
       "      <th>date</th>\n",
       "      <th>ticker</th>\n",
       "      <th>permno</th>\n",
       "      <th>vol</th>\n",
       "      <th>prc</th>\n",
       "      <th>float_shares</th>\n",
       "      <th>market_cap</th>\n",
       "    </tr>\n",
       "  </thead>\n",
       "  <tbody>\n",
       "    <tr>\n",
       "      <th>19</th>\n",
       "      <td>2023-01-03</td>\n",
       "      <td>JPM</td>\n",
       "      <td>47896</td>\n",
       "      <td>11054778.0</td>\n",
       "      <td>135.12</td>\n",
       "      <td>2905342.0</td>\n",
       "      <td>392569811.04</td>\n",
       "    </tr>\n",
       "    <tr>\n",
       "      <th>4</th>\n",
       "      <td>2023-01-03</td>\n",
       "      <td>BAC</td>\n",
       "      <td>59408</td>\n",
       "      <td>35221501.0</td>\n",
       "      <td>33.51</td>\n",
       "      <td>8009564.0</td>\n",
       "      <td>268400489.64</td>\n",
       "    </tr>\n",
       "    <tr>\n",
       "      <th>30</th>\n",
       "      <td>2023-01-03</td>\n",
       "      <td>NEE</td>\n",
       "      <td>24205</td>\n",
       "      <td>5535451.0</td>\n",
       "      <td>83.83</td>\n",
       "      <td>1977540.0</td>\n",
       "      <td>165777178.2</td>\n",
       "    </tr>\n",
       "    <tr>\n",
       "      <th>45</th>\n",
       "      <td>2023-01-03</td>\n",
       "      <td>WFC</td>\n",
       "      <td>38703</td>\n",
       "      <td>15944341.0</td>\n",
       "      <td>41.79</td>\n",
       "      <td>3806501.0</td>\n",
       "      <td>159073676.79</td>\n",
       "    </tr>\n",
       "    <tr>\n",
       "      <th>38</th>\n",
       "      <td>2023-01-03</td>\n",
       "      <td>SCHW</td>\n",
       "      <td>75186</td>\n",
       "      <td>7443208.0</td>\n",
       "      <td>81.94</td>\n",
       "      <td>1700129.0</td>\n",
       "      <td>139308570.26</td>\n",
       "    </tr>\n",
       "  </tbody>\n",
       "</table>\n",
       "</div>"
      ],
      "text/plain": [
       "          date ticker  permno         vol     prc  float_shares    market_cap\n",
       "19  2023-01-03    JPM   47896  11054778.0  135.12     2905342.0  392569811.04\n",
       "4   2023-01-03    BAC   59408  35221501.0   33.51     8009564.0  268400489.64\n",
       "30  2023-01-03    NEE   24205   5535451.0   83.83     1977540.0   165777178.2\n",
       "45  2023-01-03    WFC   38703  15944341.0   41.79     3806501.0  159073676.79\n",
       "38  2023-01-03   SCHW   75186   7443208.0   81.94     1700129.0  139308570.26"
      ]
     },
     "execution_count": 3,
     "metadata": {},
     "output_type": "execute_result"
    }
   ],
   "source": [
    "ASOFDT = '2023-01-03'\n",
    "\n",
    "# Step 1: Get permnos for tickers\n",
    "permno_query = f\"\"\"\n",
    "    SELECT DISTINCT ticker, permno\n",
    "    FROM crsp.dsenames\n",
    "    WHERE ticker IN ({tickers_str})\n",
    "\"\"\"\n",
    "permno_df = db.raw_sql(permno_query)\n",
    "permnos = permno_df['permno'].unique()\n",
    "permnos_str = \",\".join([str(p) for p in permnos])\n",
    "\n",
    "# Step 2: Get daily volume for those permnos\n",
    "# \"\"\"\n",
    "vol_query = f\"\"\"\n",
    "    SELECT DISTINCT \n",
    "        d.date, n.ticker, d.permno, d.vol, d.prc,\n",
    "        f.mthfloatshrqty AS float_shares,\n",
    "        ABS(prc) * f.mthfloatshrqty AS market_cap\n",
    "    FROM crsp.dsf d\n",
    "    JOIN crsp.dsenames n ON d.permno = n.permno\n",
    "    LEFT JOIN crsp.stkmthfloatshares f \n",
    "    ON d.permno = f.permno \n",
    "    AND TO_CHAR(d.date, 'YYYYMM')::int = f.yyyymm\n",
    "    WHERE d.permno IN ({permnos_str})\n",
    "    AND d.date = '{ASOFDT}'\n",
    "    AND n.namedt <= d.date AND n.nameendt >= d.date;\n",
    "\"\"\"\n",
    "df = db.raw_sql(vol_query)\n",
    "df = df.sort_values(\"market_cap\", ascending=False)\n",
    "df.to_csv(f\"data/permno_vol_{ASOFDT}.csv\", index=False)\n",
    "df.head()"
   ]
  },
  {
   "cell_type": "code",
   "execution_count": 34,
   "id": "e3e05866",
   "metadata": {},
   "outputs": [],
   "source": [
    "tickers_str = \"'ZION', 'GS'\"\n",
    "start_date = '2023-01-06'\n",
    "end_date = '2023-01-06' \n",
    "start_time = '09:30:00'\n",
    "end_time = '16:00:00'\n",
    "\n",
    "size_query = f\"\"\"\n",
    "    WITH daily_vol AS (\n",
    "        SELECT\n",
    "            sym_root,\n",
    "            date AS trade_date,\n",
    "            SUM(size) AS daily_volume\n",
    "        FROM taqm_2023.ctm_2023\n",
    "        WHERE sym_root IN ({tickers_str})\n",
    "            AND date BETWEEN '{start_date}' AND '{end_date}'\n",
    "            AND time_m BETWEEN '{start_time}' AND '{end_time}'\n",
    "        GROUP BY sym_root, date\n",
    "    )\n",
    "    SELECT\n",
    "        sym_root,\n",
    "        AVG(daily_volume) AS avg_daily_volume\n",
    "    FROM daily_vol\n",
    "    GROUP BY sym_root;\n",
    "\"\"\"\n",
    "df3 = db.raw_sql(size_query)\n"
   ]
  },
  {
   "cell_type": "code",
   "execution_count": 40,
   "id": "fdaa7468",
   "metadata": {},
   "outputs": [],
   "source": [
    "tickers_str = \"'ZION', 'GS'\"\n",
    "start_date = '2023-01-07'\n",
    "end_date = '2023-01-15' \n",
    "start_time = '09:30:00'\n",
    "end_time = '16:00:00'\n",
    "\n",
    "size_query = f\"\"\"\n",
    "    WITH daily_vol AS (\n",
    "        SELECT\n",
    "            sym_root,\n",
    "            date AS trade_date,\n",
    "            SUM(size) AS daily_volume\n",
    "        FROM taqm_2023.ctm_2023\n",
    "        WHERE sym_root IN ({tickers_str})\n",
    "            AND date BETWEEN '{start_date}' AND '{end_date}'\n",
    "            AND time_m BETWEEN '{start_time}' AND '{end_time}'\n",
    "        GROUP BY sym_root, date\n",
    "    )\n",
    "    SELECT\n",
    "        sym_root,\n",
    "        AVG(daily_volume) AS avg_daily_volume\n",
    "    FROM daily_vol\n",
    "    GROUP BY sym_root;\n",
    "\"\"\"\n",
    "df3 = db.raw_sql(size_query)\n"
   ]
  },
  {
   "cell_type": "code",
   "execution_count": 41,
   "id": "47c96b65",
   "metadata": {},
   "outputs": [
    {
     "data": {
      "application/vnd.microsoft.datawrangler.viewer.v0+json": {
       "columns": [
        {
         "name": "index",
         "rawType": "int64",
         "type": "integer"
        },
        {
         "name": "sym_root",
         "rawType": "string",
         "type": "string"
        },
        {
         "name": "avg_daily_volume",
         "rawType": "Float64",
         "type": "float"
        }
       ],
       "ref": "bb6103ee-a509-4ddb-964e-f6ce55f56cbf",
       "rows": [
        [
         "0",
         "GS",
         "2193243.8"
        ],
        [
         "1",
         "ZION",
         "797272.4"
        ]
       ],
       "shape": {
        "columns": 2,
        "rows": 2
       }
      },
      "text/html": [
       "<div>\n",
       "<style scoped>\n",
       "    .dataframe tbody tr th:only-of-type {\n",
       "        vertical-align: middle;\n",
       "    }\n",
       "\n",
       "    .dataframe tbody tr th {\n",
       "        vertical-align: top;\n",
       "    }\n",
       "\n",
       "    .dataframe thead th {\n",
       "        text-align: right;\n",
       "    }\n",
       "</style>\n",
       "<table border=\"1\" class=\"dataframe\">\n",
       "  <thead>\n",
       "    <tr style=\"text-align: right;\">\n",
       "      <th></th>\n",
       "      <th>sym_root</th>\n",
       "      <th>avg_daily_volume</th>\n",
       "    </tr>\n",
       "  </thead>\n",
       "  <tbody>\n",
       "    <tr>\n",
       "      <th>0</th>\n",
       "      <td>GS</td>\n",
       "      <td>2193243.8</td>\n",
       "    </tr>\n",
       "    <tr>\n",
       "      <th>1</th>\n",
       "      <td>ZION</td>\n",
       "      <td>797272.4</td>\n",
       "    </tr>\n",
       "  </tbody>\n",
       "</table>\n",
       "</div>"
      ],
      "text/plain": [
       "  sym_root  avg_daily_volume\n",
       "0       GS         2193243.8\n",
       "1     ZION          797272.4"
      ]
     },
     "execution_count": 41,
     "metadata": {},
     "output_type": "execute_result"
    }
   ],
   "source": [
    "df3"
   ]
  },
  {
   "cell_type": "code",
   "execution_count": null,
   "id": "de914ab3",
   "metadata": {},
   "outputs": [],
   "source": []
  }
 ],
 "metadata": {
  "kernelspec": {
   "display_name": "venv",
   "language": "python",
   "name": "python3"
  },
  "language_info": {
   "codemirror_mode": {
    "name": "ipython",
    "version": 3
   },
   "file_extension": ".py",
   "mimetype": "text/x-python",
   "name": "python",
   "nbconvert_exporter": "python",
   "pygments_lexer": "ipython3",
   "version": "3.11.7"
  }
 },
 "nbformat": 4,
 "nbformat_minor": 5
}
